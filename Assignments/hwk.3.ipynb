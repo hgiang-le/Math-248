{
 "cells": [
  {
   "cell_type": "markdown",
   "metadata": {},
   "source": [
    "# Homework Assignment 3\n",
    "\n",
    "Save your assignment in your **mp248** repository, in **mp248/Assignments/hwk.3.ipynb**.  \n",
    "\n",
    "The pre-grading script will offer feedback on problems P1, P2, P3 and P4.\n",
    "\n",
    "Your assignment is due at **11:59pm** on **Friday November 15th**."
   ]
  },
  {
   "cell_type": "markdown",
   "metadata": {},
   "source": [
    "----\n",
    "\n",
    "## P.1 - Crime stats\n",
    "\n",
    "Construct a dictionary whose keys are the crime types, and whose values are lists (in descending order) of the five dates with the most crimes of that type. Only include crimes where there are **at least** five dates with ten or more occurances of that crime type. If two or more dates have the same number of crime records, sort them so that the earlier date appears first, i.e. Dec 10th 2014 would be before Jan 2nd 2015.  Print your dictionary with the **pprint** command.\n",
    "\n",
    "**Hint:** There are only 6 crime types that meet the above criterion."
   ]
  },
  {
   "cell_type": "code",
   "execution_count": 1,
   "metadata": {},
   "outputs": [
    {
     "name": "stdout",
     "output_type": "stream",
     "text": [
      "/home/user/mp248-course\n"
     ]
    }
   ],
   "source": [
    "%cd ../../mp248-course"
   ]
  },
  {
   "cell_type": "code",
   "execution_count": 2,
   "metadata": {},
   "outputs": [
    {
     "name": "stdout",
     "output_type": "stream",
     "text": [
      "Crime database library.\n",
      "\n",
      "Looking for vicpd.geojson in directory ./Data/\n",
      " modify the cdatfile and cdatloc variables in cdat.py appropriately\n",
      " if the file can not be found.\n",
      "\n",
      "Complete records in cDat, incomplete records in bDat.\n",
      "\n"
     ]
    }
   ],
   "source": [
    "#import cdat\n",
    "from cdat import cDat"
   ]
  },
  {
   "cell_type": "code",
   "execution_count": 3,
   "metadata": {},
   "outputs": [],
   "source": [
    "import collections as co\n",
    "import pprint as pp\n",
    "import operator as op\n",
    "import calendar as cal"
   ]
  },
  {
   "cell_type": "code",
   "execution_count": 4,
   "metadata": {},
   "outputs": [
    {
     "name": "stdout",
     "output_type": "stream",
     "text": [
      "[{'ID': 760527874,\n",
      "  'address': '1200 Block JOHNSON ST',\n",
      "  'case_number': (16, 22918),\n",
      "  'city': 'victoria',\n",
      "  'coords': (-123.348998693722, 48.4255680718449),\n",
      "  'cre_dt': datetime.datetime(2016, 5, 26, 9, 46, 43),\n",
      "  'inc_dt': datetime.datetime(2016, 5, 25, 1, 29),\n",
      "  'type': ('Disorder', 'CAUSE A DISTURBANCE'),\n",
      "  'upd_dt': datetime.datetime(2016, 6, 23, 19, 40, 33)}]\n"
     ]
    }
   ],
   "source": [
    "pp.pprint([cDat[x] for x in range(1)])"
   ]
  },
  {
   "cell_type": "code",
   "execution_count": 5,
   "metadata": {},
   "outputs": [],
   "source": [
    "types = {c['type'] for c in cDat}\n",
    "di = dict()\n",
    "for typ in types:\n",
    "    ctdict = co.defaultdict(int)\n",
    "    for c in cDat:\n",
    "        if c['type'] == typ:\n",
    "            ctdict[c['inc_dt'].date()] += 1\n",
    "    sorted_ctdict = sorted(list(ctdict.items()), key = op.itemgetter(1))[-1:-6:-1]\n",
    "    if sorted_ctdict[-1][1] > 5:\n",
    "        di[typ] = sorted_ctdict "
   ]
  },
  {
   "cell_type": "code",
   "execution_count": 6,
   "metadata": {},
   "outputs": [
    {
     "name": "stdout",
     "output_type": "stream",
     "text": [
      "{('Assault', 'ASSAULT-COMMON OR TRESPASS'): [(datetime.date(2011, 10, 29), 9),\n",
      "                                             (datetime.date(2012, 2, 26), 9),\n",
      "                                             (datetime.date(2011, 9, 2), 7),\n",
      "                                             (datetime.date(2011, 5, 25), 7),\n",
      "                                             (datetime.date(2011, 3, 26), 7)],\n",
      " ('Disorder', 'CAUSE A DISTURBANCE'): [(datetime.date(2014, 7, 6), 13),\n",
      "                                       (datetime.date(2015, 4, 20), 11),\n",
      "                                       (datetime.date(2015, 4, 18), 10),\n",
      "                                       (datetime.date(2011, 7, 3), 10),\n",
      "                                       (datetime.date(2014, 10, 5), 10)],\n",
      " ('Liquor', 'LIQUOR-INTOX IN PUBLIC PLACE'): [(datetime.date(2011, 7, 1), 44),\n",
      "                                              (datetime.date(2013, 7, 1), 33),\n",
      "                                              (datetime.date(2015, 7, 1), 28),\n",
      "                                              (datetime.date(2012, 7, 1), 23),\n",
      "                                              (datetime.date(2014, 7, 1), 21)],\n",
      " ('Other', 'BYLAW-NOISE'): [(datetime.date(2011, 10, 29), 16),\n",
      "                            (datetime.date(2011, 7, 2), 16),\n",
      "                            (datetime.date(2015, 10, 17), 14),\n",
      "                            (datetime.date(2013, 5, 4), 12),\n",
      "                            (datetime.date(2011, 11, 19), 11)],\n",
      " ('Other', 'SUSPICIOUS PERS/VEH/OCCURRENCE'): [(datetime.date(2015, 6, 2), 19),\n",
      "                                               (datetime.date(2014, 7, 2), 19),\n",
      "                                               (datetime.date(2015, 8, 27), 18),\n",
      "                                               (datetime.date(2015, 7, 23), 18),\n",
      "                                               (datetime.date(2018, 7, 29),\n",
      "                                                18)],\n",
      " ('Property Crime', 'MISCHIEF $5000 OR UNDER'): [(datetime.date(2017, 3, 10),\n",
      "                                                  27),\n",
      "                                                 (datetime.date(2017, 3, 11),\n",
      "                                                  14),\n",
      "                                                 (datetime.date(2011, 5, 8),\n",
      "                                                  14),\n",
      "                                                 (datetime.date(2019, 8, 10),\n",
      "                                                  13),\n",
      "                                                 (datetime.date(2011, 9, 3),\n",
      "                                                  13)],\n",
      " ('Theft', 'THEFT BICYCLE UNDER $5000'): [(datetime.date(2019, 8, 22), 10),\n",
      "                                          (datetime.date(2019, 8, 20), 10),\n",
      "                                          (datetime.date(2017, 10, 16), 9),\n",
      "                                          (datetime.date(2014, 9, 22), 9),\n",
      "                                          (datetime.date(2016, 9, 29), 9)],\n",
      " ('Theft', 'THEFT-OTHER UNDER $5000'): [(datetime.date(2019, 8, 29), 15),\n",
      "                                        (datetime.date(2019, 7, 30), 13),\n",
      "                                        (datetime.date(2019, 6, 28), 12),\n",
      "                                        (datetime.date(2013, 6, 6), 12),\n",
      "                                        (datetime.date(2013, 4, 5), 12)],\n",
      " ('Theft', 'THEFT-SHOPLIFTING UNDER $5000'): [(datetime.date(2018, 6, 14), 12),\n",
      "                                              (datetime.date(2019, 8, 14), 11),\n",
      "                                              (datetime.date(2012, 2, 15), 10),\n",
      "                                              (datetime.date(2018, 12, 5), 9),\n",
      "                                              (datetime.date(2017, 1, 16), 9)],\n",
      " ('Theft from Vehicle', 'THEFT FROM MV UNDER $5000'): [(datetime.date(2019, 10, 16),\n",
      "                                                        17),\n",
      "                                                       (datetime.date(2011, 2, 9),\n",
      "                                                        17),\n",
      "                                                       (datetime.date(2014, 4, 30),\n",
      "                                                        17),\n",
      "                                                       (datetime.date(2017, 2, 21),\n",
      "                                                        16),\n",
      "                                                       (datetime.date(2012, 8, 19),\n",
      "                                                        16)],\n",
      " ('Traffic', 'COLLISION-DAMAGE OVER $1000'): [(datetime.date(2015, 10, 10), 7),\n",
      "                                              (datetime.date(2015, 2, 3), 7),\n",
      "                                              (datetime.date(2018, 3, 8), 7),\n",
      "                                              (datetime.date(2017, 8, 18), 6),\n",
      "                                              (datetime.date(2017, 9, 19), 6)],\n",
      " ('Traffic', 'DRIVING COMPLAINTS'): [(datetime.date(2019, 9, 4), 8),\n",
      "                                     (datetime.date(2017, 7, 4), 8),\n",
      "                                     (datetime.date(2019, 7, 19), 8),\n",
      "                                     (datetime.date(2016, 9, 20), 8),\n",
      "                                     (datetime.date(2018, 5, 15), 8)],\n",
      " ('Traffic', 'IMPAIRED OP MOTOR VEH (ALCOH)'): [(datetime.date(2012, 12, 15),\n",
      "                                                 8),\n",
      "                                                (datetime.date(2016, 12, 3), 7),\n",
      "                                                (datetime.date(2017, 12, 24),\n",
      "                                                 7),\n",
      "                                                (datetime.date(2011, 11, 19),\n",
      "                                                 6),\n",
      "                                                (datetime.date(2012, 11, 30),\n",
      "                                                 6)],\n",
      " ('Traffic', 'TRAFFIC-INSURANCE VIOLATION'): [(datetime.date(2015, 12, 8), 8),\n",
      "                                              (datetime.date(2015, 2, 9), 8),\n",
      "                                              (datetime.date(2014, 9, 18), 8),\n",
      "                                              (datetime.date(2014, 12, 7), 8),\n",
      "                                              (datetime.date(2014, 11, 6), 7)],\n",
      " ('Traffic', 'TRAFFIC-OTHER MOVING PROV'): [(datetime.date(2015, 3, 24), 8),\n",
      "                                            (datetime.date(2019, 5, 21), 7),\n",
      "                                            (datetime.date(2016, 11, 9), 7),\n",
      "                                            (datetime.date(2011, 10, 14), 7),\n",
      "                                            (datetime.date(2016, 9, 6), 7)],\n",
      " ('Vehicle Stop', 'VEHICLE'): [(datetime.date(2015, 3, 4), 12),\n",
      "                               (datetime.date(2011, 11, 3), 10),\n",
      "                               (datetime.date(2012, 10, 4), 10),\n",
      "                               (datetime.date(2011, 7, 16), 9),\n",
      "                               (datetime.date(2014, 2, 19), 9)]}\n"
     ]
    }
   ],
   "source": [
    "pp.pprint(di)"
   ]
  },
  {
   "cell_type": "code",
   "execution_count": 7,
   "metadata": {},
   "outputs": [
    {
     "name": "stdout",
     "output_type": "stream",
     "text": [
      "length = 16\n"
     ]
    }
   ],
   "source": [
    "print(\"length =\",len(di))"
   ]
  },
  {
   "cell_type": "markdown",
   "metadata": {},
   "source": [
    "----\n",
    "\n",
    "## P.2 - Average crime locations.\n",
    "\n",
    "Write a function that uses [spherical polar coordinates](https://en.wikipedia.org/wiki/Spherical_coordinate_system) to convert the **(longitude,latitude)** coordinate pairs into 3-dimensional Euclidean coordinates.  Compute the average location (in 3-dimensional space) of all the crime types in the **cdat.cDat** variable.  Invert your spherical polar coordinates, creating a dictionary indexed by crime types, returning the **(longitude,latitude)** pair of the average location for that crime type. Print your final dictionary using **pp.pprint**. \n",
    "\n",
    "**Note:** if you do not recall how longitude and latitude relate to spherical polar coordinates, read the above Wikipedia article carefully, together with the [longitude-latitude](https://en.wikipedia.org/wiki/Geographic_coordinate_system) page."
   ]
  },
  {
   "cell_type": "code",
   "execution_count": 24,
   "metadata": {},
   "outputs": [],
   "source": [
    "import numpy as np\n",
    "import math as ma"
   ]
  },
  {
   "cell_type": "code",
   "execution_count": 32,
   "metadata": {},
   "outputs": [],
   "source": [
    "def polar_to_cartesian(long, lat):\n",
    "    '''\n",
    "    Convert spherical polar coordinates to 3D Euclidean coordinates\n",
    "    In this case, r = 1\n",
    "    '''\n",
    "    # lab x = rcos(lat)cos(long) vs wiki x = rsin(θ)cos(φ)\n",
    "    # lab y = rcos(lat)sin(long) vs wiki y = rsin(θ)sin(φ)\n",
    "    # lab z = rsin(lat) vs wiki z = rcos(θ)\n",
    "    # θ = lat, φ = long\n",
    "    # First: Convert degree to radians for numpy\n",
    "    x = np.sin(ma.radians(lat))*np.cos(ma.radians(long))\n",
    "    y = np.sin(ma.radians(lat))*np.sin(ma.radians(long))\n",
    "    z = np.cos(ma.radians(lat))\n",
    "    return(x, y, z)\n",
    "\n",
    "def cartesian_to_polar(x_coords, y_coords, z_coords):\n",
    "    '''\n",
    "    Convert cartesian coordinates to spherical polar coordinates\n",
    "    '''\n",
    "    # θ = lat, φ = long\n",
    "    r = 1\n",
    "    lat = ma.degrees(np.arccos(z_coords/r))\n",
    "    long = ma.degrees(np.arctan(y_coords/x_coords))\n",
    "    #if long < 0:\n",
    "    #    long = 180 + long\n",
    "    return(long, lat)"
   ]
  },
  {
   "cell_type": "code",
   "execution_count": 33,
   "metadata": {},
   "outputs": [
    {
     "name": "stdout",
     "output_type": "stream",
     "text": [
      "(-123.35_, 48.43_) -> (-0.41125540309882863, -0.6249112431808368, 0.6635924438751551)\n",
      "-> (56.65100130627801, 48.4255680718449)\n"
     ]
    }
   ],
   "source": [
    "print(\"(-123.35_, 48.43_) ->\",polar_to_cartesian(-123.348998693722, 48.4255680718449))\n",
    "print(\"->\",cartesian_to_polar(-0.41125540309882863, -0.6249112431808368, 0.6635924438751551))"
   ]
  },
  {
   "cell_type": "code",
   "execution_count": 16,
   "metadata": {},
   "outputs": [],
   "source": [
    "dict2 = dict()\n",
    "## For each type of crimes, take (lat, long), convert to Cartesian\n",
    "## Then take the avg of each x,y,z coords by sum/(#num of crimes)\n",
    "## Convert back to polar. Return a dictionary of avg polar.\n",
    "for typ in types:\n",
    "    sum_x = 0\n",
    "    sum_y = 0\n",
    "    sum_z = 0\n",
    "    total_crime_count = 0\n",
    "    ctdict = co.defaultdict(int)\n",
    "    for c in cDat:\n",
    "        if c['type'] == typ:\n",
    "            ctdict[c['coords']] += 1\n",
    "    for i in ctdict.items():\n",
    "        lat1 = i[0][0]\n",
    "        long1 = i[0][1]\n",
    "        crime_count = i[1]\n",
    "        x, y, z = polar_to_cartesian(lat1, long1)\n",
    "        #print(i[0])\n",
    "        #print(x,y,z)\n",
    "        total_crime_count += crime_count\n",
    "        sum_x += x\n",
    "        sum_y += y\n",
    "        sum_z += z \n",
    "    avg_coords = (sum_x/ total_crime_count, sum_y/total_crime_count, sum_z/total_crime_count)\n",
    "    dict2[typ] = cartesian_to_polar(avg_coords[0], avg_coords[1],avg_coords[2])"
   ]
  },
  {
   "cell_type": "code",
   "execution_count": 17,
   "metadata": {},
   "outputs": [
    {
     "name": "stdout",
     "output_type": "stream",
     "text": [
      "{('Alarm', 'FALSE ALARMS'): (56.63330977541551, 63.72855910561595),\n",
      " ('Arson', 'ARSON-DISREGARD FOR HUMAN LIFE'): (56.63565703091797,\n",
      "                                               54.50985805480552),\n",
      " ('Arson', 'ARSON-PROPERTY'): (56.6316509822618, 51.59940406949776),\n",
      " ('Assault', 'ASSAULT AGAINST POLICE OFFICER'): (56.632795761804225,\n",
      "                                                 56.77419339232461),\n",
      " ('Assault', 'ASSAULT-COMMON OR TRESPASS'): (56.630254253081944,\n",
      "                                             73.12474744226293),\n",
      " ('Assault', 'ASSAULTS-OTHER'): (56.63155049690549, 58.23153330122856),\n",
      " ('Assault with Deadly Weapon', 'ASSAULT OT P/O-W/WPN OR CBH'): (56.63364146110361,\n",
      "                                                                 54.81660656340022),\n",
      " ('Assault with Deadly Weapon', 'ASSAULT POLICE-W/WEAPON OR CBH'): (56.63299185129474,\n",
      "                                                                    50.9239546782655),\n",
      " ('Assault with Deadly Weapon', 'ASSAULT-AGGRAVATED'): (56.63202970589195,\n",
      "                                                        49.85240957340041),\n",
      " ('Assault with Deadly Weapon', 'ASSAULT-OTHER PEACE OFFICER'): (56.63044230659701,\n",
      "                                                                 54.73001783916141),\n",
      " ('Assault with Deadly Weapon', 'ASSAULT-W/WEAPON OR CBH'): (56.63178387296989,\n",
      "                                                             67.01478051047903),\n",
      " ('Breaking & Entering', 'BREAK & ENTER-BUSINESS'): (56.63345720054796,\n",
      "                                                     67.26419712427244),\n",
      " ('Breaking & Entering', 'BREAK & ENTER-OTHER'): (56.63473370148961,\n",
      "                                                  63.850638873682925),\n",
      " ('Breaking & Entering', 'BREAK & ENTER-RESIDENCE'): (56.63541650342402,\n",
      "                                                      60.00868369285645),\n",
      " ('Community Policing', 'BUSINESS'): (56.6349679156208, 53.85690639227918),\n",
      " ('Community Policing', 'CITIZEN ASSIST'): (56.65014090723, 48.4270686184666),\n",
      " ('Disorder', 'CAUSE A DISTURBANCE'): (56.63237011430819, 71.35611302391371),\n",
      " ('Drugs', 'POSSESS-OTH SCHED I DRUGS/SUBS'): (56.63497760918007,\n",
      "                                               57.85117568322514),\n",
      " ('Drugs', 'POSSESS-OTH SCHED III DRUG/SUB'): (56.633265669758465,\n",
      "                                               51.27312627397199),\n",
      " ('Drugs', 'POSSESSION-CANNABIS 30G & UNDR'): (56.631664348050116,\n",
      "                                               66.46724788375423),\n",
      " ('Drugs', 'POSSESSION-CANNABIS OVER 30G'): (56.634680755225745,\n",
      "                                             48.43235705852861),\n",
      " ('Drugs', 'POSSESSION-COCAINE'): (56.635519475320585, 70.31198288402895),\n",
      " ('Drugs', 'POSSESSION-HEROIN'): (56.63479915890202, 61.18832525466633),\n",
      " ('Drugs', 'POSSESSION-MDMA (ECSTASY)'): (56.63669922368228, 51.96474289180944),\n",
      " ('Drugs', 'POSSESSION-METHAMPHETAMINE'): (56.635414672450466,\n",
      "                                           59.89650051337181),\n",
      " ('Drugs', 'TRAFFICK-CANNABIS 3000G & UNDR'): (56.63196204018871,\n",
      "                                               69.81571924682424),\n",
      " ('Drugs', 'TRAFFICK-CANNABIS OVER 3000G'): (56.63074745590291,\n",
      "                                             48.42886376164154),\n",
      " ('Drugs', 'TRAFFICKING-AMPHETAMINE'): (56.63178993491123, 52.539581869449584),\n",
      " ('Drugs', 'TRAFFICKING-COCAINE'): (56.63403666331497, 68.78243645608077),\n",
      " ('Drugs', 'TRAFFICKING-HEROIN'): (56.6292022531367, 61.3080849863656),\n",
      " ('Drugs', 'TRAFFICKING-METHAMPHETAMINE'): (56.63157055356081,\n",
      "                                            55.606283530672144),\n",
      " ('Drugs', 'TRAFFICKING-MORPHINE'): (56.643950449133314, 48.434888480272505),\n",
      " ('Drugs', 'TRAFFICKING-OTH SCHED IV CDSA'): (56.62036827059942,\n",
      "                                              48.42694054065886),\n",
      " ('Drugs', 'TRAFFICKING-OTHER CDSA'): (56.63202749693435, 56.22545695131773),\n",
      " ('Liquor', 'LIQUOR (LCLA) ACT-OTHER'): (56.63044584075003, 64.39683613606044),\n",
      " ('Liquor', 'LIQUOR-CONSUME IN PUBLIC PLACE'): (56.63166920518817,\n",
      "                                                65.01216413342893),\n",
      " ('Liquor', 'LIQUOR-INTOX IN PUBLIC PLACE'): (56.632894724430734,\n",
      "                                              76.8597982765768),\n",
      " ('Liquor', 'LIQUOR-SEIZURE'): (56.629487248692634, 58.71461407713523),\n",
      " ('Other', 'ANIMAL CALLS'): (56.63036164309436, 55.189594903395594),\n",
      " ('Other', 'BYLAW-NOISE'): (56.633752278517186, 71.56201344966047),\n",
      " ('Other', 'OBSTRUCT PEACE/PUBLIC OFFICER'): (56.63232758652213,\n",
      "                                              54.75264127685608),\n",
      " ('Other', 'SUSPICIOUS PERS/VEH/OCCURRENCE'): (56.63338584103346,\n",
      "                                               74.77615671646718),\n",
      " ('Property Crime', 'FRAUD-CHEQUE'): (56.63621871022819, 66.94558377811047),\n",
      " ('Property Crime', 'FRAUD-CREDIT/DEBIT CARD'): (56.628273588637974,\n",
      "                                                 62.56226171426228),\n",
      " ('Property Crime', 'MISCHIEF $5000 OR UNDER'): (56.63449629587483,\n",
      "                                                 70.84449461413553),\n",
      " ('Property Crime', 'MISCHIEF OVER $5000'): (56.63444758214722,\n",
      "                                             49.459756908020424),\n",
      " ('Property Crime', 'POSSESS STLN PROPERTY O/$5000'): (56.572614, 48.444726),\n",
      " ('Property Crime', 'POSSESS STLN PROPERTY U/$5000'): (56.6320623368488,\n",
      "                                                       52.54123802984342),\n",
      " ('Robbery', 'ROBBERY W/OTHER OFFENSIVE WPN'): (56.632923069573316,\n",
      "                                                53.5816988743524),\n",
      " ('Robbery', 'ROBBERY-OTHER'): (56.634475421724616, 59.10884044395627),\n",
      " ('Theft', 'THEFT BICYCLE OVER $5000'): (56.63638844194069, 50.51289155953948),\n",
      " ('Theft', 'THEFT BICYCLE UNDER $5000'): (56.63724420242105, 67.33684459185172),\n",
      " ('Theft', 'THEFT-ELEC/GAS/TEL UNDER $5000'): (56.63166932901413,\n",
      "                                               48.42974034010449),\n",
      " ('Theft', 'THEFT-OTHER OVER $5000'): (56.63107310468132, 50.48584455909777),\n",
      " ('Theft', 'THEFT-OTHER UNDER $5000'): (56.63358508050147, 75.65372772803609),\n",
      " ('Theft', 'THEFT-SHOPLIFTING OVER $5000'): (56.62930164502837,\n",
      "                                             51.052283143241),\n",
      " ('Theft', 'THEFT-SHOPLIFTING UNDER $5000'): (56.63588889208382,\n",
      "                                              86.57150029246134),\n",
      " ('Theft from Vehicle', 'THEFT FROM MV OVER $5000'): (56.63503719228621,\n",
      "                                                      50.58008087796048),\n",
      " ('Theft from Vehicle', 'THEFT FROM MV UNDER $5000'): (56.63476116574341,\n",
      "                                                       71.02658665432998),\n",
      " ('Theft of Vehicle', 'TAKE AUTO W/O CONSENT U/$5000'): (56.626468802417804,\n",
      "                                                         49.55276852991312),\n",
      " ('Theft of Vehicle', 'THEFT MOTORCYCLE UNDER $5000'): (56.636089647408504,\n",
      "                                                        51.05305282187403),\n",
      " ('Theft of Vehicle', 'THEFT OF AUTO OVER $5000'): (56.63556956159075,\n",
      "                                                    52.302137759709),\n",
      " ('Theft of Vehicle', 'THEFT OF AUTO UNDER $5000'): (56.63413201454263,\n",
      "                                                     52.5302589157167),\n",
      " ('Theft of Vehicle', 'THEFT OF TRUCK OVER $5000'): (56.63249086136189,\n",
      "                                                     51.683388331285656),\n",
      " ('Theft of Vehicle', 'THEFT OF TRUCK UNDER $5000'): (56.631777869951755,\n",
      "                                                      51.137742035099286),\n",
      " ('Theft of Vehicle', 'THEFT OTHER VEHICLE U/$5000'): (56.62724864759768,\n",
      "                                                       49.82885089590319),\n",
      " ('Traffic', '215 ALCOH-24HR'): (56.63068418528601, 54.816038271835424),\n",
      " ('Traffic', '215 DRUG'): (56.63114001932785, 54.640412265481984),\n",
      " ('Traffic', '215ALCOH IRP WARN-30DAY'): (56.626988945135594,\n",
      "                                          48.432023133285725),\n",
      " ('Traffic', '215ALCOH IRP WARN-3DAY'): (56.63187673440045, 58.06626913475289),\n",
      " ('Traffic', '215ALCOH IRP WARN-7DAY'): (56.628839687733645, 48.43296195635288),\n",
      " ('Traffic', 'COLLISION-DAMAGE OVER $1000'): (56.635205860398926,\n",
      "                                              66.46576968477761),\n",
      " ('Traffic', 'COLLISION-DAMAGE UNDER $1000'): (56.635064477408676,\n",
      "                                               62.82849072598296),\n",
      " ('Traffic', 'COLLISION-NON-FATAL INJURY'): (56.63507942403445,\n",
      "                                             62.65081089277038),\n",
      " ('Traffic', 'DRIVING COMPLAINTS'): (56.633664367929484, 71.56106598654343),\n",
      " ('Traffic', 'EXCESSIVE SPEED-OVER 40KM'): (56.631373200535556,\n",
      "                                            51.063496511380364),\n",
      " ('Traffic', 'IMPAIRED OP MOTOR VEH (ALCOH)'): (56.63205930913219,\n",
      "                                                62.02750968904003),\n",
      " ('Traffic', 'TRAFFIC-INSURANCE VIOLATION'): (56.63365638632498,\n",
      "                                              63.60922336620223),\n",
      " ('Traffic', 'TRAFFIC-OTHER FEDERAL'): (56.63185542066401, 49.578200674544355),\n",
      " ('Traffic', 'TRAFFIC-OTHER MOVING PROV'): (56.632345296309374,\n",
      "                                            66.84566893753241),\n",
      " ('Traffic', 'TRAFFIC-OTHER MUNICIPAL'): (56.63061606343909, 54.38823590409974),\n",
      " ('Traffic', 'TRAFFIC-OTHER NON-MOVE PROV'): (56.63346672098604,\n",
      "                                              56.38829134209702),\n",
      " ('Traffic', 'TRAFFIC-WRITTEN WARNING'): (56.63247403357735,\n",
      "                                          52.230103649747996),\n",
      " ('Vehicle Stop', 'CYCLIST'): (56.629297725967206, 60.78482595122559),\n",
      " ('Vehicle Stop', 'VEHICLE'): (56.62771461396092, 70.69663037411553),\n",
      " ('Vehicle Stop', 'VI-VEHICLE IMPOUNDMENT'): (56.628427047007,\n",
      "                                              50.756932672116356),\n",
      " ('Weapons Offense', 'FIREARM-POINTING'): (56.63151402423387,\n",
      "                                           48.43235352273196),\n",
      " ('Weapons Offense', 'WEAPONS POSS-CONTRARY TO ORDER'): (56.631215715893745,\n",
      "                                                         50.1623804484795),\n",
      " ('Weapons Offense', 'WEAPONS-POSSESSION'): (56.63261073226922,\n",
      "                                             64.7627706295352)}\n"
     ]
    }
   ],
   "source": [
    "pp.pprint(dict2)"
   ]
  },
  {
   "cell_type": "markdown",
   "metadata": {},
   "source": [
    "----\n",
    "\n",
    "## P.3 - Crime + Weather data\n",
    "\n",
    "Load the crime and weather data, i.e. the **cdat.py** and **wdat.py** libraries.\n",
    "\n",
    "Determine the set of days where we have crime data and weather data, specifically.\n",
    "\n",
    "1. Dates where we have crime reports in our **cDat** variable.\n",
    "2. Dates with crime reports and the max/min/mean temperature readings for Victoria in **wdat**. \n",
    "3. Dates with crime reports and the max/min/mean temperature readings and the Rain/Precipitation/Snow totals.\n",
    "\n",
    "Let the number of elements of (1) be **CDD**.  The number of elements of (2) as **CDTD**.  The number of elements of (3) as **CDTPD**,\n",
    "then execute the command below.\n",
    "\n",
    "`print(CDD, 'crime data days', CDTD, 'crime data + temp days', CDTPD, 'crime data + precipitation + temp days')`\n"
   ]
  },
  {
   "cell_type": "code",
   "execution_count": null,
   "metadata": {},
   "outputs": [],
   "source": []
  },
  {
   "cell_type": "markdown",
   "metadata": {},
   "source": [
    "----\n",
    "\n",
    "## P.4 - Crime + Weather data\n",
    "\n",
    "\n",
    "1. Find all the days where it was **6°C** warmer than the preceeding 7 days, i.e. the entire preceding week.  Compute the average crime rates for each crime type on these days.  Which crimes were more than twice as common on these days, compared to an average day?\n",
    "\n",
    "2. Find all the days where it was **6°C** colder than the preceeding 7 days. Compute the average crime rates for each crime type on these days. Which crimes were more than twice as common on these days, compared to an average day?\n",
    "\n",
    "Use the 'Max Temp (°C)' field for P.4. \n",
    "\n",
    "**Grading script** in parts 1 and 2, print your exceptional week weather, one exceptional week per line, in the form:\n",
    "\n",
    "`2013-05-25 12.2 17.7 12.7 15.0 13.8 14.5 16.6 24.0`\n",
    "\n",
    "if for example you found that May 25th of 2013 was 24.0c with the weather in the preceding week being the numbers between the date object and the temperature reading on 2013-05-25. "
   ]
  },
  {
   "cell_type": "code",
   "execution_count": null,
   "metadata": {},
   "outputs": [],
   "source": []
  },
  {
   "cell_type": "markdown",
   "metadata": {},
   "source": [
    "----\n",
    "\n",
    "## P.5 - ODEs for polynomials.\n",
    "\n",
    "In Lecture 8a we developed a differential equation associated to a polynomial whose solutions were either periodic or converged to some of the roots of the polynomial. Specifically, the ODE:\n",
    "\n",
    "$$\\frac{dz}{dt} = iP(z)$$\n",
    "\n",
    "In this homework assignment we ask you to explore this ODE in more detail.\n",
    "\n",
    "**(a)** Create a Python function that takes as input a polynomial.  Your function will generate a **basins of attraction plot**, i.e. at each point $z_0$ in the plot you will compute a solution to the above ODE satisfying the initial condition $z(0)=z_0$.  Depending on the behaviour of the solution you will color the point $z_0$ accordingly.  You will choose colours according to each of the roots.  If your solution converges to a root, colour the point $z_0$ accordingly.  Similarly, choose a colour for initial values $z_0$ corresponding to periodic solutions.  And colour the point $z_0$ black if it does neither. \n",
    "\n",
    "**(b)**\n",
    "\n",
    "Include plots for the polynomials:\n",
    "\n",
    "$$z^3-1$$\n",
    "\n",
    "$$z^4-1$$\n",
    "\n",
    "$$z^5-1$$\n",
    "\n",
    "$$z^5-z-1$$\n",
    "\n",
    "**(c)** Do your experiments suggest that for any polynomial with real coefficients, the solutions to the above ODE are either periodic or converge to a root?  If so, can you identify which roots are limits of solutions, and which initial values give periodic solutions? \n",
    "\n",
    "Note: A polynomial $$c_nz^n + c_{n-1}z^{n-1} + \\cdots + c_1 z + c_0$$ is said to have real coefficients if $c_i \\in \\mathbb R$ for all $i$."
   ]
  },
  {
   "cell_type": "code",
   "execution_count": null,
   "metadata": {},
   "outputs": [],
   "source": []
  }
 ],
 "metadata": {
  "kernelspec": {
   "display_name": "Python 3",
   "language": "python",
   "name": "python3"
  },
  "language_info": {
   "codemirror_mode": {
    "name": "ipython",
    "version": 3
   },
   "file_extension": ".py",
   "mimetype": "text/x-python",
   "name": "python",
   "nbconvert_exporter": "python",
   "pygments_lexer": "ipython3",
   "version": "3.6.7"
  }
 },
 "nbformat": 4,
 "nbformat_minor": 4
}
