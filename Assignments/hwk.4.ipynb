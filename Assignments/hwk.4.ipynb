{
 "cells": [
  {
   "cell_type": "markdown",
   "metadata": {},
   "source": [
    "# Homework Assignment 4\n",
    "\n",
    "This assignment is due **Friday November 29th, at 11:59pm**. Store your homework in **mp248/Assignments/hwk.4.ipynb**. \n",
    "\n",
    "Problems 1-4 of this assignment focus on the Nov 18th--22nd labs.  Problem 5 is on the Victoria Transit data.\n",
    "\n",
    "----"
   ]
  },
  {
   "cell_type": "markdown",
   "metadata": {},
   "source": [
    "## P.1: \n",
    "\n",
    "Given a collection of points $P = \\{ p_i : i = 1,2,\\cdots, k\\} \\subset \\mathbb R^n$ their **convex hull** will be denoted\n",
    "\n",
    "$$C(P) = \\{ t_1p_1 + t_2p_2 + \\cdots + t_kp_k : 0 \\leq t_i \\leq 1 \\ \\forall i, t_1+t_2+\\cdots+t_k = 1 \\}.$$\n",
    "\n",
    "In this question we ask you to write an algorithm that determines if a point is in the convex hull of a collection of other points.\n",
    "\n",
    "Notice that a vector $v$ is in the convex hull if and only if you can solve the system of linear equations\n",
    "\n",
    "$$ v = t_1p_1 + t_2p_2 + \\cdots + t_kp_k $$\n",
    "$$ 1 = t_1 + t_2 + \\cdots + t_k$$\n",
    "together with the inequalities\n",
    "$0 \\leq t_1, t_2, \\cdots, t_k \\leq 1$."
   ]
  },
  {
   "cell_type": "markdown",
   "metadata": {},
   "source": [
    "From the perspective of linear algebra, this is $n+1$ linear equations in $k$ variables, with some constraints. The simplest non-trivial version of this problem is when $k=n+1$.   If your points $P$ in $\\mathbb R^n$ do not sit on an affine $n-1$-dimensional subspace of $\\mathbb R^n$ we say they are in **general position**.   The convex hull of $n+1$-points that are in general position in $\\mathbb R^n$ is called an $n$-simplex.  A $1$-simplex is typically called an *interval*, a $2$-simplex a *triangle*, a $3$-simplex a *tetrahedron*, etc. \n",
    "\n",
    "Write a Python function **in_hull(P, v)** that takes as input the points **P** as an $n\\times (n+1)$-numpy array (or numpy matrix, or list of lists), with $v$ an $n \\times 1$-numpy matrix (array or list of lists, etc).  We expect your code to work correctly with any of the three input types. Have your function return the coefficient vector $T$ as an $(n+1) \\times 1$-numpy matrix, if there is a solution.  The function should return **None** otherwise.\n",
    "\n",
    "**Grading script:** include the output of the following code.\n",
    "\n",
    "`print(in_hull([[3,4]], [[np.pi]]))`\n",
    "\n",
    "`print(in_hull([[np.cos(2*np.pi*i/3) for i in range(3)], [np.sin(2*np.pi*i/3) for i in range(3)]], [[0],[0]]))`\n",
    "\n",
    "`print(in_hull([[np.cos(2*np.pi*i/3) for i in range(3)], [np.sin(2*np.pi*i/3) for i in range(3)]], [[0.5],[0]]))`\n"
   ]
  },
  {
   "cell_type": "code",
   "execution_count": 1,
   "metadata": {},
   "outputs": [],
   "source": [
    "import numpy as np"
   ]
  },
  {
   "cell_type": "code",
   "execution_count": 2,
   "metadata": {},
   "outputs": [],
   "source": [
    "def in_hull(P, v):\n",
    "    '''\n",
    "    Input:\n",
    "        P: n x (n+1) numpy array/matrix.\n",
    "        v: n x 1 numpy matrix\n",
    "    Output:\n",
    "        Determines if a point v is in the convex hull of the collection of points - P\n",
    "        Returns:\n",
    "            T: Coefficient vector. A (n+1) x 1 numpy matrix. (If a solution exist for t = [0,1])\n",
    "            None: Otherwise\n",
    "    '''\n",
    "    A = np.array([1 for i in range(np.shape(P)[1])])\n",
    "    #print(A)\n",
    "    \n",
    "    v2 = np.concatenate((v, [[1]]), axis = 0)\n",
    "    P2 = np.concatenate((P, [A]), axis = 0)\n",
    "    #print(P2)\n",
    "    #print(v2)\n",
    "    \n",
    "    if np.linalg.det(P2) == 0:\n",
    "        return None\n",
    "    else:\n",
    "        T = np.linalg.solve(P2, v2) # Could also use T = P**-1 * V\n",
    "        if np.any(T >1) or np.any(T < 0):\n",
    "            return None\n",
    "        else:\n",
    "            #print(\"True\")\n",
    "            return np.asmatrix(T)"
   ]
  },
  {
   "cell_type": "code",
   "execution_count": 3,
   "metadata": {},
   "outputs": [
    {
     "data": {
      "text/plain": [
       "matrix([[ 0.5],\n",
       "        [ 0.5],\n",
       "        [-0. ]])"
      ]
     },
     "execution_count": 3,
     "metadata": {},
     "output_type": "execute_result"
    }
   ],
   "source": [
    "## Test case when P 'matrix' is a numpy matrix\n",
    "Pm2 = np.matrix([[0,1],[1,0], [1,1]]).T\n",
    "vm2 = np.matrix([[0.5, 0.5]]).T\n",
    "in_hull(Pm2, vm2)"
   ]
  },
  {
   "cell_type": "code",
   "execution_count": 4,
   "metadata": {},
   "outputs": [
    {
     "data": {
      "text/plain": [
       "matrix([[0.25],\n",
       "        [0.25],\n",
       "        [0.25],\n",
       "        [0.25]])"
      ]
     },
     "execution_count": 4,
     "metadata": {},
     "output_type": "execute_result"
    }
   ],
   "source": [
    "## Test case when P 'matrix' is a numpy array\n",
    "Pm3 = np.array([[1,0,0],[0,0,1],[1, 1, 1], [0, 1, 0]]).transpose()\n",
    "vm3 = np.matrix([[0.5, 0.5, 0.5]]).T\n",
    "in_hull(Pm3, vm3)"
   ]
  },
  {
   "cell_type": "markdown",
   "metadata": {},
   "source": [
    "----\n",
    "\n",
    "## P.2:\n",
    "\n",
    "Create a function that takes as input a single integer $n$.  The function will choose $3$ points at random in the unit square, and also an additional $n$ points at random in the unit square $[0,1]^2$.  \n",
    "\n",
    "The algorithm will then plot the perimiter of the triangle formed by the first three points, as a line plot in black.  It will also plot the remaining $n$ points, using a point plot.  The points in the convex hull of the first three will be coloured red, the points outside the convex hull will be coloured yellow.\n",
    "\n",
    "Include one plot for $n=1000$. It should be similar to the plot below.\n",
    "\n",
    "![alt text](../Labs/12a.demo.png)"
   ]
  },
  {
   "cell_type": "code",
   "execution_count": 5,
   "metadata": {},
   "outputs": [],
   "source": [
    "import matplotlib.pyplot as plt\n",
    "%matplotlib inline\n",
    "import random as rd"
   ]
  },
  {
   "cell_type": "code",
   "execution_count": 6,
   "metadata": {},
   "outputs": [],
   "source": [
    "def P2_func(n):\n",
    "    '''\n",
    "    Input: \n",
    "        n: Integer\n",
    "        In a unit square, generate 3 randomized points and form a convex hull out of those three points.\n",
    "        Randomly generates additional n points in that unit square.\n",
    "    Output:\n",
    "        A scatterplot with n randomized points, with points within the convex hull highlighted in red.\n",
    "    '''\n",
    "    x = []\n",
    "    y = []\n",
    "    x_init = []\n",
    "    y_init = []\n",
    "    \n",
    "    ## The first 3 initial points.\n",
    "    for i in range(3):\n",
    "        x_init.append(np.around(rd.random(), 3) )\n",
    "        y_init.append(np.around(rd.random(), 3) )\n",
    "    #print(x_init, y_init)\n",
    "    \n",
    "    ## The additional n points:\n",
    "    for i in range(n):\n",
    "        x.append(np.around(rd.random(), 3) )\n",
    "        y.append(np.around(rd.random(), 3) )\n",
    "    #print(x,y)\n",
    "    \n",
    "    ## The first 3 points forms the P-matrix in Part 1\n",
    "    P = np.matrix([ [i for i in x_init], [i for i in y_init] ])\n",
    "    #print(P)\n",
    "    \n",
    "    ## Plot the triangle\n",
    "    #plt.plot([i for i in x_init], [i for i in y_init], '-r')\n",
    "    plt.fill([i for i in x_init], [i for i in y_init], fill= False)\n",
    "    \n",
    "    ## Determine if a point is within convex hull\n",
    "    for i in range(n):\n",
    "        v = np.matrix([ [x[i]], [y[i]] ])\n",
    "        test = in_hull(P, v)\n",
    "        if np.any(test) == None:\n",
    "            plt.plot(x[i], y[i], 'yo', alpha = 0.5)\n",
    "        else:\n",
    "            plt.plot(x[i], y[i], 'ro', alpha = 0.5)"
   ]
  },
  {
   "cell_type": "code",
   "execution_count": 8,
   "metadata": {},
   "outputs": [
    {
     "data": {
      "image/png": "[encoded data removed]",
      "text/plain": [
       "<Figure size 432x288 with 1 Axes>"
      ]
     },
     "metadata": {
      "needs_background": "light"
     },
     "output_type": "display_data"
    }
   ],
   "source": [
    "P2_func(1000)"
   ]
  },
  {
   "cell_type": "markdown",
   "metadata": {},
   "source": [
    "----\n",
    "\n",
    "## P.3:\n",
    "\n",
    "As a variant of **P.2**, create a function called **content_estimate(n, pt_ct, runs)** that takes as input three integers.\n",
    "\n",
    "The goal of **content_estimate** is to estimate the length of the average interval, or the area of the average triangle, etc.  In general, the content of the average simplex in $\\mathbb R^n$.  The rough idea comes from **P.2** -- provided one is choosing the points randomly and uniformly, the ratio of the number of red points to the total number of points should (on average) be approximating the area of the triangle. \n",
    "\n",
    "The algorithm **content_estimate** will randomly generate **n+1** and **pt_ct** points in $\\mathbb R^n$.  It will check which of the **pt_ct** points are in the convex hull of the other **n+1** points, and compute the ratio **A/pt_ct** where $A$ is the number of points from **pt_ct** that are in the convex hull of the **n+1** points.  \n",
    "\n",
    "The algorithm will repeat the previous step **runs** times, and return the average of all the computations **A/pi_ct**.  Thus your answer, provided **runs** is large enough, should approximate the content of the average $n$-simplex. \n",
    "\n",
    "**Grading Script:**\n",
    "\n",
    "Execute the code below and include the output in your notebook. \n",
    "\n",
    "`for n in [1,2,3,4]:\n",
    "    print(\"In [0,1]^%d : %1.4f\" % (n, content_estimate(n, 200, 1000) ) )`\n",
    "    \n",
    "How accurate do you expect these answers to be, i.e. do you have a sense for what any of the exact answers should be?  Perhaps execude the above code several times to get a sense for how much it typically varies."
   ]
  },
  {
   "cell_type": "code",
   "execution_count": null,
   "metadata": {},
   "outputs": [],
   "source": []
  },
  {
   "cell_type": "code",
   "execution_count": null,
   "metadata": {},
   "outputs": [],
   "source": []
  },
  {
   "cell_type": "markdown",
   "metadata": {},
   "source": [
    "----\n",
    "\n",
    "## P.4: \n",
    "\n",
    "Write an algorithm **on_aff(P, v)** that takes as input a numpy $n \\times k$ matrix **P** and a numpy $n \\times 1$ vector $v$. The algorithm will determine whether or not $v$ is on the affine subspace of $\\mathbb R^n$ spanned by **P**.  \n",
    "\n",
    "If $v$ is on the affine subspace, have  **on_aff** return the coefficients **T**.  If not, return **None**.\n",
    "\n",
    "I recommend using [**least squares**](https://docs.scipy.org/doc/numpy/reference/generated/numpy.linalg.lstsq.html).  i.e. solve for $\\tilde T$ minimizing $||A T - \\vec v||^2$. Once you have computed $\\tilde T$, check if $||A\\tilde T-\\vec v||=0$ \n",
    "\n",
    "**Comments:**\n",
    "\n",
    "You are free to use the numpy library linked above, or solve the problem directly, much like our previous least-squares problems.\n",
    "\n",
    "We give a sketch how one would apply least squares in this situation. The least squares technique tells us the minima $\\tilde T$ satisfies\n",
    "\n",
    "$$ A^T(A \\tilde T - \\vec v) = 0$$\n",
    "(this requires a little calculus argument)\n",
    "\n",
    "Unfortunately, if the point collection $P$ is large relative to the ambient dimension $n$, the matrix $A^TA$ is not invertible -- this is because there are many solutions to the above equation.  One way to bypass this difficulty is to only use variables $t_i$ corresponding to the columns of $A$ that form a basis for the column space, i.e. this amounts to setting redundant variables $t_i=0$. "
   ]
  },
  {
   "cell_type": "markdown",
   "metadata": {},
   "source": [
    "Create a function **on_hull(P, v)** which takes as input:\n",
    "\n",
    "1. **P** an arbitrary $n \\times k$ numpy matrix\n",
    "\n",
    "2. **v** an $n \\times 1$ numpy matrix.  \n",
    "\n",
    "Have **on_hull** return the coefficient matrix **T** if it exists, and **None** otherwise. The coefficient matrix would be the coefficients describing **v** as an affine linear combination of the column vectors of **P**.\n",
    "\n",
    "I suggest first solving for $\\tilde T$ using your solution to **Ex.1**. \n",
    "\n",
    "----\n",
    "\n",
    "All solutions to the equations\n",
    "\n",
    "$$t_1 p_1 + \\cdots + t_k p_k = v, \\ \\ t_1+ \\cdots + t_k=1$$\n",
    "\n",
    "are of the form $T = \\tilde T + w$ where $w \\in NullSpace(A)$.  \n",
    "\n",
    "If **v** is not on the affine subspace spanned by **P**, your algorithm would terminate with **None**. \n",
    "\n",
    "But if **v** is on the affine subspace spanned by **P**, you would then look for a solution $T$ where $0 \\leq t_i \\leq 1 \\ \\forall i$.  \n",
    "\n",
    "In more geometric language, we are asking if\n",
    "\n",
    "$$(\\tilde T + NullSpace(A)) \\cap [0,1]^k \\neq \\emptyset.$$\n",
    "\n",
    "This is a standard problem in a subject called **linear programming**.  The basic idea is that since $NullSpace(A)$ is connected and unbounded (provided $Nullity(A)>0$).  So **if** there is such an intersection, there must be an intersection on the boundary of $[0,1]^k$. \n",
    "\n",
    "At this point you are free to solve the problem using the suggestion below, or with the [**scipy.optimize.linprog**](https://docs.scipy.org/doc/scipy/reference/generated/scipy.optimize.linprog.html) routine.  The challenge in this case would be, how do we rephrase this problem to be one the library can handle? \n",
    "\n",
    "Repeating the argument two paragraphs up inductively, if $Nullity(A)=j$ then $\\tilde A + NullSpace(A))$ must intersect $[0,1]^k$ on a boundary facet of dimension $k-j$. \n",
    "\n",
    "The boundary facets of dimension $k-1$ are precisely $$\\{0,1\\} \\times [0,1]^{k-1}, [0,1] \\times \\{0,1\\} \\times [0,1]^{k-2}, \\cdots$$\n",
    "More generally, there are $2^j {k \\choose j}$ boundary facets of dimension $k-j$.  One obtains them by taking $j$ of the $[0,1]$ factors of $[0,1]^k$ and replacing $[0,1]$ by $\\{0,1\\}$.  \n",
    "\n",
    "----"
   ]
  },
  {
   "cell_type": "markdown",
   "metadata": {},
   "source": [
    "**In summary, here is our algorithm:**\n",
    "\n",
    "(1) Compute a basis for the nullspace of **A**. Use numpy's **np.linalg.null_space**. Let $j$ be the dimension of the nullspace.\n",
    "\n",
    "(2) Iterate over all the $2^j {k \\choose j}$ facets of $[0,1]^k$ of dimension $(k-j)$. Call such a facet $F$, and look for  solutions to the equation:\n",
    "$$(\\tilde T + NullSpace(A)) \\cap F \\neq \\emptyset$$\n",
    "\n",
    "To turn this into a proper set of equations, recall that the facet $F$ of $[0,1]^k$ is defined by demanding that $j$ of the coordinates either equal $0$ or $1$.  Given that $\\tilde T + NullSpace(A)$ is $j$-dimensional, this is $j$ linear equations in $j$ variables, i.e. we should typically expect a unique solution.  Provided there is such a solution, we need to check the remaining coordinates are in the interval $[0,1]$. \n",
    "\n",
    "Note that if **any** of these equations has a solution, then that is a valid $T$ to return to the user. If **none** of these equation have solutions, then you can return **None**.\n",
    "\n",
    "----\n",
    "\n",
    "To test your algorithm create a routine **plot_conv(n,j)** that computes **n** random points in $\\mathbb R^2$, and another **j** random points in $\\mathbb R^2$.  Plot the **n** random points. Use **red** for the points in the convex hull of the **j** points, and **yellow** for points not in the convex hull. \n",
    "\n",
    "If you have time (and the inclination) repeat again in $\\mathbb R^3$ using **PlotLy**'s **Scatter3d** feature.  Sample plots are included below.\n",
    "\n",
    "![alt text](../Labs/12b.demo.png)\n",
    "![alt text](../Labs/12b.demo2.png)"
   ]
  },
  {
   "cell_type": "code",
   "execution_count": null,
   "metadata": {},
   "outputs": [],
   "source": []
  },
  {
   "cell_type": "code",
   "execution_count": null,
   "metadata": {},
   "outputs": [],
   "source": []
  },
  {
   "cell_type": "code",
   "execution_count": null,
   "metadata": {},
   "outputs": [],
   "source": []
  },
  {
   "cell_type": "code",
   "execution_count": null,
   "metadata": {},
   "outputs": [],
   "source": []
  },
  {
   "cell_type": "markdown",
   "metadata": {},
   "source": [
    "----\n",
    "\n",
    "## P.5:\n",
    "\n",
    "As we have seen in class, there is an unfortunate disconnect between the realtime Victoria Transit data and the information supplied on the bus routes.  In this homework problem we ask you to see if we can fix that problem.  The idea will be to check how closely a bus's real-time data matches all of the routes, and pick the \"best fit\". \n",
    "\n",
    "Notation: We will say a **(latitude, longitude)** pair is \"GPS coordinates\".  \n",
    "\n",
    "**Step 1)** Write a routine **dist_to_route(rid, gps)** that computes the shortest distance between the gps coordinates **gps** and **any point** along the route with route id **rid**.  Have the return value in metres.   Use **busDat['routes']** for the list of vertices of the routes. Your route ids should be in the form of the keys to **busDat['routes']**, i.e. '1-10-130' is a valid **rid** for the purpose of **dist_to_route**.\n",
    "\n",
    "Getting the distances exactly right isn't important, but if you would like to calibrate with me: I will use **6371km** as the radius of the earth, assuming Victoria is at sea level and the earth is a perfect sphere.  This gives me the distance between the Swartz Bay ferry terminal and the Bay Centre, downtown at **29.5km**.  We use \"as the crow flies\" distance, which is shorter than the Google Maps distance of **32.1km**.  I suggest you re-use your latitude-longitude to 3d-coordinates conversion code from Assignment 3. \n",
    "\n",
    "----"
   ]
  },
  {
   "cell_type": "markdown",
   "metadata": {},
   "source": [
    "**Step 2)** Write a **dist_realt_to_route(rid, route_id)** function where **rid** is the **busDat['routes']** route id, and **route_id** is the **busDat['realtime_data']** route_id.  Have this routine return the average of **dist_to_route(rid, gps)** where **gps** runs over the listed gps coordinates in the relevant realtime data.\n",
    "\n",
    "**Step 3)** Create a dictionary whose keys are the **route_id** and whose values is the **rid** with the smallest **dist_realt_to_route(rid, route_id)**.  \n",
    "\n",
    "**Grading Script** Print your dictionary from (3) using the **pp.pprint** command. \n",
    "\n",
    "**Warning:** Problem 5 will take a significant amount of time to execute, once your code is fully functional.  Please start early!"
   ]
  },
  {
   "cell_type": "code",
   "execution_count": null,
   "metadata": {},
   "outputs": [],
   "source": [
    "import json\n",
    "\n",
    "with open('../Data/vic.trans.json') as f:\n",
    "    busDat = json.load(f)"
   ]
  },
  {
   "cell_type": "code",
   "execution_count": null,
   "metadata": {},
   "outputs": [],
   "source": []
  }
 ],
 "metadata": {
  "kernelspec": {
   "display_name": "Python 3",
   "language": "python",
   "name": "python3"
  },
  "language_info": {
   "codemirror_mode": {
    "name": "ipython",
    "version": 3
   },
   "file_extension": ".py",
   "mimetype": "text/x-python",
   "name": "python",
   "nbconvert_exporter": "python",
   "pygments_lexer": "ipython3",
   "version": "3.6.7"
  }
 },
 "nbformat": 4,
 "nbformat_minor": 4
}
