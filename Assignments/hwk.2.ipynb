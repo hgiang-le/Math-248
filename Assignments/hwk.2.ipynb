{
 "cells": [
  {
   "cell_type": "markdown",
   "metadata": {},
   "source": [
    "# Homework Assignment 2\n",
    "\n",
    "Please save your work in your personal **mp248** repository.  The pre-grading script has been running since 9pm on October 10th. It is putting the feedback in **Task 5** in your grades on CourseSpaces.  \n",
    "\n",
    "The assignment is due at 11:59pm on Friday October 25th. When you push your assignment to your repository, please save it in **mp248/Assignments/hwk.2.ipynb**."
   ]
  },
  {
   "cell_type": "markdown",
   "metadata": {},
   "source": [
    "----\n",
    "\n",
    "**P1)** Develop a function similar to **cbasinPlot** from Lecture 5a, but this plot will only show the points where Newton's method eventually fails. \n",
    "\n",
    "Recall, Newton's method for solving for the roots $f(z) = 0$ is given by iterating the **Newton Iterator** $N(z)$ from an initial guess $z_0$.\n",
    "\n",
    "$$ N(z) =  z - \\frac{f(z)}{f'(z)}$$\n",
    "\n",
    "We say Newton's method fails **immediately** with initial condition $z_0$ if the above expression does not make sense, i.e. $f'(z_0)=0$. \n",
    "\n",
    "We say Newton's method fails in **one step** at $z_0$ if, after applying the Newton iterator once, Newton's method fails, i.e. $f'(N(z_0)) = 0$.  \n",
    "\n",
    "We say Newton's method fails **after $n$ steps** if after applying the Newton iterator $n$ times, you get a number where the Newton Iterator is undefined.   To give this some notation, define $N^{(2)}(z) = N(N(z))$, $N^{(3)}(z) = N(N(N(z)))$, etc, $N^{(n)}(z) = N(N(\\cdots N(z) \\cdots ))$. Thus the $n$-step failure set $F(n)$ is defined as \n",
    "\n",
    "$$F(n) = \\{ z_0 : f'(N^{(n)}(z_0))=0 \\}$$\n",
    "\n",
    "Thus, $N^{-1}(F(n)) = F(n+1)$, i.e. we have a recursively-defined set $F(n)$.\n",
    "\n",
    "(a) Plot the sets $F(0), F(1), F(2), F(3), \\cdots$ in the region $-1.3 \\leq z.real \\leq 1.3$, $-1.3 \\leq z.imag \\leq 1.3$ for $f(z)=z^3-1$.\n",
    "\n",
    "(b) Do the same for $f(z) = z^5-z-1$.\n",
    "\n",
    "**Hint:** For this problem you will need to iteratively solve for the roots of various polynomial equations. I suggest using **np.roots** or **mpmath.polyroots**, like in Lecture 3c. A sympy polynomial $p(z)$ can be converted to a numpy/mpmath polynomial via `p.as_poly(z).all_coeffs()`. See the example below.\n",
    "\n",
    "**Pre-grading script:** Somewhere in your code, please print out the entries of $F(0)$, $F(1)$ and $F(2)$, as a set of complex floats. When printing these complex float (say for example **z**) please print as **np.around(z,5)**, i.e. have five significant digits in your output. eg: **str(np.around(np.pi,5))==\"3.14159\"**.  Do this both for (a) $f(z)=z^3-1$ and part (b) with $f(z)=z^5-z-1$.  The pre-grading script will search for these answers and give you feedback in **Task 5**. "
   ]
  },
  {
   "cell_type": "code",
   "execution_count": null,
   "metadata": {},
   "outputs": [],
   "source": [
    "import matplotlib.pyplot as plt\n",
    "%matplotlib inline\n"
   ]
  },
  {
   "cell_type": "code",
   "execution_count": null,
   "metadata": {},
   "outputs": [],
   "source": [
    "\n",
    "    "
   ]
  },
  {
   "cell_type": "code",
   "execution_count": null,
   "metadata": {},
   "outputs": [],
   "source": []
  },
  {
   "cell_type": "code",
   "execution_count": null,
   "metadata": {},
   "outputs": [],
   "source": []
  },
  {
   "cell_type": "code",
   "execution_count": null,
   "metadata": {},
   "outputs": [],
   "source": []
  },
  {
   "cell_type": "markdown",
   "metadata": {},
   "source": [
    "----\n",
    "\n",
    "**P2)** Write a Python function $f(n)$ that returns a Sympy polynomial that is the degree $2n$ Taylor expansion of the $\\cos x$ function.\n",
    "\n",
    "$$T^{2n}(x) = 1 - \\frac{x^2}{2!}x^2 + \\frac{x^4}{4!}x^4 + \\cdots + (-1)^n\\frac{x^{2n}}{(2n)!}x^{2n}$$\n",
    "\n",
    "Print out these polynomials for $n=1,2,3,4,5$ using sympy's **pprint** command.\n",
    "\n",
    "Use Sympy to compute the integrals:\n",
    "$$\\int_0^x \\cos(x^2) dx$$ \n",
    "$$\\int_0^x T^{2n}(x^2) dx \\text{  for  } n=1,2,3,4,5.$$\n",
    "\n",
    "Put the plots of these functions in one common matplotlib plot, so that they can be compared.  Make the domain of the plot $[-3.4,3.4]$.  How big do you need to make $n$ to ensure these two plots look the same on this domain?\n"
   ]
  },
  {
   "cell_type": "code",
   "execution_count": null,
   "metadata": {},
   "outputs": [],
   "source": []
  },
  {
   "cell_type": "code",
   "execution_count": null,
   "metadata": {},
   "outputs": [],
   "source": []
  },
  {
   "cell_type": "code",
   "execution_count": null,
   "metadata": {},
   "outputs": [],
   "source": []
  },
  {
   "cell_type": "markdown",
   "metadata": {},
   "source": [
    "----\n",
    "\n",
    "**P3)** Create a function **historic_plot(city, feat)** that takes as input a city name (eg: **w.sask** and **w.vic** for Saskatoon and Victoria respectively), and a weather feature key (eg: **Mean Temp (°C)** or **Total Rain (mm)**).  The function will create a matplotlib plot (a point plot) where the x-axis represents the date of the measurement (i.e. the scale will be in days), and the y-axis represents the measurement corresponding to the key. Include the linear least-squares approximations in your plot.  Label the linear least square fit i.e. $y=ax+b$ with $a,b$ the appropriate coefficients, and put in the legend. Include in your title the yearly increase in the readings, i.e. this should be $365 \\cdot a$.  Use the library from lecture 6c.\n",
    "\n",
    "Include the output of **historic_plot** for all four cities, with the weather feature **\"Mean Temp (°C)\"** in your notebooks, using matplotlib in **inline** mode.  After each plot, print to screen the coefficients of your least-square fit, i.e. use a **print(c)** command, if you use the same notation as in Lecture 6c.   \n",
    "\n",
    "How do your trend lines compare with the global warming predictions we see in newspaper articles?\n",
    "\n",
    "**Pre-grading script:** The script will check for your least-square coefficients for the four plots, i.e. the **print(c)** output. c should be a shape (2,1) numpy array, i.e. a 2-dimensional column vector."
   ]
  },
  {
   "cell_type": "code",
   "execution_count": 2,
   "metadata": {},
   "outputs": [],
   "source": [
    "import pprint as pp\n",
    "import datetime as dt ## library to manipulate dates and times\n",
    "import matplotlib.pyplot as plt\n",
    "import os\n",
    "import fnmatch as fn\n",
    "import scipy.optimize \n",
    "%matplotlib inline\n",
    "\n",
    "def parse_fname(fname):\n",
    "    with open(fname, encoding='utf8') as f:\n",
    "        content = f.read().split('\\n')\n",
    "        '''this splits the string.  [typical way of doing multi-line comments.]\n",
    "        ## converts the file into one big text string.\n",
    "        ## and split by lines\n",
    "        ## two things you can do. rather than use read() command you can use readlines()'''\n",
    "        ## problem in the new f[i for i in range(len(content)) if 'legend' in content[i].lower()]\n",
    "        if len(leglines)!=1\n",
    "            print(\"Error not unique legend line.\")\n",
    "            return(None\n",
    "        \n",
    "        ID_pairs = [x.replace('\"', '').replace('\\ufeff', '').split(',')\\\n",
    "                    for x in content[:leglines[0]-1]]\n",
    "        fdat = dict(ID_pairs)\n",
    "        to_float=['Elevation', 'Latitude', 'Longitude']\n",
    "        to_int = ['WMO Identifier']\n",
    "        for k in to_float:\n",
    "            if k in fdat.keys():\n",
    "                fdat[k] = float(fdat[k])\n",
    "        for k in to_int:\n",
    "            if k in fdat.keys():\n",
    "                if fdat[k]=='':\n",
    "                    del fdat[k] ## removal of key from dictionary \n",
    "                else:\n",
    "                    fdat[k] = int(fdat[k])\n",
    "        ## next: let's load the keys for the row data.     \n",
    "        keylines = [i for i in range(len(content)) if 'date/time' in\\\n",
    "                   content[i].lower()]\n",
    "        if len(keylines)!=1:\n",
    "            print('Error! Need only one key line.')\n",
    "            return(None)\n",
    "        ## parse the row the row data, i.e. all data from \"keylines\" down.\n",
    "        keys = content[keylines[0]].replace('\"','').split(',')\n",
    "        ## now the remaining rows, we want to put into a list of dictionaries\n",
    "        fdat['rows']=[]\n",
    "        for L in content[keylines[0]+1:]:\n",
    "            L=L.replace('\"','').split(',')\n",
    "            if len(L)!=len(keys):\n",
    "                continue\n",
    "            ignore_keys = ['Year', 'Month', 'Day']\n",
    "            X = {keys[i]:L[i] for i in range(len(keys)) if L[i]!=''\\\n",
    "                 and (keys[i] not in ignore_keys)}\n",
    "            ## make the data more useful \n",
    "            to_date = ['Date/Time']\n",
    "            to_float = ['Max Temp (°C)', 'Min Temp (°C)', 'Mean Temp (°C)',\\\n",
    "                       'Total Precip (mm)', 'Total Rain (mm)', 'Total Snow (cm)',\\\n",
    "                       'Snow on Grnd (cm)', 'Cool Deg Days (°C)', 'Heat Deg Days (°C)']\n",
    "            \n",
    "            for k in to_date:\n",
    "                X[k] = dt.datetime.strptime(X[k], \"%Y-%m-%d\").date()\n",
    "            for k in to_float:\n",
    "                if k in X.keys():\n",
    "                    X[k] = float(X[k])\n",
    "            \n",
    "            fdat['rows'].append(X)\n",
    "        return(fdat)    \n"
   ]
  },
  {
   "cell_type": "code",
   "execution_count": 8,
   "metadata": {},
   "outputs": [],
   "source": [
    "def historic_plot(city, feat):\n",
    "    '''\n",
    "    Input: \n",
    "        - city: a city name (eg: w.sask and w.vic for Saskatoon and Victoria respectively)\n",
    "        - feat: a weather feature key\n",
    "    Output:\n",
    "        The function will create a matplotlib plot (a point plot) where:\n",
    "        - x-axis represents the date of the measurement, \n",
    "        - y-axis represents the measurement corresponding to the key\n",
    "        Include the linear and quadratic least-squares approximations\n",
    "    '''\n",
    "    route = '../../mp248-course/Data/CWD/'\n",
    "    if \"Calgary\" in city:\n",
    "        wsubdirs = fn.filter(os.listdir(route), \"w.cal\")\n",
    "    elif \"Edmonton\" in city:\n",
    "        wsubdirs = fn.filter(os.listdir(route), \"w.edm\")\n",
    "    elif \"Saskatoon\" in city:\n",
    "        wsubdirs = fn.filter(os.listdir(route), \"w.sask\")\n",
    "    elif \"Victoria\" in city:\n",
    "        wsubdirs = fn.filter(os.listdir(route), \"w.vic\")\n",
    "    else:\n",
    "        return(print(city, 'not found'))\n",
    "    \n",
    "    mdat=dict()\n",
    "    for wd in wsubdirs:\n",
    "        files = fn.filter(os.listdir(route+wd), \"eng-daily*.csv\")\n",
    "        for wdf in files:\n",
    "            fname = route+wd+'/'+wdf\n",
    "            pf = parse_fname(fname)\n",
    "            for v in pf['rows']:\n",
    "                K = (wd, v['Date/Time'])\n",
    "                mdat[K] = v\n",
    "    \n",
    "    k1 = 'Date/Time'\n",
    "    k2 = feat\n",
    "    \n",
    "    \n",
    "    if \"Victoria\" in city:\n",
    "        MM=[(v[k1], v[k2]) for k,v in mdat.items() if k[0]=='w.vic'\\\n",
    "        and (k1 in v.keys()) and (k2 in v.keys())]\n",
    "    elif \"Calgary\" in city:\n",
    "        MM=[(v[k1], v[k2]) for k,v in mdat.items() if k[0]=='w.cal'\\\n",
    "        and (k1 in v.keys()) and (k2 in v.keys())]\n",
    "    elif \"Saskatoon\" in city:\n",
    "        MM=[(v[k1], v[k2]) for k,v in mdat.items() if k[0]=='w.sask'\\\n",
    "        and (k1 in v.keys()) and (k2 in v.keys())]\n",
    "    elif \"Edmonton\" in city:\n",
    "        MM=[(v[k1], v[k2]) for k,v in mdat.items() if k[0]=='w.edm'\\\n",
    "        and (k1 in v.keys()) and (k2 in v.keys())]\n",
    "    else:\n",
    "        return(print(city, 'not found (Error 2)'))\n",
    "    \n",
    "\n",
    "    # Plot\n",
    "    plt.plot([x[0] for x in MM], [x[1] for x in MM], 'ro')\n",
    "    plt.xlabel(k1)\n",
    "    plt.ylabel(k2)\n",
    "    # Linear and quadratic least square approximations\n",
    "    #scipy.optimize.curve_fit(func ,[x[0] for x in MM], [x[1] for x in MM])"
   ]
  },
  {
   "cell_type": "code",
   "execution_count": 9,
   "metadata": {},
   "outputs": [
    {
     "data": {
      "image/png": "[encoded data removed]",
      "text/plain": [
       "<Figure size 432x288 with 1 Axes>"
      ]
     },
     "metadata": {
      "needs_background": "light"
     },
     "output_type": "display_data"
    }
   ],
   "source": [
    "historic_plot('Victoria', 'Mean Temp (°C)')"
   ]
  },
  {
   "cell_type": "code",
   "execution_count": 10,
   "metadata": {},
   "outputs": [
    {
     "data": {
      "image/png": "[encoded data removed]",
      "text/plain": [
       "<Figure size 432x288 with 1 Axes>"
      ]
     },
     "metadata": {
      "needs_background": "light"
     },
     "output_type": "display_data"
    }
   ],
   "source": [
    "historic_plot('Calgary', 'Mean Temp (°C)')"
   ]
  },
  {
   "cell_type": "code",
   "execution_count": 11,
   "metadata": {},
   "outputs": [
    {
     "data": {
      "image/png": "[encoded data removed]",
      "text/plain": [
       "<Figure size 432x288 with 1 Axes>"
      ]
     },
     "metadata": {
      "needs_background": "light"
     },
     "output_type": "display_data"
    }
   ],
   "source": [
    "historic_plot('Edmonton', 'Mean Temp (°C)')"
   ]
  },
  {
   "cell_type": "code",
   "execution_count": 12,
   "metadata": {},
   "outputs": [
    {
     "data": {
      "image/png": "[encoded data removed]",
      "text/plain": [
       "<Figure size 432x288 with 1 Axes>"
      ]
     },
     "metadata": {
      "needs_background": "light"
     },
     "output_type": "display_data"
    }
   ],
   "source": [
    "historic_plot('Saskatoon', 'Mean Temp (°C)')"
   ]
  },
  {
   "cell_type": "markdown",
   "metadata": {},
   "source": []
  },
  {
   "cell_type": "markdown",
   "metadata": {},
   "source": [
    "----\n",
    "\n",
    "**P4)** Write a function **vs_plot(cit1, cit2, wk)** that will take as input three arguments.  The first two arguments are city names in our 6b convention (eg: **w.sask** and **w.vic** for Saskatoon and Victoria respectively), and the third argument would be a key for a floating-point data type from **mdat** (eg: **Mean Temp (°C)** or **Total Rain (mm)**).  Your function would then create a matplotlib plot for that weather feature, of one city's weather vs. the other for all the dates we have in common in our data set.  Put the data for **cit1** on the x-axis, and **cit2** on the y-axis.  Include a linear and quadratic least-squares approximation. Use the library from Lecture 6c.\n",
    "\n",
    "Include the output for these three commands **vs_plot(\"w.vic\", \"w.cal\", \"Mean Temp (°C)\")**, **vs_plot(\"w.cal\", \"w.edm\", \"Mean Temp (°C)\")**, **vs_plot(\"w.edm\", \"w.sask\", \"Mean Temp (°C)\")** in your notebook.  In each, include a **print(c)** statement for your least square coefficients. \n",
    "\n",
    "**Pre-grading script:** Will check for your least-squares coefficients for the above four plots.\n",
    "\n",
    "For problems P3 and P4, import and use the wdat library we created in Lecture 7c."
   ]
  },
  {
   "cell_type": "code",
   "execution_count": null,
   "metadata": {},
   "outputs": [],
   "source": []
  },
  {
   "cell_type": "code",
   "execution_count": null,
   "metadata": {},
   "outputs": [],
   "source": []
  },
  {
   "cell_type": "code",
   "execution_count": null,
   "metadata": {},
   "outputs": [],
   "source": []
  },
  {
   "cell_type": "code",
   "execution_count": null,
   "metadata": {},
   "outputs": [],
   "source": []
  },
  {
   "cell_type": "code",
   "execution_count": null,
   "metadata": {},
   "outputs": [],
   "source": []
  },
  {
   "cell_type": "markdown",
   "metadata": {},
   "source": [
    "----\n",
    "\n",
    "**P5)**  In this problem we ask you to make a step towards an improved **voronoi_diagram** algorithm. \n",
    "\n",
    "If you recall, in class we drew the voronoi diagram of a list of $n$ points in the plane. \n",
    "We followed that with a primitive (and flawed) algorithm \n",
    "to find the vertices where any three regions meet.   In this problem, we ask you to find a \n",
    "better algorithm to find those vertices, and ultimately a better way to compute the diagram.\n",
    "\n",
    "You will create a new **voronoi_diagram** algorithm. This algorithm will take as input an $(n,2)$-shaped numpy\n",
    "array, considered to be a list of $n$ points **PTS** in the plane. \n",
    "\n",
    "In your plot, include:\n",
    "\n",
    "1. The input points, PTS, in green.\n",
    "2. The 'triple points' that are equidistant from the three closest points of PTS. After completing steps (3) and (4) these points will be clear and there will be no need to label them.  But if you can not complete steps (3) and (4), plot these points in black and label them with the set of the three closest points, eg: {a,b,c} meaning PTS[a], PTS[b] and PTS[c] are equidistant and closest.\n",
    "3. The lines between the triple points. Drawn in gray. i.e. these are lines that are equidistant from the two closest points of PTS.\n",
    "4. The lines between the triple points and the boundary of your region. Drawn in red.\n",
    "5. Labels on the points PTS, as well as the line segments (3) and (4)."
   ]
  },
  {
   "cell_type": "markdown",
   "metadata": {},
   "source": [
    "Provided you choose the points PTS to have their coordinates in $[0,1]$ as in class, you can choose your \n",
    "region to be the square $[0,1]^2$. \n",
    "\n",
    "The line segments in (3) and (4) represent the regions in the plane that are equidistant to two points of PTS, \n",
    "yet all the remaining points of PTS are further-away than those two equidistant points.\n",
    "\n",
    "Label your line segments in the notation $\\{a,b\\}$ meaning these are the points in the plane equidistant from PTS[a] and PTS[b], yet all the remaining points of PTS are further away.\n",
    "\n",
    "Use the above ideas to write your voronoi_diagram code.  Include several plots, for various random input points.\n",
    "\n",
    "If you follow all the above rules, your output should look like this. If the **.svg** image does not display, uncomment the **.png** display.\n",
    "\n",
    "``` <img src='voronoi.png'/>```\n",
    "<img src='voronoi.svg'/>"
   ]
  },
  {
   "cell_type": "code",
   "execution_count": null,
   "metadata": {},
   "outputs": [],
   "source": []
  },
  {
   "cell_type": "code",
   "execution_count": null,
   "metadata": {},
   "outputs": [],
   "source": []
  },
  {
   "cell_type": "code",
   "execution_count": null,
   "metadata": {},
   "outputs": [],
   "source": []
  },
  {
   "cell_type": "code",
   "execution_count": null,
   "metadata": {},
   "outputs": [],
   "source": []
  },
  {
   "cell_type": "markdown",
   "metadata": {},
   "source": []
  },
  {
   "cell_type": "code",
   "execution_count": null,
   "metadata": {},
   "outputs": [],
   "source": []
  },
  {
   "cell_type": "code",
   "execution_count": null,
   "metadata": {},
   "outputs": [],
   "source": []
  },
  {
   "cell_type": "code",
   "execution_count": null,
   "metadata": {},
   "outputs": [],
   "source": []
  }
 ],
 "metadata": {
  "kernelspec": {
   "display_name": "Python 3",
   "language": "python",
   "name": "python3"
  },
  "language_info": {
   "codemirror_mode": {
    "name": "ipython",
    "version": 3
   },
   "file_extension": ".py",
   "mimetype": "text/x-python",
   "name": "python",
   "nbconvert_exporter": "python",
   "pygments_lexer": "ipython3",
   "version": "3.6.7"
  }
 },
 "nbformat": 4,
 "nbformat_minor": 2
}
