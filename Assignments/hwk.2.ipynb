{
 "cells": [
  {
   "cell_type": "markdown",
   "metadata": {},
   "source": [
    "# Homework Assignment 2\n",
    "\n",
    "Please save your work in your personal **mp248** repository.  The pre-grading script has been running since 9pm on October 10th. It is putting the feedback in **Task 5** in your grades on CourseSpaces.  \n",
    "\n",
    "The assignment is due at 11:59pm on Friday October 25th. When you push your assignment to your repository, please save it in **mp248/Assignments/hwk.2.ipynb**."
   ]
  },
  {
   "cell_type": "markdown",
   "metadata": {},
   "source": [
    "----\n",
    "\n",
    "**P1)** Develop a function similar to **cbasinPlot** from Lecture 5a, but this plot will only show the points where Newton's method eventually fails. \n",
    "\n",
    "Recall, Newton's method for solving for the roots $f(z) = 0$ is given by iterating the **Newton Iterator** $N(z)$ from an initial guess $z_0$.\n",
    "\n",
    "$$ N(z) =  z - \\frac{f(z)}{f'(z)}$$\n",
    "\n",
    "We say Newton's method fails **immediately** with initial condition $z_0$ if the above expression does not make sense, i.e. $f'(z_0)=0$. \n",
    "\n",
    "We say Newton's method fails in **one step** at $z_0$ if, after applying the Newton iterator once, Newton's method fails, i.e. $f'(N(z_0)) = 0$.  \n",
    "\n",
    "We say Newton's method fails **after $n$ steps** if after applying the Newton iterator $n$ times, you get a number where the Newton Iterator is undefined.   To give this some notation, define $N^{(2)}(z) = N(N(z))$, $N^{(3)}(z) = N(N(N(z)))$, etc, $N^{(n)}(z) = N(N(\\cdots N(z) \\cdots ))$. Thus the $n$-step failure set $F(n)$ is defined as \n",
    "\n",
    "$$F(n) = \\{ z_0 : f'(N^{(n)}(z_0))=0 \\}$$\n",
    "\n",
    "Thus, $N^{-1}(F(n)) = F(n+1)$, i.e. we have a recursively-defined set $F(n)$.\n",
    "\n",
    "(a) Plot the sets $F(0), F(1), F(2), F(3), \\cdots$ in the region $-1.3 \\leq z.real \\leq 1.3$, $-1.3 \\leq z.imag \\leq 1.3$ for $f(z)=z^3-1$.\n",
    "\n",
    "(b) Do the same for $f(z) = z^5-z-1$.\n",
    "\n",
    "**Hint:** For this problem you will need to iteratively solve for the roots of various polynomial equations. I suggest using **np.roots** or **mpmath.polyroots**, like in Lecture 3c. A sympy polynomial $p(z)$ can be converted to a numpy/mpmath polynomial via `p.as_poly(z).all_coeffs()`. See the example below.\n",
    "\n",
    "**Pre-grading script:** Somewhere in your code, please print out the entries of $F(0)$, $F(1)$ and $F(2)$, as a set of complex floats. When printing these complex float (say for example **z**) please print as **np.around(z,5)**, i.e. have five significant digits in your output. eg: **str(np.around(np.pi,5))==\"3.14159\"**.  Do this both for (a) $f(z)=z^3-1$ and part (b) with $f(z)=z^5-z-1$.  The pre-grading script will search for these answers and give you feedback in **Task 5**. "
   ]
  },
  {
   "cell_type": "code",
   "execution_count": 137,
   "metadata": {},
   "outputs": [],
   "source": [
    "import matplotlib.pyplot as plt\n",
    "%matplotlib inline\n",
    "import sympy as sp\n",
    "import numpy as np\n",
    "import itertools as it ## gives some nice ways of doing complex iterations\n",
    "import pprint as pp\n",
    "z=sp.Symbol('z')"
   ]
  },
  {
   "cell_type": "code",
   "execution_count": 20,
   "metadata": {},
   "outputs": [
    {
     "name": "stdout",
     "output_type": "stream",
     "text": [
      " 2    \n",
      "z  + 1\n",
      "Numpy format:  [1, 0, 1]\n",
      "Roots:  [-0.+1.j  0.-1.j]\n"
     ]
    }
   ],
   "source": [
    "## Example\n",
    "## immediate failure points, roots of f'(z)=0\n",
    "## n-th order failure will have form\n",
    "## f(z)+f'(z)(p-z)=0 where p is (n-1)-th order.\n",
    "\n",
    "import sympy as sp\n",
    "import numpy as np\n",
    "import matplotlib.pyplot as plt\n",
    "%matplotlib inline\n",
    "\n",
    "z = sp.Symbol('z')\n",
    "P = (z**2+1)\n",
    "npp = P.as_poly(z).all_coeffs()\n",
    "sp.pprint(P)\n",
    "print(\"Numpy format: \", npp)\n",
    "print(\"Roots: \", np.roots(npp))"
   ]
  },
  {
   "cell_type": "markdown",
   "metadata": {},
   "source": [
    "Note, $F(n+1) = N^{-1}(F(n))$ so...\n",
    "$$F(n+1) = \\{ z : f(z)-f'(z)(z-r) = 0, r \\in F(n) \\}$$"
   ]
  },
  {
   "cell_type": "code",
   "execution_count": 21,
   "metadata": {},
   "outputs": [
    {
     "name": "stdout",
     "output_type": "stream",
     "text": [
      "[[0.0]]\n"
     ]
    }
   ],
   "source": [
    "P = z**3 - 1\n",
    "\n",
    "## points of failure list F[n]\n",
    "F = []\n",
    "\n",
    "# all_coeffs(): Returns all coefficients from a univariate polynomial f\n",
    "# as_poly(*gens, **args): Converts self to a polynomial or returns None\n",
    "F0 = list(set(np.roots(P.diff(z).as_poly(z).all_coeffs())))\n",
    "F.append(F0)\n",
    "print(F)\n",
    "##i.e. it initially fails only at zero."
   ]
  },
  {
   "cell_type": "markdown",
   "metadata": {},
   "source": [
    "Working starts here:"
   ]
  },
  {
   "cell_type": "code",
   "execution_count": 359,
   "metadata": {},
   "outputs": [],
   "source": [
    "# want to write a for loop that in each iteration: substitute the r in the above equation\n",
    "# then save it into a list\n",
    "f = sp.Function('f')\n",
    "z = sp.Symbol('z')\n",
    "r = sp.Symbol('r')\n",
    "\n",
    "def funct(f):\n",
    "    '''\n",
    "    Input: \n",
    "        - f = function f (i.e z**3 - 1)\n",
    "    Output:\n",
    "        - List of roots after certain number of iterations\n",
    "    '''\n",
    "    #f = z**3 -1 \n",
    "    df = f.diff(z)\n",
    "    P = f - df*(z-r) \n",
    "\n",
    "    F = []\n",
    "    F0 = list(set(np.roots(f.diff(z).as_poly(z).all_coeffs())))\n",
    "    F.append(F0)\n",
    "    print(\"F list after iteration 0:\")\n",
    "    print(F)\n",
    "\n",
    "   #print(len(F0))\n",
    "    #print(\"initial F list: \",F)\n",
    "    for x in range(1,5): # Since iteration F(0) is outside of the loop\n",
    "        #print(\"iteration #\", x)\n",
    "        templist1 = []\n",
    "        #print(\"F[-1] = \", F[-1])\n",
    "        for i in (F[-1]):\n",
    "            #print(\"root i = \", i)\n",
    "            P = f - df*(z-r) \n",
    "            P = P.subs(r, i)\n",
    "            #print('P = ', P)\n",
    "            list2 = [complex(i) for i in P.as_poly(z).all_coeffs()]\n",
    "            F0 = list(set(np.roots(list2))) #temporary list to store roots of each \n",
    "            templist1.append(F0)\n",
    "            #print(\"templist1 =\", templist1)\n",
    "            #print(\"length =\",len(F0))\n",
    "            #print(\"F0 = \", F0 )\n",
    "        for i in range(len(F[-1])):\n",
    "            F.append(templist1[-i])\n",
    "        print(\"F\", x, \"=\", templist1)\n",
    "        #print(\"F list after iteration\",x, \":\")\n",
    "        #print(F)\n",
    "    #pp.pprint(F)\n"
   ]
  },
  {
   "cell_type": "code",
   "execution_count": 360,
   "metadata": {},
   "outputs": [
    {
     "name": "stdout",
     "output_type": "stream",
     "text": [
      "F list after iteration 0:\n",
      "[[0.0]]\n",
      "F 1 = [[(-0.7937005259841002+2.220446049250313e-16j), (0.39685026299205006+0.6873648184993015j), (0.39685026299204984-0.6873648184993015j)]]\n",
      "F 2 = [[(0.12161235514889653+0.5778754757887878j), (0.12161235514889673-0.5778754757887876j), (-1.433775499273944+0j)], [(-0.5612610198315577+0.18361834892139395j), (0.4396486646826609-0.3942571268673936j), (0.7168877496369728+1.2416860056949532j)], [(0.4396486646826608+0.39425712686739345j), (-0.5612610198315577-0.18361834892139406j), (0.7168877496369717-1.2416860056949524j)]]\n",
      "F 3 = [[(0.2038054643951254-0.5740916862862052j), (0.13327823699372188+0.675696465539691j), (-1.1789752311361852+0.17382274412860488j)], [(0.7400225277389862-0.9341111285322632j), (-0.5990807166228623-0.11054513354683895j), (0.5185311859078676+0.4532705717780114j)], [(0.3813449911087437-0.2772185116784228j), (-0.430750769067199+0.19164519406691127j), (1.1247374024139143+1.9481023261539407j)]]\n",
      "F 4 = [[(-0.4716281177831131-0.16267991001766427j), (0.43335561089219327+0.29359314818258453j), (1.1483062984993997-1.5320799309633149j)], [(0.18423334379451017+0.5874583105727432j), (0.1415898853210168-0.6453474272947021j), (-1.2244443040498199-0.10792858359829999j)], [(0.8282855806852907+0.9795330635190538j), (-0.5729559977105537+0.11498673843848312j), (0.5224671958870624-0.41461394429051995j)]]\n"
     ]
    }
   ],
   "source": [
    "funct(z**3-1)"
   ]
  },
  {
   "cell_type": "code",
   "execution_count": 346,
   "metadata": {},
   "outputs": [
    {
     "name": "stdout",
     "output_type": "stream",
     "text": [
      "F list after iteration 0:\n",
      "[[(-0.6687403049764211+0j), (2.220446049250313e-16+0.6687403049764216j), (0.6687403049764222+0j), (2.220446049250313e-16-0.6687403049764216j)]]\n",
      "F list after iteration 1 :\n",
      "[[(-0.6687403049764211+0j), (2.220446049250313e-16+0.6687403049764216j), (0.6687403049764222+0j), (2.220446049250313e-16-0.6687403049764216j)], [(-0.9413771714105623-2.220446049250313e-16j), (-0.32827923340912785+0.485397982429517j), (0.3810051285041454+0.3332128893509864j), (-0.3282792334091281-0.4853979824295166j), (0.3810051285041455-0.33321288935098636j)], [(-0.2630874567110516-0.9696698364403826j), (0.48785149836606867-0.734049834722229j), (-0.14664115030384256+0.653301544940696j), (0.6478999892553164+0.2580398645683981j), (-0.7260228806064909-0.043547119567008165j)], [(0.9041673538717847+0.41811747232925467j), (-0.12638850350849679+0.7538037895328626j), (-0.7196323195060488-1.016492508453734e-16j), (-0.12638850350849667-0.7538037895328623j), (0.9041673538717855-0.4181174723292545j)], [(-0.2630874567110516+0.9696698364403826j), (0.48785149836606867+0.734049834722229j), (-0.14664115030384256-0.653301544940696j), (0.6478999892553164-0.2580398645683981j), (-0.7260228806064909+0.043547119567008165j)]]\n",
      "F list after iteration 2 :\n",
      "[[(-0.6687403049764211+0j), (2.220446049250313e-16+0.6687403049764216j), (0.6687403049764222+0j), (2.220446049250313e-16-0.6687403049764216j)], [(-0.9413771714105623-2.220446049250313e-16j), (-0.32827923340912785+0.485397982429517j), (0.3810051285041454+0.3332128893509864j), (-0.3282792334091281-0.4853979824295166j), (0.3810051285041455-0.33321288935098636j)], [(-0.2630874567110516-0.9696698364403826j), (0.48785149836606867-0.734049834722229j), (-0.14664115030384256+0.653301544940696j), (0.6478999892553164+0.2580398645683981j), (-0.7260228806064909-0.043547119567008165j)], [(0.9041673538717847+0.41811747232925467j), (-0.12638850350849679+0.7538037895328626j), (-0.7196323195060488-1.016492508453734e-16j), (-0.12638850350849667-0.7538037895328623j), (0.9041673538717855-0.4181174723292545j)], [(-0.2630874567110516+0.9696698364403826j), (0.48785149836606867+0.734049834722229j), (-0.14664115030384256-0.653301544940696j), (0.6478999892553164-0.2580398645683981j), (-0.7260228806064909+0.043547119567008165j)], [(0.2999465717274553+0.727565585210836j), (-0.12071517126889987-0.6254540124682524j), (-0.7053621211950512+0.05907476618244485j), (-0.42218946438399163+1.2496148398080111j), (0.6194608642316737-0.19871388318256308j)], [(-0.9795238228229475+0.03282310184640702j), (-0.35227421776960555+0.4425628305755346j), (0.3461508478197887+0.3354367232482953j), (0.3721897248348597-0.30001708444137704j), (-0.294071132820209-0.4563716717701004j)], [(0.93893727706418-0.5751673731671589j), (0.8381967969005706+0.3201751621317388j), (-0.12219921071574925-0.7861159882043367j), (-0.12615373165914479+0.7270565513438176j), (-0.7189061450207112-0.008498182814557036j)], [(-0.3546251910974072-0.9740718637064562j), (-0.7295656869367335-0.05404987832185515j), (0.6190849271279565+0.25453577002740263j), (-0.1524293376235113+0.6376126735033384j), (0.43423385064989256-0.6806536326782996j)], [(0.791091703878086+0.9389302385452118j), (-0.11888328919468061-0.686357130464014j), (-0.08667128223171179+0.8737411280178632j), (0.7377860155116347-0.23293111922017704j), (-0.7135087750057436+0.024179176523903733j)]]\n",
      "F list after iteration 3 :\n",
      "[[(-0.6687403049764211+0j), (2.220446049250313e-16+0.6687403049764216j), (0.6687403049764222+0j), (2.220446049250313e-16-0.6687403049764216j)], [(-0.9413771714105623-2.220446049250313e-16j), (-0.32827923340912785+0.485397982429517j), (0.3810051285041454+0.3332128893509864j), (-0.3282792334091281-0.4853979824295166j), (0.3810051285041455-0.33321288935098636j)], [(-0.2630874567110516-0.9696698364403826j), (0.48785149836606867-0.734049834722229j), (-0.14664115030384256+0.653301544940696j), (0.6478999892553164+0.2580398645683981j), (-0.7260228806064909-0.043547119567008165j)], [(0.9041673538717847+0.41811747232925467j), (-0.12638850350849679+0.7538037895328626j), (-0.7196323195060488-1.016492508453734e-16j), (-0.12638850350849667-0.7538037895328623j), (0.9041673538717855-0.4181174723292545j)], [(-0.2630874567110516+0.9696698364403826j), (0.48785149836606867+0.734049834722229j), (-0.14664115030384256-0.653301544940696j), (0.6478999892553164-0.2580398645683981j), (-0.7260228806064909+0.043547119567008165j)], [(0.2999465717274553+0.727565585210836j), (-0.12071517126889987-0.6254540124682524j), (-0.7053621211950512+0.05907476618244485j), (-0.42218946438399163+1.2496148398080111j), (0.6194608642316737-0.19871388318256308j)], [(-0.9795238228229475+0.03282310184640702j), (-0.35227421776960555+0.4425628305755346j), (0.3461508478197887+0.3354367232482953j), (0.3721897248348597-0.30001708444137704j), (-0.294071132820209-0.4563716717701004j)], [(0.93893727706418-0.5751673731671589j), (0.8381967969005706+0.3201751621317388j), (-0.12219921071574925-0.7861159882043367j), (-0.12615373165914479+0.7270565513438176j), (-0.7189061450207112-0.008498182814557036j)], [(-0.3546251910974072-0.9740718637064562j), (-0.7295656869367335-0.05404987832185515j), (0.6190849271279565+0.25453577002740263j), (-0.1524293376235113+0.6376126735033384j), (0.43423385064989256-0.6806536326782996j)], [(0.791091703878086+0.9389302385452118j), (-0.11888328919468061-0.686357130464014j), (-0.08667128223171179+0.8737411280178632j), (0.7377860155116347-0.23293111922017704j), (-0.7135087750057436+0.024179176523903733j)], [(-0.03213921147937383+0.826861742563097j), (0.758824258760577-0.17753905729598168j), (-0.09712420429964821-0.6890524447506641j), (1.0638141123509464+1.193114298843428j), (-0.7045103254848957+0.020278258821634264j)], [(-0.971525587344992+0.017633742961819965j), (-0.3080767056742366-0.4605229093574942j), (-0.3398549312691814+0.4537688892040823j), (0.3567399638906911+0.33062472936524556j), (0.3708312916405405-0.3112804815187733j)], [(0.9976625876703851-0.5433150586873912j), (0.8719975022779907+0.3069269823192511j), (-0.11244157413527267-0.7787230665413237j), (-0.1185188270631662+0.7308462680047849j), (-0.7164671693603929-0.006899024120542697j)], [(0.37346913501790985+0.7750247656484613j), (0.6395159008954286-0.22004239616120946j), (-0.12911319549232878-0.6405877878513807j), (-0.27838757101819556+1.127530691920958j), (-0.7138233721924541+0.05025113646549866j)], [(-0.33414663255123833-0.9945707598333571j), (0.4341134271566214-0.70128286787774j), (-0.7265813708513856-0.05218017586979498j), (0.6261019928328109+0.24993681323279862j), (-0.14809152808016166+0.640150577268076j)]]\n",
      "F list after iteration 4 :\n",
      "[[(-0.6687403049764211+0j), (2.220446049250313e-16+0.6687403049764216j), (0.6687403049764222+0j), (2.220446049250313e-16-0.6687403049764216j)], [(-0.9413771714105623-2.220446049250313e-16j), (-0.32827923340912785+0.485397982429517j), (0.3810051285041454+0.3332128893509864j), (-0.3282792334091281-0.4853979824295166j), (0.3810051285041455-0.33321288935098636j)], [(-0.2630874567110516-0.9696698364403826j), (0.48785149836606867-0.734049834722229j), (-0.14664115030384256+0.653301544940696j), (0.6478999892553164+0.2580398645683981j), (-0.7260228806064909-0.043547119567008165j)], [(0.9041673538717847+0.41811747232925467j), (-0.12638850350849679+0.7538037895328626j), (-0.7196323195060488-1.016492508453734e-16j), (-0.12638850350849667-0.7538037895328623j), (0.9041673538717855-0.4181174723292545j)], [(-0.2630874567110516+0.9696698364403826j), (0.48785149836606867+0.734049834722229j), (-0.14664115030384256-0.653301544940696j), (0.6478999892553164-0.2580398645683981j), (-0.7260228806064909+0.043547119567008165j)], [(0.2999465717274553+0.727565585210836j), (-0.12071517126889987-0.6254540124682524j), (-0.7053621211950512+0.05907476618244485j), (-0.42218946438399163+1.2496148398080111j), (0.6194608642316737-0.19871388318256308j)], [(-0.9795238228229475+0.03282310184640702j), (-0.35227421776960555+0.4425628305755346j), (0.3461508478197887+0.3354367232482953j), (0.3721897248348597-0.30001708444137704j), (-0.294071132820209-0.4563716717701004j)], [(0.93893727706418-0.5751673731671589j), (0.8381967969005706+0.3201751621317388j), (-0.12219921071574925-0.7861159882043367j), (-0.12615373165914479+0.7270565513438176j), (-0.7189061450207112-0.008498182814557036j)], [(-0.3546251910974072-0.9740718637064562j), (-0.7295656869367335-0.05404987832185515j), (0.6190849271279565+0.25453577002740263j), (-0.1524293376235113+0.6376126735033384j), (0.43423385064989256-0.6806536326782996j)], [(0.791091703878086+0.9389302385452118j), (-0.11888328919468061-0.686357130464014j), (-0.08667128223171179+0.8737411280178632j), (0.7377860155116347-0.23293111922017704j), (-0.7135087750057436+0.024179176523903733j)], [(-0.03213921147937383+0.826861742563097j), (0.758824258760577-0.17753905729598168j), (-0.09712420429964821-0.6890524447506641j), (1.0638141123509464+1.193114298843428j), (-0.7045103254848957+0.020278258821634264j)], [(-0.971525587344992+0.017633742961819965j), (-0.3080767056742366-0.4605229093574942j), (-0.3398549312691814+0.4537688892040823j), (0.3567399638906911+0.33062472936524556j), (0.3708312916405405-0.3112804815187733j)], [(0.9976625876703851-0.5433150586873912j), (0.8719975022779907+0.3069269823192511j), (-0.11244157413527267-0.7787230665413237j), (-0.1185188270631662+0.7308462680047849j), (-0.7164671693603929-0.006899024120542697j)], [(0.37346913501790985+0.7750247656484613j), (0.6395159008954286-0.22004239616120946j), (-0.12911319549232878-0.6405877878513807j), (-0.27838757101819556+1.127530691920958j), (-0.7138233721924541+0.05025113646549866j)], [(-0.33414663255123833-0.9945707598333571j), (0.4341134271566214-0.70128286787774j), (-0.7265813708513856-0.05218017586979498j), (0.6261019928328109+0.24993681323279862j), (-0.14809152808016166+0.640150577268076j)], [(0.2813951063871886-0.7100748240525174j), (0.6123096407394305+0.19152328563046783j), (-0.1175710915169902+0.619971018919559j), (-0.7017515979415112-0.062249715235244016j), (-0.4920653483571671-1.2823832150539618j)], [(-0.35597003920602965+0.9654046312011677j), (0.4375768704144145+0.6754314888265408j), (0.6180102105291494-0.25694386580460876j), (-0.1540287479772349-0.6376993824683637j), (-0.7307027038605014+0.053995349830358606j)], [(0.9232652900990361+0.5722469460741064j), (0.8329181772269113-0.32708114282244005j), (-0.12550413257551216+0.7860920638258047j), (-0.12836821041127877-0.727313941372519j), (-0.7196836332981434+0.008477090836046064j)], [(-0.9791345625885852-0.039389613876420815j), (-0.28887429723870356+0.45776120116620916j), (0.3436221397951964-0.33905309340148204j), (-0.35863989976265037-0.4411924702696828j), (0.37479990623051146+0.29664875654413186j)], [(0.7529140166930925-0.898402250018507j), (-0.10216021347586136-0.8810711272838759j), (0.7308075266714722+0.24269688094868735j), (-0.12343581506725905+0.6852583359217687j), (-0.7154837308756684-0.02508542441524705j)]]\n"
     ]
    }
   ],
   "source": [
    "funct(z**5 -z - 1)"
   ]
  },
  {
   "cell_type": "code",
   "execution_count": 263,
   "metadata": {},
   "outputs": [],
   "source": [
    "#i = 0.39685026299204995+0.6873648184993018j\n",
    "#print(type(i))\n",
    "#P = f - df*(z-r) \n",
    "#P = P.subs(r, i)\n",
    "#print(\"P =\", P)\n",
    "#l = (P.as_poly(z).all_coeffs())\n",
    "#print(\"l= \",l)\n",
    "#for x in l:\n",
    "#    if \"*I\" in x:\n",
    "#        x = complex(x)\n",
    "#print(complex((P.as_poly(z).all_coeffs()[1])))\n",
    "#print(type((P.as_poly(z).all_coeffs()[1])))\n",
    "#F0 = list(set(np.roots(P.as_poly(z).all_coeffs())))\n",
    "#F0"
   ]
  },
  {
   "cell_type": "code",
   "execution_count": null,
   "metadata": {},
   "outputs": [],
   "source": []
  },
  {
   "cell_type": "code",
   "execution_count": null,
   "metadata": {},
   "outputs": [],
   "source": []
  },
  {
   "cell_type": "code",
   "execution_count": null,
   "metadata": {},
   "outputs": [],
   "source": []
  },
  {
   "cell_type": "code",
   "execution_count": null,
   "metadata": {},
   "outputs": [],
   "source": []
  },
  {
   "cell_type": "code",
   "execution_count": null,
   "metadata": {},
   "outputs": [],
   "source": []
  },
  {
   "cell_type": "markdown",
   "metadata": {},
   "source": [
    "----\n",
    "\n",
    "**P2)** Write a Python function $f(n)$ that returns a Sympy polynomial that is the degree $2n$ Taylor expansion of the $\\cos x$ function.\n",
    "\n",
    "$$T^{2n}(x) = 1 - \\frac{x^2}{2!}x^2 + \\frac{x^4}{4!}x^4 + \\cdots + (-1)^n\\frac{x^{2n}}{(2n)!}x^{2n}$$\n",
    "\n",
    "Print out these polynomials for $n=1,2,3,4,5$ using sympy's **pprint** command.\n",
    "\n",
    "Use Sympy to compute the integrals:\n",
    "$$\\int_0^x \\cos(x^2) dx$$ \n",
    "$$\\int_0^x T^{2n}(x^2) dx \\text{  for  } n=1,2,3,4,5.$$\n",
    "\n",
    "Put the plots of these functions in one common matplotlib plot, so that they can be compared.  Make the domain of the plot $[-3.4,3.4]$.  How big do you need to make $n$ to ensure these two plots look the same on this domain?\n"
   ]
  },
  {
   "cell_type": "code",
   "execution_count": null,
   "metadata": {},
   "outputs": [],
   "source": []
  },
  {
   "cell_type": "code",
   "execution_count": null,
   "metadata": {},
   "outputs": [],
   "source": []
  },
  {
   "cell_type": "code",
   "execution_count": null,
   "metadata": {},
   "outputs": [],
   "source": []
  },
  {
   "cell_type": "markdown",
   "metadata": {},
   "source": [
    "----\n",
    "\n",
    "**P3)** Create a function **historic_plot(city, feat)** that takes as input a city name (eg: **w.sask** and **w.vic** for Saskatoon and Victoria respectively), and a weather feature key (eg: **Mean Temp (°C)** or **Total Rain (mm)**).  The function will create a matplotlib plot (a point plot) where the x-axis represents the date of the measurement (i.e. the scale will be in days), and the y-axis represents the measurement corresponding to the key. Include the linear least-squares approximations in your plot.  Label the linear least square fit i.e. $y=ax+b$ with $a,b$ the appropriate coefficients, and put in the legend. Include in your title the yearly increase in the readings, i.e. this should be $365 \\cdot a$.  Use the library from lecture 6c.\n",
    "\n",
    "Include the output of **historic_plot** for all four cities, with the weather feature **\"Mean Temp (°C)\"** in your notebooks, using matplotlib in **inline** mode.  After each plot, print to screen the coefficients of your least-square fit, i.e. use a **print(c)** command, if you use the same notation as in Lecture 6c.   \n",
    "\n",
    "How do your trend lines compare with the global warming predictions we see in newspaper articles?\n",
    "\n",
    "**Pre-grading script:** The script will check for your least-square coefficients for the four plots, i.e. the **print(c)** output. c should be a shape (2,1) numpy array, i.e. a 2-dimensional column vector."
   ]
  },
  {
   "cell_type": "code",
   "execution_count": 2,
   "metadata": {},
   "outputs": [],
   "source": [
    "import pprint as pp\n",
    "import datetime as dt ## library to manipulate dates and times\n",
    "import matplotlib.pyplot as plt\n",
    "import os\n",
    "import fnmatch as fn\n",
    "import scipy.optimize \n",
    "%matplotlib inline\n",
    "\n",
    "def parse_fname(fname):\n",
    "    '''\n",
    "    Parse city data, taken from lecture\n",
    "    '''\n",
    "    with open(fname, encoding='utf8') as f:\n",
    "        content = f.read().split('\\n')\n",
    "        '''this splits the string.  [typical way of doing multi-line comments.]\n",
    "        ## converts the file into one big text string.\n",
    "        ## and split by lines\n",
    "        ## two things you can do. rather than use read() command you can use readlines()'''\n",
    "        ## problem in the new files the header is only 5 lines long\n",
    "        leglines = [i for i in range(len(content)) if 'legend' in content[i].lower()]\n",
    "        if len(leglines)!=1:\n",
    "            print(\"Error not unique legend line.\")\n",
    "            return(None)\n",
    "        \n",
    "        ID_pairs = [x.replace('\"', '').replace('\\ufeff', '').split(',')\\\n",
    "                    for x in content[:leglines[0]-1]]\n",
    "        fdat = dict(ID_pairs)\n",
    "        to_float=['Elevation', 'Latitude', 'Longitude']\n",
    "        to_int = ['WMO Identifier']\n",
    "        for k in to_float:\n",
    "            if k in fdat.keys():\n",
    "                fdat[k] = float(fdat[k])\n",
    "        for k in to_int:\n",
    "            if k in fdat.keys():\n",
    "                if fdat[k]=='':\n",
    "                    del fdat[k] ## removal of key from dictionary \n",
    "                else:\n",
    "                    fdat[k] = int(fdat[k])\n",
    "        ## next: let's load the keys for the row data.     \n",
    "        keylines = [i for i in range(len(content)) if 'date/time' in\\\n",
    "                   content[i].lower()]\n",
    "        if len(keylines)!=1:\n",
    "            print('Error! Need only one key line.')\n",
    "            return(None)\n",
    "        ## parse the row the row data, i.e. all data from \"keylines\" down.\n",
    "        keys = content[keylines[0]].replace('\"','').split(',')\n",
    "        ## now the remaining rows, we want to put into a list of dictionaries\n",
    "        fdat['rows']=[]\n",
    "        for L in content[keylines[0]+1:]:\n",
    "            L=L.replace('\"','').split(',')\n",
    "            if len(L)!=len(keys):\n",
    "                continue\n",
    "            ignore_keys = ['Year', 'Month', 'Day']\n",
    "            X = {keys[i]:L[i] for i in range(len(keys)) if L[i]!=''\\\n",
    "                 and (keys[i] not in ignore_keys)}\n",
    "            ## make the data more useful \n",
    "            to_date = ['Date/Time']\n",
    "            to_float = ['Max Temp (°C)', 'Min Temp (°C)', 'Mean Temp (°C)',\\\n",
    "                       'Total Precip (mm)', 'Total Rain (mm)', 'Total Snow (cm)',\\\n",
    "                       'Snow on Grnd (cm)', 'Cool Deg Days (°C)', 'Heat Deg Days (°C)']\n",
    "            \n",
    "            for k in to_date:\n",
    "                X[k] = dt.datetime.strptime(X[k], \"%Y-%m-%d\").date()\n",
    "            for k in to_float:\n",
    "                if k in X.keys():\n",
    "                    X[k] = float(X[k])\n",
    "            \n",
    "            fdat['rows'].append(X)\n",
    "        return(fdat)    "
   ]
  },
  {
   "cell_type": "code",
   "execution_count": 3,
   "metadata": {},
   "outputs": [],
   "source": [
    "def historic_plot(city, feat):\n",
    "    '''\n",
    "    Input: \n",
    "        - city: a city name (eg: w.sask and w.vic for Saskatoon and Victoria respectively)\n",
    "        - feat: a weather feature key\n",
    "    Output:\n",
    "        The function will create a matplotlib plot (a point plot) where:\n",
    "        - x-axis represents the date of the measurement, \n",
    "        - y-axis represents the measurement corresponding to the key\n",
    "        Include the linear and quadratic least-squares approximations\n",
    "    '''\n",
    "    route = '../../mp248-course/Data/CWD/'\n",
    "    cityfile_list = [\"w.vic\", \"w.sask\", \"w.cal\", \"w.edm\"]\n",
    "    if (city in cityfile_list) == True:\n",
    "        wsubdirs = fn.filter(os.listdir(route), city)\n",
    "    else:\n",
    "        print(\"file not in database or filename is wrong\")\n",
    "        return\n",
    "    \n",
    "    mdat=dict()\n",
    "    for wd in wsubdirs:\n",
    "        files = fn.filter(os.listdir(route+wd), \"eng-daily*.csv\")\n",
    "        for wdf in files:\n",
    "            fname = route+wd+'/'+wdf\n",
    "            pf = parse_fname(fname)\n",
    "            for v in pf['rows']:\n",
    "                K = (wd, v['Date/Time'])\n",
    "                mdat[K] = v\n",
    "    \n",
    "    k1 = 'Date/Time'\n",
    "    k2 = feat\n",
    "    \n",
    "    MM=[(v[k1], v[k2]) for k,v in mdat.items() if k[0]== city\\\n",
    "    and (k1 in v.keys()) and (k2 in v.keys())]\n",
    "\n",
    "    \n",
    "\n",
    "    # Plot\n",
    "    plt.plot([x[0] for x in MM], [x[1] for x in MM], 'ro')\n",
    "    plt.xlabel(k1)\n",
    "    plt.ylabel(k2)\n",
    "    # Linear and quadratic least square approximations\n",
    "    #scipy.optimize.curve_fit(func ,[x[0] for x in MM], [x[1] for x in MM])"
   ]
  },
  {
   "cell_type": "code",
   "execution_count": 4,
   "metadata": {},
   "outputs": [
    {
     "data": {
      "image/png": "[encoded data removed]",
      "text/plain": [
       "<Figure size 432x288 with 1 Axes>"
      ]
     },
     "metadata": {
      "needs_background": "light"
     },
     "output_type": "display_data"
    }
   ],
   "source": [
    "historic_plot('w.vic', 'Mean Temp (°C)')"
   ]
  },
  {
   "cell_type": "code",
   "execution_count": 5,
   "metadata": {},
   "outputs": [
    {
     "data": {
      "image/png": "[encoded data removed]",
      "text/plain": [
       "<Figure size 432x288 with 1 Axes>"
      ]
     },
     "metadata": {
      "needs_background": "light"
     },
     "output_type": "display_data"
    }
   ],
   "source": [
    "historic_plot('w.cal', 'Mean Temp (°C)')"
   ]
  },
  {
   "cell_type": "code",
   "execution_count": 6,
   "metadata": {},
   "outputs": [
    {
     "data": {
      "image/png": "[encoded data removed]",
      "text/plain": [
       "<Figure size 432x288 with 1 Axes>"
      ]
     },
     "metadata": {
      "needs_background": "light"
     },
     "output_type": "display_data"
    }
   ],
   "source": [
    "historic_plot('w.edm', 'Mean Temp (°C)')"
   ]
  },
  {
   "cell_type": "code",
   "execution_count": 12,
   "metadata": {},
   "outputs": [
    {
     "data": {
      "image/png": "[encoded data removed]",
      "text/plain": [
       "<Figure size 432x288 with 1 Axes>"
      ]
     },
     "metadata": {
      "needs_background": "light"
     },
     "output_type": "display_data"
    }
   ],
   "source": [
    "historic_plot('w.edm', 'Mean Temp (°C)')"
   ]
  },
  {
   "cell_type": "markdown",
   "metadata": {},
   "source": []
  },
  {
   "cell_type": "markdown",
   "metadata": {},
   "source": [
    "----\n",
    "\n",
    "**P4)** Write a function **vs_plot(cit1, cit2, wk)** that will take as input three arguments.  The first two arguments are city names in our 6b convention (eg: **w.sask** and **w.vic** for Saskatoon and Victoria respectively), and the third argument would be a key for a floating-point data type from **mdat** (eg: **Mean Temp (°C)** or **Total Rain (mm)**).  Your function would then create a matplotlib plot for that weather feature, of one city's weather vs. the other for all the dates we have in common in our data set.  Put the data for **cit1** on the x-axis, and **cit2** on the y-axis.  Include a linear and quadratic least-squares approximation. Use the library from Lecture 6c.\n",
    "\n",
    "Include the output for these three commands **vs_plot(\"w.vic\", \"w.cal\", \"Mean Temp (°C)\")**, **vs_plot(\"w.cal\", \"w.edm\", \"Mean Temp (°C)\")**, **vs_plot(\"w.edm\", \"w.sask\", \"Mean Temp (°C)\")** in your notebook.  In each, include a **print(c)** statement for your least square coefficients. \n",
    "\n",
    "**Pre-grading script:** Will check for your least-squares coefficients for the above four plots.\n",
    "\n",
    "For problems P3 and P4, import and use the wdat library we created in Lecture 7c."
   ]
  },
  {
   "cell_type": "code",
   "execution_count": 8,
   "metadata": {},
   "outputs": [],
   "source": [
    "def vs_plot(cit1, cit2, wk):\n",
    "    '''\n",
    "    Input:\n",
    "        - cit1: First city in form of its directory name (eg. w.vic for Victoria)\n",
    "        - cit2: Second city in form of its directory name (eg. w.vic for Victoria)\n",
    "        - wk: floating-point data type (eg: Mean Temp (°C) or Total Rain (mm))\n",
    "    Output:\n",
    "        - Matplotlib plot: cit1's weather feature vs cit2's weather feature for all the dates \n",
    "          we have in common in our data set\n",
    "        - For this ex. we use mean temperature.\n",
    "    '''\n",
    "    route = '../../mp248-course/Data/CWD/'\n",
    "    \n",
    "    cityfile_list = [\"w.vic\", \"w.sask\", \"w.cal\", \"w.edm\"]\n",
    "    if (cit1 and cit2 in cityfile_list) == True:\n",
    "        wsubdirs1 = fn.filter(os.listdir(route), cit1)\n",
    "        wsubdirs2 = fn.filter(os.listdir(route), cit2)\n",
    "    else:\n",
    "        print(\"file not in database or filename is wrong\")\n",
    "        return\n",
    "\n",
    "    mdat_1=dict()\n",
    "    for wd in wsubdirs1:\n",
    "        files_1 = fn.filter(os.listdir(route+wd), \"eng-daily*.csv\")\n",
    "        for wdf in files_1:\n",
    "            fname_1 = route+wd+'/'+wdf\n",
    "            pf_1 = parse_fname(fname_1)\n",
    "            for v in pf_1['rows']:\n",
    "                K1 = (wd, v['Date/Time'])\n",
    "                mdat_1[K1] = v\n",
    "    \n",
    "    mdat_2=dict()\n",
    "    for wd in wsubdirs2:\n",
    "        files_2 = fn.filter(os.listdir(route+wd), \"eng-daily*.csv\")\n",
    "        for wdf in files_2:\n",
    "            fname_2 = route+wd+'/'+wdf\n",
    "            pf_2 = parse_fname(fname_2)\n",
    "            for v in pf_2['rows']:\n",
    "                K2 = (wd, v['Date/Time'])\n",
    "                mdat_2[K2] = v\n",
    "                \n",
    "    k1 = 'Date/Time'\n",
    "    k2 = wk\n",
    "    \n",
    "\n",
    "    MM1=[(v[k1], v[k2]) for k,v in mdat_1.items() if k[0]== cit1 \\\n",
    "        and (k1 in v.keys()) and (k2 in v.keys())]\n",
    "    MM2=[(v[k1], v[k2]) for k,v in mdat_2.items() if k[0]== cit2 \\\n",
    "    and (k1 in v.keys()) and (k2 in v.keys())]\n",
    "   \n",
    "    \n",
    "    # Create a new list to store in data that has common dates\n",
    "    common_dates_data1 = []\n",
    "    common_dates_data2 = []\n",
    "    \n",
    "    # Create a list to store all the dates \n",
    "    dates1 = []\n",
    "    dates2 = []\n",
    "    \n",
    "    # Get common date list for two data\n",
    "    for i in range(len(MM1)):\n",
    "        dates1.append(MM1[i][0])\n",
    "    for i in range(len(MM2)):\n",
    "        dates2.append(MM2[i][0])\n",
    "        \n",
    "    # Using the common date list, store the data into a new list\n",
    "    for i in range(len(dates1)):\n",
    "        if dates1[i] in dates2:\n",
    "            common_dates_data1.append(MM1[i])\n",
    "    for i in range(len(dates2)):\n",
    "        if dates2[i] in dates1:\n",
    "            common_dates_data2.append(MM2[i])\n",
    "    \n",
    "    common_dates_data1 = sorted(common_dates_data1)\n",
    "    common_dates_data2 = sorted(common_dates_data2)\n",
    "    \n",
    "    # Plot\n",
    "    #for i in range(len(common_dates_data1)):\n",
    "    plt.plot([common_dates_data1[i][1] for i in range(len(common_dates_data1))], \\\n",
    "             [common_dates_data2[i][1] for i in range(len(common_dates_data1))], 'ro')\n",
    "    plt.xlabel(cit1)\n",
    "    plt.ylabel(cit2)"
   ]
  },
  {
   "cell_type": "code",
   "execution_count": 9,
   "metadata": {},
   "outputs": [
    {
     "data": {
      "image/png": "[encoded data removed]",
      "text/plain": [
       "<Figure size 432x288 with 1 Axes>"
      ]
     },
     "metadata": {
      "needs_background": "light"
     },
     "output_type": "display_data"
    }
   ],
   "source": [
    "vs_plot(\"w.vic\", \"w.cal\", \"Mean Temp (°C)\")"
   ]
  },
  {
   "cell_type": "code",
   "execution_count": 10,
   "metadata": {},
   "outputs": [
    {
     "data": {
      "image/png": "[encoded data removed]",
      "text/plain": [
       "<Figure size 432x288 with 1 Axes>"
      ]
     },
     "metadata": {
      "needs_background": "light"
     },
     "output_type": "display_data"
    }
   ],
   "source": [
    "vs_plot(\"w.cal\", \"w.edm\", \"Mean Temp (°C)\")"
   ]
  },
  {
   "cell_type": "code",
   "execution_count": 11,
   "metadata": {},
   "outputs": [
    {
     "data": {
      "image/png": "[encoded data removed]",
      "text/plain": [
       "<Figure size 432x288 with 1 Axes>"
      ]
     },
     "metadata": {
      "needs_background": "light"
     },
     "output_type": "display_data"
    }
   ],
   "source": [
    "vs_plot(\"w.edm\", \"w.sask\", \"Mean Temp (°C)\")"
   ]
  },
  {
   "cell_type": "markdown",
   "metadata": {},
   "source": [
    "----\n",
    "\n",
    "**P5)**  In this problem we ask you to make a step towards an improved **voronoi_diagram** algorithm. \n",
    "\n",
    "If you recall, in class we drew the voronoi diagram of a list of $n$ points in the plane. \n",
    "We followed that with a primitive (and flawed) algorithm \n",
    "to find the vertices where any three regions meet.   In this problem, we ask you to find a \n",
    "better algorithm to find those vertices, and ultimately a better way to compute the diagram.\n",
    "\n",
    "You will create a new **voronoi_diagram** algorithm. This algorithm will take as input an $(n,2)$-shaped numpy\n",
    "array, considered to be a list of $n$ points **PTS** in the plane. \n",
    "\n",
    "In your plot, include:\n",
    "\n",
    "1. The input points, PTS, in green.\n",
    "2. The 'triple points' that are equidistant from the three closest points of PTS. After completing steps (3) and (4) these points will be clear and there will be no need to label them.  But if you can not complete steps (3) and (4), plot these points in black and label them with the set of the three closest points, eg: {a,b,c} meaning PTS[a], PTS[b] and PTS[c] are equidistant and closest.\n",
    "3. The lines between the triple points. Drawn in gray. i.e. these are lines that are equidistant from the two closest points of PTS.\n",
    "4. The lines between the triple points and the boundary of your region. Drawn in red.\n",
    "5. Labels on the points PTS, as well as the line segments (3) and (4)."
   ]
  },
  {
   "cell_type": "markdown",
   "metadata": {},
   "source": [
    "Provided you choose the points PTS to have their coordinates in $[0,1]$ as in class, you can choose your \n",
    "region to be the square $[0,1]^2$. \n",
    "\n",
    "The line segments in (3) and (4) represent the regions in the plane that are equidistant to two points of PTS, \n",
    "yet all the remaining points of PTS are further-away than those two equidistant points.\n",
    "\n",
    "Label your line segments in the notation $\\{a,b\\}$ meaning these are the points in the plane equidistant from PTS[a] and PTS[b], yet all the remaining points of PTS are further away.\n",
    "\n",
    "Use the above ideas to write your voronoi_diagram code.  Include several plots, for various random input points.\n",
    "\n",
    "If you follow all the above rules, your output should look like this. If the **.svg** image does not display, uncomment the **.png** display.\n",
    "\n",
    "``` <img src='voronoi.png'/>```\n",
    "<img src='voronoi.svg'/>"
   ]
  },
  {
   "cell_type": "code",
   "execution_count": null,
   "metadata": {},
   "outputs": [],
   "source": []
  },
  {
   "cell_type": "code",
   "execution_count": null,
   "metadata": {},
   "outputs": [],
   "source": []
  },
  {
   "cell_type": "code",
   "execution_count": null,
   "metadata": {},
   "outputs": [],
   "source": []
  },
  {
   "cell_type": "code",
   "execution_count": null,
   "metadata": {},
   "outputs": [],
   "source": []
  },
  {
   "cell_type": "markdown",
   "metadata": {},
   "source": []
  },
  {
   "cell_type": "code",
   "execution_count": null,
   "metadata": {},
   "outputs": [],
   "source": []
  },
  {
   "cell_type": "code",
   "execution_count": null,
   "metadata": {},
   "outputs": [],
   "source": []
  },
  {
   "cell_type": "code",
   "execution_count": null,
   "metadata": {},
   "outputs": [],
   "source": []
  }
 ],
 "metadata": {
  "kernelspec": {
   "display_name": "Python 3",
   "language": "python",
   "name": "python3"
  },
  "language_info": {
   "codemirror_mode": {
    "name": "ipython",
    "version": 3
   },
   "file_extension": ".py",
   "mimetype": "text/x-python",
   "name": "python",
   "nbconvert_exporter": "python",
   "pygments_lexer": "ipython3",
   "version": "3.6.7"
  }
 },
 "nbformat": 4,
 "nbformat_minor": 2
}
