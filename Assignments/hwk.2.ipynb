{
 "cells": [
  {
   "cell_type": "markdown",
   "metadata": {},
   "source": [
    "# Homework Assignment 2\n",
    "\n",
    "Please save your work in your personal **mp248** repository.  The pre-grading script has been running since 9pm on October 10th. It is putting the feedback in **Task 5** in your grades on CourseSpaces.  \n",
    "\n",
    "The assignment is due at 11:59pm on Friday October 25th. When you push your assignment to your repository, please save it in **mp248/Assignments/hwk.2.ipynb**."
   ]
  },
  {
   "cell_type": "markdown",
   "metadata": {},
   "source": [
    "----\n",
    "\n",
    "**P1)** Develop a function similar to **cbasinPlot** from Lecture 5a, but this plot will only show the points where Newton's method eventually fails. \n",
    "\n",
    "Recall, Newton's method for solving for the roots $f(z) = 0$ is given by iterating the **Newton Iterator** $N(z)$ from an initial guess $z_0$.\n",
    "\n",
    "$$ N(z) =  z - \\frac{f(z)}{f'(z)}$$\n",
    "\n",
    "We say Newton's method fails **immediately** with initial condition $z_0$ if the above expression does not make sense, i.e. $f'(z_0)=0$. \n",
    "\n",
    "We say Newton's method fails in **one step** at $z_0$ if, after applying the Newton iterator once, Newton's method fails, i.e. $f'(N(z_0)) = 0$.  \n",
    "\n",
    "We say Newton's method fails **after $n$ steps** if after applying the Newton iterator $n$ times, you get a number where the Newton Iterator is undefined.   To give this some notation, define $N^{(2)}(z) = N(N(z))$, $N^{(3)}(z) = N(N(N(z)))$, etc, $N^{(n)}(z) = N(N(\\cdots N(z) \\cdots ))$. Thus the $n$-step failure set $F(n)$ is defined as \n",
    "\n",
    "$$F(n) = \\{ z_0 : f'(N^{(n)}(z_0))=0 \\}$$\n",
    "\n",
    "Thus, $N^{-1}(F(n)) = F(n+1)$, i.e. we have a recursively-defined set $F(n)$.\n",
    "\n",
    "(a) Plot the sets $F(0), F(1), F(2), F(3), \\cdots$ in the region $-1.3 \\leq z.real \\leq 1.3$, $-1.3 \\leq z.imag \\leq 1.3$ for $f(z)=z^3-1$.\n",
    "\n",
    "(b) Do the same for $f(z) = z^5-z-1$.\n",
    "\n",
    "**Hint:** For this problem you will need to iteratively solve for the roots of various polynomial equations. I suggest using **np.roots** or **mpmath.polyroots**, like in Lecture 3c. A sympy polynomial $p(z)$ can be converted to a numpy/mpmath polynomial via `p.as_poly(z).all_coeffs()`. See the example below.\n",
    "\n",
    "**Pre-grading script:** Somewhere in your code, please print out the entries of $F(0)$, $F(1)$ and $F(2)$, as a set of complex floats. When printing these complex float (say for example **z**) please print as **np.around(z,5)**, i.e. have five significant digits in your output. eg: **str(np.around(np.pi,5))==\"3.14159\"**.  Do this both for (a) $f(z)=z^3-1$ and part (b) with $f(z)=z^5-z-1$.  The pre-grading script will search for these answers and give you feedback in **Task 5**. "
   ]
  },
  {
   "cell_type": "code",
   "execution_count": 1,
   "metadata": {},
   "outputs": [],
   "source": [
    "import matplotlib.pyplot as plt\n",
    "%matplotlib inline\n",
    "import sympy as sp\n",
    "import numpy as np\n",
    "import itertools as it ## gives some nice ways of doing complex iterations\n",
    "import pprint as pp\n",
    "z=sp.Symbol('z')"
   ]
  },
  {
   "cell_type": "code",
   "execution_count": 2,
   "metadata": {},
   "outputs": [
    {
     "name": "stdout",
     "output_type": "stream",
     "text": [
      " 2    \n",
      "z  + 1\n",
      "Numpy format:  [1, 0, 1]\n",
      "Roots:  [-0.+1.j  0.-1.j]\n"
     ]
    }
   ],
   "source": [
    "## Example\n",
    "## immediate failure points, roots of f'(z)=0\n",
    "## n-th order failure will have form\n",
    "## f(z)+f'(z)(p-z)=0 where p is (n-1)-th order.\n",
    "\n",
    "import sympy as sp\n",
    "import numpy as np\n",
    "import matplotlib.pyplot as plt\n",
    "%matplotlib inline\n",
    "\n",
    "z = sp.Symbol('z')\n",
    "P = (z**2+1)\n",
    "npp = P.as_poly(z).all_coeffs()\n",
    "sp.pprint(P)\n",
    "print(\"Numpy format: \", npp)\n",
    "print(\"Roots: \", np.roots(npp))"
   ]
  },
  {
   "cell_type": "markdown",
   "metadata": {},
   "source": [
    "Note, $F(n+1) = N^{-1}(F(n))$ so...\n",
    "$$F(n+1) = \\{ z : f(z)-f'(z)(z-r) = 0, r \\in F(n) \\}$$"
   ]
  },
  {
   "cell_type": "code",
   "execution_count": 3,
   "metadata": {},
   "outputs": [
    {
     "name": "stdout",
     "output_type": "stream",
     "text": [
      "[[0.0]]\n"
     ]
    }
   ],
   "source": [
    "P = z**3 - 1\n",
    "\n",
    "## points of failure list F[n]\n",
    "F = []\n",
    "\n",
    "# all_coeffs(): Returns all coefficients from a univariate polynomial f\n",
    "# as_poly(*gens, **args): Converts self to a polynomial or returns None\n",
    "F0 = list(set(np.roots(P.diff(z).as_poly(z).all_coeffs())))\n",
    "F.append(F0)\n",
    "print(F)\n",
    "##i.e. it initially fails only at zero."
   ]
  },
  {
   "cell_type": "markdown",
   "metadata": {},
   "source": [
    "Working starts here:"
   ]
  },
  {
   "cell_type": "code",
   "execution_count": 4,
   "metadata": {},
   "outputs": [],
   "source": [
    "# want to write a for loop that in each iteration: substitute the r in the above equation\n",
    "# then save it into a list\n",
    "f = sp.Function('f')\n",
    "z = sp.Symbol('z')\n",
    "r = sp.Symbol('r')\n",
    "\n",
    "def funct(f):\n",
    "    '''\n",
    "    Input: \n",
    "        - f = function f (i.e z**3 - 1)\n",
    "    Output:\n",
    "        - List of roots after certain number of iterations\n",
    "        - A scatterplot of said roots (failure points) on complex plane.\n",
    "    '''\n",
    "    #f = z**3 -1 \n",
    "    df = f.diff(z)\n",
    "    P = f - df*(z-r) \n",
    "\n",
    "    F = []\n",
    "    F0 = list(set(np.roots(f.diff(z).as_poly(z).all_coeffs())))\n",
    "    F.append(F0)\n",
    "    print(\"F list after iteration 0:\")\n",
    "    print(np.around(F,5))\n",
    "\n",
    "   #print(len(F0))\n",
    "    #print(\"initial F list: \",F)\n",
    "    for x in range(1,5): # Since iteration F(0) is outside of the loop\n",
    "        #print(\"iteration #\", x)\n",
    "        templist1 = []\n",
    "        #print(\"F[-1] = \", F[-1])\n",
    "        for i in (F[-1]):\n",
    "            #print(\"root i = \", i)\n",
    "            P = f - df*(z-r) \n",
    "            P = P.subs(r, i)\n",
    "            #print('P = ', P)\n",
    "            list2 = [complex(i) for i in P.as_poly(z).all_coeffs()]\n",
    "            F0 = list(set(np.roots(list2))) #temporary list to store roots of each \n",
    "            templist1.append(F0)\n",
    "            #print(\"templist1 =\", templist1)\n",
    "            #print(\"length =\",len(F0))\n",
    "            #print(\"F0 = \", F0 )\n",
    "        for i in range(len(F[-1])):\n",
    "            F.append(templist1[-i])\n",
    "        ## Print F(x) for x = [1,4]\n",
    "        print(\"F\", x, \"=\", np.around(templist1,5))\n",
    "    \n",
    "        ## Print F list (includes all roots since F() after nth iteration)\n",
    "        #print(\"F list after iteration\",x, \":\")\n",
    "    #print(F)\n",
    "    # Plot a scatterplot of points of failure\n",
    "    for i in F:\n",
    "        R = [complex(a) for a in i]  \n",
    "        plt.plot([x.real for x in R],[x.imag for x in R], 'ro', alpha = 0.5)\n",
    "        plt.title('Scatterplot of failure points')\n",
    "        plt.xlabel('Real')\n",
    "        plt.ylabel('Imaginary')\n"
   ]
  },
  {
   "cell_type": "code",
   "execution_count": 5,
   "metadata": {},
   "outputs": [
    {
     "name": "stdout",
     "output_type": "stream",
     "text": [
      "F list after iteration 0:\n",
      "[[0.]]\n",
      "F 1 = [[-0.7937 +0.j       0.39685+0.68736j  0.39685-0.68736j]]\n",
      "F 2 = [[ 0.12161+0.57788j  0.12161-0.57788j -1.43378+0.j     ]\n",
      " [-0.56126+0.18362j  0.43965-0.39426j  0.71689+1.24169j]\n",
      " [ 0.43965+0.39426j -0.56126-0.18362j  0.71689-1.24169j]]\n",
      "F 3 = [[ 0.20381-0.57409j  0.13328+0.6757j  -1.17898+0.17382j]\n",
      " [ 0.74002-0.93411j -0.59908-0.11055j  0.51853+0.45327j]\n",
      " [ 0.38134-0.27722j -0.43075+0.19165j  1.12474+1.9481j ]]\n",
      "F 4 = [[-0.47163-0.16268j  0.43336+0.29359j  1.14831-1.53208j]\n",
      " [ 0.18423+0.58746j  0.14159-0.64535j -1.22444-0.10793j]\n",
      " [ 0.82829+0.97953j -0.57296+0.11499j  0.52247-0.41461j]]\n"
     ]
    },
    {
     "data": {
      "image/png": "[encoded data removed]",
      "text/plain": [
       "<Figure size 432x288 with 1 Axes>"
      ]
     },
     "metadata": {
      "needs_background": "light"
     },
     "output_type": "display_data"
    }
   ],
   "source": [
    "funct(z**3-1)"
   ]
  },
  {
   "cell_type": "code",
   "execution_count": 6,
   "metadata": {},
   "outputs": [
    {
     "name": "stdout",
     "output_type": "stream",
     "text": [
      "F list after iteration 0:\n",
      "[[-0.66874+0.j       0.     +0.66874j  0.66874+0.j       0.     -0.66874j]]\n",
      "F 1 = [[-0.94138-0.j      -0.32828+0.4854j   0.38101+0.33321j -0.32828-0.4854j\n",
      "   0.38101-0.33321j]\n",
      " [-0.26309+0.96967j  0.48785+0.73405j -0.14664-0.6533j   0.6479 -0.25804j\n",
      "  -0.72602+0.04355j]\n",
      " [ 0.90417+0.41812j -0.12639+0.7538j  -0.71963-0.j      -0.12639-0.7538j\n",
      "   0.90417-0.41812j]\n",
      " [-0.26309-0.96967j  0.48785-0.73405j -0.14664+0.6533j   0.6479 +0.25804j\n",
      "  -0.72602-0.04355j]]\n",
      "F 2 = [[ 0.29995+0.72757j -0.12072-0.62545j -0.70536+0.05907j -0.42219+1.24961j\n",
      "   0.61946-0.19871j]\n",
      " [ 0.79109+0.93893j -0.11888-0.68636j -0.08667+0.87374j  0.73779-0.23293j\n",
      "  -0.71351+0.02418j]\n",
      " [-0.35463-0.97407j -0.72957-0.05405j  0.61908+0.25454j -0.15243+0.63761j\n",
      "   0.43423-0.68065j]\n",
      " [ 0.93894-0.57517j  0.8382 +0.32018j -0.1222 -0.78612j -0.12615+0.72706j\n",
      "  -0.71891-0.0085j ]\n",
      " [-0.97952+0.03282j -0.35227+0.44256j  0.34615+0.33544j  0.37219-0.30002j\n",
      "  -0.29407-0.45637j]]\n",
      "F 3 = [[-0.03214+0.82686j  0.75882-0.17754j -0.09712-0.68905j  1.06381+1.19311j\n",
      "  -0.70451+0.02028j]\n",
      " [-0.33415-0.99457j  0.43411-0.70128j -0.72658-0.05218j  0.6261 +0.24994j\n",
      "  -0.14809+0.64015j]\n",
      " [ 0.37347+0.77502j  0.63952-0.22004j -0.12911-0.64059j -0.27839+1.12753j\n",
      "  -0.71382+0.05025j]\n",
      " [ 0.99766-0.54332j  0.872  +0.30693j -0.11244-0.77872j -0.11852+0.73085j\n",
      "  -0.71647-0.0069j ]\n",
      " [-0.97153+0.01763j -0.30808-0.46052j -0.33985+0.45377j  0.35674+0.33062j\n",
      "   0.37083-0.31128j]]\n",
      "F 4 = [[ 0.2814 -0.71007j  0.61231+0.19152j -0.11757+0.61997j -0.70175-0.06225j\n",
      "  -0.49207-1.28238j]\n",
      " [ 0.75291-0.8984j  -0.10216-0.88107j  0.73081+0.2427j  -0.12344+0.68526j\n",
      "  -0.71548-0.02509j]\n",
      " [-0.97913-0.03939j -0.28887+0.45776j  0.34362-0.33905j -0.35864-0.44119j\n",
      "   0.3748 +0.29665j]\n",
      " [ 0.92327+0.57225j  0.83292-0.32708j -0.1255 +0.78609j -0.12837-0.72731j\n",
      "  -0.71968+0.00848j]\n",
      " [-0.35597+0.9654j   0.43758+0.67543j  0.61801-0.25694j -0.15403-0.6377j\n",
      "  -0.7307 +0.054j  ]]\n"
     ]
    },
    {
     "data": {
      "image/png": "[encoded data removed]",
      "text/plain": [
       "<Figure size 432x288 with 1 Axes>"
      ]
     },
     "metadata": {
      "needs_background": "light"
     },
     "output_type": "display_data"
    }
   ],
   "source": [
    "funct(z**5 -z - 1)"
   ]
  },
  {
   "cell_type": "code",
   "execution_count": null,
   "metadata": {},
   "outputs": [],
   "source": []
  },
  {
   "cell_type": "code",
   "execution_count": null,
   "metadata": {},
   "outputs": [],
   "source": []
  },
  {
   "cell_type": "code",
   "execution_count": null,
   "metadata": {},
   "outputs": [],
   "source": []
  },
  {
   "cell_type": "markdown",
   "metadata": {},
   "source": [
    "----\n",
    "\n",
    "**P2)** Write a Python function $f(n)$ that returns a Sympy polynomial that is the degree $2n$ Taylor expansion of the $\\cos x$ function.\n",
    "\n",
    "$$T^{2n}(x) = 1 - \\frac{1}{2!}x^2 + \\frac{1}{4!}x^4 + \\cdots + \\frac{(-1)^n}{(2n)!}x^{2n}$$\n",
    "\n",
    "Print out these polynomials for $n=1,2,3,4,5$ using sympy's **pprint** command.\n",
    "\n",
    "Use Sympy to compute the integrals:\n",
    "$$\\int_0^x \\cos(x^2) dx$$ \n",
    "$$\\int_0^x T^{2n}(x^2) dx \\text{  for  } n=1,2,3,4,5.$$\n",
    "\n",
    "Put the plots of these functions in one common matplotlib plot, so that they can be compared.  Make the domain of the plot $[-3.4,3.4]$.  How big do you need to make $n$ to ensure these two plots look the same on this domain?\n"
   ]
  },
  {
   "cell_type": "code",
   "execution_count": 7,
   "metadata": {},
   "outputs": [],
   "source": [
    "x = sp.Symbol('x')"
   ]
  },
  {
   "cell_type": "code",
   "execution_count": 8,
   "metadata": {},
   "outputs": [],
   "source": [
    "def f(n):\n",
    "    '''\n",
    "    Input: integer n\n",
    "    Output: A Sympy polynomial that is the degree 2n Taylor expansion T^2n(x) of the cos(x). Fixed after typo on forum\n",
    "        - Uses recursion.\n",
    "    '''\n",
    "    x = sp.Symbol('x')\n",
    "    T = (x**(2*n))*((-1)**n/sp.factorial(2*n))\n",
    "    if n == 0:\n",
    "        return T\n",
    "    else:\n",
    "        T = (x**(2*n))*((-1)**n/sp.factorial(2*n))\n",
    "        return T + f(n-1)\n",
    "            "
   ]
  },
  {
   "cell_type": "code",
   "execution_count": 9,
   "metadata": {},
   "outputs": [
    {
     "name": "stdout",
     "output_type": "stream",
     "text": [
      "   2    \n",
      "  x     \n",
      "- ── + 1\n",
      "  2     \n",
      " 4    2    \n",
      "x    x     \n",
      "── - ── + 1\n",
      "24   2     \n",
      "    6    4    2    \n",
      "   x    x    x     \n",
      "- ─── + ── - ── + 1\n",
      "  720   24   2     \n",
      "   8      6    4    2    \n",
      "  x      x    x    x     \n",
      "───── - ─── + ── - ── + 1\n",
      "40320   720   24   2     \n",
      "     10        8      6    4    2    \n",
      "    x         x      x    x    x     \n",
      "- ─────── + ───── - ─── + ── - ── + 1\n",
      "  3628800   40320   720   24   2     \n"
     ]
    }
   ],
   "source": [
    "for i in range(1,6):\n",
    "    sp.pprint(f(i))"
   ]
  },
  {
   "cell_type": "code",
   "execution_count": 10,
   "metadata": {},
   "outputs": [],
   "source": [
    "def g(n):\n",
    "    '''\n",
    "    Same as f(n), but subs x with x**2, then compute its integral from (0,x)\n",
    "    '''\n",
    "    I_1 = f(n).subs(x, x**2)\n",
    "    I_2 = sp.integrate(I_1,(x, 0, x))\n",
    "    return I_2"
   ]
  },
  {
   "cell_type": "code",
   "execution_count": 11,
   "metadata": {},
   "outputs": [
    {
     "name": "stdout",
     "output_type": "stream",
     "text": [
      "   5    \n",
      "  x     \n",
      "- ── + x\n",
      "  10    \n",
      "  9    5    \n",
      " x    x     \n",
      "─── - ── + x\n",
      "216   10    \n",
      "   13      9    5    \n",
      "  x       x    x     \n",
      "- ──── + ─── - ── + x\n",
      "  9360   216   10    \n",
      "  17      13      9    5    \n",
      " x       x       x    x     \n",
      "────── - ──── + ─── - ── + x\n",
      "685440   9360   216   10    \n",
      "     21        17      13      9    5    \n",
      "    x         x       x       x    x     \n",
      "- ──────── + ────── - ──── + ─── - ── + x\n",
      "  76204800   685440   9360   216   10    \n"
     ]
    }
   ],
   "source": [
    "# Compute the integral of cox(x**2) from [0, x] for n = 1,2,...,5\n",
    "for i in range(1,6):\n",
    "    sp.pprint(g(i))"
   ]
  },
  {
   "cell_type": "code",
   "execution_count": 12,
   "metadata": {},
   "outputs": [
    {
     "name": "stdout",
     "output_type": "stream",
     "text": [
      "              ⎛√2⋅x⎞       \n",
      "√2⋅√π⋅fresnelc⎜────⎟⋅Γ(1/4)\n",
      "              ⎝ √π ⎠       \n",
      "───────────────────────────\n",
      "          8⋅Γ(5/4)         \n"
     ]
    }
   ],
   "source": [
    "h1 = sp.cos(x**2)\n",
    "h2 = (sp.integrate(h1, [x,0,x]))\n",
    "sp.pprint(h2)"
   ]
  },
  {
   "cell_type": "code",
   "execution_count": 13,
   "metadata": {},
   "outputs": [],
   "source": [
    "## Plot\n",
    "def plotb(n):\n",
    "    '''\n",
    "    Input: integer n\n",
    "    Ouput: Plot of function integral of T^2n(x^2) for n = [1,5] and integral of cos(x**2)\n",
    "    '''\n",
    "    X = np.linspace(-3.4, 3.4, 100)\n",
    "    Y1 = [h2.subs({x:p}).evalf() for p in X]\n",
    "    Y2 = [g(n).subs({x:p}).evalf() for p in X]\n",
    "    plt.plot(X,Y1, alpha = 0.5, label = \"integral cos(x^2)\")\n",
    "    plt.plot(X,Y2, alpha = 0.5, label = \"integral T^2n(x^2)\")\n",
    "    plt.legend()"
   ]
  },
  {
   "cell_type": "code",
   "execution_count": 14,
   "metadata": {},
   "outputs": [
    {
     "data": {
      "image/png": "[encoded data removed]",
      "text/plain": [
       "<Figure size 432x288 with 1 Axes>"
      ]
     },
     "metadata": {
      "needs_background": "light"
     },
     "output_type": "display_data"
    }
   ],
   "source": [
    "plotb(5)"
   ]
  },
  {
   "cell_type": "code",
   "execution_count": 15,
   "metadata": {},
   "outputs": [
    {
     "data": {
      "image/png": "[encoded data removed]",
      "text/plain": [
       "<Figure size 432x288 with 1 Axes>"
      ]
     },
     "metadata": {
      "needs_background": "light"
     },
     "output_type": "display_data"
    }
   ],
   "source": [
    "# Answer: n >= 14\n",
    "plotb(14)"
   ]
  },
  {
   "cell_type": "markdown",
   "metadata": {},
   "source": [
    "----\n",
    "\n",
    "**P3)** Create a function **historic_plot(city, feat)** that takes as input a city name (eg: **w.sask** and **w.vic** for Saskatoon and Victoria respectively), and a weather feature key (eg: **Mean Temp (°C)** or **Total Rain (mm)**).  The function will create a matplotlib plot (a point plot) where the x-axis represents the date of the measurement (i.e. the scale will be in days), and the y-axis represents the measurement corresponding to the key. Include the linear least-squares approximations in your plot.  Label the linear least square fit i.e. $y=ax+b$ with $a,b$ the appropriate coefficients, and put in the legend. Include in your title the yearly increase in the readings, i.e. this should be $365 \\cdot a$.  Use the library from lecture 6c.\n",
    "\n",
    "Include the output of **historic_plot** for all four cities, with the weather feature **\"Mean Temp (°C)\"** in your notebooks, using matplotlib in **inline** mode.  After each plot, print to screen the coefficients of your least-square fit, i.e. use a **print(c)** command, if you use the same notation as in Lecture 6c.   \n",
    "\n",
    "How do your trend lines compare with the global warming predictions we see in newspaper articles?\n",
    "\n",
    "**Pre-grading script:** The script will check for your least-square coefficients for the four plots, i.e. the **print(c)** output. c should be a shape (2,1) numpy array, i.e. a 2-dimensional column vector."
   ]
  },
  {
   "cell_type": "code",
   "execution_count": 122,
   "metadata": {},
   "outputs": [],
   "source": [
    "import pprint as pp\n",
    "import datetime as dt ## library to manipulate dates and times\n",
    "import matplotlib.pyplot as plt\n",
    "import os\n",
    "import fnmatch as fn\n",
    "import scipy.optimize \n",
    "import numpy as np\n",
    "%matplotlib inline\n",
    "\n",
    "def parse_fname(fname):\n",
    "    '''\n",
    "    Parse city data, taken from lecture\n",
    "    '''\n",
    "    with open(fname, encoding='utf8') as f:\n",
    "        content = f.read().split('\\n')\n",
    "        '''this splits the string.  [typical way of doing multi-line comments.]\n",
    "        ## converts the file into one big text string.\n",
    "        ## and split by lines\n",
    "        ## two things you can do. rather than use read() command you can use readlines()'''\n",
    "        ## problem in the new files the header is only 5 lines long\n",
    "        leglines = [i for i in range(len(content)) if 'legend' in content[i].lower()]\n",
    "        if len(leglines)!=1:\n",
    "            print(\"Error not unique legend line.\")\n",
    "            return(None)\n",
    "        \n",
    "        ID_pairs = [x.replace('\"', '').replace('\\ufeff', '').split(',')\\\n",
    "                    for x in content[:leglines[0]-1]]\n",
    "        fdat = dict(ID_pairs)\n",
    "        to_float=['Elevation', 'Latitude', 'Longitude']\n",
    "        to_int = ['WMO Identifier']\n",
    "        for k in to_float:\n",
    "            if k in fdat.keys():\n",
    "                fdat[k] = float(fdat[k])\n",
    "        for k in to_int:\n",
    "            if k in fdat.keys():\n",
    "                if fdat[k]=='':\n",
    "                    del fdat[k] ## removal of key from dictionary \n",
    "                else:\n",
    "                    fdat[k] = int(fdat[k])\n",
    "        ## next: let's load the keys for the row data.     \n",
    "        keylines = [i for i in range(len(content)) if 'date/time' in\\\n",
    "                   content[i].lower()]\n",
    "        if len(keylines)!=1:\n",
    "            print('Error! Need only one key line.')\n",
    "            return(None)\n",
    "        ## parse the row the row data, i.e. all data from \"keylines\" down.\n",
    "        keys = content[keylines[0]].replace('\"','').split(',')\n",
    "        ## now the remaining rows, we want to put into a list of dictionaries\n",
    "        fdat['rows']=[]\n",
    "        for L in content[keylines[0]+1:]:\n",
    "            L=L.replace('\"','').split(',')\n",
    "            if len(L)!=len(keys):\n",
    "                continue\n",
    "            ignore_keys = ['Year', 'Month', 'Day']\n",
    "            X = {keys[i]:L[i] for i in range(len(keys)) if L[i]!=''\\\n",
    "                 and (keys[i] not in ignore_keys)}\n",
    "            ## make the data more useful \n",
    "            to_date = ['Date/Time']\n",
    "            to_float = ['Max Temp (°C)', 'Min Temp (°C)', 'Mean Temp (°C)',\\\n",
    "                       'Total Precip (mm)', 'Total Rain (mm)', 'Total Snow (cm)',\\\n",
    "                       'Snow on Grnd (cm)', 'Cool Deg Days (°C)', 'Heat Deg Days (°C)']\n",
    "            \n",
    "            for k in to_date:\n",
    "                X[k] = dt.datetime.strptime(X[k], \"%Y-%m-%d\").date()\n",
    "            for k in to_float:\n",
    "                if k in X.keys():\n",
    "                    X[k] = float(X[k])\n",
    "            \n",
    "            fdat['rows'].append(X)\n",
    "        return(fdat)    "
   ]
  },
  {
   "cell_type": "code",
   "execution_count": 144,
   "metadata": {},
   "outputs": [],
   "source": [
    "def historic_plot(city, feat):\n",
    "    '''\n",
    "    Input: \n",
    "        - city: a city name (eg: w.sask and w.vic for Saskatoon and Victoria respectively)\n",
    "        - feat: a weather feature key\n",
    "    Output:\n",
    "        The function will create a matplotlib plot (a point plot) where:\n",
    "        - x-axis represents the date of the measurement, \n",
    "        - y-axis represents the measurement corresponding to the key\n",
    "        Include the linear and quadratic least-squares approximations\n",
    "    '''\n",
    "    route = '../../mp248-course/Data/CWD/'\n",
    "    cityfile_list = [\"w.vic\", \"w.sask\", \"w.cal\", \"w.edm\"]\n",
    "    if (city in cityfile_list) == True:\n",
    "        wsubdirs = fn.filter(os.listdir(route), city)\n",
    "    else:\n",
    "        print(\"file not in database or filename is wrong\")\n",
    "        return\n",
    "    \n",
    "    mdat=dict()\n",
    "    for wd in wsubdirs:\n",
    "        files = fn.filter(os.listdir(route+wd), \"eng-daily*.csv\")\n",
    "        for wdf in files:\n",
    "            fname = route+wd+'/'+wdf\n",
    "            pf = parse_fname(fname)\n",
    "            for v in pf['rows']:\n",
    "                K = (wd, v['Date/Time'])\n",
    "                mdat[K] = v\n",
    "    \n",
    "    ## To convert date/time into day-count\n",
    "    ## Obtain the minimum date, 'index' it as 0\n",
    "    ## Loop through every datetime, subtract with the minimum to obtain date number \n",
    "    ## Store them in a list, which would then be the domain of the plot\n",
    "    k1 = 'Date/Time'\n",
    "    k2 = feat\n",
    "    datemin = min([v[k1] for k,v in mdat.items()])\n",
    "    \n",
    "    ## Conversion into daycount\n",
    "    for k, v in mdat.items():\n",
    "        v[k1] = (v[k1]  - datemin).days\n",
    "    #print(v[k1])\n",
    "    \n",
    "    MM=[(v[k1], v[k2]) for k,v in mdat.items() if k[0]== city\\\n",
    "    and (k1 in v.keys()) and (k2 in v.keys())]\n",
    "    #print(MM)\n",
    "   \n",
    "    ## Plot\n",
    "    plt.plot([x[0] for x in MM], [x[1] for x in MM], 'ro')\n",
    "    plt.xlabel(\"Day count\")\n",
    "    plt.ylabel(k2)\n",
    "    # Linear and quadratic least square approximations\n",
    "    #scipy.optimize.curve_fit(func ,[x[0] for x in MM], [x[1] for x in MM]) <- hint code from lab week 6\n",
    "    ## Least square in class\n",
    "    A = np.matrix([[1.0, D[0]] for D in MM]).T\n",
    "    y = np.matrix([D[1] for D in MM]).T\n",
    "    c = ((A*A.T)**-1)*A*y\n",
    "    print(c)\n",
    "    f = lambda x, A, B: A + B*x\n",
    "    ## lsq = scipy.optimize.curve_fit(f, x, y) returns an array which contains:\n",
    "    ## - lsq[0] = values of A, B so that function f is minimized\n",
    "    ## - lsq[1] = estimated covariance\n",
    "    lsq = scipy.optimize.curve_fit(f ,[x[0] for x in MM], [x[1] for x in MM])\n",
    "    print(lsq[0])"
   ]
  },
  {
   "cell_type": "markdown",
   "metadata": {},
   "source": [
    "[Scipy.optimize.curve_fit()](https://docs.scipy.org/doc/scipy/reference/generated/scipy.optimize.curve_fit.html#scipy.optimize.curve_fit) documentation"
   ]
  },
  {
   "cell_type": "code",
   "execution_count": 145,
   "metadata": {},
   "outputs": [
    {
     "name": "stdout",
     "output_type": "stream",
     "text": [
      "[[9.20976838e+00]\n",
      " [8.46695806e-05]]\n",
      "[9.20976838e+00 8.46695785e-05]\n"
     ]
    },
    {
     "data": {
      "image/png": "[encoded data removed]",
      "text/plain": [
       "<Figure size 432x288 with 1 Axes>"
      ]
     },
     "metadata": {
      "needs_background": "light"
     },
     "output_type": "display_data"
    }
   ],
   "source": [
    "historic_plot('w.vic', 'Mean Temp (°C)')"
   ]
  },
  {
   "cell_type": "code",
   "execution_count": 116,
   "metadata": {},
   "outputs": [
    {
     "data": {
      "image/png": "[encoded data removed]",
      "text/plain": [
       "<Figure size 432x288 with 1 Axes>"
      ]
     },
     "metadata": {
      "needs_background": "light"
     },
     "output_type": "display_data"
    }
   ],
   "source": [
    "historic_plot('w.cal', 'Mean Temp (°C)')"
   ]
  },
  {
   "cell_type": "code",
   "execution_count": 117,
   "metadata": {},
   "outputs": [
    {
     "data": {
      "image/png": "[encoded data removed]",
      "text/plain": [
       "<Figure size 432x288 with 1 Axes>"
      ]
     },
     "metadata": {
      "needs_background": "light"
     },
     "output_type": "display_data"
    }
   ],
   "source": [
    "historic_plot('w.edm', 'Mean Temp (°C)')"
   ]
  },
  {
   "cell_type": "code",
   "execution_count": 118,
   "metadata": {},
   "outputs": [
    {
     "data": {
      "image/png": "[encoded data removed]",
      "text/plain": [
       "<Figure size 432x288 with 1 Axes>"
      ]
     },
     "metadata": {
      "needs_background": "light"
     },
     "output_type": "display_data"
    }
   ],
   "source": [
    "historic_plot('w.edm', 'Mean Temp (°C)')"
   ]
  },
  {
   "cell_type": "markdown",
   "metadata": {},
   "source": []
  },
  {
   "cell_type": "markdown",
   "metadata": {},
   "source": [
    "----\n",
    "\n",
    "**P4)** Write a function **vs_plot(cit1, cit2, wk)** that will take as input three arguments.  The first two arguments are city names in our 6b convention (eg: **w.sask** and **w.vic** for Saskatoon and Victoria respectively), and the third argument would be a key for a floating-point data type from **mdat** (eg: **Mean Temp (°C)** or **Total Rain (mm)**).  Your function would then create a matplotlib plot for that weather feature, of one city's weather vs. the other for all the dates we have in common in our data set.  Put the data for **cit1** on the x-axis, and **cit2** on the y-axis.  Include a linear and quadratic least-squares approximation. Use the library from Lecture 6c.\n",
    "\n",
    "Include the output for these three commands **vs_plot(\"w.vic\", \"w.cal\", \"Mean Temp (°C)\")**, **vs_plot(\"w.cal\", \"w.edm\", \"Mean Temp (°C)\")**, **vs_plot(\"w.edm\", \"w.sask\", \"Mean Temp (°C)\")** in your notebook.  In each, include a **print(c)** statement for your least square coefficients. \n",
    "\n",
    "**Pre-grading script:** Will check for your least-squares coefficients for the above four plots.\n",
    "\n",
    "For problems P3 and P4, import and use the wdat library we created in Lecture 7c."
   ]
  },
  {
   "cell_type": "code",
   "execution_count": 22,
   "metadata": {},
   "outputs": [],
   "source": [
    "def vs_plot(cit1, cit2, wk):\n",
    "    '''\n",
    "    Input:\n",
    "        - cit1: First city in form of its directory name (eg. w.vic for Victoria)\n",
    "        - cit2: Second city in form of its directory name (eg. w.vic for Victoria)\n",
    "        - wk: floating-point data type (eg: Mean Temp (°C) or Total Rain (mm))\n",
    "    Output:\n",
    "        - Matplotlib plot: cit1's weather feature vs cit2's weather feature for all the dates \n",
    "          we have in common in our data set\n",
    "        - For this ex. we use mean temperature.\n",
    "    '''\n",
    "    route = '../../mp248-course/Data/CWD/'\n",
    "    \n",
    "    cityfile_list = [\"w.vic\", \"w.sask\", \"w.cal\", \"w.edm\"]\n",
    "    if (cit1 and cit2 in cityfile_list) == True:\n",
    "        wsubdirs1 = fn.filter(os.listdir(route), cit1)\n",
    "        wsubdirs2 = fn.filter(os.listdir(route), cit2)\n",
    "    else:\n",
    "        print(\"file not in database or filename is wrong\")\n",
    "        return\n",
    "\n",
    "    mdat_1=dict()\n",
    "    for wd in wsubdirs1:\n",
    "        files_1 = fn.filter(os.listdir(route+wd), \"eng-daily*.csv\")\n",
    "        for wdf in files_1:\n",
    "            fname_1 = route+wd+'/'+wdf\n",
    "            pf_1 = parse_fname(fname_1)\n",
    "            for v in pf_1['rows']:\n",
    "                K1 = (wd, v['Date/Time'])\n",
    "                mdat_1[K1] = v\n",
    "    \n",
    "    mdat_2=dict()\n",
    "    for wd in wsubdirs2:\n",
    "        files_2 = fn.filter(os.listdir(route+wd), \"eng-daily*.csv\")\n",
    "        for wdf in files_2:\n",
    "            fname_2 = route+wd+'/'+wdf\n",
    "            pf_2 = parse_fname(fname_2)\n",
    "            for v in pf_2['rows']:\n",
    "                K2 = (wd, v['Date/Time'])\n",
    "                mdat_2[K2] = v\n",
    "                \n",
    "    k1 = 'Date/Time'\n",
    "    k2 = wk\n",
    "    \n",
    "\n",
    "    MM1=[(v[k1], v[k2]) for k,v in mdat_1.items() if k[0]== cit1 \\\n",
    "        and (k1 in v.keys()) and (k2 in v.keys())]\n",
    "    MM2=[(v[k1], v[k2]) for k,v in mdat_2.items() if k[0]== cit2 \\\n",
    "    and (k1 in v.keys()) and (k2 in v.keys())]\n",
    "   \n",
    "    \n",
    "    # Create a new list to store in data that has common dates\n",
    "    common_dates_data1 = []\n",
    "    common_dates_data2 = []\n",
    "    \n",
    "    # Create a list to store all the dates \n",
    "    dates1 = []\n",
    "    dates2 = []\n",
    "    \n",
    "    # Get common date list for two data\n",
    "    for i in range(len(MM1)):\n",
    "        dates1.append(MM1[i][0])\n",
    "    for i in range(len(MM2)):\n",
    "        dates2.append(MM2[i][0])\n",
    "        \n",
    "    # Using the common date list, store the data into a new list\n",
    "    for i in range(len(dates1)):\n",
    "        if dates1[i] in dates2:\n",
    "            common_dates_data1.append(MM1[i])\n",
    "    for i in range(len(dates2)):\n",
    "        if dates2[i] in dates1:\n",
    "            common_dates_data2.append(MM2[i])\n",
    "    \n",
    "    common_dates_data1 = sorted(common_dates_data1)\n",
    "    common_dates_data2 = sorted(common_dates_data2)\n",
    "    \n",
    "    # Plot\n",
    "    #for i in range(len(common_dates_data1)):\n",
    "    plt.plot([common_dates_data1[i][1] for i in range(len(common_dates_data1))], \\\n",
    "             [common_dates_data2[i][1] for i in range(len(common_dates_data1))], 'ro')\n",
    "    plt.xlabel(cit1)\n",
    "    plt.ylabel(cit2)"
   ]
  },
  {
   "cell_type": "code",
   "execution_count": 23,
   "metadata": {},
   "outputs": [
    {
     "data": {
      "image/png": "[encoded data removed]",
      "text/plain": [
       "<Figure size 432x288 with 1 Axes>"
      ]
     },
     "metadata": {
      "needs_background": "light"
     },
     "output_type": "display_data"
    }
   ],
   "source": [
    "vs_plot(\"w.vic\", \"w.cal\", \"Mean Temp (°C)\")"
   ]
  },
  {
   "cell_type": "code",
   "execution_count": 24,
   "metadata": {},
   "outputs": [
    {
     "data": {
      "image/png": "[encoded data removed]",
      "text/plain": [
       "<Figure size 432x288 with 1 Axes>"
      ]
     },
     "metadata": {
      "needs_background": "light"
     },
     "output_type": "display_data"
    }
   ],
   "source": [
    "vs_plot(\"w.cal\", \"w.edm\", \"Mean Temp (°C)\")"
   ]
  },
  {
   "cell_type": "code",
   "execution_count": 25,
   "metadata": {},
   "outputs": [
    {
     "data": {
      "image/png": "[encoded data removed]",
      "text/plain": [
       "<Figure size 432x288 with 1 Axes>"
      ]
     },
     "metadata": {
      "needs_background": "light"
     },
     "output_type": "display_data"
    }
   ],
   "source": [
    "vs_plot(\"w.edm\", \"w.sask\", \"Mean Temp (°C)\")"
   ]
  },
  {
   "cell_type": "markdown",
   "metadata": {},
   "source": [
    "----\n",
    "\n",
    "**P5)**  In this problem we ask you to make a step towards an improved **voronoi_diagram** algorithm. \n",
    "\n",
    "If you recall, in class we drew the voronoi diagram of a list of $n$ points in the plane. \n",
    "We followed that with a primitive (and flawed) algorithm \n",
    "to find the vertices where any three regions meet.   In this problem, we ask you to find a \n",
    "better algorithm to find those vertices, and ultimately a better way to compute the diagram.\n",
    "\n",
    "You will create a new **voronoi_diagram** algorithm. This algorithm will take as input an $(n,2)$-shaped numpy\n",
    "array, considered to be a list of $n$ points **PTS** in the plane. \n",
    "\n",
    "In your plot, include:\n",
    "\n",
    "1. The input points, PTS, in green.\n",
    "2. The 'triple points' that are equidistant from the three closest points of PTS. After completing steps (3) and (4) these points will be clear and there will be no need to label them.  But if you can not complete steps (3) and (4), plot these points in black and label them with the set of the three closest points, eg: {a,b,c} meaning PTS[a], PTS[b] and PTS[c] are equidistant and closest.\n",
    "3. The lines between the triple points. Drawn in gray. i.e. these are lines that are equidistant from the two closest points of PTS.\n",
    "4. The lines between the triple points and the boundary of your region. Drawn in red.\n",
    "5. Labels on the points PTS, as well as the line segments (3) and (4)."
   ]
  },
  {
   "cell_type": "markdown",
   "metadata": {},
   "source": [
    "Provided you choose the points PTS to have their coordinates in $[0,1]$ as in class, you can choose your \n",
    "region to be the square $[0,1]^2$. \n",
    "\n",
    "The line segments in (3) and (4) represent the regions in the plane that are equidistant to two points of PTS, \n",
    "yet all the remaining points of PTS are further-away than those two equidistant points.\n",
    "\n",
    "Label your line segments in the notation $\\{a,b\\}$ meaning these are the points in the plane equidistant from PTS[a] and PTS[b], yet all the remaining points of PTS are further away.\n",
    "\n",
    "Use the above ideas to write your voronoi_diagram code.  Include several plots, for various random input points.\n",
    "\n",
    "If you follow all the above rules, your output should look like this. If the **.svg** image does not display, uncomment the **.png** display.\n",
    "\n",
    "``` <img src='voronoi.png'/>```\n",
    "<img src='voronoi.svg'/>"
   ]
  },
  {
   "cell_type": "code",
   "execution_count": null,
   "metadata": {},
   "outputs": [],
   "source": []
  },
  {
   "cell_type": "code",
   "execution_count": null,
   "metadata": {},
   "outputs": [],
   "source": []
  },
  {
   "cell_type": "code",
   "execution_count": null,
   "metadata": {},
   "outputs": [],
   "source": []
  },
  {
   "cell_type": "code",
   "execution_count": null,
   "metadata": {},
   "outputs": [],
   "source": []
  },
  {
   "cell_type": "markdown",
   "metadata": {},
   "source": []
  },
  {
   "cell_type": "code",
   "execution_count": null,
   "metadata": {},
   "outputs": [],
   "source": []
  },
  {
   "cell_type": "code",
   "execution_count": null,
   "metadata": {},
   "outputs": [],
   "source": []
  },
  {
   "cell_type": "code",
   "execution_count": null,
   "metadata": {},
   "outputs": [],
   "source": []
  }
 ],
 "metadata": {
  "kernelspec": {
   "display_name": "Python 3",
   "language": "python",
   "name": "python3"
  },
  "language_info": {
   "codemirror_mode": {
    "name": "ipython",
    "version": 3
   },
   "file_extension": ".py",
   "mimetype": "text/x-python",
   "name": "python",
   "nbconvert_exporter": "python",
   "pygments_lexer": "ipython3",
   "version": "3.6.7"
  }
 },
 "nbformat": 4,
 "nbformat_minor": 2
}
