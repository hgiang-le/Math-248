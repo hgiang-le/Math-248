{
 "cells": [
  {
   "cell_type": "markdown",
   "metadata": {},
   "source": [
    "<span style=\"color:red\">Homework Grade: 9</span>\n",
    "\n",
    "P1 grade: 10/10\n",
    "\n",
    "P2 grade: 9.5/10 -  Plot should be larger for clarity\n",
    "\n",
    "\n",
    "P3 grade: 9.5/10 -Missing reflection\n",
    "\n",
    "P4 grade: 6/10 Return none for no solution. Missing plot\n",
    "\n",
    "P5 grade: 10/10\n",
    "\n"
   ]
  },
  {
   "cell_type": "markdown",
   "metadata": {},
   "source": [
    "# Homework Assignment 4\n",
    "\n",
    "This assignment is due **Friday November 29th, at 11:59pm**. Store your homework in **mp248/Assignments/hwk.4.ipynb**. \n",
    "\n",
    "Problems 1-4 of this assignment focus on the Nov 18th--22nd labs.  Problem 5 is on the Victoria Transit data.\n",
    "\n",
    "----"
   ]
  },
  {
   "cell_type": "markdown",
   "metadata": {},
   "source": [
    "## P.1: \n",
    "\n",
    "Given a collection of points $P = \\{ p_i : i = 1,2,\\cdots, k\\} \\subset \\mathbb R^n$ their **convex hull** will be denoted\n",
    "\n",
    "$$C(P) = \\{ t_1p_1 + t_2p_2 + \\cdots + t_kp_k : 0 \\leq t_i \\leq 1 \\ \\forall i, t_1+t_2+\\cdots+t_k = 1 \\}.$$\n",
    "\n",
    "In this question we ask you to write an algorithm that determines if a point is in the convex hull of a collection of other points.\n",
    "\n",
    "Notice that a vector $v$ is in the convex hull if and only if you can solve the system of linear equations\n",
    "\n",
    "$$ v = t_1p_1 + t_2p_2 + \\cdots + t_kp_k $$\n",
    "$$ 1 = t_1 + t_2 + \\cdots + t_k$$\n",
    "together with the inequalities\n",
    "$0 \\leq t_1, t_2, \\cdots, t_k \\leq 1$."
   ]
  },
  {
   "cell_type": "markdown",
   "metadata": {},
   "source": [
    "From the perspective of linear algebra, this is $n+1$ linear equations in $k$ variables, with some constraints. The simplest non-trivial version of this problem is when $k=n+1$.   If your points $P$ in $\\mathbb R^n$ do not sit on an affine $n-1$-dimensional subspace of $\\mathbb R^n$ we say they are in **general position**.   The convex hull of $n+1$-points that are in general position in $\\mathbb R^n$ is called an $n$-simplex.  A $1$-simplex is typically called an *interval*, a $2$-simplex a *triangle*, a $3$-simplex a *tetrahedron*, etc. \n",
    "\n",
    "Write a Python function **in_hull(P, v)** that takes as input the points **P** as an $n\\times (n+1)$-numpy array (or numpy matrix, or list of lists), with $v$ an $n \\times 1$-numpy matrix (array or list of lists, etc).  We expect your code to work correctly with any of the three input types. Have your function return the coefficient vector $T$ as an $(n+1) \\times 1$-numpy matrix, if there is a solution.  The function should return **None** otherwise.\n",
    "\n",
    "**Grading script:** include the output of the following code.\n",
    "\n",
    "`print(in_hull([[3,4]], [[np.pi]]))`\n",
    "\n",
    "`print(in_hull([[np.cos(2*np.pi*i/3) for i in range(3)], [np.sin(2*np.pi*i/3) for i in range(3)]], [[0],[0]]))`\n",
    "\n",
    "`print(in_hull([[np.cos(2*np.pi*i/3) for i in range(3)], [np.sin(2*np.pi*i/3) for i in range(3)]], [[0.5],[0]]))`\n"
   ]
  },
  {
   "cell_type": "code",
   "execution_count": 5,
   "metadata": {},
   "outputs": [],
   "source": [
    "import numpy as np"
   ]
  },
  {
   "cell_type": "markdown",
   "metadata": {},
   "source": [
    "Matrix $P_{2x3}$ =\n",
    "\\begin{pmatrix}\n",
    "x_1 & x_2 & x_3\\\\\n",
    "y_1 & y_2 & y_3\\\\ \n",
    "\\end{pmatrix}"
   ]
  },
  {
   "cell_type": "code",
   "execution_count": 6,
   "metadata": {},
   "outputs": [],
   "source": [
    "def in_hull(P, v):\n",
    "    '''\n",
    "    Input:\n",
    "        P: n x (n+1) numpy array/matrix.\n",
    "        v: n x 1 numpy matrix\n",
    "    Output:\n",
    "        Determines if a point v is in the convex hull of the collection of points - P\n",
    "        Returns:\n",
    "            T: Coefficient vector. A (n+1) x 1 numpy matrix. (If a solution exist for t = [0,1])\n",
    "            None: Otherwise\n",
    "    '''\n",
    "    A = np.array([1 for i in range(np.shape(P)[1])])\n",
    "    #print(A)\n",
    "    #print(P)\n",
    "    \n",
    "    v2 = np.concatenate((v, [[1]]), axis = 0)\n",
    "    P2 = np.concatenate((P, [A]), axis = 0)\n",
    "    #print(P2)\n",
    "    #print(v2)\n",
    "    \n",
    "    if np.linalg.det(P2) == 0:\n",
    "        return None\n",
    "    else:\n",
    "        T = np.linalg.solve(P2, v2) # Could also use T = P**-1 * V\n",
    "        if np.any(T >1) or np.any(T < 0):\n",
    "            return None\n",
    "        else:\n",
    "            #print(\"True\")\n",
    "            return np.asmatrix(T)"
   ]
  },
  {
   "cell_type": "code",
   "execution_count": 7,
   "metadata": {},
   "outputs": [
    {
     "data": {
      "text/plain": [
       "matrix([[ 0.5],\n",
       "        [ 0.5],\n",
       "        [-0. ]])"
      ]
     },
     "execution_count": 7,
     "metadata": {},
     "output_type": "execute_result"
    }
   ],
   "source": [
    "## Test case when P 'matrix' is a numpy matrix\n",
    "Pm2 = np.matrix([[0,1],[1,0], [1,1]]).T\n",
    "vm2 = np.matrix([[0.5, 0.5]]).T\n",
    "in_hull(Pm2, vm2)"
   ]
  },
  {
   "cell_type": "code",
   "execution_count": 8,
   "metadata": {},
   "outputs": [
    {
     "data": {
      "text/plain": [
       "matrix([[0.25],\n",
       "        [0.25],\n",
       "        [0.25],\n",
       "        [0.25]])"
      ]
     },
     "execution_count": 8,
     "metadata": {},
     "output_type": "execute_result"
    }
   ],
   "source": [
    "## Test case when P 'matrix' is a numpy array\n",
    "Pm3 = np.array([[1,0,0],[0,0,1],[1, 1, 1], [0, 1, 0]]).transpose()\n",
    "vm3 = np.matrix([[0.5, 0.5, 0.5]]).T\n",
    "in_hull(Pm3, vm3)"
   ]
  },
  {
   "cell_type": "code",
   "execution_count": 9,
   "metadata": {},
   "outputs": [
    {
     "data": {
      "text/plain": [
       "matrix([[0.85840735],\n",
       "        [0.14159265]])"
      ]
     },
     "execution_count": 9,
     "metadata": {},
     "output_type": "execute_result"
    }
   ],
   "source": [
    "Pm4 = np.matrix([[3],[4]]).T\n",
    "vm4 = np.matrix([[np.pi]]).T\n",
    "in_hull(Pm4, vm4)"
   ]
  },
  {
   "cell_type": "code",
   "execution_count": 10,
   "metadata": {},
   "outputs": [
    {
     "name": "stdout",
     "output_type": "stream",
     "text": [
      "[[0.85840735]\n",
      " [0.14159265]]\n",
      "[[0.33333333]\n",
      " [0.33333333]\n",
      " [0.33333333]]\n",
      "[[0.66666667]\n",
      " [0.16666667]\n",
      " [0.16666667]]\n"
     ]
    }
   ],
   "source": [
    "## Grading script\n",
    "print(in_hull([[3,4]], [[np.pi]]))\n",
    "\n",
    "print(in_hull([[np.cos(2*np.pi*i/3) for i in range(3)], [np.sin(2*np.pi*i/3) for i in range(3)]], [[0],[0]]))\n",
    "\n",
    "print(in_hull([[np.cos(2*np.pi*i/3) for i in range(3)], [np.sin(2*np.pi*i/3) for i in range(3)]], [[0.5],[0]]))"
   ]
  },
  {
   "cell_type": "code",
   "execution_count": 11,
   "metadata": {},
   "outputs": [
    {
     "name": "stdout",
     "output_type": "stream",
     "text": [
      "None\n"
     ]
    }
   ],
   "source": [
    "print(in_hull([[3,4]], [[0]]))"
   ]
  },
  {
   "cell_type": "markdown",
   "metadata": {},
   "source": [
    "----\n",
    "\n",
    "## P.2:\n",
    "\n",
    "Create a function that takes as input a single integer $n$.  The function will choose $3$ points at random in the unit square, and also an additional $n$ points at random in the unit square $[0,1]^2$.  \n",
    "\n",
    "The algorithm will then plot the perimiter of the triangle formed by the first three points, as a line plot in black.  It will also plot the remaining $n$ points, using a point plot.  The points in the convex hull of the first three will be coloured red, the points outside the convex hull will be coloured yellow.\n",
    "\n",
    "Include one plot for $n=1000$. It should be similar to the plot below.\n",
    "\n",
    "![alt text](../Labs/12a.demo.png)"
   ]
  },
  {
   "cell_type": "code",
   "execution_count": 12,
   "metadata": {},
   "outputs": [],
   "source": [
    "import matplotlib.pyplot as plt\n",
    "%matplotlib inline\n",
    "import random as rd"
   ]
  },
  {
   "cell_type": "code",
   "execution_count": 13,
   "metadata": {},
   "outputs": [],
   "source": [
    "def P2_func(n):\n",
    "    '''\n",
    "    Input: \n",
    "        n: Integer\n",
    "        In a unit square, generate 3 randomized points and form a convex hull out of those three points.\n",
    "        Randomly generates additional n points in that unit square.\n",
    "    Output:\n",
    "        A scatterplot with n randomized points, with points within the convex hull highlighted in red.\n",
    "    '''\n",
    "    x = []\n",
    "    y = []\n",
    "    x_init = []\n",
    "    y_init = []\n",
    "    \n",
    "    ## The first 3 initial points, round to 3 decimal places:\n",
    "    for i in range(3):\n",
    "        x_init.append(np.around(rd.random(), 3) )\n",
    "        y_init.append(np.around(rd.random(), 3) )\n",
    "    #print(x_init, y_init)\n",
    "    \n",
    "    ## The additional n points, round to 3 decimal places:\n",
    "    for i in range(n):\n",
    "        x.append(np.around(rd.random(), 3) )\n",
    "        y.append(np.around(rd.random(), 3) )\n",
    "    #print(x[0],y[0])\n",
    "    \n",
    "    ## The first 3 points forms the P-matrix in Part 1\n",
    "    P = np.matrix([ [i for i in x_init], [i for i in y_init] ])\n",
    "    #print(P)\n",
    "    #print(P[0])\n",
    "    \n",
    "    ## Plot the triangle\n",
    "    #plt.plot([i for i in x_init], [i for i in y_init], '-r')\n",
    "    plt.fill([i for i in x_init], [i for i in y_init], fill= False)\n",
    "    \n",
    "    ## Determine if a point is within convex hull\n",
    "    for i in range(n):\n",
    "        v = np.matrix([ [x[i]], [y[i]] ])\n",
    "        #print(v)\n",
    "        test = in_hull(P, v)\n",
    "        if np.any(test) == None:\n",
    "            plt.plot(x[i], y[i], 'yo', alpha = 0.5)\n",
    "        else:\n",
    "            plt.plot(x[i], y[i], 'ro', alpha = 0.5)"
   ]
  },
  {
   "cell_type": "code",
   "execution_count": 14,
   "metadata": {},
   "outputs": [
    {
     "data": {
      "image/png": "[encoded data removed]",
      "text/plain": [
       "<Figure size 432x288 with 1 Axes>"
      ]
     },
     "metadata": {
      "needs_background": "light"
     },
     "output_type": "display_data"
    }
   ],
   "source": [
    "P2_func(1000)"
   ]
  },
  {
   "cell_type": "markdown",
   "metadata": {},
   "source": [
    "----\n",
    "\n",
    "## P.3:\n",
    "\n",
    "As a variant of **P.2**, create a function called **content_estimate(n, pt_ct, runs)** that takes as input three integers.\n",
    "\n",
    "The goal of **content_estimate** is to estimate the length of the average interval, or the area of the average triangle, etc.  In general, the content of the average simplex in $\\mathbb R^n$.  The rough idea comes from **P.2** -- provided one is choosing the points randomly and uniformly, the ratio of the number of red points to the total number of points should (on average) be approximating the area of the triangle. \n",
    "\n",
    "The algorithm **content_estimate** will randomly generate **n+1** and **pt_ct** points in $\\mathbb R^n$.  It will check which of the **pt_ct** points are in the convex hull of the other **n+1** points, and compute the ratio **A/pt_ct** where $A$ is the number of points from **pt_ct** that are in the convex hull of the **n+1** points.  \n",
    "\n",
    "The algorithm will repeat the previous step **runs** times, and return the average of all the computations **A/pi_ct**.  Thus your answer, provided **runs** is large enough, should approximate the content of the average $n$-simplex. \n",
    "\n",
    "**Grading Script:**\n",
    "\n",
    "Execute the code below and include the output in your notebook. \n",
    "\n",
    "`for n in [1,2,3,4]:\n",
    "    print(\"In [0,1]^%d : %1.4f\" % (n, content_estimate(n, 200, 1000) ) )`\n",
    "    \n",
    "How accurate do you expect these answers to be, i.e. do you have a sense for what any of the exact answers should be?  Perhaps execude the above code several times to get a sense for how much it typically varies."
   ]
  },
  {
   "cell_type": "code",
   "execution_count": 15,
   "metadata": {},
   "outputs": [
    {
     "name": "stdout",
     "output_type": "stream",
     "text": [
      "[[1 0 1 0]\n",
      " [0 0 1 1]\n",
      " [0 1 1 0]]\n",
      "[1 0 1 0]\n",
      "[1 0 0]\n"
     ]
    }
   ],
   "source": [
    "print(Pm3)\n",
    "print(Pm3[0,:])\n",
    "print(Pm3[:,0])"
   ]
  },
  {
   "cell_type": "code",
   "execution_count": 16,
   "metadata": {},
   "outputs": [
    {
     "name": "stdout",
     "output_type": "stream",
     "text": [
      "0.5093181191579731\n"
     ]
    }
   ],
   "source": [
    "x = np.matrix([[rd.random() for i in range(2)] for j in range(1)])\n",
    "y = np.matrix([[rd.random() for i in range(10)] for j in range(1)])\n",
    "print(y[0,0])"
   ]
  },
  {
   "cell_type": "code",
   "execution_count": 17,
   "metadata": {},
   "outputs": [],
   "source": [
    "def content_estimate(n, pt_ct, runs):\n",
    "    '''\n",
    "    Input: Somes integers n, pt_ct, runs\n",
    "    Output:\n",
    "        Randomly generates (n+1) and pt_ct points in R^n. \n",
    "            Check which of the pt_ct points are in the convex hull of the other (n+1), \n",
    "            and compute the ratio A/pt_ct, where A is the number of points from pt_ct that are \n",
    "            in the convex hull of the (n+1) points.\n",
    "        Repeat the process (runs) times.\n",
    "        Return:\n",
    "            Average of all A/pt_ct.\n",
    "    '''\n",
    "    ratio_list = []  \n",
    "    \n",
    "    ## Repeat (runs) times, return the average of A/pt_ct\n",
    "    for r in range(runs):\n",
    "        ## Forming the (n)x(n+1) matrices\n",
    "        P1 = np.matrix([[rd.random() for i in range(n+1)] for j in range(n)])\n",
    "        ## n x (pt_ct) matrix (i.e. pt_ct points in R^n)\n",
    "        P2 = np.matrix([[rd.random() for i in range(pt_ct)] for j in range(n)])\n",
    "        #print('P1 = ', P1)\n",
    "        #print('P2 = ', P2)\n",
    "\n",
    "        ## Determine if a point is within convex hull\n",
    "        ## Compute the ratio A/pt_ct\n",
    "        A = 0\n",
    "        for i in range(pt_ct):\n",
    "            v = P2[:, i]\n",
    "            #print('v =', v)\n",
    "            test = in_hull(P1, v)\n",
    "            ## If the point is not in the convex hull, skip it.\n",
    "            if np.any(test) == None:\n",
    "                continue\n",
    "            ## Otherwise add it to A\n",
    "            else:\n",
    "                A += 1\n",
    "        ratio_list.append(A/pt_ct)\n",
    "        \n",
    "    Avg_ratio = sum(ratio_list)/runs\n",
    "    #print(Avg_ratio)\n",
    "    return Avg_ratio"
   ]
  },
  {
   "cell_type": "code",
   "execution_count": 18,
   "metadata": {},
   "outputs": [],
   "source": [
    "## Test individual case\n",
    "## 1D Matrix\n",
    "#content_estimate(1,10,10)\n",
    "## 2D Matrix\n",
    "#content_estimate(2,10,10)\n",
    "## 3D Matrix\n",
    "#content_estimate(3,10,10)\n",
    "## 4D Matrix\n",
    "#content_estimate(4,10,10)"
   ]
  },
  {
   "cell_type": "code",
   "execution_count": 19,
   "metadata": {},
   "outputs": [
    {
     "name": "stdout",
     "output_type": "stream",
     "text": [
      "In [0,1]^1 : 0.3235\n",
      "In [0,1]^2 : 0.0749\n",
      "In [0,1]^3 : 0.0136\n",
      "In [0,1]^4 : 0.0020\n"
     ]
    }
   ],
   "source": [
    "for n in [1,2,3,4]:\n",
    "    print(\"In [0,1]^%d : %1.4f\" % (n, content_estimate(n, 200, 1000) ) )"
   ]
  },
  {
   "cell_type": "markdown",
   "metadata": {},
   "source": [
    "----\n",
    "\n",
    "## P.4: \n",
    "\n",
    "Write an algorithm **on_aff(P, v)** that takes as input a numpy $n \\times k$ matrix **P** and a numpy $n \\times 1$ vector $v$. The algorithm will determine whether or not $v$ is on the affine subspace of $\\mathbb R^n$ spanned by **P**.  \n",
    "\n",
    "If $v$ is on the affine subspace, have  **on_aff** return the coefficients **T**.  If not, return **None**.\n",
    "\n",
    "I recommend using [**least squares**](https://docs.scipy.org/doc/numpy/reference/generated/numpy.linalg.lstsq.html).  i.e. solve for $\\tilde T$ minimizing $||A T - \\vec v||^2$. Once you have computed $\\tilde T$, check if $||A\\tilde T-\\vec v||=0$ \n",
    "\n",
    "**Comments:**\n",
    "\n",
    "You are free to use the numpy library linked above, or solve the problem directly, much like our previous least-squares problems.\n",
    "\n",
    "We give a sketch how one would apply least squares in this situation. The least squares technique tells us the minima $\\tilde T$ satisfies\n",
    "\n",
    "$$ A^T(A \\tilde T - \\vec v) = 0$$\n",
    "(this requires a little calculus argument)\n",
    "\n",
    "Unfortunately, if the point collection $P$ is large relative to the ambient dimension $n$, the matrix $A^TA$ is not invertible -- this is because there are many solutions to the above equation.  One way to bypass this difficulty is to only use variables $t_i$ corresponding to the columns of $A$ that form a basis for the column space, i.e. this amounts to setting redundant variables $t_i=0$. \n",
    "\n",
    "---"
   ]
  },
  {
   "cell_type": "markdown",
   "metadata": {},
   "source": [
    "Create a function **on_hull(P, v)** which takes as input:\n",
    "\n",
    "1. **P** an arbitrary $n \\times k$ numpy matrix\n",
    "\n",
    "2. **v** an $n \\times 1$ numpy matrix.  \n",
    "\n",
    "Have **on_hull** return the coefficient matrix **T** if it exists, and **None** otherwise. The coefficient matrix would be the coefficients describing **v** as an affine linear combination of the column vectors of **P**.\n",
    "\n",
    "I suggest first solving for $\\tilde T$ using your solution to **Ex.1**. \n",
    "\n",
    "----\n",
    "\n",
    "All solutions to the equations\n",
    "\n",
    "$$t_1 p_1 + \\cdots + t_k p_k = v, \\ \\ t_1+ \\cdots + t_k=1$$\n",
    "\n",
    "are of the form $T = \\tilde T + w$ where $w \\in NullSpace(A)$.  \n",
    "\n",
    "If **v** is not on the affine subspace spanned by **P**, your algorithm would terminate with **None**. \n",
    "\n",
    "But if **v** is on the affine subspace spanned by **P**, you would then look for a solution $T$ where $0 \\leq t_i \\leq 1 \\ \\forall i$.  \n",
    "\n",
    "In more geometric language, we are asking if\n",
    "\n",
    "$$(\\tilde T + NullSpace(A)) \\cap [0,1]^k \\neq \\emptyset.$$\n",
    "\n",
    "This is a standard problem in a subject called **linear programming**.  The basic idea is that since $NullSpace(A)$ is connected and unbounded (provided $Nullity(A)>0$).  So **if** there is such an intersection, there must be an intersection on the boundary of $[0,1]^k$. \n",
    "\n",
    "At this point you are free to solve the problem using the suggestion below, or with the [**scipy.optimize.linprog**](https://docs.scipy.org/doc/scipy/reference/generated/scipy.optimize.linprog.html) routine.  The challenge in this case would be, how do we rephrase this problem to be one the library can handle? \n",
    "\n",
    "Repeating the argument two paragraphs up inductively, if $Nullity(A)=j$ then $\\tilde A + NullSpace(A))$ must intersect $[0,1]^k$ on a boundary facet of dimension $k-j$. \n",
    "\n",
    "The boundary facets of dimension $k-1$ are precisely $$\\{0,1\\} \\times [0,1]^{k-1}, [0,1] \\times \\{0,1\\} \\times [0,1]^{k-2}, \\cdots$$\n",
    "More generally, there are $2^j {k \\choose j}$ boundary facets of dimension $k-j$.  One obtains them by taking $j$ of the $[0,1]$ factors of $[0,1]^k$ and replacing $[0,1]$ by $\\{0,1\\}$.  \n",
    "\n",
    "----"
   ]
  },
  {
   "cell_type": "markdown",
   "metadata": {},
   "source": [
    "**In summary, here is our algorithm:**\n",
    "\n",
    "(1) Compute a basis for the nullspace of **A**. Use numpy's **np.linalg.null_space**. Let $j$ be the dimension of the nullspace.\n",
    "\n",
    "(2) Iterate over all the $2^j {k \\choose j}$ facets of $[0,1]^k$ of dimension $(k-j)$. Call such a facet $F$, and look for  solutions to the equation:\n",
    "$$(\\tilde T + NullSpace(A)) \\cap F \\neq \\emptyset$$\n",
    "\n",
    "To turn this into a proper set of equations, recall that the facet $F$ of $[0,1]^k$ is defined by demanding that $j$ of the coordinates either equal $0$ or $1$.  Given that $\\tilde T + NullSpace(A)$ is $j$-dimensional, this is $j$ linear equations in $j$ variables, i.e. we should typically expect a unique solution.  Provided there is such a solution, we need to check the remaining coordinates are in the interval $[0,1]$. \n",
    "\n",
    "Note that if **any** of these equations has a solution, then that is a valid $T$ to return to the user. If **none** of these equation have solutions, then you can return **None**.\n",
    "\n",
    "----\n",
    "\n",
    "To test your algorithm create a routine **plot_conv(n,j)** that computes **n** random points in $\\mathbb R^2$, and another **j** random points in $\\mathbb R^2$.  Plot the **n** random points. Use **red** for the points in the convex hull of the **j** points, and **yellow** for points not in the convex hull. \n",
    "\n",
    "If you have time (and the inclination) repeat again in $\\mathbb R^3$ using **PlotLy**'s **Scatter3d** feature.  Sample plots are included below.\n",
    "\n",
    "![alt text](../Labs/12b.demo.png)\n",
    "![alt text](../Labs/12b.demo2.png)"
   ]
  },
  {
   "cell_type": "code",
   "execution_count": 20,
   "metadata": {},
   "outputs": [],
   "source": [
    "def on_aff(P, v): \n",
    "    '''\n",
    "    Input:\n",
    "        P: a numpy (n x k) matrix\n",
    "        v: a numpy (n x 1) vector\n",
    "    Determines whether or not v is on the affine subspace of ℝ^𝑛 spanned by P. \n",
    "    Basically in_hull(P, v) above, without the constraint 0 ≤ 𝑡𝑖 ≤ 1\n",
    "    Output:\n",
    "        T: a coefficient matrix, if v in on the affine subspace:\n",
    "        None: otherwise\n",
    "    '''\n",
    "    A = np.array([1 for i in range(np.shape(P)[1])])\n",
    "    \n",
    "    v2 = np.concatenate((v, [[1]]), axis = 0)\n",
    "    P2 = np.concatenate((P, [A]), axis = 0)\n",
    "\n",
    "    ## 0 ≤ 𝑡𝑖 ≤ 1 contraints removed\n",
    "    if np.linalg.det(P2) == 0:\n",
    "        return None\n",
    "    else:\n",
    "        T = np.linalg.solve(P2, v2) # Could also use T = P**-1 * V\n",
    "        return np.asmatrix(T)"
   ]
  },
  {
   "cell_type": "code",
   "execution_count": 36,
   "metadata": {},
   "outputs": [
    {
     "data": {
      "text/plain": [
       "matrix([[ 4.],\n",
       "        [-3.]])"
      ]
     },
     "execution_count": 36,
     "metadata": {},
     "output_type": "execute_result"
    }
   ],
   "source": [
    "Pm4 = np.matrix([[3],[4]]).T\n",
    "vm4 = np.matrix([[0]]).T\n",
    "on_aff(Pm4, vm4)"
   ]
  },
  {
   "cell_type": "code",
   "execution_count": 34,
   "metadata": {},
   "outputs": [],
   "source": [
    "def on_hull(P, v):\n",
    "    '''\n",
    "    Input:\n",
    "        P: a numpy (n x k) matrix\n",
    "        v: a numpy (n x 1) vector\n",
    "    Look for a solution T with the constraint 0 ≤ 𝑡𝑖 ≤ 1\n",
    "    Linear Programming....\n",
    "    Output:\n",
    "        T: a coefficient matrix, if v in on the subspace:\n",
    "        None: otherwise\n",
    "    '''\n",
    "    T = on_aff(P, v)\n",
    "    if np.any(T >1) or np.any(T < 0):\n",
    "        return None\n",
    "    else:\n",
    "        return np.asmatrix(T)"
   ]
  },
  {
   "cell_type": "code",
   "execution_count": 35,
   "metadata": {},
   "outputs": [
    {
     "data": {
      "text/plain": [
       "matrix([[0.85840735],\n",
       "        [0.14159265]])"
      ]
     },
     "execution_count": 35,
     "metadata": {},
     "output_type": "execute_result"
    }
   ],
   "source": [
    "on_hull(Pm4, vm4)"
   ]
  },
  {
   "cell_type": "markdown",
   "metadata": {},
   "source": [
    "----\n",
    "\n",
    "## P.5:\n",
    "\n",
    "As we have seen in class, there is an unfortunate disconnect between the realtime Victoria Transit data and the information supplied on the bus routes.  In this homework problem we ask you to see if we can fix that problem.  The idea will be to check how closely a bus's real-time data matches all of the routes, and pick the \"best fit\". \n",
    "\n",
    "Notation: We will say a **(latitude, longitude)** pair is \"GPS coordinates\".  \n",
    "\n",
    "**Step 1)** Write a routine **dist_to_route(rid, gps)** that computes the shortest distance between the gps coordinates **gps** and **any point** along the route with route id **rid**.  Have the return value in metres.   Use **busDat['routes']** for the list of vertices of the routes. Your route ids should be in the form of the keys to **busDat['routes']**, i.e. '1-10-130' is a valid **rid** for the purpose of **dist_to_route**.\n",
    "\n",
    "Getting the distances exactly right isn't important, but if you would like to calibrate with me: I will use **6371km** as the radius of the earth, assuming Victoria is at sea level and the earth is a perfect sphere.  This gives me the distance between the Swartz Bay ferry terminal and the Bay Centre, downtown at **29.5km**.  We use \"as the crow flies\" distance, which is shorter than the Google Maps distance of **32.1km**.  I suggest you re-use your latitude-longitude to 3d-coordinates conversion code from Assignment 3. \n",
    "\n",
    "----"
   ]
  },
  {
   "cell_type": "markdown",
   "metadata": {},
   "source": [
    "**Step 2)** Write a **dist_realt_to_route(rid, route_id)** function where **rid** is the **busDat['routes']** route id, and **route_id** is the **busDat['realtime_data']** route_id.  Have this routine return the average of **dist_to_route(rid, gps)** where **gps** runs over the listed gps coordinates in the relevant realtime data.\n",
    "\n",
    "**Step 3)** Create a dictionary whose keys are the **route_id** and whose values is the **rid** with the smallest **dist_realt_to_route(rid, route_id)**.  \n",
    "\n",
    "**Grading Script** Print your dictionary from (3) using the **pp.pprint** command. \n",
    "\n",
    "**Warning:** Problem 5 will take a significant amount of time to execute, once your code is fully functional.  Please start early!"
   ]
  },
  {
   "cell_type": "code",
   "execution_count": 18,
   "metadata": {},
   "outputs": [],
   "source": [
    "import json\n",
    "\n",
    "with open('../../mp248-course/Data/vic.trans.json') as f:\n",
    "    busDat = json.load(f)"
   ]
  },
  {
   "cell_type": "code",
   "execution_count": 19,
   "metadata": {},
   "outputs": [],
   "source": [
    "import math as ma\n",
    "import collections as co\n",
    "import pprint as pp\n",
    "import operator as op"
   ]
  },
  {
   "cell_type": "markdown",
   "metadata": {},
   "source": [
    "[Haversine Formula](https://en.wikipedia.org/wiki/Haversine_formula) to calculate distance between 2 gps coordinates\n",
    "\n",
    "[Another reference](https://www.movable-type.co.uk/scripts/latlong.html)"
   ]
  },
  {
   "cell_type": "code",
   "execution_count": 20,
   "metadata": {},
   "outputs": [],
   "source": [
    "def gps_distance(coord_1, coord_2):\n",
    "    '''\n",
    "    Calculate distance between 2 gps coordinates using Haversine formula linked above\n",
    "    Formula: \n",
    "    a = sin²(Δφ/2) + cos φ1 ⋅ cos φ2 ⋅ sin²(Δλ/2)\n",
    "    c = 2 ⋅ atan2( √a, √(1−a) )\n",
    "    distance = R ⋅ c\n",
    "        where φ = latitude; λ = longitude; R = Earth's radius = 6371 km\n",
    "              a, c = arbitrary variables.\n",
    "              \"angle\" trig functions are in radian\n",
    "              (lat, long) = GPS format\n",
    "    '''\n",
    "    R = 6371 \n",
    "    lat1_rad = ma.radians(coord_1[0])\n",
    "    long1_rad = ma.radians(coord_1[1])\n",
    "    lat2_rad = ma.radians(coord_2[0])\n",
    "    long2_rad = ma.radians(coord_2[1])\n",
    "    \n",
    "    d_lat = lat1_rad - lat2_rad\n",
    "    d_long = long1_rad - long2_rad\n",
    "    \n",
    "    a = ma.sin(d_lat/2)**2 + ma.cos(lat1_rad) * ma.cos(lat2_rad) \\\n",
    "    * ma.sin(d_long/2)**2\n",
    "    c = 2* ma.atan2( ma.sqrt(a), ma.sqrt(1 - a) )\n",
    "    distance = R * c # in km\n",
    "    \n",
    "    return distance"
   ]
  },
  {
   "cell_type": "code",
   "execution_count": 21,
   "metadata": {},
   "outputs": [
    {
     "data": {
      "text/plain": [
       "29.474569396829885"
      ]
     },
     "execution_count": 21,
     "metadata": {},
     "output_type": "execute_result"
    }
   ],
   "source": [
    "# Swartz Bay ferry terminal to The Bay Centre, Downtown Victoria.\n",
    "gps_distance([48.6886, -123.4114], [48.4252 , -123.3665])"
   ]
  },
  {
   "cell_type": "code",
   "execution_count": 22,
   "metadata": {},
   "outputs": [],
   "source": [
    "def dist_to_route(rid, gps):\n",
    "    '''\n",
    "    Input:\n",
    "        rid: Route ID\n",
    "        gps: GPS coordinates\n",
    "    \n",
    "    Return:\n",
    "        The shortest distance between gps and (any point) along the route with route ID, rid.\n",
    "    '''\n",
    "    co_1 = [gps[1], gps[0]] # (lat, long) for gps\n",
    "    dist_list = []\n",
    "    for i in busDat['routes'][rid]:\n",
    "        co_2 = i\n",
    "        dist_list.append(gps_distance(co_1, co_2))\n",
    "    return(min(dist_list) * 1000) ## Convert km to metre"
   ]
  },
  {
   "cell_type": "code",
   "execution_count": 23,
   "metadata": {},
   "outputs": [
    {
     "data": {
      "text/plain": [
       "15965.130170407452"
      ]
     },
     "execution_count": 23,
     "metadata": {},
     "output_type": "execute_result"
    }
   ],
   "source": [
    "dist_to_route('1-10-130', [48.6886, -123.4114])"
   ]
  },
  {
   "cell_type": "code",
   "execution_count": 24,
   "metadata": {},
   "outputs": [],
   "source": [
    "def dis_realt_to_route(rid, route_id):\n",
    "    '''\n",
    "    Input:\n",
    "        rid: busDat['routes'] route id\n",
    "        route_id: busDat['realtime_data'] route_id\n",
    "    Ouput:\n",
    "        Return the average of dist_to_route(rid, gps) \n",
    "        where gps runs over the listed gps coordinates in the relevant realtime data\n",
    "    '''\n",
    "    gps_realtime_lat = [ i['latitude'] for i in busDat['realtime_data'] if i['route_id'] == route_id ]\n",
    "    gps_realtime_long = [ i['longitude'] for i in busDat['realtime_data'] if i['route_id'] == route_id ]\n",
    "    dist = []\n",
    "    for i in range(len(gps_realtime_lat)):\n",
    "        gps_realtime = [ gps_realtime_lat[i], gps_realtime_long[i] ]        \n",
    "        d = dist_to_route(rid, gps_realtime)\n",
    "        dist.append(d)\n",
    "    avg_dist = sum(dist)/len(dist)\n",
    "    return(avg_dist)"
   ]
  },
  {
   "cell_type": "code",
   "execution_count": 25,
   "metadata": {},
   "outputs": [
    {
     "data": {
      "text/plain": [
       "5924.055677371401"
      ]
     },
     "execution_count": 25,
     "metadata": {},
     "output_type": "execute_result"
    }
   ],
   "source": [
    "dis_realt_to_route('1-10-130', '33')"
   ]
  },
  {
   "cell_type": "code",
   "execution_count": 26,
   "metadata": {},
   "outputs": [
    {
     "name": "stdout",
     "output_type": "stream",
     "text": [
      "['1', '2', '3', '4', '5', '6', '7', '8', '9', '10', '11', '12', '13', '14', '15', '16', '17', '18', '19', '20', '21', '22', '23', '24', '25', '26', '27', '28', '29', '30', '31', '32', '33', '34', '35', '36', '37', '38', '39', '40', '41', '42', '43', '44', '45', '46', '47', '48', '49', '50', '51', '53', '54', '55', '56', '57', '58']\n"
     ]
    }
   ],
   "source": [
    "busdict = dict()\n",
    "busno = {c['route_id'] for c in busDat['realtime_data']}\n",
    "sorted_busno = sorted(busno, key = float)\n",
    "print(sorted_busno)"
   ]
  },
  {
   "cell_type": "code",
   "execution_count": 27,
   "metadata": {},
   "outputs": [],
   "source": [
    "def identify_route():\n",
    "    '''\n",
    "    Step 3: Find which rid (eg. 1-30-130) matches realtime's route_id\n",
    "    '''\n",
    "    ## Start with realtime route_id (eg. 14)\n",
    "    ## For every realtime route_id, loop through the \"fake Id\" RID (eg. 1-13-130) GPS\n",
    "        ## Calculate the average distance to find the smallest\n",
    "        ## If smallest distance -> Match route_id and RID\n",
    "    di = dict()    \n",
    "    for num in sorted_busno:\n",
    "        #avg_dist_list = []\n",
    "        rid_list = []\n",
    "        for k in busDat['routes'].keys():\n",
    "            #avg_dist_list.append(dis_realt_to_route(k, num))\n",
    "            rid_list.append((k, dis_realt_to_route(k, num)))\n",
    "        sorted_rid = sorted(rid_list, key = lambda tup: tup[1])\n",
    "        di[num] = sorted_rid[0][0] ## RID\n",
    "    pp.pprint(di)"
   ]
  },
  {
   "cell_type": "code",
   "execution_count": 29,
   "metadata": {},
   "outputs": [
    {
     "name": "stdout",
     "output_type": "stream",
     "text": [
      "{'1': '1-1-78',\n",
      " '10': '1-11-442',\n",
      " '11': '1-12-152',\n",
      " '12': '1-13-52',\n",
      " '13': '1-14-489',\n",
      " '14': '1-15-398',\n",
      " '15': '1-16-225',\n",
      " '16': '1-17-73',\n",
      " '17': '1-21-418',\n",
      " '18': '1-22-633',\n",
      " '19': '1-24-308',\n",
      " '2': '1-2-312',\n",
      " '20': '1-25-355',\n",
      " '21': '1-26-484',\n",
      " '22': '1-27-384',\n",
      " '23': '1-28-429',\n",
      " '24': '1-30-502',\n",
      " '25': '1-31-331',\n",
      " '26': '1-32-251',\n",
      " '27': '1-35-92',\n",
      " '28': '1-39-521',\n",
      " '29': '1-43-27',\n",
      " '3': '1-3-160',\n",
      " '30': '1-46-39',\n",
      " '31': '1-47-112',\n",
      " '32': '1-48-84',\n",
      " '33': '1-50-229',\n",
      " '34': '1-51-143',\n",
      " '35': '1-52-436',\n",
      " '36': '1-53-8',\n",
      " '37': '1-54-133',\n",
      " '38': '1-55-5',\n",
      " '39': '1-56-103',\n",
      " '4': '1-4-238',\n",
      " '40': '1-57-191',\n",
      " '41': '1-58-68',\n",
      " '42': '1-60-74',\n",
      " '43': '1-60-73',\n",
      " '44': '1-61-450',\n",
      " '45': '1-63-22',\n",
      " '46': '1-64-155',\n",
      " '47': '1-65-45',\n",
      " '48': '1-70-118',\n",
      " '49': '1-71-11',\n",
      " '5': '1-6-578',\n",
      " '50': '1-72-408',\n",
      " '51': '1-75-653',\n",
      " '53': '1-81-581',\n",
      " '54': '1-82-37',\n",
      " '55': '1-83-226',\n",
      " '56': '1-85-42',\n",
      " '57': '1-87-16',\n",
      " '58': '1-87-16',\n",
      " '6': '1-7-358',\n",
      " '7': '1-8-383',\n",
      " '8': '1-9-31',\n",
      " '9': '1-10-142'}\n"
     ]
    }
   ],
   "source": [
    "identify_route()"
   ]
  },
  {
   "cell_type": "code",
   "execution_count": null,
   "metadata": {},
   "outputs": [],
   "source": [
    "#pp.pprint(busDat['routes'].keys())"
   ]
  },
  {
   "cell_type": "code",
   "execution_count": null,
   "metadata": {},
   "outputs": [],
   "source": [
    "#pp.pprint([ (i['latitude'], i['longitude']) for i in busDat['realtime_data'] if i['route_id'] == '33']) "
   ]
  },
  {
   "cell_type": "code",
   "execution_count": null,
   "metadata": {},
   "outputs": [],
   "source": []
  }
 ],
 "metadata": {
  "kernelspec": {
   "display_name": "Python 3",
   "language": "python",
   "name": "python3"
  },
  "language_info": {
   "codemirror_mode": {
    "name": "ipython",
    "version": 3
   },
   "file_extension": ".py",
   "mimetype": "text/x-python",
   "name": "python",
   "nbconvert_exporter": "python",
   "pygments_lexer": "ipython3",
   "version": "3.6.7"
  }
 },
 "nbformat": 4,
 "nbformat_minor": 4
}
