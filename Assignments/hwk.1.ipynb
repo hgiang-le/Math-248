{
 "cells": [
  {
   "cell_type": "markdown",
   "metadata": {},
   "source": [
    "# Homework Assignment 1\n",
    "\n",
    "This homework assignment is concerned with the material from the first three weeks of classes. \n",
    "\n",
    "Store your assignment in your **mp248** repository.  Specifically, save the file as **mp248/Assignments/hwk.1.ipynb**.  You will receive automated feedback on your assignment in your Small Task 4. \n",
    "\n",
    "----"
   ]
  },
  {
   "cell_type": "markdown",
   "metadata": {},
   "source": [
    "**P1:** This question is a variant on your lab 2b.  \n",
    "\n",
    "Create a function **perm_lets(input_string)** that:\n",
    "\n",
    "1. Takes as input a string, **input_string**. \n",
    "2. Returns a string.\n",
    "3. The return string will have the same number of words as **input_string**, and the same letters as **input_string**, but the individual words can be of different length.  i.e. \n",
    "\n",
    "**perm_lets(\"try this\") == \"ist thry\"**\n",
    "\n",
    "is a valid return-value.  By \"number of words\" in a string ``X``, we mean the length of the list ``X.split(' ')``, i.e. one more than the number of blank spaces in the string.   A \"word\" means a string of letters with no spaces. Lastly,\n",
    "\n",
    "4. Every vowel must be isolated, i.e. immediately beside vowels you have at most spaces and/or consonants.\n"
   ]
  },
  {
   "cell_type": "code",
   "execution_count": 1,
   "metadata": {},
   "outputs": [],
   "source": [
    "import random as rd"
   ]
  },
  {
   "cell_type": "code",
   "execution_count": 2,
   "metadata": {},
   "outputs": [
    {
     "data": {
      "text/plain": [
       "True"
      ]
     },
     "execution_count": 2,
     "metadata": {},
     "output_type": "execute_result"
    }
   ],
   "source": [
    "vowel = [\"a\", \"e\", \"i\", \"o\", \"u\", \"A\", \"E\", \"I\", \"O\", \"U\"]\n",
    "\"A\" in vowel"
   ]
  },
  {
   "cell_type": "code",
   "execution_count": 3,
   "metadata": {},
   "outputs": [],
   "source": [
    "def vowel_check(L):\n",
    "    \"\"\"Check for consecutive vowel by looping through each element in string\"\"\"\n",
    "    vowel = [\"a\", \"e\", \"i\", \"o\", \"u\", \"A\", \"E\", \"I\", \"O\", \"U\"]\n",
    "    for i in range(len(L)):\n",
    "        if (L[i] in vowel) and (L[i-1] in vowel) :\n",
    "            return True\n",
    "    return False    "
   ]
  },
  {
   "cell_type": "code",
   "execution_count": 4,
   "metadata": {},
   "outputs": [
    {
     "name": "stdout",
     "output_type": "stream",
     "text": [
      "True\n",
      "29\n",
      "True\n",
      "True\n",
      "False\n"
     ]
    }
   ],
   "source": [
    "## Testing vowel_check function ##\n",
    "print(vowel_check(\"cb rsreoW notIHrrteeeouMnnd l\"))\n",
    "print(len(\"cb rsreoW notIHrrteeeouMnnd l\"))\n",
    "print(vowel_check(\"eeggaa\"))\n",
    "print(vowel_check(\"gggeeegggaaa\"))\n",
    "print(vowel_check(\"monster hunter world iceborne\"))"
   ]
  },
  {
   "cell_type": "code",
   "execution_count": 5,
   "metadata": {},
   "outputs": [],
   "source": [
    "def perm_lets(input_string):\n",
    "    \"\"\"\n",
    "    Input: A string\n",
    "    Return: A string, with all letters shuffled\n",
    "    \"\"\"\n",
    "    L = ''.join(rd.sample(input_string, len(input_string)))\n",
    "    \n",
    "    ## Checking for double spaces in the list and\n",
    "    ## Checking for spaces in first and last char\n",
    "    ## Checking for consecutive vowel in the list\n",
    "    ## Remake the list if any is true\n",
    "    while ('  ' in L) or (L[0] == ' ') or (L[-1] == ' ') or (vowel_check(L) == True): \n",
    "        L = ''.join(rd.sample(input_string, len(input_string)))\n",
    "    return(L)\n",
    "    "
   ]
  },
  {
   "cell_type": "code",
   "execution_count": 6,
   "metadata": {},
   "outputs": [
    {
     "data": {
      "text/plain": [
       "'Mer dcroWe Inbsot elHennturor'"
      ]
     },
     "execution_count": 6,
     "metadata": {},
     "output_type": "execute_result"
    }
   ],
   "source": [
    "perm_lets(\"Monster Hunter World Iceborne\")"
   ]
  },
  {
   "cell_type": "markdown",
   "metadata": {},
   "source": [
    "----\n",
    "\n",
    "**P2:** Load the relevant data in the **Data/SW.dat** into a Python object using the **json** library.  Using that data, print out a list of:\n",
    "\n",
    "(a) The five **shortest** characters in the Star Wars movies.  Print the data as a list of pairs **(name, height)**.    When printing your data, have it in increasing order (of heights).\n",
    "\n",
    "(b) The five **tallest** characters in the Star Wars movies. Use the same conventions as (a).\n",
    "\n",
    "(c) Print the five **heaviest** characters in the Star Wars movies.  Print the data as pairs **(name, weight)** in the order of increasing weight.\n",
    "\n",
    "(d) The five **lightest** characters in the Star Wars movies.  Use the conventions of (c).\n",
    "\n",
    "(e) Create a **matplotlib** plot of height vs. weight of the Star Wars characters.  i.e. on the x-axis plot the heights, and on the y-axis plot the weights.  As in the lecture notes, please use **%matplotlib inline** to ensure your plots are saved in your notebook.\n"
   ]
  },
  {
   "cell_type": "code",
   "execution_count": 7,
   "metadata": {},
   "outputs": [],
   "source": [
    "import json \n",
    "import pprint as pp\n",
    "import collections as co\n",
    "import operator as op"
   ]
  },
  {
   "cell_type": "markdown",
   "metadata": {},
   "source": [
    "Algorithm attempt:\n",
    "1. Extract names and heights\n",
    "2. Pair them together to spot the 'unknown' height entry\n",
    "3. Kill that 'unknown' entry\n",
    "4. Height is stored as string type, so convert it into int for sorting purpose\n",
    "5. Unpair them, convert the height into int\n",
    "6. \"Repair\" them again\n",
    "7. Sort\n",
    "8. ???\n",
    "9. Profit"
   ]
  },
  {
   "cell_type": "code",
   "execution_count": 8,
   "metadata": {},
   "outputs": [],
   "source": [
    "with open(\"../../mp248-course/Data/SW.dat/people.json\") as f:\n",
    "    ppdat = json.loads(f.read())"
   ]
  },
  {
   "cell_type": "code",
   "execution_count": 18,
   "metadata": {},
   "outputs": [],
   "source": [
    "##pp.pprint(ppdat)"
   ]
  },
  {
   "cell_type": "code",
   "execution_count": 10,
   "metadata": {},
   "outputs": [],
   "source": [
    "## attempt to 'extract' people's name and height from ppdat ##\n",
    "ccDict = co.defaultdict(int)\n",
    "people_name = [i['fields']['name'] for i in ppdat]\n",
    "people_height = [i['fields']['height'] for i in ppdat]"
   ]
  },
  {
   "cell_type": "code",
   "execution_count": 11,
   "metadata": {},
   "outputs": [],
   "source": [
    "##print(people_name)\n",
    "##print(people_height)\n",
    "##print(type(people_height[0])) "
   ]
  },
  {
   "cell_type": "markdown",
   "metadata": {},
   "source": [
    "[zip()](https://docs.python.org/3.3/library/functions.html#zip) function was not covered in lecture, but it was necessary for this solution."
   ]
  },
  {
   "cell_type": "code",
   "execution_count": 19,
   "metadata": {},
   "outputs": [
    {
     "name": "stdout",
     "output_type": "stream",
     "text": [
      "<class 'zip'>\n"
     ]
    }
   ],
   "source": [
    "## Attempt to pair two lists, element by element using zip() ##\n",
    "## It can be difficult to sort zip type, so should be converted into list type first for easier sorting ## \n",
    "print(type(zip(people_name, people_height)))\n",
    "list1 = list(zip(people_name, people_height))\n",
    "#print(list1)"
   ]
  },
  {
   "cell_type": "code",
   "execution_count": 13,
   "metadata": {},
   "outputs": [],
   "source": [
    "## There is a height 'unknown' in the list. Want to remove/filter that entry entirely ##\n",
    "list2 = [] ## make a new list since it is hard to remove elements from tuple ##\n",
    "for i in range(0, len(list1)):\n",
    "    if \"unknown\" not in list1[i]:\n",
    "        list2.append(list1[i])\n",
    "##pp.pprint(list2)        "
   ]
  },
  {
   "cell_type": "code",
   "execution_count": 20,
   "metadata": {},
   "outputs": [
    {
     "name": "stdout",
     "output_type": "stream",
     "text": [
      "[('Luke Skywalker', 172), ('C-3PO', 167), ('R2-D2', 96), ('Darth Vader', 202), ('Leia Organa', 150), ('Owen Lars', 178), ('Beru Whitesun lars', 165), ('R5-D4', 97), ('Biggs Darklighter', 183), ('Obi-Wan Kenobi', 182), ('Anakin Skywalker', 188), ('Wilhuff Tarkin', 180), ('Chewbacca', 228), ('Han Solo', 180), ('Greedo', 173), ('Jabba Desilijic Tiure', 175), ('Wedge Antilles', 170), ('Jek Tono Porkins', 180), ('Yoda', 66), ('Palpatine', 170), ('Boba Fett', 183), ('IG-88', 200), ('Bossk', 190), ('Lando Calrissian', 177), ('Lobot', 175), ('Ackbar', 180), ('Mon Mothma', 150), ('Wicket Systri Warrick', 88), ('Nien Nunb', 160), ('Qui-Gon Jinn', 193), ('Nute Gunray', 191), ('Finis Valorum', 170), ('Padmé Amidala', 185), ('Jar Jar Binks', 196), ('Roos Tarpals', 224), ('Rugor Nass', 206), ('Ric Olié', 183), ('Watto', 137), ('Sebulba', 112), ('Quarsh Panaka', 183), ('Shmi Skywalker', 163), ('Darth Maul', 175), ('Bib Fortuna', 180), ('Ayla Secura', 178), ('Ratts Tyerel', 79), ('Dud Bolt', 94), ('Gasgano', 122), ('Ben Quadinaros', 163), ('Mace Windu', 188), ('Ki-Adi-Mundi', 198), ('Kit Fisto', 196), ('Eeth Koth', 171), ('Adi Gallia', 184), ('Saesee Tiin', 188), ('Yarael Poof', 264), ('Plo Koon', 188), ('Mas Amedda', 196), ('Gregar Typho', 185), ('Cordé', 157), ('Cliegg Lars', 183), ('Poggle the Lesser', 183), ('Luminara Unduli', 170), ('Barriss Offee', 166), ('Dormé', 165), ('Dooku', 193), ('Bail Prestor Organa', 191), ('Jango Fett', 183), ('Zam Wesell', 168), ('Dexter Jettster', 198), ('Lama Su', 229), ('Taun We', 213), ('Jocasta Nu', 167), ('R4-P17', 96), ('Wat Tambor', 193), ('San Hill', 191), ('Shaak Ti', 178), ('Grievous', 216), ('Tarfful', 234), ('Raymus Antilles', 188), ('Sly Moore', 178), ('Tion Medon', 206)]\n"
     ]
    }
   ],
   "source": [
    "## unzip the tuple into 2 separate lists to convert the height into int type for ease of sorting##\n",
    "people_name, people_height = list(zip(*list2))\n",
    "people_height_int = []\n",
    "for i in range(0, len(people_height)):\n",
    "    people_height_int.append(int(people_height[i]))\n",
    "##print(people_height_int)\n",
    "\n",
    "## zip the two list again ##\n",
    "list1 = list(zip(people_name, people_height_int)) ## replace list1 (str height) with new list1 (int height)\n",
    "print(list1)"
   ]
  },
  {
   "cell_type": "code",
   "execution_count": 22,
   "metadata": {},
   "outputs": [
    {
     "name": "stdout",
     "output_type": "stream",
     "text": [
      "[('Yoda', 66),\n",
      " ('Ratts Tyerel', 79),\n",
      " ('Wicket Systri Warrick', 88),\n",
      " ('Dud Bolt', 94),\n",
      " ('R2-D2', 96),\n",
      " ('R4-P17', 96),\n",
      " ('R5-D4', 97),\n",
      " ('Sebulba', 112),\n",
      " ('Gasgano', 122),\n",
      " ('Watto', 137),\n",
      " ('Leia Organa', 150),\n",
      " ('Mon Mothma', 150),\n",
      " ('Cordé', 157),\n",
      " ('Nien Nunb', 160),\n",
      " ('Shmi Skywalker', 163),\n",
      " ('Ben Quadinaros', 163),\n",
      " ('Beru Whitesun lars', 165),\n",
      " ('Dormé', 165),\n",
      " ('Barriss Offee', 166),\n",
      " ('C-3PO', 167),\n",
      " ('Jocasta Nu', 167),\n",
      " ('Zam Wesell', 168),\n",
      " ('Wedge Antilles', 170),\n",
      " ('Palpatine', 170),\n",
      " ('Finis Valorum', 170),\n",
      " ('Luminara Unduli', 170),\n",
      " ('Eeth Koth', 171),\n",
      " ('Luke Skywalker', 172),\n",
      " ('Greedo', 173),\n",
      " ('Jabba Desilijic Tiure', 175),\n",
      " ('Lobot', 175),\n",
      " ('Darth Maul', 175),\n",
      " ('Lando Calrissian', 177),\n",
      " ('Owen Lars', 178),\n",
      " ('Ayla Secura', 178),\n",
      " ('Shaak Ti', 178),\n",
      " ('Sly Moore', 178),\n",
      " ('Wilhuff Tarkin', 180),\n",
      " ('Han Solo', 180),\n",
      " ('Jek Tono Porkins', 180),\n",
      " ('Ackbar', 180),\n",
      " ('Bib Fortuna', 180),\n",
      " ('Obi-Wan Kenobi', 182),\n",
      " ('Biggs Darklighter', 183),\n",
      " ('Boba Fett', 183),\n",
      " ('Ric Olié', 183),\n",
      " ('Quarsh Panaka', 183),\n",
      " ('Cliegg Lars', 183),\n",
      " ('Poggle the Lesser', 183),\n",
      " ('Jango Fett', 183),\n",
      " ('Adi Gallia', 184),\n",
      " ('Padmé Amidala', 185),\n",
      " ('Gregar Typho', 185),\n",
      " ('Anakin Skywalker', 188),\n",
      " ('Mace Windu', 188),\n",
      " ('Saesee Tiin', 188),\n",
      " ('Plo Koon', 188),\n",
      " ('Raymus Antilles', 188),\n",
      " ('Bossk', 190),\n",
      " ('Nute Gunray', 191),\n",
      " ('Bail Prestor Organa', 191),\n",
      " ('San Hill', 191),\n",
      " ('Qui-Gon Jinn', 193),\n",
      " ('Dooku', 193),\n",
      " ('Wat Tambor', 193),\n",
      " ('Jar Jar Binks', 196),\n",
      " ('Kit Fisto', 196),\n",
      " ('Mas Amedda', 196),\n",
      " ('Ki-Adi-Mundi', 198),\n",
      " ('Dexter Jettster', 198),\n",
      " ('IG-88', 200),\n",
      " ('Darth Vader', 202),\n",
      " ('Rugor Nass', 206),\n",
      " ('Tion Medon', 206),\n",
      " ('Taun We', 213),\n",
      " ('Grievous', 216),\n",
      " ('Roos Tarpals', 224),\n",
      " ('Chewbacca', 228),\n",
      " ('Lama Su', 229),\n",
      " ('Tarfful', 234),\n",
      " ('Yarael Poof', 264)]\n"
     ]
    }
   ],
   "source": [
    "## Sort list1 by increasing order of height, as in lecture notes ##\n",
    "## list1 should now be sorted ##\n",
    "list1 = sorted(list1, key=op.itemgetter(1))\n",
    "pp.pprint(list1)"
   ]
  },
  {
   "cell_type": "markdown",
   "metadata": {},
   "source": [
    "#### Answer: ####\n",
    "(a) The five **shortest** characters in the Star Wars movies."
   ]
  },
  {
   "cell_type": "code",
   "execution_count": 23,
   "metadata": {},
   "outputs": [
    {
     "name": "stdout",
     "output_type": "stream",
     "text": [
      "('Yoda', 66)\n",
      "('Ratts Tyerel', 79)\n",
      "('Wicket Systri Warrick', 88)\n",
      "('Dud Bolt', 94)\n",
      "('R2-D2', 96)\n"
     ]
    }
   ],
   "source": [
    "## Print the first 5 elements of the sorted list ##\n",
    "for i in range(5):\n",
    "    pp.pprint(list1[i])"
   ]
  },
  {
   "cell_type": "markdown",
   "metadata": {},
   "source": [
    "(b) The five **tallest** characters in the Star Wars movies."
   ]
  },
  {
   "cell_type": "code",
   "execution_count": 26,
   "metadata": {},
   "outputs": [
    {
     "name": "stdout",
     "output_type": "stream",
     "text": [
      "('Yarael Poof', 264)\n",
      "('Tarfful', 234)\n",
      "('Lama Su', 229)\n",
      "('Chewbacca', 228)\n",
      "('Roos Tarpals', 224)\n"
     ]
    }
   ],
   "source": [
    "for i in range(1,6):\n",
    "    pp.pprint(list1[-i])"
   ]
  },
  {
   "cell_type": "markdown",
   "metadata": {},
   "source": [
    "----\n",
    "\n",
    "**P3**: Write a function that takes as input a single integer $n$.  The function will generate $n$ random points in the plane, plot (i.e. a matplotlib plot) the points, and further plot one edge from each point to its nearest neighbour.  Include output from the $n=10$ case, and $n=100$ case.  As in the lecture notes, please use **%matplotlib inline** to ensure your plots are saved in your notebook.\n"
   ]
  },
  {
   "cell_type": "code",
   "execution_count": null,
   "metadata": {},
   "outputs": [],
   "source": []
  },
  {
   "cell_type": "markdown",
   "metadata": {},
   "source": [
    "----\n",
    "**P4:** In lecture 3c we created a plot of the complex roots of a family of polynomials.  The polynomial family was parametrized by a variable $t$\n",
    "\n",
    "$$f_t(z) = z^2 + 3tz + 1$$\n",
    "\n",
    "In this problem, we ask you to develop this idea further. \n",
    "\n",
    "Specifically, make the **same plot** as in class, but include line segments in this plot.  The rule for including line segments will be this.  Let $R_k$ be the roots of $f_{t_k}$ and $R_{k+1}$ be the roots of $f_{t_{k+1}}$ provided $t_k$ and $t_{k+1}$ are consecutive in the partition of the time interval $I$.  For every point of $R_k$ you will draw a line segment to **the closest** point(s) of $R_{k+1}$.  \n",
    "\n",
    "Do your plots support the premise that if you vary the coefficients of a polynomial continuously, the roots would also *vary continuously*? "
   ]
  },
  {
   "cell_type": "code",
   "execution_count": null,
   "metadata": {},
   "outputs": [],
   "source": []
  },
  {
   "cell_type": "markdown",
   "metadata": {},
   "source": [
    "----\n",
    "\n",
    "**P5:** In this problem we ask you to construct a variation on Simpson's method.   The set-up (context) is a little long, apologies!\n",
    "\n",
    "The core idea of Simpson's method is described in the [Quadratic Interpolation](https://en.wikipedia.org/wiki/Simpson%27s_rule) section of the Wikipedia article.  In short, given the three points in the plane with three different x-coordinates, there is a unique quadratic polynomial that passes through those points.  The article even gives you the formula for the polynomial:\n",
    "\n",
    "$$P(x) = f(a) \\tfrac{(x-m)(x-b)}{(a-m)(a-b)} + f(m) \\tfrac{(x-a)(x-b)}{(m-a)(m-b)} + f(b) \\tfrac{(x-a)(x-m)}{(b-a)(b-m)}$$\n",
    "\n",
    "Here $a<m<b$ are the three points on the x-axis and the three points in the plane are $(a,f(a)), (m, f(m)), (b, f(b))$. "
   ]
  },
  {
   "cell_type": "markdown",
   "metadata": {},
   "source": [
    "In Simpson's method, you break your interval $[a,b]$ into $n$ equal-length sub-intervals, on each sub-interval you compute the polynomial $P$ (but where $a$ and $b$ in the above formula would be replaced by the end-points of the sub-interval, $m$ being the mid-point).  The Simpson approximation is the sum of the integrals of the quadratic approximations, given by the above formula. "
   ]
  },
  {
   "cell_type": "markdown",
   "metadata": {},
   "source": [
    "In this problem we ask you to do something highly analogous, but we use a degree $3$ polynomial interpolation, rather than a degree $2$.  Specifically, if $f$ is differentiable function on an interval $[a,b]$ then we can find a unique degree $4$ polynomial $P(x)$ such that:\n",
    "\n",
    "$$P(a) = f(a), P'(a) = f'(a), P(b) = f(b), P'(b) = f'(b)$$\n",
    "\n",
    "Below we solve for the function $P$. "
   ]
  },
  {
   "cell_type": "markdown",
   "metadata": {},
   "source": [
    "#### Solving for P\n",
    "\n",
    "The above four equations in $P$ can be viewed as a system of linear equations in the coefficients of the polynomial $P(x)=c_0+c_1x+c_2x^2+c_3x^3$. Linear algebra teaches us to write such a system of equations as a matrix equation:\n",
    "\n",
    "$$\\pmatrix{ 1 & a & a^2 & a^3 \\\\ 0 & 1 & 2a & 3a^2 \\\\ 1 & b & b^2 & b^3 \\\\ 0 & 1 & 2b & 3b^2} \\pmatrix{c_0 \\\\ c_1 \\\\ c_2 \\\\ c_3} = \\pmatrix{f(a) \\\\ f'(a) \\\\ f(b) \\\\ f'(b)}.$$"
   ]
  },
  {
   "cell_type": "markdown",
   "metadata": {},
   "source": [
    "Call the $4\\times 4$ matrix $A$.  The determinant of $A$ is $(a-b)^4$, so the inverse is given by:\n",
    "$$A^{-1} = \\frac{1}{det(A)} adj(A) = \\frac{1}{(a-b)^4} [(-1)^{i+j} M_{ji}]$$\n",
    "where $adj(A)$ is the *adjugate* of $A$, i.e. the transpose of the cofactor matrix $[(-1)^{i+j}M_{ij}]$.  This gives us the formula\n",
    "$$A^{-1} = \\frac{1}{(a-b)^3} \\left[\\begin{matrix}b^{2} \\left(3 a - b\\right) & a b^{2} \\left(- a + b\\right) & a^{2} \\left(a - 3 b\\right) & a^{2} b \\left(- a + b\\right)\\\\- 6 a b & b \\left(2 a^{2} - a b - b^{2}\\right) & 6 a b & a \\left(a^{2} + a b - 2 b^{2}\\right)\\\\3 a + 3 b & - a^{2} - a b + 2 b^{2} & - 3 a - 3 b & - 2 a^{2} + a b + b^{2}\\\\-2 & a - b & 2 & a - b\\end{matrix}\\right]$$\n",
    "i.e. \n",
    "\n",
    "$$ \\pmatrix{c_0 \\\\ c_1 \\\\ c_2 \\\\ c_3} = \\frac{1}{(a-b)^3} \\left[\\begin{matrix}b^{2} \\left(3 a - b\\right) & a b^{2} \\left(- a + b\\right) & a^{2} \\left(a - 3 b\\right) & a^{2} b \\left(- a + b\\right)\\\\- 6 a b & b \\left(2 a^{2} - a b - b^{2}\\right) & 6 a b & a \\left(a^{2} + a b - 2 b^{2}\\right)\\\\3 a + 3 b & - a^{2} - a b + 2 b^{2} & - 3 a - 3 b & - 2 a^{2} + a b + b^{2}\\\\-2 & a - b & 2 & a - b\\end{matrix}\\right] \\cdot \\pmatrix{f(a) \\\\ f'(a) \\\\ f(b) \\\\ f'(b)}$$"
   ]
  },
  {
   "cell_type": "markdown",
   "metadata": {},
   "source": [
    "### The problem:\n",
    "\n",
    "In this problem we ask you to **use** the above formula to create an integral approximation technique. Call your function **deg3_approx**.  This function will take five arguments: (1) the function `f` you wish to approximate the integral of, (2) another function `fp` which is supposed to be the derivative of `f`, (3) the left-endpoint of the interval, (4) the right end-point of the interval and (5) the number of subdivisions to be performed. i.e. your function definition should look like this:\n",
    "\n",
    "**def deg3_approx(f, fp, a, b, n):**\n",
    "\n",
    "This function should return the sum of the integrals of the degree three approximations, outlined above, but where you perform the approximations on the $n$ equal-length sub-intervals of $[a,b]$. \n",
    "\n",
    "Once you have implemented this function, copy and paste these lines of code into your notebook, and execute.  The grading script for **Task 4** will check your answers.\n",
    "\n",
    "```\n",
    "for i in [2**k for k in range(2, 10)]:\n",
    "    A = deg3_approx(np.sin, np.cos, 0.0, np.pi, i)\n",
    "    print(\"Deg 3 with n=\",i,' ',A, sep='')\n",
    "```\n",
    "\n",
    "How do the **deg3_approx** approximations compare with Simpson's approximations?"
   ]
  },
  {
   "cell_type": "code",
   "execution_count": null,
   "metadata": {},
   "outputs": [],
   "source": []
  }
 ],
 "metadata": {
  "kernelspec": {
   "display_name": "Python 3",
   "language": "python",
   "name": "python3"
  },
  "language_info": {
   "codemirror_mode": {
    "name": "ipython",
    "version": 3
   },
   "file_extension": ".py",
   "mimetype": "text/x-python",
   "name": "python",
   "nbconvert_exporter": "python",
   "pygments_lexer": "ipython3",
   "version": "3.6.7"
  }
 },
 "nbformat": 4,
 "nbformat_minor": 2
}
