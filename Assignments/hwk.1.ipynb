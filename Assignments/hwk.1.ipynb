{
 "cells": [
  {
   "cell_type": "markdown",
   "metadata": {},
   "source": [
    "# Homework Assignment 1\n",
    "\n",
    "This homework assignment is concerned with the material from the first three weeks of classes. \n",
    "\n",
    "Store your assignment in your **mp248** repository.  Specifically, save the file as **mp248/Assignments/hwk.1.ipynb**.  You will receive automated feedback on your assignment in your Small Task 4. \n",
    "\n",
    "----"
   ]
  },
  {
   "cell_type": "markdown",
   "metadata": {},
   "source": [
    "**P1:** This question is a variant on your lab 2b.  \n",
    "\n",
    "Create a function **perm_lets(input_string)** that:\n",
    "\n",
    "1. Takes as input a string, **input_string**. \n",
    "2. Returns a string.\n",
    "3. The return string will have the same number of words as **input_string**, and the same letters as **input_string**, but the individual words can be of different length.  i.e. \n",
    "\n",
    "**perm_lets(\"try this\") == \"ist thry\"**\n",
    "\n",
    "is a valid return-value.  By \"number of words\" in a string ``X``, we mean the length of the list ``X.split(' ')``, i.e. one more than the number of blank spaces in the string.   A \"word\" means a string of letters with no spaces. Lastly,\n",
    "\n",
    "4. Every vowel must be isolated, i.e. immediately beside vowels you have at most spaces and/or consonants.\n"
   ]
  },
  {
   "cell_type": "code",
   "execution_count": 1,
   "metadata": {},
   "outputs": [],
   "source": [
    "import random as rd"
   ]
  },
  {
   "cell_type": "code",
   "execution_count": 12,
   "metadata": {},
   "outputs": [
    {
     "data": {
      "text/plain": [
       "True"
      ]
     },
     "execution_count": 12,
     "metadata": {},
     "output_type": "execute_result"
    }
   ],
   "source": [
    "vowel = [\"a\", \"e\", \"i\", \"o\", \"u\", \"A\", \"E\", \"I\", \"O\", \"U\"]\n",
    "\"A\" in vowel"
   ]
  },
  {
   "cell_type": "code",
   "execution_count": 13,
   "metadata": {},
   "outputs": [],
   "source": [
    "def vowel_check(L):\n",
    "    \"\"\"Check for consecutive vowel by looping through each element in string\"\"\"\n",
    "    vowel = [\"a\", \"e\", \"i\", \"o\", \"u\", \"A\", \"E\", \"I\", \"O\", \"U\"]\n",
    "    for i in range(len(L)):\n",
    "        if (L[i] in vowel) and (L[i-1] in vowel) :\n",
    "            return True\n",
    "    return False    "
   ]
  },
  {
   "cell_type": "code",
   "execution_count": 14,
   "metadata": {},
   "outputs": [
    {
     "name": "stdout",
     "output_type": "stream",
     "text": [
      "True\n",
      "29\n",
      "True\n",
      "True\n",
      "False\n"
     ]
    }
   ],
   "source": [
    "## Testing vowel_check function ##\n",
    "print(vowel_check(\"cb rsreoW notIHrrteeeouMnnd l\"))\n",
    "print(len(\"cb rsreoW notIHrrteeeouMnnd l\"))\n",
    "print(vowel_check(\"eeggaa\"))\n",
    "print(vowel_check(\"gggeeegggaaa\"))\n",
    "print(vowel_check(\"monster hunter world iceborne\"))"
   ]
  },
  {
   "cell_type": "code",
   "execution_count": 9,
   "metadata": {},
   "outputs": [],
   "source": [
    "def perm_lets(input_string):\n",
    "    \"\"\"\n",
    "    Input: A string\n",
    "    Return: A string, with all letters shuffled\n",
    "    \"\"\"\n",
    "    L = ''.join(rd.sample(input_string, len(input_string)))\n",
    "    \n",
    "    ## Checking for double spaces in the list and\n",
    "    ## Checking for spaces in first and last char\n",
    "    ## Checking for consecutive vowel in the list\n",
    "    ## Remake the list if any is true\n",
    "    while ('  ' in L) or (L[0] == ' ') or (L[-1] == ' ') or (vowel_check(L) == True): \n",
    "        L = ''.join(rd.sample(input_string, len(input_string)))\n",
    "    return(L)\n",
    "    "
   ]
  },
  {
   "cell_type": "code",
   "execution_count": 10,
   "metadata": {},
   "outputs": [
    {
     "data": {
      "text/plain": [
       "'du olrcnenorrebHttenrso eWM I'"
      ]
     },
     "execution_count": 10,
     "metadata": {},
     "output_type": "execute_result"
    }
   ],
   "source": [
    "perm_lets(\"Monster Hunter World Iceborne\")"
   ]
  },
  {
   "cell_type": "markdown",
   "metadata": {},
   "source": [
    "----\n",
    "\n",
    "**P2:** Load the relevant data in the **Data/SW.dat** into a Python object using the **json** library.  Using that data, print out a list of:\n",
    "\n",
    "(a) The five **shortest** characters in the Star Wars movies.  Print the data as a list of pairs **(name, height)**.    When printing your data, have it in increasing order (of heights).\n",
    "\n",
    "(b) The five **tallest** characters in the Star Wars movies. Use the same conventions as (a).\n",
    "\n",
    "(c) Print the five **heaviest** characters in the Star Wars movies.  Print the data as pairs **(name, weight)** in the order of increasing weight.\n",
    "\n",
    "(d) The five **lightest** characters in the Star Wars movies.  Use the conventions of (c).\n",
    "\n",
    "(e) Create a **matplotlib** plot of height vs. weight of the Star Wars characters.  i.e. on the x-axis plot the heights, and on the y-axis plot the weights.  As in the lecture notes, please use **%matplotlib inline** to ensure your plots are saved in your notebook.\n"
   ]
  },
  {
   "cell_type": "code",
   "execution_count": null,
   "metadata": {},
   "outputs": [],
   "source": []
  },
  {
   "cell_type": "markdown",
   "metadata": {},
   "source": [
    "----\n",
    "\n",
    "**P3**: Write a function that takes as input a single integer $n$.  The function will generate $n$ random points in the plane, plot (i.e. a matplotlib plot) the points, and further plot one edge from each point to its nearest neighbour.  Include output from the $n=10$ case, and $n=100$ case.  As in the lecture notes, please use **%matplotlib inline** to ensure your plots are saved in your notebook.\n"
   ]
  },
  {
   "cell_type": "code",
   "execution_count": null,
   "metadata": {},
   "outputs": [],
   "source": []
  },
  {
   "cell_type": "markdown",
   "metadata": {},
   "source": [
    "----\n",
    "**P4:** In lecture 3c we created a plot of the complex roots of a family of polynomials.  The polynomial family was parametrized by a variable $t$\n",
    "\n",
    "$$f_t(z) = z^2 + 3tz + 1$$\n",
    "\n",
    "In this problem, we ask you to develop this idea further. \n",
    "\n",
    "Specifically, make the **same plot** as in class, but include line segments in this plot.  The rule for including line segments will be this.  Let $R_k$ be the roots of $f_{t_k}$ and $R_{k+1}$ be the roots of $f_{t_{k+1}}$ provided $t_k$ and $t_{k+1}$ are consecutive in the partition of the time interval $I$.  For every point of $R_k$ you will draw a line segment to **the closest** point(s) of $R_{k+1}$.  \n",
    "\n",
    "Do your plots support the premise that if you vary the coefficients of a polynomial continuously, the roots would also *vary continuously*? "
   ]
  },
  {
   "cell_type": "code",
   "execution_count": null,
   "metadata": {},
   "outputs": [],
   "source": []
  },
  {
   "cell_type": "markdown",
   "metadata": {},
   "source": [
    "----\n",
    "\n",
    "**P5:** In this problem we ask you to construct a variation on Simpson's method.   The set-up (context) is a little long, apologies!\n",
    "\n",
    "The core idea of Simpson's method is described in the [Quadratic Interpolation](https://en.wikipedia.org/wiki/Simpson%27s_rule) section of the Wikipedia article.  In short, given the three points in the plane with three different x-coordinates, there is a unique quadratic polynomial that passes through those points.  The article even gives you the formula for the polynomial:\n",
    "\n",
    "$$P(x) = f(a) \\tfrac{(x-m)(x-b)}{(a-m)(a-b)} + f(m) \\tfrac{(x-a)(x-b)}{(m-a)(m-b)} + f(b) \\tfrac{(x-a)(x-m)}{(b-a)(b-m)}$$\n",
    "\n",
    "Here $a<m<b$ are the three points on the x-axis and the three points in the plane are $(a,f(a)), (m, f(m)), (b, f(b))$. "
   ]
  },
  {
   "cell_type": "markdown",
   "metadata": {},
   "source": [
    "In Simpson's method, you break your interval $[a,b]$ into $n$ equal-length sub-intervals, on each sub-interval you compute the polynomial $P$ (but where $a$ and $b$ in the above formula would be replaced by the end-points of the sub-interval, $m$ being the mid-point).  The Simpson approximation is the sum of the integrals of the quadratic approximations, given by the above formula. "
   ]
  },
  {
   "cell_type": "markdown",
   "metadata": {},
   "source": [
    "In this problem we ask you to do something highly analogous, but we use a degree $3$ polynomial interpolation, rather than a degree $2$.  Specifically, if $f$ is differentiable function on an interval $[a,b]$ then we can find a unique degree $4$ polynomial $P(x)$ such that:\n",
    "\n",
    "$$P(a) = f(a), P'(a) = f'(a), P(b) = f(b), P'(b) = f'(b)$$\n",
    "\n",
    "Below we solve for the function $P$. "
   ]
  },
  {
   "cell_type": "markdown",
   "metadata": {},
   "source": [
    "#### Solving for P\n",
    "\n",
    "The above four equations in $P$ can be viewed as a system of linear equations in the coefficients of the polynomial $P(x)=c_0+c_1x+c_2x^2+c_3x^3$. Linear algebra teaches us to write such a system of equations as a matrix equation:\n",
    "\n",
    "$$\\pmatrix{ 1 & a & a^2 & a^3 \\\\ 0 & 1 & 2a & 3a^2 \\\\ 1 & b & b^2 & b^3 \\\\ 0 & 1 & 2b & 3b^2} \\pmatrix{c_0 \\\\ c_1 \\\\ c_2 \\\\ c_3} = \\pmatrix{f(a) \\\\ f'(a) \\\\ f(b) \\\\ f'(b)}.$$"
   ]
  },
  {
   "cell_type": "markdown",
   "metadata": {},
   "source": [
    "Call the $4\\times 4$ matrix $A$.  The determinant of $A$ is $(a-b)^4$, so the inverse is given by:\n",
    "$$A^{-1} = \\frac{1}{det(A)} adj(A) = \\frac{1}{(a-b)^4} [(-1)^{i+j} M_{ji}]$$\n",
    "where $adj(A)$ is the *adjugate* of $A$, i.e. the transpose of the cofactor matrix $[(-1)^{i+j}M_{ij}]$.  This gives us the formula\n",
    "$$A^{-1} = \\frac{1}{(a-b)^3} \\left[\\begin{matrix}b^{2} \\left(3 a - b\\right) & a b^{2} \\left(- a + b\\right) & a^{2} \\left(a - 3 b\\right) & a^{2} b \\left(- a + b\\right)\\\\- 6 a b & b \\left(2 a^{2} - a b - b^{2}\\right) & 6 a b & a \\left(a^{2} + a b - 2 b^{2}\\right)\\\\3 a + 3 b & - a^{2} - a b + 2 b^{2} & - 3 a - 3 b & - 2 a^{2} + a b + b^{2}\\\\-2 & a - b & 2 & a - b\\end{matrix}\\right]$$\n",
    "i.e. \n",
    "\n",
    "$$ \\pmatrix{c_0 \\\\ c_1 \\\\ c_2 \\\\ c_3} = \\frac{1}{(a-b)^3} \\left[\\begin{matrix}b^{2} \\left(3 a - b\\right) & a b^{2} \\left(- a + b\\right) & a^{2} \\left(a - 3 b\\right) & a^{2} b \\left(- a + b\\right)\\\\- 6 a b & b \\left(2 a^{2} - a b - b^{2}\\right) & 6 a b & a \\left(a^{2} + a b - 2 b^{2}\\right)\\\\3 a + 3 b & - a^{2} - a b + 2 b^{2} & - 3 a - 3 b & - 2 a^{2} + a b + b^{2}\\\\-2 & a - b & 2 & a - b\\end{matrix}\\right] \\cdot \\pmatrix{f(a) \\\\ f'(a) \\\\ f(b) \\\\ f'(b)}$$"
   ]
  },
  {
   "cell_type": "markdown",
   "metadata": {},
   "source": [
    "### The problem:\n",
    "\n",
    "In this problem we ask you to **use** the above formula to create an integral approximation technique. Call your function **deg3_approx**.  This function will take five arguments: (1) the function `f` you wish to approximate the integral of, (2) another function `fp` which is supposed to be the derivative of `f`, (3) the left-endpoint of the interval, (4) the right end-point of the interval and (5) the number of subdivisions to be performed. i.e. your function definition should look like this:\n",
    "\n",
    "**def deg3_approx(f, fp, a, b, n):**\n",
    "\n",
    "This function should return the sum of the integrals of the degree three approximations, outlined above, but where you perform the approximations on the $n$ equal-length sub-intervals of $[a,b]$. \n",
    "\n",
    "Once you have implemented this function, copy and paste these lines of code into your notebook, and execute.  The grading script for **Task 4** will check your answers.\n",
    "\n",
    "```\n",
    "for i in [2**k for k in range(2, 10)]:\n",
    "    A = deg3_approx(np.sin, np.cos, 0.0, np.pi, i)\n",
    "    print(\"Deg 3 with n=\",i,' ',A, sep='')\n",
    "```\n",
    "\n",
    "How do the **deg3_approx** approximations compare with Simpson's approximations?"
   ]
  },
  {
   "cell_type": "code",
   "execution_count": null,
   "metadata": {},
   "outputs": [],
   "source": []
  }
 ],
 "metadata": {
  "kernelspec": {
   "display_name": "Python 3",
   "language": "python",
   "name": "python3"
  },
  "language_info": {
   "codemirror_mode": {
    "name": "ipython",
    "version": 3
   },
   "file_extension": ".py",
   "mimetype": "text/x-python",
   "name": "python",
   "nbconvert_exporter": "python",
   "pygments_lexer": "ipython3",
   "version": "3.6.7"
  }
 },
 "nbformat": 4,
 "nbformat_minor": 2
}
