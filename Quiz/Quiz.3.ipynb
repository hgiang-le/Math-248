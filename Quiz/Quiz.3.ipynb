{
 "cells": [
  {
   "cell_type": "markdown",
   "metadata": {},
   "source": [
    "# Quiz 3\n",
    "\n",
    "Store your completed quiz in your **mp248** repo, in **mp248/Quiz/Quiz.3.ipynb**.  The pre-grading script will offer you feedback in your Small Task item 10. \n",
    "\n",
    "For this quiz we ask you to make a plot, and summarize some of the polling data on the United States president.  Execute the codeblock below to have the **pandas** library load the **csv** data provided by the **fivethirtyeight.com** website.  The quiz follows, below.\n",
    "\n",
    "Recall the primary pandas dataframe manipulations we used in class:\n",
    "\n",
    "1. **len(dat)** tells you the number of rows, \n",
    "2. **dat.iloc[i]** will return the $i$-th row, and \n",
    "3. **dat.iloc[i].to_dict()** will return the row as a dictionary object.\n",
    "\n",
    "----"
   ]
  },
  {
   "cell_type": "code",
   "execution_count": null,
   "metadata": {},
   "outputs": [],
   "source": [
    "import pandas as pd\n",
    "\n",
    "dat = pd.read_csv(\"https://projects.fivethirtyeight.com/\"\\\n",
    "                                  \"trump-approval-data/approval_polllist.csv\")"
   ]
  },
  {
   "cell_type": "markdown",
   "metadata": {},
   "source": [
    "P1) Create a list **L_pollster** of the pollsters listed in the spreadsheet.  Sort the list alphabetically, and print the sorted list with a simple **print(L_pollster)** command.  \n",
    "\n",
    "The grading script will search for this output."
   ]
  },
  {
   "cell_type": "code",
   "execution_count": null,
   "metadata": {},
   "outputs": [],
   "source": []
  },
  {
   "cell_type": "markdown",
   "metadata": {},
   "source": [
    "----\n",
    "\n",
    "P2) Make a histogram of the number of polls conducted, by pollster.  i.e. the x-axis indicates the number of polls conducted by a given pollster, and the y-axis bars represent the number of pollsters that conducted that many polls."
   ]
  },
  {
   "cell_type": "code",
   "execution_count": null,
   "metadata": {},
   "outputs": [],
   "source": []
  },
  {
   "cell_type": "markdown",
   "metadata": {},
   "source": [
    "----\n",
    "\n",
    "P3) Make a plot of Donald Trump's approval rating over time.\n",
    "\n",
    "Use the **adjusted_approve** column from the csv file as your y-value in your plot.  Use the **enddate** as the x-value in your plot, once converted to an appropriate date object. \n",
    "\n",
    "Have one line plot per pollster, and include the pollster name in your legend.\n",
    "\n",
    "Only include pollsters that have **500 or more** polls in our data. \n",
    "\n",
    "Print this (significantly shorter) list of pollsters.  I.e. print the list of pollsters that have conducted 500 or more polls. Sort the list alphabetically before printing."
   ]
  },
  {
   "cell_type": "code",
   "execution_count": null,
   "metadata": {},
   "outputs": [],
   "source": []
  },
  {
   "cell_type": "code",
   "execution_count": null,
   "metadata": {},
   "outputs": [],
   "source": []
  },
  {
   "cell_type": "code",
   "execution_count": null,
   "metadata": {},
   "outputs": [],
   "source": []
  },
  {
   "cell_type": "code",
   "execution_count": null,
   "metadata": {},
   "outputs": [],
   "source": []
  },
  {
   "cell_type": "code",
   "execution_count": null,
   "metadata": {},
   "outputs": [],
   "source": []
  }
 ],
 "metadata": {
  "kernelspec": {
   "display_name": "Python 3",
   "language": "python",
   "name": "python3"
  },
  "language_info": {
   "codemirror_mode": {
    "name": "ipython",
    "version": 3
   },
   "file_extension": ".py",
   "mimetype": "text/x-python",
   "name": "python",
   "nbconvert_exporter": "python",
   "pygments_lexer": "ipython3",
   "version": "3.7.3"
  }
 },
 "nbformat": 4,
 "nbformat_minor": 4
}
