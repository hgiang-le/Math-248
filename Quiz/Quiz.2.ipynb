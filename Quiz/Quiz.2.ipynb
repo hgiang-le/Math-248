{
 "cells": [
  {
   "cell_type": "markdown",
   "metadata": {},
   "source": [
    "## Quiz 2\n",
    "\n",
    "You will have 40 minutes for this quiz.  Save your quiz in the location **mp248/Quiz/Quiz.2.ipynb** on your **GitLab** repository.  Ensure you push your partial work to your repository *early* and *often*. Please take some time before starting this quiz to run **git fetch** and **git status** on your **mp248** repo, as well as your copy of the course repo **mp248-course** to ensure you are up to date. \n"
   ]
  },
  {
   "cell_type": "markdown",
   "metadata": {},
   "source": [
    "----\n",
    "\n",
    "**Part 1**\n",
    "\n",
    "Define a Python function $f(n)$ which takes as an argument an integer $n$, and returns an integer. \n",
    "\n",
    "The output of $f$ is required to be half $n$ if $n$ is even.  If $n$ is odd, define $f$ to be $3n+1$, i.e.\n",
    "$$ f(n) = \\left\\{ \\matrix{n/2 & if \\ n \\ even \\cr 3n+1 & if \\ n \\ odd} \\right.$$\n",
    "\n",
    "Once you have done that, copy and paste the code below, then execute.\n",
    "\n",
    "``print( [ f(k) for k in range(2,14) ] )``"
   ]
  },
  {
   "cell_type": "code",
   "execution_count": 2,
   "metadata": {},
   "outputs": [],
   "source": [
    "import sympy as sp"
   ]
  },
  {
   "cell_type": "code",
   "execution_count": 24,
   "metadata": {},
   "outputs": [],
   "source": [
    "def f(n):\n",
    "    '''\n",
    "    Input: integer n\n",
    "    Output: returns an integer\n",
    "        - if n is even, return n/2\n",
    "        - if n is odd, return 3n + 1\n",
    "    '''\n",
    "    if n%2 == 0:\n",
    "        n = n/2\n",
    "        return int(n)\n",
    "    else:\n",
    "        n = 3*n + 1\n",
    "        return n"
   ]
  },
  {
   "cell_type": "code",
   "execution_count": 25,
   "metadata": {},
   "outputs": [
    {
     "name": "stdout",
     "output_type": "stream",
     "text": [
      "[1, 10, 2, 16, 3, 22, 4, 28, 5, 34, 6, 40]\n"
     ]
    }
   ],
   "source": [
    "print( [ f(k) for k in range(2,14) ] )"
   ]
  },
  {
   "cell_type": "markdown",
   "metadata": {},
   "source": [
    "----\n",
    "\n",
    "**Part 2**\n",
    "\n",
    "A conjecture states that if you start off with any positive integer $n$\n",
    "\n",
    "$$ n \\in \\{ 1, 2, 3, 4, \\cdots \\} $$\n",
    "\n",
    "and apply $f$ recursively, then *eventually* you will produce the integer $1$. \n",
    "\n",
    "*A recursive application of f* means we produce a sequence of numbers starting with $n$, and the create new numbers from old, by applying the function $f$. \n",
    "\n",
    "i.e.  $s_0 = n$, \n",
    "$s_1 = f(n)$, $s_2 = f(f(n))$.  In general, \n",
    "\n",
    "$$ s_0 = n \\ \\ \\ and \\ \\ \\ s_{k+1} = f(s_k) \\ \\ \\ if \\ \\ \\  k \\geq 0.$$\n",
    "\n",
    "\n",
    "The conjecture is that, regardless of what *n* is, $s_k = 1$ for some $k$ that is perhaps very large. \n",
    "\n",
    "Write a script that *tests* this conjecture for the integers\n",
    "$$n = 2,3,4,5,\\cdots, 19, 20.$$\n",
    "\n",
    "Specifically, for each integer $n$ between $2$ and $20$ print out a line that indicates the entire sequence:\n",
    "\n",
    "$$n = s_0 \\to s_1 \\to s_2 \\to s_3 \\to \\cdots \\to s_{k-1} \\to s_k = 1$$\n",
    "Print out the sequence in the form $s_0 \\ \\ s_1 \\ \\ s_2 \\cdots s_k$, thus the output for $n=5$ would be the line\n",
    "``5 16 8 4 2 1``\n",
    "with a single space between each integer."
   ]
  },
  {
   "cell_type": "code",
   "execution_count": 74,
   "metadata": {},
   "outputs": [],
   "source": [
    "def g(n):\n",
    "    '''\n",
    "    Performs the task given in the instruction\n",
    "    '''\n",
    "    s = n\n",
    "    print(s, end = \" \")\n",
    "    while f(s) != 1:\n",
    "        s = f(s)\n",
    "        print(s, end = \" \")\n",
    "    if f(s) == 1: \n",
    "        s = f(s)\n",
    "        print(s)\n",
    "        return \n",
    "\n"
   ]
  },
  {
   "cell_type": "code",
   "execution_count": 75,
   "metadata": {},
   "outputs": [
    {
     "name": "stdout",
     "output_type": "stream",
     "text": [
      "5 16 8 4 2 1\n"
     ]
    }
   ],
   "source": [
    "g(5)"
   ]
  },
  {
   "cell_type": "code",
   "execution_count": 77,
   "metadata": {},
   "outputs": [
    {
     "name": "stdout",
     "output_type": "stream",
     "text": [
      "2 1\n",
      "3 10 5 16 8 4 2 1\n",
      "4 2 1\n",
      "5 16 8 4 2 1\n",
      "6 3 10 5 16 8 4 2 1\n",
      "7 22 11 34 17 52 26 13 40 20 10 5 16 8 4 2 1\n",
      "8 4 2 1\n",
      "9 28 14 7 22 11 34 17 52 26 13 40 20 10 5 16 8 4 2 1\n",
      "10 5 16 8 4 2 1\n",
      "11 34 17 52 26 13 40 20 10 5 16 8 4 2 1\n",
      "12 6 3 10 5 16 8 4 2 1\n",
      "13 40 20 10 5 16 8 4 2 1\n",
      "14 7 22 11 34 17 52 26 13 40 20 10 5 16 8 4 2 1\n",
      "15 46 23 70 35 106 53 160 80 40 20 10 5 16 8 4 2 1\n",
      "16 8 4 2 1\n",
      "17 52 26 13 40 20 10 5 16 8 4 2 1\n",
      "18 9 28 14 7 22 11 34 17 52 26 13 40 20 10 5 16 8 4 2 1\n",
      "19 58 29 88 44 22 11 34 17 52 26 13 40 20 10 5 16 8 4 2 1\n",
      "20 10 5 16 8 4 2 1\n"
     ]
    }
   ],
   "source": [
    "for i in range(2,21):\n",
    "    g(i)"
   ]
  },
  {
   "cell_type": "code",
   "execution_count": null,
   "metadata": {},
   "outputs": [],
   "source": []
  }
 ],
 "metadata": {
  "kernelspec": {
   "display_name": "Python 3",
   "language": "python",
   "name": "python3"
  },
  "language_info": {
   "codemirror_mode": {
    "name": "ipython",
    "version": 3
   },
   "file_extension": ".py",
   "mimetype": "text/x-python",
   "name": "python",
   "nbconvert_exporter": "python",
   "pygments_lexer": "ipython3",
   "version": "3.6.7"
  }
 },
 "nbformat": 4,
 "nbformat_minor": 2
}
