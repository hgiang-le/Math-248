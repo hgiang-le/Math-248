{
 "cells": [
  {
   "cell_type": "markdown",
   "metadata": {},
   "source": [
    "## Quiz 2\n",
    "\n",
    "You will have 40 minutes for this quiz.  Save your quiz in the location **mp248/Quiz/Quiz.2.ipynb** on your **GitLab** repository.  Ensure you push your partial work to your repository *early* and *often*. Please take some time before starting this quiz to run **git fetch** and **git status** on your **mp248** repo, as well as your copy of the course repo **mp248-course** to ensure you are up to date. \n"
   ]
  },
  {
   "cell_type": "markdown",
   "metadata": {},
   "source": [
    "----\n",
    "\n",
    "**Part 1**\n",
    "\n",
    "Define a Python function $f(n)$ which takes as an argument an integer $n$, and returns an integer. \n",
    "\n",
    "The output of $f$ is required to be half $n$ if $n$ is even.  If $n$ is odd, define $f$ to be $3n+1$, i.e.\n",
    "$$ f(n) = \\left\\{ \\matrix{n/2 & if \\ n \\ even \\cr 3n+1 & if \\ n \\ odd} \\right.$$\n",
    "\n",
    "Once you have done that, copy and paste the code below, then execute.\n",
    "\n",
    "``print( [ f(k) for k in range(2,14) ] )``"
   ]
  },
  {
   "cell_type": "code",
   "execution_count": 2,
   "metadata": {},
   "outputs": [],
   "source": [
    "import sympy as sp"
   ]
  },
  {
   "cell_type": "code",
   "execution_count": 4,
   "metadata": {},
   "outputs": [],
   "source": [
    "def f(n):\n",
    "    if n%2 == 0:\n",
    "        return n/2\n",
    "    else:\n",
    "        n = 3*n + 1\n",
    "        return n"
   ]
  },
  {
   "cell_type": "code",
   "execution_count": 5,
   "metadata": {},
   "outputs": [
    {
     "name": "stdout",
     "output_type": "stream",
     "text": [
      "[1.0, 10, 2.0, 16, 3.0, 22, 4.0, 28, 5.0, 34, 6.0, 40]\n"
     ]
    }
   ],
   "source": [
    "print( [ f(k) for k in range(2,14) ] )"
   ]
  },
  {
   "cell_type": "markdown",
   "metadata": {},
   "source": [
    "----\n",
    "\n",
    "**Part 2**\n",
    "\n",
    "A conjecture states that if you start off with any positive integer $n$\n",
    "\n",
    "$$ n \\in \\{ 1, 2, 3, 4, \\cdots \\} $$\n",
    "\n",
    "and apply $f$ recursively, then *eventually* you will produce the integer $1$. \n",
    "\n",
    "*A recursive application of f* means we produce a sequence of numbers starting with $n$, and the create new numbers from old, by applying the function $f$. \n",
    "\n",
    "i.e.  $s_0 = n$, \n",
    "$s_1 = f(n)$, $s_2 = f(f(n))$.  In general, \n",
    "\n",
    "$$ s_0 = n \\ \\ \\ and \\ \\ \\ s_{k+1} = f(s_k) \\ \\ \\ if \\ \\ \\  k \\geq 0.$$\n",
    "\n",
    "\n",
    "The conjecture is that, regardless of what *n* is, $s_k = 1$ for some $k$ that is perhaps very large. \n",
    "\n",
    "Write a script that *tests* this conjecture for the integers\n",
    "$$n = 2,3,4,5,\\cdots, 19, 20.$$\n",
    "\n",
    "Specifically, for each integer $n$ between $2$ and $20$ print out a line that indicates the entire sequence:\n",
    "\n",
    "$$n = s_0 \\to s_1 \\to s_2 \\to s_3 \\to \\cdots \\to s_{k-1} \\to s_k = 1$$\n",
    "Print out the sequence in the form $s_0 \\ \\ s_1 \\ \\ s_2 \\cdots s_k$, thus the output for $n=5$ would be the line\n",
    "``5 16 8 4 2 1``\n",
    "with a single space between each integer."
   ]
  },
  {
   "cell_type": "code",
   "execution_count": null,
   "metadata": {},
   "outputs": [],
   "source": [
    "   "
   ]
  },
  {
   "cell_type": "code",
   "execution_count": null,
   "metadata": {},
   "outputs": [],
   "source": []
  },
  {
   "cell_type": "code",
   "execution_count": null,
   "metadata": {},
   "outputs": [],
   "source": []
  }
 ],
 "metadata": {
  "kernelspec": {
   "display_name": "Python 3",
   "language": "python",
   "name": "python3"
  },
  "language_info": {
   "codemirror_mode": {
    "name": "ipython",
    "version": 3
   },
   "file_extension": ".py",
   "mimetype": "text/x-python",
   "name": "python",
   "nbconvert_exporter": "python",
   "pygments_lexer": "ipython3",
   "version": "3.6.7"
  }
 },
 "nbformat": 4,
 "nbformat_minor": 2
}
