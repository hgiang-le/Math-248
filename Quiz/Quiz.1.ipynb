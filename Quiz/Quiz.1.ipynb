{
 "cells": [
  {
   "cell_type": "markdown",
   "metadata": {},
   "source": [
    "# Quiz.1\n",
    "\n",
    "## Step 1: \n",
    "\n",
    "Load a terminal in a Jupyter session.  Enter your **mp248** repository.  Run **git fetch** then **git status**.  If you are ahead or behind, take appropriate actions to ensure **git status** returns \"Your branch is up to date with 'origin/master'\".  \n",
    "\n",
    "I will take a few minutes at the start of class to partially walk people through this step. You might find the [Common Git Issues](https://coursespaces.uvic.ca/mod/page/view.php?id=1293555) document helpful.\n",
    "\n",
    "----\n",
    "\n",
    "## Step 2: \n",
    "\n",
    "Create a subdirectory **Quiz** in your **mp248** repository.  \n",
    "\n",
    "----\n",
    "\n",
    "## Step 3: \n",
    "\n",
    "In your Jupyter session, create a new Python notebook, called **Quiz.1.ipynb**.  Ensure the file is located at **mp248/Quiz/Quiz.1.ipynb**.  \n",
    "\n",
    "Save this file.  In your terminal, **add**, **commit** and **push** the file.  Within approximately 30 seconds your **Task 3** feedback on CourseSpaces should acknowledge the presence of your quiz file.\n",
    "\n",
    "----\n",
    "\n",
    "## Step 4: \n",
    "\n",
    "Create a variable $x$ and set it equal to $2.0$, i.e. $x=2.0$. \n",
    "\n",
    "Create a **for loop** that, on each iteration, prints $x$, then replaces $x$ by its square root. Ensure the for loop iterates $10$ times.  i.e. you should have $10$ floating point numbers printed to screen, with the first one being $2.0$. "
   ]
  },
  {
   "cell_type": "code",
   "execution_count": null,
   "metadata": {},
   "outputs": [],
   "source": []
  },
  {
   "cell_type": "code",
   "execution_count": null,
   "metadata": {},
   "outputs": [],
   "source": []
  },
  {
   "cell_type": "code",
   "execution_count": null,
   "metadata": {},
   "outputs": [],
   "source": []
  }
 ],
 "metadata": {
  "kernelspec": {
   "display_name": "Python 3",
   "language": "python",
   "name": "python3"
  },
  "language_info": {
   "codemirror_mode": {
    "name": "ipython",
    "version": 3
   },
   "file_extension": ".py",
   "mimetype": "text/x-python",
   "name": "python",
   "nbconvert_exporter": "python",
   "pygments_lexer": "ipython3",
   "version": "3.6.8"
  }
 },
 "nbformat": 4,
 "nbformat_minor": 2
}
