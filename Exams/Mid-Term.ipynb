{
 "cells": [
  {
   "cell_type": "markdown",
   "metadata": {},
   "source": [
    "# Mid-term exam\n",
    "\n",
    "Store your exam in your personal **mp248** repository in the location **mp248/Exams/Mid-Term.py**.  \n",
    "\n",
    "Push your exam file to your repository early and often.  \n",
    "\n",
    "A grading script will offer you feedback in your **Task 8** item on CourseSpaces.\n",
    "\n",
    "----\n",
    "\n",
    "Before beginning your exam, execute this code block below.  \n",
    "\n",
    " - If you get the output **DATA variable loaded**, continue to the exam.   You will have the variable named **DATA** in active memory -- it is a Python list of points in the plane, i.e. **(x,y)** coordinates.\n",
    " \n",
    " - If you get an error message, you need to ensure you have the file **mp248-course/Exams/examdata.py** in your copy of the course repository. "
   ]
  },
  {
   "cell_type": "code",
   "execution_count": null,
   "metadata": {},
   "outputs": [],
   "source": [
    "%cd ../../mp248-course/Exams\n",
    "from examdata import DATA"
   ]
  },
  {
   "cell_type": "markdown",
   "metadata": {},
   "source": [
    "----\n",
    "\n",
    "## P.1\n",
    "\n",
    "Interpret the list **DATA** as a list of coordinates in the $(x,y)$-plane.  Plot it as a **point plot** in red.  Use matplotlib for your plots.  Use **inline** mode, so that your plots are saved into your notebook.\n",
    "\n",
    "What does the plot say? Type your answer into a **markdown** box.\n",
    "\n",
    "**Hint:** The plot should be a sentence in English. You should expect the plot to be significantly wider than it is tall. "
   ]
  },
  {
   "cell_type": "code",
   "execution_count": null,
   "metadata": {},
   "outputs": [],
   "source": []
  },
  {
   "cell_type": "markdown",
   "metadata": {},
   "source": [
    "----\n",
    "\n",
    "## P.2\n",
    "\n",
    "Using the numpy library, do a linear and quadratic least squares approximation of the $(x,y)$ coordinates in **DATA**.\n",
    "\n",
    "Make a single plot, containing all the $(x,y)$ coordinates (point plot in red) plus the linear least-squares approximation (line plot in black), and the quadratic approximation (line plot in green).  Your plot should look like the above plot but with one black line and one green curve running through it.\n",
    "\n",
    "Print out the coefficients of the least squares approximations (for both) using the **print(c)** command, assuming **c** is the numpy array containing the coefficients.\n"
   ]
  },
  {
   "cell_type": "code",
   "execution_count": null,
   "metadata": {},
   "outputs": [],
   "source": []
  }
 ],
 "metadata": {
  "kernelspec": {
   "display_name": "Python 3",
   "language": "python",
   "name": "python3"
  },
  "language_info": {
   "codemirror_mode": {
    "name": "ipython",
    "version": 3
   },
   "file_extension": ".py",
   "mimetype": "text/x-python",
   "name": "python",
   "nbconvert_exporter": "python",
   "pygments_lexer": "ipython3",
   "version": "3.6.8"
  }
 },
 "nbformat": 4,
 "nbformat_minor": 2
}
