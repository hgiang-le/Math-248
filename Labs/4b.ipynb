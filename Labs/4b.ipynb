{
 "cells": [
  {
   "cell_type": "markdown",
   "metadata": {},
   "source": [
    "# 4b. Sympy sympy sympy.\n",
    "\n",
    "**Ex. 1)** Use Sympy to find the real roots of the equation\n",
    "\n",
    "$$x^9-x^5+x^3-1=0$$\n",
    "\n",
    "Similarly, print the complex (non-real) roots -- use Sympy's **pprint** command.\n",
    "\n",
    "For this question, floating-point approximations do not suffice."
   ]
  },
  {
   "cell_type": "code",
   "execution_count": 1,
   "metadata": {},
   "outputs": [],
   "source": [
    "import sympy as sp"
   ]
  },
  {
   "cell_type": "code",
   "execution_count": 7,
   "metadata": {},
   "outputs": [
    {
     "name": "stdout",
     "output_type": "stream",
     "text": [
      "⎡          ⎛ 8    7    6    5    2           ⎞         ⎛ 8    7    6    5    2\n",
      "⎣1, CRootOf⎝x  + x  + x  + x  + x  + x + 1, 0⎠, CRootOf⎝x  + x  + x  + x  + x \n",
      "\n",
      "           ⎞         ⎛ 8    7    6    5    2           ⎞         ⎛ 8    7    6\n",
      " + x + 1, 1⎠, CRootOf⎝x  + x  + x  + x  + x  + x + 1, 2⎠, CRootOf⎝x  + x  + x \n",
      "\n",
      "    5    2           ⎞         ⎛ 8    7    6    5    2           ⎞         ⎛ 8\n",
      " + x  + x  + x + 1, 3⎠, CRootOf⎝x  + x  + x  + x  + x  + x + 1, 4⎠, CRootOf⎝x \n",
      "\n",
      "    7    6    5    2           ⎞         ⎛ 8    7    6    5    2           ⎞  \n",
      " + x  + x  + x  + x  + x + 1, 5⎠, CRootOf⎝x  + x  + x  + x  + x  + x + 1, 6⎠, \n",
      "\n",
      "       ⎛ 8    7    6    5    2           ⎞⎤\n",
      "CRootOf⎝x  + x  + x  + x  + x  + x + 1, 7⎠⎦\n"
     ]
    }
   ],
   "source": [
    "x = sp.Symbol('x')\n",
    "f = sp.Function('f')\n",
    "\n",
    "f = x**9 - x**5 + x**3 - 1\n",
    "f_solve = sp.solve(f,x)\n",
    "sp.pprint(f_solve)"
   ]
  },
  {
   "cell_type": "code",
   "execution_count": 8,
   "metadata": {},
   "outputs": [
    {
     "name": "stdout",
     "output_type": "stream",
     "text": [
      "9\n"
     ]
    }
   ],
   "source": [
    "for s in f_solve:\n",
    "    print(\"x sol:\", s[x].evalf(), \"y sol:\", s[y].evalf())"
   ]
  },
  {
   "cell_type": "markdown",
   "metadata": {},
   "source": [
    "----\n",
    "\n",
    "**Ex. 2)** Use Sympy to get closed-form expressions for the sums below.  Also call **evalf(40)** to get floating point approximations. If Sympy produces a symbol you are unfamiliar with, use the built-in help feature to look up its definition.\n",
    "\n",
    "$$\\sum_{n=1}^\\infty \\frac{1}{n^2}$$\n",
    "\n",
    "$$\\sum_{n=1}^\\infty \\frac{1}{n^3}$$\n",
    "\n",
    "Hint: Look up Sympy's **Sum** command.  Note that Sympy's infinity symbol is **sp.oo**. "
   ]
  },
  {
   "cell_type": "code",
   "execution_count": null,
   "metadata": {},
   "outputs": [],
   "source": []
  },
  {
   "cell_type": "markdown",
   "metadata": {},
   "source": [
    "----\n",
    "\n",
    "**Ex. 3)** Copy and paste the function `f` from **lecture 4a** into this notebook.  If you set $x=\\sqrt{2}$ as a Sympy variable, how many iterations of `f` does it take before Sympy begins making a mistake, or simply fails to execute properly?\n",
    "\n",
    "For comparison's sake, try setting $x=\\sqrt{2}$ as a Python float.  How many iterations of `f` does it take before Python begins making a mistake?"
   ]
  },
  {
   "cell_type": "code",
   "execution_count": null,
   "metadata": {},
   "outputs": [],
   "source": []
  }
 ],
 "metadata": {
  "kernelspec": {
   "display_name": "Python 3",
   "language": "python",
   "name": "python3"
  },
  "language_info": {
   "codemirror_mode": {
    "name": "ipython",
    "version": 3
   },
   "file_extension": ".py",
   "mimetype": "text/x-python",
   "name": "python",
   "nbconvert_exporter": "python",
   "pygments_lexer": "ipython3",
   "version": "3.6.7"
  }
 },
 "nbformat": 4,
 "nbformat_minor": 2
}
