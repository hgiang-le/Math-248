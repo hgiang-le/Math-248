{
 "cells": [
  {
   "cell_type": "markdown",
   "metadata": {},
   "source": [
    "# Lab 12a\n",
    "\n",
    "----"
   ]
  },
  {
   "cell_type": "markdown",
   "metadata": {},
   "source": [
    "## P1\n",
    "\n",
    "\n",
    "Given a collection of points $P = \\{ p_i : i = 1,2,\\cdots, k\\} \\subset \\mathbb R^n$ their **convex hull** will be denoted\n",
    "\n",
    "$$C(P) = \\{ t_1p_1 + t_2p_2 + \\cdots + t_kp_k : 0 \\leq t_i \\leq 1 \\ \\forall i, t_1+t_2+\\cdots+t_k = 1 \\}.$$\n",
    "\n",
    "In this question we ask you to write an algorithm that determines if a point is in the convex hull of a collection of other points.\n",
    "\n",
    "Notice that a vector $v$ is in the convex hull if and only if you can solve the system of linear equations\n",
    "\n",
    "$$ v = t_1p_1 + t_2p_2 + \\cdots + t_kp_k $$\n",
    "$$ 1 = t_1 + t_2 + \\cdots + t_k$$\n",
    "together with the inequalities\n",
    "$0 \\leq t_1, t_2, \\cdots, t_k \\leq 1$."
   ]
  },
  {
   "cell_type": "markdown",
   "metadata": {},
   "source": [
    "From the perspective of linear algebra, this is a system of $n+1$ linear equations in $k$ variables, with some constraints. The simplest non-trivial version of this problem is when $k=n+1$.   If your points $P$ in $\\mathbb R^n$ do not sit on an affine $n-1$-dimensional subspace of $\\mathbb R^n$ we say they are in **general position**.   The convex hull of $n+1$-points that are in general position in $\\mathbb R^n$ is called an $n$-simplex.  A $1$-simplex is typically called an *interval*, a $2$-simplex a *triangle*, a $3$-simplex a *tetrahedron*, etc. \n",
    "\n",
    "Write a Python function **in_hull(P, v)** that takes as input the points **P** as an $n\\times (n+1)$-numpy array (or numpy matrix), with $v$ an $n \\times 1$-numpy matrix.  Have your function return the coefficient vector $T$ as an $(n+1) \\times 1$-numpy matrix, if there is a solution.  The function should return **None** otherwise.\n"
   ]
  },
  {
   "cell_type": "code",
   "execution_count": 25,
   "metadata": {},
   "outputs": [],
   "source": [
    "import numpy as np\n",
    "import pprint as pp"
   ]
  },
  {
   "cell_type": "code",
   "execution_count": 178,
   "metadata": {},
   "outputs": [],
   "source": [
    "def in_hull(P, v):\n",
    "    '''\n",
    "    Input:\n",
    "        P: n x (n+1) numpy array/matrix.\n",
    "        v: n x 1 numpy matrix\n",
    "    Output:\n",
    "        Determines if a point v is in the convex hull of the collection of points - P\n",
    "        Returns:\n",
    "            T: Coefficient vector. A (n+1) x 1 numpy matrix. (If a solution exist for t = [0,1])\n",
    "            None: Otherwise\n",
    "    '''\n",
    "    a = np.array([1 for i in v])\n",
    "    A = np.array([1 for i in range(np.shape(Pm)[1])])\n",
    "    \n",
    "    \n",
    "    v2 = np.concatenate((v, [[1]]), axis = 0)\n",
    "    P2 = np.concatenate((P, [A]), axis = 0)\n",
    "    print(P2)\n",
    "    print(v2)\n",
    "    \n",
    "    if np.linalg.det(P2) == 0:\n",
    "        return None\n",
    "    else:\n",
    "        T = np.linalg.solve(P2, v2)\n",
    "        if np.any(T >1) or np.any(T < 0):\n",
    "            return None\n",
    "        else:\n",
    "            return np.asmatrix(T)"
   ]
  },
  {
   "cell_type": "code",
   "execution_count": 179,
   "metadata": {},
   "outputs": [
    {
     "name": "stdout",
     "output_type": "stream",
     "text": [
      "[[1 2 3]\n",
      " [4 5 6]\n",
      " [1 1 1]]\n",
      "[[2]\n",
      " [7]\n",
      " [1]]\n"
     ]
    }
   ],
   "source": [
    "Pm = np.matrix([[1,2,3],\n",
    "              [4,5,6]])\n",
    "vm = np.array([[2, 7]]).T\n",
    "in_hull(Pm, vm)"
   ]
  },
  {
   "cell_type": "code",
   "execution_count": 180,
   "metadata": {},
   "outputs": [
    {
     "name": "stdout",
     "output_type": "stream",
     "text": [
      "[[0 0 1]\n",
      " [0 1 0]\n",
      " [1 1 1]]\n",
      "[[1]\n",
      " [0]\n",
      " [1]]\n"
     ]
    },
    {
     "data": {
      "text/plain": [
       "matrix([[0.],\n",
       "        [0.],\n",
       "        [1.]])"
      ]
     },
     "execution_count": 180,
     "metadata": {},
     "output_type": "execute_result"
    }
   ],
   "source": [
    "Pm2 = np.matrix([[0,0,1],[0,1,0]])\n",
    "vm2 = np.array([[1, 0]]).T\n",
    "in_hull(Pm2, vm2)"
   ]
  },
  {
   "cell_type": "code",
   "execution_count": 182,
   "metadata": {},
   "outputs": [
    {
     "name": "stdout",
     "output_type": "stream",
     "text": [
      "[[0 0 1]\n",
      " [0 1 0]\n",
      " [1 1 1]]\n",
      "[[1]\n",
      " [0]\n",
      " [1]]\n"
     ]
    },
    {
     "data": {
      "text/plain": [
       "matrix([[0.],\n",
       "        [0.],\n",
       "        [1.]])"
      ]
     },
     "execution_count": 182,
     "metadata": {},
     "output_type": "execute_result"
    }
   ],
   "source": [
    "Pm3 = np.array([[0,0,1],[0,1,0]])\n",
    "in_hull(Pm3, vm2)"
   ]
  },
  {
   "cell_type": "markdown",
   "metadata": {},
   "source": [
    "----\n",
    "\n",
    "## P2\n",
    "\n",
    "Create a function that takes as input a single integer $n$.  The function will choose $3$ points at random in the unit square, and also an additional $n$ points at random in the unit square $[0,1]^2$.  \n",
    "\n",
    "The algorithm will then plot the perimiter of the triangle formed by the first three points, as a line plot in black.  It will also plot the remaining $n$ points, using a point plot.  The points in the convex hull of the first three will be coloured red, the points outside the convex hull will be coloured yellow.\n",
    "\n",
    "Include one plot for $n=1000$. \n",
    "\n",
    "A sample output of what we expect is below.\n",
    "\n",
    "![alt text](12a.demo.png)"
   ]
  },
  {
   "cell_type": "code",
   "execution_count": null,
   "metadata": {},
   "outputs": [],
   "source": [
    "import matplotlib.pyplot as plt\n",
    "%matplotlib inline\n",
    "\n"
   ]
  },
  {
   "cell_type": "code",
   "execution_count": null,
   "metadata": {},
   "outputs": [],
   "source": []
  }
 ],
 "metadata": {
  "kernelspec": {
   "display_name": "Python 3",
   "language": "python",
   "name": "python3"
  },
  "language_info": {
   "codemirror_mode": {
    "name": "ipython",
    "version": 3
   },
   "file_extension": ".py",
   "mimetype": "text/x-python",
   "name": "python",
   "nbconvert_exporter": "python",
   "pygments_lexer": "ipython3",
   "version": "3.6.7"
  }
 },
 "nbformat": 4,
 "nbformat_minor": 4
}
