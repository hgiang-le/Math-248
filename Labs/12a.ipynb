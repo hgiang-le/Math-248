{
 "cells": [
  {
   "cell_type": "markdown",
   "metadata": {},
   "source": [
    "# Lab 12a\n",
    "\n",
    "----"
   ]
  },
  {
   "cell_type": "markdown",
   "metadata": {},
   "source": [
    "## P1\n",
    "\n",
    "\n",
    "Given a collection of points $P = \\{ p_i : i = 1,2,\\cdots, k\\} \\subset \\mathbb R^n$ their **convex hull** will be denoted\n",
    "\n",
    "$$C(P) = \\{ t_1p_1 + t_2p_2 + \\cdots + t_kp_k : 0 \\leq t_i \\leq 1 \\ \\forall i, t_1+t_2+\\cdots+t_k = 1 \\}.$$\n",
    "\n",
    "In this question we ask you to write an algorithm that determines if a point is in the convex hull of a collection of other points.\n",
    "\n",
    "Notice that a vector $v$ is in the convex hull if and only if you can solve the system of linear equations\n",
    "\n",
    "$$ v = t_1p_1 + t_2p_2 + \\cdots + t_kp_k $$\n",
    "$$ 1 = t_1 + t_2 + \\cdots + t_k$$\n",
    "together with the inequalities\n",
    "$0 \\leq t_1, t_2, \\cdots, t_k \\leq 1$."
   ]
  },
  {
   "cell_type": "markdown",
   "metadata": {},
   "source": [
    "From the perspective of linear algebra, this is a system of $n+1$ linear equations in $k$ variables, with some constraints. The simplest non-trivial version of this problem is when $k=n+1$.   If your points $P$ in $\\mathbb R^n$ do not sit on an affine $n-1$-dimensional subspace of $\\mathbb R^n$ we say they are in **general position**.   The convex hull of $n+1$-points that are in general position in $\\mathbb R^n$ is called an $n$-simplex.  A $1$-simplex is typically called an *interval*, a $2$-simplex a *triangle*, a $3$-simplex a *tetrahedron*, etc. \n",
    "\n",
    "Write a Python function **in_hull(P, v)** that takes as input the points **P** as an $n\\times (n+1)$-numpy array (or numpy matrix), with $v$ an $n \\times 1$-numpy matrix.  Have your function return the coefficient vector $T$ as an $(n+1) \\times 1$-numpy matrix, if there is a solution.  The function should return **None** otherwise.\n"
   ]
  },
  {
   "cell_type": "code",
   "execution_count": 2,
   "metadata": {},
   "outputs": [],
   "source": [
    "import numpy as np\n",
    "import pprint as pp"
   ]
  },
  {
   "cell_type": "code",
   "execution_count": 77,
   "metadata": {},
   "outputs": [],
   "source": [
    "def in_hull(P, v):\n",
    "    '''\n",
    "    Input:\n",
    "        P: n x (n+1) numpy array/matrix.\n",
    "        v: n x 1 numpy matrix\n",
    "    Output:\n",
    "        Determines if a point v is in the convex hull of the collection of points - P\n",
    "        Returns:\n",
    "            T: Coefficient vector. A (n+1) x 1 numpy matrix. (If a solution exist for t = [0,1])\n",
    "            None: Otherwise\n",
    "    '''\n",
    "    A = np.array([1 for i in range(np.shape(P)[1])])\n",
    "    #print(A)\n",
    "    \n",
    "    v2 = np.concatenate((v, [[1]]), axis = 0)\n",
    "    P2 = np.concatenate((P, [A]), axis = 0)\n",
    "    #print(P2)\n",
    "    #print(v2)\n",
    "    \n",
    "    if np.linalg.det(P2) == 0:\n",
    "        return None\n",
    "    else:\n",
    "        T = np.linalg.solve(P2, v2) # Could also use T = P**-1 * V\n",
    "        if np.any(T >1) or np.any(T < 0):\n",
    "            return None\n",
    "        else:\n",
    "            #print(\"True\")\n",
    "            return np.asmatrix(T)"
   ]
  },
  {
   "cell_type": "code",
   "execution_count": 19,
   "metadata": {},
   "outputs": [
    {
     "name": "stdout",
     "output_type": "stream",
     "text": [
      "[1 1 1]\n",
      "[[1 3 5]\n",
      " [2 4 6]\n",
      " [1 1 1]]\n",
      "[[2]\n",
      " [7]\n",
      " [1]]\n"
     ]
    }
   ],
   "source": [
    "Pm = np.matrix([[1,2], [3,4], [5,6]]).T\n",
    "vm = np.array([[2, 7]]).T\n",
    "in_hull(Pm, vm)"
   ]
  },
  {
   "cell_type": "code",
   "execution_count": 16,
   "metadata": {},
   "outputs": [
    {
     "name": "stdout",
     "output_type": "stream",
     "text": [
      "[1 1 1]\n",
      "[[0 1 1]\n",
      " [1 0 1]\n",
      " [1 1 1]]\n",
      "[[0.5]\n",
      " [0.5]\n",
      " [1. ]]\n",
      "True\n"
     ]
    },
    {
     "data": {
      "text/plain": [
       "matrix([[ 0.5],\n",
       "        [ 0.5],\n",
       "        [-0. ]])"
      ]
     },
     "execution_count": 16,
     "metadata": {},
     "output_type": "execute_result"
    }
   ],
   "source": [
    "## Test case when P 'matrix' is a numpy matrix\n",
    "Pm2 = np.matrix([[0,1],[1,0], [1,1]]).T\n",
    "vm2 = np.matrix([[0.5, 0.5]]).T\n",
    "in_hull(Pm2, vm2)"
   ]
  },
  {
   "cell_type": "code",
   "execution_count": 21,
   "metadata": {},
   "outputs": [
    {
     "name": "stdout",
     "output_type": "stream",
     "text": [
      "[1 1 1 1]\n",
      "[[1 0 1 0]\n",
      " [0 0 1 1]\n",
      " [0 1 1 0]\n",
      " [1 1 1 1]]\n",
      "[[0.5]\n",
      " [0.5]\n",
      " [0.5]\n",
      " [1. ]]\n",
      "True\n"
     ]
    },
    {
     "data": {
      "text/plain": [
       "matrix([[0.25],\n",
       "        [0.25],\n",
       "        [0.25],\n",
       "        [0.25]])"
      ]
     },
     "execution_count": 21,
     "metadata": {},
     "output_type": "execute_result"
    }
   ],
   "source": [
    "## Test case when P 'matrix' is a numpy array\n",
    "Pm3 = np.array([[1,0,0],[0,0,1],[1, 1, 1], [0, 1, 0]]).transpose()\n",
    "vm3 = np.matrix([[0.5, 0.5, 0.5]]).T\n",
    "in_hull(Pm3, vm3)"
   ]
  },
  {
   "cell_type": "markdown",
   "metadata": {},
   "source": [
    "----\n",
    "\n",
    "## P2\n",
    "\n",
    "Create a function that takes as input a single integer $n$.  The function will choose $3$ points at random in the unit square, and also an additional $n$ points at random in the unit square $[0,1]^2$.  \n",
    "\n",
    "The algorithm will then plot the perimiter of the triangle formed by the first three points, as a line plot in black.  It will also plot the remaining $n$ points, using a point plot.  The points in the convex hull of the first three will be coloured red, the points outside the convex hull will be coloured yellow.\n",
    "\n",
    "Include one plot for $n=1000$. \n",
    "\n",
    "A sample output of what we expect is below.\n",
    "\n",
    "![alt text](12a.demo.png)"
   ]
  },
  {
   "cell_type": "code",
   "execution_count": 22,
   "metadata": {},
   "outputs": [],
   "source": [
    "import matplotlib.pyplot as plt\n",
    "%matplotlib inline\n",
    "import random as rd\n"
   ]
  },
  {
   "cell_type": "code",
   "execution_count": 78,
   "metadata": {},
   "outputs": [],
   "source": [
    "def P2_func(n):\n",
    "    '''\n",
    "    Input: \n",
    "        n: Integer\n",
    "        In a unit square, generate 3 randomized points and form a convex hull out of those three points.\n",
    "        Randomly generates additional n points in that unit square.\n",
    "    Output:\n",
    "        A scatterplot with n randomized points, with points within the convex hull highlighted in red.\n",
    "    '''\n",
    "    x = []\n",
    "    y = []\n",
    "    x_init = []\n",
    "    y_init = []\n",
    "    ## The first 3 initial points.\n",
    "    for i in range(3):\n",
    "        x_init.append(np.around(rd.random(), 3) )\n",
    "        y_init.append(np.around(rd.random(), 3) )\n",
    "    print(x_init, y_init)\n",
    "    ## The additional n points:\n",
    "    for i in range(n):\n",
    "        x.append(np.around(rd.random(), 3) )\n",
    "        y.append(np.around(rd.random(), 3) )\n",
    "    #print(x,y)\n",
    "    \n",
    "    ## The first 3 points forms the P-matrix in Part 1\n",
    "    P = np.matrix([ [i for i in x_init], [i for i in y_init] ])\n",
    "    #print(P)\n",
    "    \n",
    "    ## Plot the triangle\n",
    "    #plt.plot([i for i in x_init], [i for i in y_init], '-r')\n",
    "    plt.fill([i for i in x_init], [i for i in y_init], fill= False)\n",
    "    \n",
    "    ## Determine if a point is within convex hull\n",
    "    for i in range(n):\n",
    "        v = np.matrix([ [x[i]], [y[i]] ])\n",
    "        test = in_hull(P, v)\n",
    "        if np.any(test) == None:\n",
    "            plt.plot(x[i], y[i], 'yo')\n",
    "        else:\n",
    "            plt.plot(x[i], y[i], 'ro')"
   ]
  },
  {
   "cell_type": "code",
   "execution_count": 79,
   "metadata": {},
   "outputs": [
    {
     "name": "stdout",
     "output_type": "stream",
     "text": [
      "[0.205, 0.255, 0.535] [0.083, 0.379, 0.047]\n",
      "[[0.205 0.255 0.535]\n",
      " [0.083 0.379 0.047]]\n"
     ]
    },
    {
     "data": {
      "image/png": "[encoded data removed]",
      "text/plain": [
       "<Figure size 432x288 with 1 Axes>"
      ]
     },
     "metadata": {
      "needs_background": "light"
     },
     "output_type": "display_data"
    }
   ],
   "source": [
    "P2_func(1000)"
   ]
  },
  {
   "cell_type": "code",
   "execution_count": null,
   "metadata": {},
   "outputs": [],
   "source": []
  }
 ],
 "metadata": {
  "kernelspec": {
   "display_name": "Python 3",
   "language": "python",
   "name": "python3"
  },
  "language_info": {
   "codemirror_mode": {
    "name": "ipython",
    "version": 3
   },
   "file_extension": ".py",
   "mimetype": "text/x-python",
   "name": "python",
   "nbconvert_exporter": "python",
   "pygments_lexer": "ipython3",
   "version": "3.6.7"
  }
 },
 "nbformat": 4,
 "nbformat_minor": 4
}
