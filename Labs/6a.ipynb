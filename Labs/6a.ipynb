{
 "cells": [
  {
   "cell_type": "markdown",
   "metadata": {},
   "source": [
    "# 6a. Voronoi Decompositions\n",
    "\n",
    "**1)** For this exercise, we ask you to make a modified Voronoi plot, analogous to the Voronoi code from Lecture 5c. \n",
    "\n",
    "Choose some points **Pts** in the plane randomly.  And choose a colour at random, one colour for every point, as in Lecture 5c.\n",
    "\n",
    "Create a variant of the function **def voronoi(Pts, carr, res, norm=norm):** from Lecture 5c, where the colour associated to your grid of points (the image arrage **VDom**) is the colour associated to the **furthest** point of **Pts**."
   ]
  },
  {
   "cell_type": "code",
   "execution_count": 69,
   "metadata": {},
   "outputs": [],
   "source": [
    "from numpy.linalg import norm\n",
    "import operator as op\n",
    "import numpy as np\n",
    "import itertools as it\n",
    "import random as rd\n",
    "import operator as op\n",
    "\n",
    "import matplotlib.pyplot as plt\n",
    "%matplotlib inline"
   ]
  },
  {
   "cell_type": "markdown",
   "metadata": {},
   "source": [
    "Algorithm to generate Voronoi diagram with colour labeling closest point (lecture):\n",
    "1. n = 20 points\n",
    "2. Assign a colour array/matrix with dim(n, 3) \n",
    "3. For every element in the array:\n",
    "    - Assign random floating point number\n",
    "4. Getting rid of dim colors (?)\n",
    "5. Voronoi function taking input (Pts, carr, res, norm = norm ):\n",
    "    - Assign VDom: an multi-dimensional array with dim(res, res, 3)\n",
    "    - For every pixels in the plot:\n",
    "        - xy = each pixel\n",
    "        - List DL: a list containing (point index, distance between the pixel and each generated point in Pts)\n",
    "        - Sort the list from ascending order\n",
    "        - VDom[j,i]: stores color for each pixel\n",
    "    - plot the colours\n",
    "    - plot the points"
   ]
  },
  {
   "cell_type": "code",
   "execution_count": 70,
   "metadata": {},
   "outputs": [],
   "source": [
    "## random point uniform \n",
    "n = 20\n",
    "Pts = np.ndarray( shape=(n, 2), dtype=np.float )\n",
    "for i,j in it.product( range(n), range(2) ):\n",
    "    Pts[i,j] = rd.random()\n",
    "    \n",
    "## color scheme\n",
    "carr = np.ndarray( shape=(n,3), dtype=np.float )\n",
    "\n",
    "for i,j in it.product( range(n), range(3) ):\n",
    "    carr[i,j] = rd.random()\n",
    "## get rid of dim colors as before\n",
    "for i in range(n):\n",
    "    delt = 1.0-max(carr[i])\n",
    "    carr[i] = delt+carr[i] ## numpy increments all three elements"
   ]
  },
  {
   "cell_type": "code",
   "execution_count": 45,
   "metadata": {},
   "outputs": [],
   "source": [
    "def voronoi(Pts, carr, res, norm=norm):\n",
    "    '''\n",
    "    Input: \n",
    "        Pts: Points\n",
    "        carr: Colour array\n",
    "        res:pixel resolution(?)\n",
    "    Output:\n",
    "        Voronoi diagram showing colour regions of the furthest point\n",
    "    '''\n",
    "    VDom = np.ndarray(shape=(res,res,3), dtype=np.float)\n",
    "    for i,j in it.product( range(res), range(res) ):\n",
    "        xy = np.array([i/res, j/res])\n",
    "        ## list of pairs (index of pt k, distance from xy to pt[k])\n",
    "        DL = [(k, norm(xy-Pts[k])) for k in range(n)]  # n = 20 from above\n",
    "        DLS = sorted(DL, key=op.itemgetter(1))\n",
    "        VDom[j,i] = carr[DLS[-1][0]]\n",
    "    plt.imshow(VDom, extent=[0,1,0,1], origin='lower' )\n",
    "    for k in range(n):\n",
    "        plt.plot( Pts[k,0], Pts[k,1], 'ko')"
   ]
  },
  {
   "cell_type": "code",
   "execution_count": 46,
   "metadata": {},
   "outputs": [
    {
     "data": {
      "image/png": "[encoded data removed]",
      "text/plain": [
       "<Figure size 720x720 with 1 Axes>"
      ]
     },
     "metadata": {
      "needs_background": "light"
     },
     "output_type": "display_data"
    }
   ],
   "source": [
    "plt.figure(figsize=(10,10))\n",
    "voronoi(Pts, carr, 300)"
   ]
  },
  {
   "cell_type": "code",
   "execution_count": null,
   "metadata": {},
   "outputs": [],
   "source": []
  },
  {
   "cell_type": "markdown",
   "metadata": {},
   "source": [
    "2) Repeat (1) but where the colour associated to your grid of points **VDom** is the **average** of the colours associated to the **nearest two points** of **Pts**.\n"
   ]
  },
  {
   "cell_type": "code",
   "execution_count": 81,
   "metadata": {},
   "outputs": [],
   "source": [
    "def voronoi_avg(Pts, carr, res, norm=norm):\n",
    "    '''\n",
    "    Input: \n",
    "        Pts: Points\n",
    "        carr: Colour array\n",
    "        res:pixel resolution(?)\n",
    "    Output:\n",
    "        Voronoi diagram showing colour regions showing the average\n",
    "    '''\n",
    "    VDom = np.ndarray(shape=(res,res,3), dtype=np.float)\n",
    "    for i,j in it.product( range(res), range(res) ):\n",
    "        xy = np.array([i/res, j/res])\n",
    "        ## list of pairs (index of pt k, distance from xy to pt[k])\n",
    "        DL = [(k, norm(xy-Pts[k])) for k in range(n)]  # n = 20 from above\n",
    "        DLS = sorted(DL, key=op.itemgetter(1))\n",
    "        VDom[j,i] = (carr[DLS[0][0]] + carr[DLS[1][0]])/2 ## take the avg \n",
    "    plt.imshow(VDom, extent=[0,1,0,1], origin='lower' )\n",
    "    for k in range(n):\n",
    "        plt.plot( Pts[k,0], Pts[k,1], 'ko',color=carr[k])\n",
    "        plt.plot( Pts[k,0], Pts[k,1], 'ko',color='red',markersize=0.7)"
   ]
  },
  {
   "cell_type": "code",
   "execution_count": 82,
   "metadata": {},
   "outputs": [
    {
     "data": {
      "image/png": "[encoded data removed]",
      "text/plain": [
       "<Figure size 720x720 with 1 Axes>"
      ]
     },
     "metadata": {
      "needs_background": "light"
     },
     "output_type": "display_data"
    }
   ],
   "source": [
    "plt.figure(figsize=(10,10))\n",
    "voronoi_avg(Pts, carr, 300)"
   ]
  },
  {
   "cell_type": "code",
   "execution_count": null,
   "metadata": {},
   "outputs": [],
   "source": []
  }
 ],
 "metadata": {
  "kernelspec": {
   "display_name": "Python 3",
   "language": "python",
   "name": "python3"
  },
  "language_info": {
   "codemirror_mode": {
    "name": "ipython",
    "version": 3
   },
   "file_extension": ".py",
   "mimetype": "text/x-python",
   "name": "python",
   "nbconvert_exporter": "python",
   "pygments_lexer": "ipython3",
   "version": "3.6.7"
  }
 },
 "nbformat": 4,
 "nbformat_minor": 2
}
