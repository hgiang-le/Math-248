{
 "cells": [
  {
   "cell_type": "markdown",
   "metadata": {},
   "source": [
    "\n",
    "# 4a. Introduction to Sympy\n",
    "\n",
    "**Exercise 1**: In class we saw the equality expression \"==\" in Sympy sometimes gives *false negatives*, i.e. it might say two expressions are not equal, when they are. \n",
    "\n",
    "Find a way to use Sympy's [**simplify**](https://docs.sympy.org/latest/tutorial/simplification.html) command to verify the two expressions\n",
    "\n",
    "$$\\frac{1}{\\sqrt{2}-1} \\text{ and } \\sqrt{2} + 1$$\n",
    "\n",
    "are equal."
   ]
  },
  {
   "cell_type": "code",
   "execution_count": 1,
   "metadata": {},
   "outputs": [],
   "source": [
    "import sympy as sp"
   ]
  },
  {
   "cell_type": "code",
   "execution_count": 2,
   "metadata": {},
   "outputs": [
    {
     "data": {
      "text/plain": [
       "False"
      ]
     },
     "execution_count": 2,
     "metadata": {},
     "output_type": "execute_result"
    }
   ],
   "source": [
    "x = 1/(sp.sqrt(2) - 1)\n",
    "y = sp.sqrt(2) + 1 \n",
    "x == y"
   ]
  },
  {
   "cell_type": "code",
   "execution_count": 3,
   "metadata": {},
   "outputs": [
    {
     "name": "stdout",
     "output_type": "stream",
     "text": [
      "1 + sqrt(2)\n",
      "1 + sqrt(2)\n"
     ]
    }
   ],
   "source": [
    "print(sp.simplify(x))\n",
    "print(sp.simplify(y))"
   ]
  },
  {
   "cell_type": "code",
   "execution_count": 4,
   "metadata": {},
   "outputs": [
    {
     "data": {
      "text/plain": [
       "True"
      ]
     },
     "execution_count": 4,
     "metadata": {},
     "output_type": "execute_result"
    }
   ],
   "source": [
    "sp.simplify(x) == sp.simplify(y)"
   ]
  },
  {
   "cell_type": "markdown",
   "metadata": {},
   "source": [
    "----\n",
    "\n",
    "**Exercise 2**:\n",
    "\n",
    "Write a function $f(n)$ that returns a Sympy polynomial that is the degree $2n$ Taylor expansion of the $\\cos x$ function.\n",
    "\n",
    "$$T^{2n}(x) = 1 - \\frac{x^2}{2!}x^2 + \\frac{x^4}{4!}x^4 + \\cdots + (-1)^n\\frac{x^{2n}}{(2n)!}x^{2n}$$\n",
    "\n",
    "Print out these polynomials for $n=1,2,3,4,5$ and use Sympy to compute the\n",
    "derivative of these polynomials.\n"
   ]
  },
  {
   "cell_type": "code",
   "execution_count": 5,
   "metadata": {},
   "outputs": [],
   "source": [
    "import math\n",
    "x = sp.Symbol('x')"
   ]
  },
  {
   "cell_type": "code",
   "execution_count": 6,
   "metadata": {},
   "outputs": [
    {
     "name": "stdout",
     "output_type": "stream",
     "text": [
      " 2\n",
      "x \n"
     ]
    }
   ],
   "source": [
    "p = x**2\n",
    "sp.pprint(p)"
   ]
  },
  {
   "cell_type": "code",
   "execution_count": 22,
   "metadata": {},
   "outputs": [],
   "source": [
    "def f(n):\n",
    "    f = 1 \n",
    "    for i in range(1,n+1):\n",
    "        f += (-1)**(i) *x**(2*i) * x**(2*i)/ math.factorial(2*i)\n",
    "    return f"
   ]
  },
  {
   "cell_type": "code",
   "execution_count": 28,
   "metadata": {},
   "outputs": [
    {
     "name": "stdout",
     "output_type": "stream",
     "text": [
      "for n = 1 ;  -x**4/2 + 1\n",
      "for n = 2 ;  x**8/24 - x**4/2 + 1\n",
      "for n = 3 ;  -x**12/720 + x**8/24 - x**4/2 + 1\n",
      "for n = 4 ;  x**16/40320 - x**12/720 + x**8/24 - x**4/2 + 1\n",
      "for n = 5 ;  -x**20/3628800 + x**16/40320 - x**12/720 + x**8/24 - x**4/2 + 1\n"
     ]
    }
   ],
   "source": [
    "for i in range(1,6):\n",
    "    print(\"for n =\", i , \"; \", f(i))"
   ]
  },
  {
   "cell_type": "code",
   "execution_count": 30,
   "metadata": {},
   "outputs": [
    {
     "name": "stdout",
     "output_type": "stream",
     "text": [
      "-2*x**3\n",
      "x**7/3 - 2*x**3\n",
      "-x**11/60 + x**7/3 - 2*x**3\n",
      "x**15/2520 - x**11/60 + x**7/3 - 2*x**3\n",
      "-x**19/181440 + x**15/2520 - x**11/60 + x**7/3 - 2*x**3\n"
     ]
    }
   ],
   "source": [
    "for i in range(1, 6):\n",
    "    d = sp.diff(f(i))\n",
    "    print(d)"
   ]
  },
  {
   "cell_type": "markdown",
   "metadata": {},
   "source": [
    "----\n",
    "\n",
    "**Exercise 3**:\n",
    "\n",
    " Compute the composite of the Taylor polynomial from Ex.2 with the function $x^2$, i.e. $T^{2n}(x^2)$ for $n=1,2,3,4,5$.\n",
    "\n",
    "From Calculus, this is a Taylor polynomial (of the appropriate order) for the function $\\cos(x^2)$.\n",
    "\n",
    "Use Sympy to compute the integrals:\n",
    "$$\\int_0^x \\cos(x^2) dx$$ \n",
    "$$\\int_0^x T^{2n}(x^2) dx \\text{  for  } n=1,2,3,4,5.$$\n",
    "\n",
    "Put the plots of these functions in one common matplotlib plot, so that they can be compared.  Make the domain of the plot $[-2\\pi,2\\pi]$.  How big do you need to make $n$ to ensure these two plots look the same, on the domain $[-2\\pi, 2\\pi]$?\n",
    "\n",
    "**Advice**: You can replace a variable with another in a Sympy expression with the [subs](https://docs.sympy.org/latest/tutorial/basic_operations.html) (substitute) command.\n",
    "\n",
    "**Advice**: You might find that due to the polynomials being extremely large towards the ends of the integration, it will help to set the **y-limits** of your plot to reasonable numbers such as $-2.0$ and $2.0$. Otherwise your plot's y-scale could be so large that it distorts the most interesting features of your functions.  Look up the [ylim](https://matplotlib.org/api/_as_gen/matplotlib.pyplot.ylim.html) command for *pyplot*.\n"
   ]
  },
  {
   "cell_type": "code",
   "execution_count": 34,
   "metadata": {},
   "outputs": [],
   "source": [
    "def g(n):\n",
    "    \"\"\" Takes function f from above, replace x with x**2 and return a function g \"\"\"\n",
    "    g = f(n).subs(x, x**2)\n",
    "    return(g)"
   ]
  },
  {
   "cell_type": "code",
   "execution_count": 36,
   "metadata": {},
   "outputs": [
    {
     "name": "stdout",
     "output_type": "stream",
     "text": [
      "-x**8/2 + 1\n",
      "x**16/24 - x**8/2 + 1\n",
      "-x**24/720 + x**16/24 - x**8/2 + 1\n",
      "x**32/40320 - x**24/720 + x**16/24 - x**8/2 + 1\n",
      "-x**40/3628800 + x**32/40320 - x**24/720 + x**16/24 - x**8/2 + 1\n"
     ]
    }
   ],
   "source": [
    "for i in range(1,6):\n",
    "    print(g(i))"
   ]
  },
  {
   "cell_type": "code",
   "execution_count": 42,
   "metadata": {},
   "outputs": [],
   "source": [
    "def G(n):\n",
    "    \"\"\"Integrate function g wrt to x\"\"\"\n",
    "    G = sp.integrate(g(i), x)\n",
    "    return(G)"
   ]
  },
  {
   "cell_type": "code",
   "execution_count": 44,
   "metadata": {},
   "outputs": [
    {
     "name": "stdout",
     "output_type": "stream",
     "text": [
      "-x**9/18 + x\n",
      "x**17/408 - x**9/18 + x\n",
      "-x**25/18000 + x**17/408 - x**9/18 + x\n",
      "x**33/1330560 - x**25/18000 + x**17/408 - x**9/18 + x\n",
      "-x**41/148780800 + x**33/1330560 - x**25/18000 + x**17/408 - x**9/18 + x\n"
     ]
    }
   ],
   "source": [
    "for i in range(1,6):\n",
    "    print(G(i))"
   ]
  },
  {
   "cell_type": "code",
   "execution_count": 50,
   "metadata": {},
   "outputs": [
    {
     "name": "stdout",
     "output_type": "stream",
     "text": [
      "              ⎛√2⋅x⎞       \n",
      "√2⋅√π⋅fresnelc⎜────⎟⋅Γ(1/4)\n",
      "              ⎝ √π ⎠       \n",
      "───────────────────────────\n",
      "          8⋅Γ(5/4)         \n"
     ]
    }
   ],
   "source": [
    "h = sp.cos(x**2)\n",
    "H = sp.integrate(h, x) ## integrate cos(x**2)\n",
    "sp.pprint(H)"
   ]
  },
  {
   "cell_type": "code",
   "execution_count": 51,
   "metadata": {},
   "outputs": [],
   "source": [
    "import numpy as np\n",
    "import matplotlib.pyplot as plt\n",
    "%matplotlib inline"
   ]
  },
  {
   "cell_type": "code",
   "execution_count": 67,
   "metadata": {},
   "outputs": [
    {
     "data": {
      "text/plain": [
       "(-2, 2)"
      ]
     },
     "execution_count": 67,
     "metadata": {},
     "output_type": "execute_result"
    },
    {
     "data": {
      "image/png": "[encoded data removed]",
      "text/plain": [
       "<Figure size 576x576 with 1 Axes>"
      ]
     },
     "metadata": {
      "needs_background": "light"
     },
     "output_type": "display_data"
    }
   ],
   "source": [
    "plt.figure(figsize=(8,8))\n",
    "\n",
    "X = np.linspace(-2* np.pi, 2*np.pi, 100)\n",
    "Y = [G(5).subs({x:p}).evalf() for p in X]\n",
    "plt.plot(X,Y)\n",
    "plt.title(\"$T^{2n}(x^2)$ for n = 1,2,3,4,5\")\n",
    "plt.xlabel('x-axis')\n",
    "plt.ylabel('antiderivative')\n",
    "plt.ylim(-2,2)"
   ]
  },
  {
   "cell_type": "code",
   "execution_count": 68,
   "metadata": {},
   "outputs": [
    {
     "data": {
      "text/plain": [
       "(-2, 2)"
      ]
     },
     "execution_count": 68,
     "metadata": {},
     "output_type": "execute_result"
    },
    {
     "data": {
      "image/png": "[encoded data removed]",
      "text/plain": [
       "<Figure size 576x576 with 1 Axes>"
      ]
     },
     "metadata": {
      "needs_background": "light"
     },
     "output_type": "display_data"
    }
   ],
   "source": [
    "plt.figure(figsize=(8,8))\n",
    "Y2 = [H.subs({x:p}).evalf() for p in X]\n",
    "plt.plot(X,Y)\n",
    "plt.xlabel('x-axis')\n",
    "plt.ylabel('antiderivative')\n",
    "plt.ylim(-2,2)"
   ]
  },
  {
   "cell_type": "code",
   "execution_count": null,
   "metadata": {},
   "outputs": [],
   "source": []
  }
 ],
 "metadata": {
  "kernelspec": {
   "display_name": "Python 3",
   "language": "python",
   "name": "python3"
  },
  "language_info": {
   "codemirror_mode": {
    "name": "ipython",
    "version": 3
   },
   "file_extension": ".py",
   "mimetype": "text/x-python",
   "name": "python",
   "nbconvert_exporter": "python",
   "pygments_lexer": "ipython3",
   "version": "3.6.7"
  }
 },
 "nbformat": 4,
 "nbformat_minor": 2
}
