{
 "cells": [
  {
   "cell_type": "markdown",
   "metadata": {},
   "source": [
    "# 6b. File IO\n",
    "\n",
    "**Ex. 1)** Create a function that takes as input a city name (eg: **w.sask** and **w.vic** for Saskatoon and Victoria respectively), and a weather feature key (eg: **Mean Temp (°C)** or **Total Rain (mm)**).  The function will create a matplotlib plot (a point plot) where the x-axis represents the date of the measurement, and the y-axis represents the measurement corresponding to the key. Include the linear and quadratic least-squares approximations.\n",
    "\n",
    "Use the code from Lecture 6b, i.e. use data from the **mdat** variable.\n",
    "\n",
    "How do your trend lines compare with the global warming predictions we see in newspaper articles?"
   ]
  },
  {
   "cell_type": "code",
   "execution_count": 90,
   "metadata": {},
   "outputs": [],
   "source": [
    "import pprint as pp\n",
    "import datetime as dt ## library to manipulate dates and times\n",
    "import matplotlib.pyplot as plt\n",
    "import os\n",
    "import fnmatch as fn\n",
    "import scipy.optimize \n",
    "%matplotlib inline\n",
    "\n",
    "def parse_fname(fname):\n",
    "    with open(fname, encoding='utf8') as f:\n",
    "        content = f.read().split('\\n')\n",
    "        '''this splits the string.  [typical way of doing multi-line comments.]\n",
    "        ## converts the file into one big text string.\n",
    "        ## and split by lines\n",
    "        ## two things you can do. rather than use read() command you can use readlines()'''\n",
    "        ## problem in the new files the header is only 5 lines long\n",
    "        leglines = [i for i in range(len(content)) if 'legend' in content[i].lower()]\n",
    "        if len(leglines)!=1:\n",
    "            print(\"Error not unique legend line.\")\n",
    "            return(None)\n",
    "        \n",
    "        ID_pairs = [x.replace('\"', '').replace('\\ufeff', '').split(',')\\\n",
    "                    for x in content[:leglines[0]-1]]\n",
    "        fdat = dict(ID_pairs)\n",
    "        to_float=['Elevation', 'Latitude', 'Longitude']\n",
    "        to_int = ['WMO Identifier']\n",
    "        for k in to_float:\n",
    "            if k in fdat.keys():\n",
    "                fdat[k] = float(fdat[k])\n",
    "        for k in to_int:\n",
    "            if k in fdat.keys():\n",
    "                if fdat[k]=='':\n",
    "                    del fdat[k] ## removal of key from dictionary \n",
    "                else:\n",
    "                    fdat[k] = int(fdat[k])\n",
    "        ## next: let's load the keys for the row data.     \n",
    "        keylines = [i for i in range(len(content)) if 'date/time' in\\\n",
    "                   content[i].lower()]\n",
    "        if len(keylines)!=1:\n",
    "            print('Error! Need only one key line.')\n",
    "            return(None)\n",
    "        ## parse the row the row data, i.e. all data from \"keylines\" down.\n",
    "        keys = content[keylines[0]].replace('\"','').split(',')\n",
    "        ## now the remaining rows, we want to put into a list of dictionaries\n",
    "        fdat['rows']=[]\n",
    "        for L in content[keylines[0]+1:]:\n",
    "            L=L.replace('\"','').split(',')\n",
    "            if len(L)!=len(keys):\n",
    "                continue\n",
    "            ignore_keys = ['Year', 'Month', 'Day']\n",
    "            X = {keys[i]:L[i] for i in range(len(keys)) if L[i]!=''\\\n",
    "                 and (keys[i] not in ignore_keys)}\n",
    "            ## make the data more useful \n",
    "            to_date = ['Date/Time']\n",
    "            to_float = ['Max Temp (°C)', 'Min Temp (°C)', 'Mean Temp (°C)',\\\n",
    "                       'Total Precip (mm)', 'Total Rain (mm)', 'Total Snow (cm)',\\\n",
    "                       'Snow on Grnd (cm)', 'Cool Deg Days (°C)', 'Heat Deg Days (°C)']\n",
    "            \n",
    "            for k in to_date:\n",
    "                X[k] = dt.datetime.strptime(X[k], \"%Y-%m-%d\").date()\n",
    "            for k in to_float:\n",
    "                if k in X.keys():\n",
    "                    X[k] = float(X[k])\n",
    "            \n",
    "            fdat['rows'].append(X)\n",
    "        return(fdat)    \n"
   ]
  },
  {
   "cell_type": "code",
   "execution_count": 97,
   "metadata": {},
   "outputs": [],
   "source": [
    "def parse_name_lab(city_name, weather_key):\n",
    "    '''\n",
    "    Input: \n",
    "        - city_name: a city name (eg: w.sask and w.vic for Saskatoon and Victoria respectively)\n",
    "        - weather_key: a weather feature key (only Mean Temp (°C) and Total Rain (mm) as of now)\n",
    "    Output:\n",
    "        The function will create a matplotlib plot (a point plot) where:\n",
    "        - x-axis represents the date of the measurement, \n",
    "        - y-axis represents the measurement corresponding to the key\n",
    "        Include the linear and quadratic least-squares approximations\n",
    "    '''\n",
    "    route = '../../mp248-course/Data/CWD/'\n",
    "    if \"Calgary\" in city_name:\n",
    "        wsubdirs = fn.filter(os.listdir(route), \"w.cal\")\n",
    "    elif \"Edmonton\" in city_name:\n",
    "        wsubdirs = fn.filter(os.listdir(route), \"w.edm\")\n",
    "    elif \"Saskatoon\" in city_name:\n",
    "        wsubdirs = fn.filter(os.listdir(route), \"w.sask\")\n",
    "    elif \"Victoria\" in city_name:\n",
    "        wsubdirs = fn.filter(os.listdir(route), \"w.vic\")\n",
    "    else:\n",
    "        return(print(city_name, 'not found'))\n",
    "    \n",
    "    mdat=dict()\n",
    "    for wd in wsubdirs:\n",
    "        files = fn.filter(os.listdir(route+wd), \"eng-daily*.csv\")\n",
    "        for wdf in files:\n",
    "            fname = route+wd+'/'+wdf\n",
    "            pf = parse_fname(fname)\n",
    "            for v in pf['rows']:\n",
    "                K = (wd, v['Date/Time'])\n",
    "                mdat[K] = v\n",
    "    \n",
    "    k1 = 'Date/Time'\n",
    "    if 'Mean Temp' in weather_key:\n",
    "        k2 = 'Mean Temp (°C)'\n",
    "    elif 'Total Rain' in weather_key:\n",
    "        k2 = 'Total Rain (mm)'\n",
    "    else:\n",
    "        return(print(weather_key,'not found'))\n",
    "    \n",
    "    if \"Victoria\" in city_name:\n",
    "        MM=[(v[k1], v[k2]) for k,v in mdat.items() if k[0]=='w.vic'\\\n",
    "        and (k1 in v.keys()) and (k2 in v.keys())]\n",
    "    elif \"Calgary\" in city_name:\n",
    "        MM=[(v[k1], v[k2]) for k,v in mdat.items() if k[0]=='w.cal'\\\n",
    "        and (k1 in v.keys()) and (k2 in v.keys())]\n",
    "    elif \"Saskatoon\" in city_name:\n",
    "        MM=[(v[k1], v[k2]) for k,v in mdat.items() if k[0]=='w.sask'\\\n",
    "        and (k1 in v.keys()) and (k2 in v.keys())]\n",
    "    elif \"Edmonton\" in city_name:\n",
    "        MM=[(v[k1], v[k2]) for k,v in mdat.items() if k[0]=='w.edm'\\\n",
    "        and (k1 in v.keys()) and (k2 in v.keys())]\n",
    "    else:\n",
    "        return(print(city_name, 'not found (Error 2)'))\n",
    "    \n",
    "\n",
    "    # Plot\n",
    "    plt.plot([x[0] for x in MM], [x[1] for x in MM], 'ro')\n",
    "    plt.xlabel(k1)\n",
    "    plt.ylabel(k2)\n",
    "    # Linear and quadratic least square approximations\n",
    "    #scipy.optimize.curve_fit(func ,[x[0] for x in MM], [x[1] for x in MM])"
   ]
  },
  {
   "cell_type": "code",
   "execution_count": 98,
   "metadata": {},
   "outputs": [
    {
     "data": {
      "image/png": "[encoded data removed]",
      "text/plain": [
       "<Figure size 432x288 with 1 Axes>"
      ]
     },
     "metadata": {
      "needs_background": "light"
     },
     "output_type": "display_data"
    }
   ],
   "source": [
    "parse_name_lab('Victoria', 'Total Rain (mm)')"
   ]
  },
  {
   "cell_type": "markdown",
   "metadata": {},
   "source": [
    "----\n",
    "\n",
    "**Ex. 2)** Write a function that will take as input three arguments.  The first two arguments are city names in our 6b convention (eg: **w.sask** and **w.vic** for Saskatoon and Victoria respectively), and the third argument would be a key for a floating-point data type (eg: **Mean Temp (°C)** or **Total Rain (mm)**).  Your function would then create a matplotlib plot for that weather feature, of one city's weather vs. the other for all the dates we have in common in our data set.  Include a linear and quadratic least-squares approximation. \n",
    "\n",
    "Make a plot for mean temperature, for every pair of cities.\n",
    "\n"
   ]
  },
  {
   "cell_type": "code",
   "execution_count": null,
   "metadata": {},
   "outputs": [],
   "source": [
    "def parse_name_lab2(city_name1, city_name2, weather_key):"
   ]
  },
  {
   "cell_type": "code",
   "execution_count": null,
   "metadata": {},
   "outputs": [],
   "source": []
  }
 ],
 "metadata": {
  "kernelspec": {
   "display_name": "Python 3",
   "language": "python",
   "name": "python3"
  },
  "language_info": {
   "codemirror_mode": {
    "name": "ipython",
    "version": 3
   },
   "file_extension": ".py",
   "mimetype": "text/x-python",
   "name": "python",
   "nbconvert_exporter": "python",
   "pygments_lexer": "ipython3",
   "version": "3.6.7"
  }
 },
 "nbformat": 4,
 "nbformat_minor": 2
}
