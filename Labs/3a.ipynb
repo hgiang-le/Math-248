{
 "cells": [
  {
   "cell_type": "markdown",
   "metadata": {},
   "source": [
    "# 3a. Numerical integration\n",
    "\n",
    "Follow the lead of lectures 2c and 3a.  \n",
    "\n",
    "(1) Create a function that performs numerical integration using [**Simpson's Method**](https://en.wikipedia.org/wiki/Simpson%27s_rule).\n",
    "\n",
    "Call your function **simp_method**, and following the examples of 2c and 3a, have it take four arguments: the function to integrate, the left endpoint, the right endpoint and the number of divisions. \n",
    "\n",
    "Try your method on $sin(x)$ on the interval $[0,\\pi]$.  Does it give an over estimate?  Under-estimate?\n"
   ]
  },
  {
   "cell_type": "code",
   "execution_count": 2,
   "metadata": {},
   "outputs": [],
   "source": [
    "import numpy as np\n",
    "\n",
    "def simp_method(func, a, b , num_of_div) :\n",
    "    S = 0 \n",
    "    x_delta = (b - a)/num_of_div\n",
    "    \n",
    "    for i in range(1, num_of_div + 1): \n",
    "        S += 1/6 * (func(a + i * x_delta) + 4* func(0.5 *(a + i * x_delta) + (a + (i - 1)* x_delta) ) + func(a + (i - 1)* x_delta))  * x_delta\n",
    "        \n",
    "    return(S)"
   ]
  },
  {
   "cell_type": "code",
   "execution_count": 3,
   "metadata": {},
   "outputs": [
    {
     "data": {
      "text/plain": [
       "1.143570712172886"
      ]
     },
     "execution_count": 3,
     "metadata": {},
     "output_type": "execute_result"
    }
   ],
   "source": [
    "simp_method(np.sin, 0, np.pi, 10)"
   ]
  },
  {
   "cell_type": "markdown",
   "metadata": {},
   "source": [
    "(2) Copy and paste these lines of code into your Python notebook, and execute.  A grading script will check your repository to see that you have the correct output in your notebook.  Ensure your notebook is saved in **mp248/Labs/3a.ipynb**.  The grading script will run until this Friday night (Sept 20th) and your grade will be posted as **Task 2** on CourseSpaces. \n",
    "\n",
    "``print(\"Simp sin 8: \", simp_method(np.sin, 0.0, np.pi, 8))``\n",
    "\n",
    "``print(\"Simp sin 200: \", simp_method(np.sin, 0.0, np.pi, 200))``\n",
    "\n",
    "``print(\"Simp exp 8: \", simp_method(np.exp, 0.0, 1.0, 8))``\n",
    "\n",
    "``print(\"Simp exp 200: \", simp_method(np.exp, 0.0, 1.0, 200))``"
   ]
  },
  {
   "cell_type": "code",
   "execution_count": 5,
   "metadata": {},
   "outputs": [
    {
     "name": "stdout",
     "output_type": "stream",
     "text": [
      "Simp sin 8:  1.1510408359131266\n",
      "Simp sin 200:  1.1128496223938413\n",
      "Simp exp 8:  2.071119800571722\n",
      "Simp exp 200:  2.1182424818194416\n"
     ]
    }
   ],
   "source": [
    "print(\"Simp sin 8: \", simp_method(np.sin, 0.0, np.pi, 8))\n",
    "\n",
    "print(\"Simp sin 200: \", simp_method(np.sin, 0.0, np.pi, 200))\n",
    "\n",
    "print(\"Simp exp 8: \", simp_method(np.exp, 0.0, 1.0, 8))\n",
    "\n",
    "print(\"Simp exp 200: \", simp_method(np.exp, 0.0, 1.0, 200))"
   ]
  },
  {
   "cell_type": "markdown",
   "metadata": {},
   "source": [
    "(3) Create a second function whose purpose is to illustrate simpson's method.  i.e. this function will **plot** the function you are integrating, as well as indicate the area in the plane being computed by your function **simp_method**.  \n",
    "\n",
    "Try the illustration for the function $\\sin(x)$ from (1).  Does this explain your computation?"
   ]
  },
  {
   "cell_type": "code",
   "execution_count": null,
   "metadata": {},
   "outputs": [],
   "source": [
    "import matplotlib.pyplot as plt\n",
    "%matplotlib inline\n"
   ]
  },
  {
   "cell_type": "code",
   "execution_count": null,
   "metadata": {},
   "outputs": [],
   "source": []
  }
 ],
 "metadata": {
  "kernelspec": {
   "display_name": "Python 3",
   "language": "python",
   "name": "python3"
  },
  "language_info": {
   "codemirror_mode": {
    "name": "ipython",
    "version": 3
   },
   "file_extension": ".py",
   "mimetype": "text/x-python",
   "name": "python",
   "nbconvert_exporter": "python",
   "pygments_lexer": "ipython3",
   "version": "3.6.7"
  }
 },
 "nbformat": 4,
 "nbformat_minor": 2
}
