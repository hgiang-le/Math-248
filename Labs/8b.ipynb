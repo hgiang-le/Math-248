{
 "cells": [
  {
   "cell_type": "markdown",
   "metadata": {},
   "source": [
    "# 8b. Polynomial ODEs. \n",
    "\n",
    "Note: this lab is a little long.  Please focus on Ex.1.  Consider Ex.2 to be additional exercise, for students that finish Ex.1 quickly.\n",
    "\n",
    "----\n",
    "\n",
    "**Ex.1)** Write a Python function **polyODEsim** that takes as input a polynomial **P**, and plots:\n",
    "\n",
    "1. The roots of the polynomial.\n",
    "2. Several solution to the ODE $\\frac{dz}{dt} = iP(z)$ with initial conditions taken from an evenly-spaced 5-by-5 lattice of points in the plane.  The four corners of your lattice should form a rectangle that contains all the roots of your polynomial. Use numpy's **mgrid** command to generate the lattice of initial values.\n",
    "3. Include a quiver plot for the vector field $z \\longmapsto iP(z)$.\n",
    "\n",
    "Include plots for the polynomials: $z^3-1$, $z^5-1$, $z^4-z^3-z+1$.  Try also the polynomial a non-real coefficient: $-iz$.\n",
    "\n",
    "What kind of behaviour do you see.  Can you characterize the periodic solutions?  The ones that converge to roots?  Which roots are limits of solutions, and which ones are not?\n"
   ]
  },
  {
   "cell_type": "code",
   "execution_count": 1,
   "metadata": {},
   "outputs": [],
   "source": [
    "import numpy as np\n",
    "from scipy import integrate as itg\n",
    "import itertools as it\n",
    "import numpy.polynomial.polynomial as npp\n",
    "import operator as op\n",
    "\n",
    "import matplotlib.pyplot as plt\n",
    "%matplotlib inline"
   ]
  },
  {
   "cell_type": "code",
   "execution_count": 3,
   "metadata": {},
   "outputs": [],
   "source": [
    "def polyODEsim(P, maxS = 10, steps = 10000):\n",
    "    '''\n",
    "    \n",
    "    '''\n",
    "    ## Step 1: find and plot the roots\n",
    "    R = npp.polyroots(P)\n",
    "    \n",
    "    minx = min([z.real for z in R])\n",
    "    maxx = max([z.real for z in R])\n",
    "    delx = maxx - minx\n",
    "    miny = min([z.imag for z in R])\n",
    "    maxy = max([z.imag for z in R])\n",
    "    dely = maxy - miny\n",
    "    dym = miny - dely/4\n",
    "    dyM = maxy + dely/4\n",
    "    wx = dxM - dxm\n",
    "    wy = dyM - dym\n",
    "    \n",
    "    plt.figure(figsize=(8,8))\n",
    "    plt.xlim(dxm, dxM)\n",
    "    plt.ylim(dym, dyM)\n",
    "    plt.plot([r.real for r in R], [r.imag for r in R], 'ko')\n",
    "    \n",
    "    ## Step 2: set up our ODE z' = iP(z)\n",
    "    ODE = lambda Y, t: [((1j)*npp.polyval(Y[0] + Y[1]*1j, P)).real, ((1j)*npp.polyval(Y[0] + Y[1]*1j, P)).imag]\n",
    "    t = np.linspace(0, maxS, steps)\n",
    "    \n",
    "    ## Step 3: compute a grid of solutions"
   ]
  },
  {
   "cell_type": "code",
   "execution_count": null,
   "metadata": {},
   "outputs": [],
   "source": []
  },
  {
   "cell_type": "code",
   "execution_count": null,
   "metadata": {},
   "outputs": [],
   "source": []
  },
  {
   "cell_type": "markdown",
   "metadata": {},
   "source": [
    "**Ex.2)** We continue to study the behaviour of the ODE\n",
    "\n",
    "$$\\frac{dz}{dt} = iP(z).$$\n",
    "\n",
    "**(a)** Create a Python function that takes as input a polynomial.  Your function will generate a **basins of attraction plot**, i.e. at each point $z_0$ in the plot you will compute a solution to the above ODE satisfying the initial condition $z(0)=z_0$.  Depending on the behaviour of the solution you will color the point $z_0$ accordingly.  You will choose colours according to each of the roots.  If your solution converges to a root, colour the point $z_0$ accordingly.  Similarly, choose a colour for initial values $z_0$ corresponding to periodic solutions.  And colour the point $z_0$ black if the solution starting at $z_0$ neither converges to a root, nor is it periodic.  As with our Newton method basins of attraction plots, use matplotlib's **imshow** command for your primary plot.\n",
    "\n",
    "**(b)** Include plots for the same polynomials listed in **Ex.1**.\n",
    "\n",
    "**(c)** Do your experiments suggest that for any polynomial with real coefficients, the solutions to the above ODE are either periodic or converge to a root?  If so, can you identify which roots are limits of solutions, and which initial values give periodic solutions? \n",
    "\n",
    "Note: A polynomial $$c_nz^n + c_{n-1}z^{n-1} + \\cdots + c_1 z + c_0$$ is said to have real coefficients if $c_i \\in \\mathbb R$ for all $i$."
   ]
  },
  {
   "cell_type": "code",
   "execution_count": 34,
   "metadata": {},
   "outputs": [],
   "source": []
  },
  {
   "cell_type": "code",
   "execution_count": null,
   "metadata": {},
   "outputs": [],
   "source": []
  }
 ],
 "metadata": {
  "kernelspec": {
   "display_name": "Python 3",
   "language": "python",
   "name": "python3"
  },
  "language_info": {
   "codemirror_mode": {
    "name": "ipython",
    "version": 3
   },
   "file_extension": ".py",
   "mimetype": "text/x-python",
   "name": "python",
   "nbconvert_exporter": "python",
   "pygments_lexer": "ipython3",
   "version": "3.6.7"
  }
 },
 "nbformat": 4,
 "nbformat_minor": 2
}
