{
 "cells": [
  {
   "cell_type": "markdown",
   "metadata": {},
   "source": [
    "# 5a. Root finding\n",
    "\n",
    "**Exercise 1:** Compared to Newton's Method, there is a far more elementary and reliable method of root finding called the **subdivision** technique.  Say you are trying to find the roots $f(x)=0$ of a continuous function $f : [a,b] \\to \\mathbb R$.  The values of the function $f(a)$ and $f(b)$ have opposite signs, i.e. $f(a)f(b)<0$. One computes the midpoint $t_0 = \\frac{a+b}{2}$.  If $f(t_0)=0$, you are done.  So assume $f(t_0) \\neq 0$.  Then either \n",
    "\n",
    "a. $f(a)f(t_0)<0$ or \n",
    "\n",
    "b. $f(t_0)f(b)<0$.    \n",
    "\n",
    "If (a) is true, then replace the interval $[a,b]$ with $[a,t_0]$.  If (b) is true, replace the interval $[a,b]$ with $[t_0, b]$.  One repeats this technique until the length of the interval is shorter than whatever kind of accuracy you need for your answer.  The [intermediate value theorem](https://en.wikipedia.org/wiki/Intermediate_value_theorem) guarantees that a root of your equation is in your interval.\n",
    "\n",
    "(a) Create a visualization of the subdivision technique for finding roots of equations, similar to **plotNewt** from class.  Try it on $f(x)=x^2-2$.\n",
    "\n",
    "(b) For $f(x)=x^2-2$, if your initial interval is $[1,2]$, how many iterations does it take to estimate $\\sqrt{2}$ to within $1/10^8$?  Compare that to Newton's method with initial guess $x_0 = 1$, or $x_0 = 2$.  \n",
    "\n",
    "\n"
   ]
  },
  {
   "cell_type": "code",
   "execution_count": 26,
   "metadata": {},
   "outputs": [],
   "source": [
    "import sympy as sp\n",
    "import numpy as np\n",
    "import matplotlib.pyplot as plt\n",
    "%matplotlib inline\n",
    "\n",
    "x = sp.Symbol('x')\n",
    "f = sp.Function('f')"
   ]
  },
  {
   "cell_type": "code",
   "execution_count": 79,
   "metadata": {},
   "outputs": [],
   "source": [
    "def subdivision2(f,x,a,b):\n",
    "    F = sp.lambdify(x,f)\n",
    "    tol  = np.exp(-8)\n",
    "    listx = [a,b]\n",
    "    listy = [0, 0]\n",
    "    \n",
    "    if F(a)*F(b) > 0:\n",
    "        return print(\"f(a) and f(b) do not have opposite sign\")\n",
    "    \n",
    "    t = (a+b)/2\n",
    "    ## Plot the zero line with initial points\n",
    "    plt.plot([a, b], [0.0, 0.0], 'k-', alpha=0.4, label='zero')\n",
    "    \n",
    "    count1 = 0\n",
    "    while abs(F(t)) >= tol:\n",
    "        if abs(F(t)) <= tol:\n",
    "            return count1\n",
    "        elif F(a)*F(t) < 0:\n",
    "            count1 += 1\n",
    "            b = t\n",
    "            listx.append(b)\n",
    "            listx.append(a)\n",
    "            listy.append(count1)\n",
    "            listy.append(count1)\n",
    "            t = (a+b)/2\n",
    "        elif F(t)*F(b) < 0 :\n",
    "            count1 += 1\n",
    "            a = t\n",
    "            listx.append(a)\n",
    "            listx.append(b)\n",
    "            listy.append(count1)\n",
    "            listy.append(count1)\n",
    "            t = (a+b)/2\n",
    "    print(\"count =\",count1)\n",
    "    \n",
    "    \n",
    "    #Plot the points\n",
    "    plt.plot(listx, listy, 'o')\n",
    "    plt.plot([listx[0]], [0.0], 'go', alpha=0.6, label=\"initial pt\")\n",
    "    plt.plot([listx[1]], [0.0], 'go', alpha=0.6)\n",
    "    plt.plot([listx[-1]], [listy[-1]], 'ro', alpha=0.6, label=\"end pt\")\n",
    "    \n",
    "    \n",
    "    ## Label\n",
    "    plt.xlabel(\"x\")\n",
    "    plt.ylabel('F(x)')\n",
    "    plt.legend()"
   ]
  },
  {
   "cell_type": "code",
   "execution_count": 80,
   "metadata": {},
   "outputs": [
    {
     "name": "stdout",
     "output_type": "stream",
     "text": [
      "count = 12\n"
     ]
    },
    {
     "data": {
      "image/png": "[encoded data removed]",
      "text/plain": [
       "<Figure size 432x288 with 1 Axes>"
      ]
     },
     "metadata": {
      "needs_background": "light"
     },
     "output_type": "display_data"
    }
   ],
   "source": [
    "subdivision2(x**2 - 2, x, 1, 4)"
   ]
  },
  {
   "cell_type": "markdown",
   "metadata": {},
   "source": [
    "----\n",
    "\n",
    "**Exercise 2:** This exercise asks you to create a plot of *how long* it takes Newton's method to find a root. Specifically, take Newton's method for the roots $x^2-2=0$.  On the interval $[-2,2]$ plot the function $N(x)$ which is the number of iterations it takes for Newton's method to get to within $1/10^8$ of a root.  Plot in one color if the root you are approximating is $\\sqrt{2}$, and another if you are approximating $-\\sqrt{2}$. \n"
   ]
  },
  {
   "cell_type": "code",
   "execution_count": null,
   "metadata": {},
   "outputs": [],
   "source": [
    "def Newt(f, x, x0, n)"
   ]
  },
  {
   "cell_type": "code",
   "execution_count": null,
   "metadata": {},
   "outputs": [],
   "source": []
  },
  {
   "cell_type": "code",
   "execution_count": null,
   "metadata": {},
   "outputs": [],
   "source": []
  },
  {
   "cell_type": "markdown",
   "metadata": {},
   "source": [
    "----\n",
    "\n",
    "**Exercise 3:** Repeat exercise 2 but for the subdivision technique.  Plot $N(x)$ the number of iterations it takes the subdivision technique to get within $1/10^8$ of a root, provided the initial interval is $[x-1, x+1]$. If the method fails to produce a root, do not plot a point.   Include a plot of $x^2-2$ so that your plot is directly comparable to Exercise 2.\n"
   ]
  },
  {
   "cell_type": "code",
   "execution_count": null,
   "metadata": {},
   "outputs": [],
   "source": []
  },
  {
   "cell_type": "code",
   "execution_count": null,
   "metadata": {},
   "outputs": [],
   "source": []
  },
  {
   "cell_type": "code",
   "execution_count": null,
   "metadata": {},
   "outputs": [],
   "source": []
  },
  {
   "cell_type": "code",
   "execution_count": null,
   "metadata": {},
   "outputs": [],
   "source": []
  }
 ],
 "metadata": {
  "kernelspec": {
   "display_name": "Python 3",
   "language": "python",
   "name": "python3"
  },
  "language_info": {
   "codemirror_mode": {
    "name": "ipython",
    "version": 3
   },
   "file_extension": ".py",
   "mimetype": "text/x-python",
   "name": "python",
   "nbconvert_exporter": "python",
   "pygments_lexer": "ipython3",
   "version": "3.6.7"
  }
 },
 "nbformat": 4,
 "nbformat_minor": 2
}
