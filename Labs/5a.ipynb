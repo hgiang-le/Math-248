{
 "cells": [
  {
   "cell_type": "markdown",
   "metadata": {},
   "source": [
    "# 5a. Root finding\n",
    "\n",
    "**Exercise 1:** Compared to Newton's Method, there is a far more elementary and reliable method of root finding called the **subdivision** technique.  Say you are trying to find the roots $f(x)=0$ of a continuous function $f : [a,b] \\to \\mathbb R$.  The values of the function $f(a)$ and $f(b)$ have opposite signs, i.e. $f(a)f(b)<0$. One computes the midpoint $t_0 = \\frac{a+b}{2}$.  If $f(t_0)=0$, you are done.  So assume $f(t_0) \\neq 0$.  Then either \n",
    "\n",
    "a. $f(a)f(t_0)<0$ or \n",
    "\n",
    "b. $f(t_0)f(b)<0$.    \n",
    "\n",
    "If (a) is true, then replace the interval $[a,b]$ with $[a,t_0]$.  If (b) is true, replace the interval $[a,b]$ with $[t_0, b]$.  One repeats this technique until the length of the interval is shorter than whatever kind of accuracy you need for your answer.  The [intermediate value theorem](https://en.wikipedia.org/wiki/Intermediate_value_theorem) guarantees that a root of your equation is in your interval.\n",
    "\n",
    "(a) Create a visualization of the subdivision technique for finding roots of equations, similar to **plotNewt** from class.  Try it on $f(x)=x^2-2$.\n",
    "\n",
    "(b) For $f(x)=x^2-2$, if your initial interval is $[1,2]$, how many iterations does it take to estimate $\\sqrt{2}$ to within $1/10^8$?  Compare that to Newton's method with initial guess $x_0 = 1$, or $x_0 = 2$.  \n",
    "\n",
    "\n"
   ]
  },
  {
   "cell_type": "code",
   "execution_count": 1,
   "metadata": {},
   "outputs": [],
   "source": [
    "import sympy as sp\n",
    "import numpy as np\n",
    "import matplotlib.pyplot as plt\n",
    "%matplotlib inline\n",
    "\n",
    "x = sp.Symbol('x')\n",
    "f = sp.Function('f')"
   ]
  },
  {
   "cell_type": "code",
   "execution_count": 2,
   "metadata": {},
   "outputs": [],
   "source": [
    "list_x = []\n",
    "list_y = []"
   ]
  },
  {
   "cell_type": "code",
   "execution_count": 3,
   "metadata": {},
   "outputs": [],
   "source": [
    "def subdivision(f, x, a, b, count, list_x, list_y):\n",
    "    F = sp.lambdify(x, f)\n",
    "    \n",
    "    tol = np.exp(-8)\n",
    "    list_x.append(a)\n",
    "    list_x.append(b)\n",
    "    list_y.append(F(a))\n",
    "    list_y.append(F(b))\n",
    "    \n",
    "    \n",
    "    t = (a + b)/2\n",
    "    if abs(F(t)) <= tol:\n",
    "        plt.plot(list_x, list_y)\n",
    "        return count\n",
    "    elif F(a)*F(t) < 0: \n",
    "        count += 1\n",
    "        return subdivision(f, x, a, t, count, list_x, list_y)\n",
    "    elif F(t)*F(b) < 0:\n",
    "        count += 1\n",
    "        return subdivision(f, x, t, b, count, list_x, list_y)\n",
    "               "
   ]
  },
  {
   "cell_type": "code",
   "execution_count": 4,
   "metadata": {},
   "outputs": [
    {
     "data": {
      "text/plain": [
       "12"
      ]
     },
     "execution_count": 4,
     "metadata": {},
     "output_type": "execute_result"
    },
    {
     "data": {
      "image/png": "[encoded data removed]",
      "text/plain": [
       "<Figure size 432x288 with 1 Axes>"
      ]
     },
     "metadata": {
      "needs_background": "light"
     },
     "output_type": "display_data"
    }
   ],
   "source": [
    "subdivision(x**2 -2, x, 1.0, 4, 0, list_x, list_y )"
   ]
  },
  {
   "cell_type": "code",
   "execution_count": null,
   "metadata": {},
   "outputs": [],
   "source": [
    "#def subdivision2(f,x,a,b):\n",
    "#    F = sp.lambdify(x,f)\n",
    "#    tol  = np.exp(-8)\n",
    "#    listx = [a]\n",
    "#    listy = [b]\n",
    "#    \n",
    "#    t = (a+b)/2\n",
    "#    count1 = 0\n",
    "#    while abs(F(t)) >= tol:\n",
    "#        if abs(F(t)) <= tol:\n",
    "#            return count1\n",
    "#        if F(a)*F(t) < 0:\n",
    "#            count1 += 1\n",
    "#            b = t\n",
    "#            listy.append(b)\n",
    "#        elif F(t)*F(b) < 0 :\n",
    "#            count1 += 1\n",
    "#            a = t\n",
    "#           listx.append(a)\n",
    "#    print(count1)\n",
    "    #plt.plot(listx, listy)"
   ]
  },
  {
   "cell_type": "markdown",
   "metadata": {},
   "source": [
    "----\n",
    "\n",
    "**Exercise 2:** This exercise asks you to create a plot of *how long* it takes Newton's method to find a root. Specifically, take Newton's method for the roots $x^2-2=0$.  On the interval $[-2,2]$ plot the function $N(x)$ which is the number of iterations it takes for Newton's method to get to within $1/10^8$ of a root.  Plot in one color if the root you are approximating is $\\sqrt{2}$, and another if you are approximating $-\\sqrt{2}$. \n"
   ]
  },
  {
   "cell_type": "code",
   "execution_count": null,
   "metadata": {},
   "outputs": [],
   "source": []
  },
  {
   "cell_type": "code",
   "execution_count": null,
   "metadata": {},
   "outputs": [],
   "source": []
  },
  {
   "cell_type": "code",
   "execution_count": null,
   "metadata": {},
   "outputs": [],
   "source": []
  },
  {
   "cell_type": "markdown",
   "metadata": {},
   "source": [
    "----\n",
    "\n",
    "**Exercise 3:** Repeat exercise 2 but for the subdivision technique.  Plot $N(x)$ the number of iterations it takes the subdivision technique to get within $1/10^8$ of a root, provided the initial interval is $[x-1, x+1]$. If the method fails to produce a root, do not plot a point.   Include a plot of $x**2-2$ so that your plot is directly comparable to Exercise 2.\n"
   ]
  },
  {
   "cell_type": "code",
   "execution_count": null,
   "metadata": {},
   "outputs": [],
   "source": []
  },
  {
   "cell_type": "code",
   "execution_count": null,
   "metadata": {},
   "outputs": [],
   "source": []
  },
  {
   "cell_type": "code",
   "execution_count": null,
   "metadata": {},
   "outputs": [],
   "source": []
  },
  {
   "cell_type": "code",
   "execution_count": null,
   "metadata": {},
   "outputs": [],
   "source": []
  }
 ],
 "metadata": {
  "kernelspec": {
   "display_name": "Python 3",
   "language": "python",
   "name": "python3"
  },
  "language_info": {
   "codemirror_mode": {
    "name": "ipython",
    "version": 3
   },
   "file_extension": ".py",
   "mimetype": "text/x-python",
   "name": "python",
   "nbconvert_exporter": "python",
   "pygments_lexer": "ipython3",
   "version": "3.6.7"
  }
 },
 "nbformat": 4,
 "nbformat_minor": 2
}
