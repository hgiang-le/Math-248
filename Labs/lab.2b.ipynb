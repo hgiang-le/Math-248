{
 "cells": [
  {
   "cell_type": "code",
   "execution_count": 128,
   "metadata": {},
   "outputs": [],
   "source": [
    "import random as rd\n",
    "\n",
    "def perm_lets_test(input_string):\n",
    "    \"\"\"\n",
    "    Input: A string\n",
    "    Return: A string, with all words shuffled\n",
    "    \"\"\"\n",
    "    L = input_string.split(' ')\n",
    "    nL = []\n",
    "    for i in range(len(L)):\n",
    "        nL.append(L.pop(rd.choice(range(len(L)))))\n",
    "        \n",
    "    return(' '.join(nL))\n",
    "\n"
   ]
  },
  {
   "cell_type": "code",
   "execution_count": 129,
   "metadata": {},
   "outputs": [
    {
     "data": {
      "text/plain": [
       "'Monster World Hunter Iceborne'"
      ]
     },
     "execution_count": 129,
     "metadata": {},
     "output_type": "execute_result"
    }
   ],
   "source": [
    "perm_lets_test(\"Monster Hunter World Iceborne\")"
   ]
  },
  {
   "cell_type": "code",
   "execution_count": 211,
   "metadata": {},
   "outputs": [],
   "source": [
    "def perm_lets_test2(input_string):\n",
    "    \"\"\"\n",
    "    Input: A string\n",
    "    Return: A string, with all letters shuffled\n",
    "    \"\"\"\n",
    "    L = input_string.split(' ')\n",
    "    nL = []\n",
    "    nL2 = []\n",
    "    for i in range(len(L)):\n",
    "        nL.append(L.pop(rd.choice(range(len(L)))))\n",
    "        \n",
    "    str1 = (' '.join(nL))\n",
    "    str2 = list(str1)\n",
    "    for j in range(len(str2)):\n",
    "        nL2.append(str2.pop(rd.choice(range(len(str2)))))\n",
    "        \n",
    "    return(''.join(nL2))"
   ]
  },
  {
   "cell_type": "code",
   "execution_count": 217,
   "metadata": {},
   "outputs": [
    {
     "data": {
      "text/plain": [
       "' llrWoHlode'"
      ]
     },
     "execution_count": 217,
     "metadata": {},
     "output_type": "execute_result"
    }
   ],
   "source": [
    "perm_lets_test2(\"Hello World\")"
   ]
  },
  {
   "cell_type": "code",
   "execution_count": 272,
   "metadata": {},
   "outputs": [
    {
     "name": "stdout",
     "output_type": "stream",
     "text": [
      "Try\n",
      "\n",
      "Try\n"
     ]
    }
   ],
   "source": [
    "## Testing Ground ##\n",
    "s = \"Try\"\n",
    "l = list(s)\n",
    "l2 = []\n",
    "for i in range(len(l)):\n",
    "    print(l[i], end = '')\n",
    "    l2.append(l[i])\n",
    "\n",
    "print(\"\\n\")    \n",
    "print(''.join(l2))\n"
   ]
  },
  {
   "cell_type": "code",
   "execution_count": 334,
   "metadata": {},
   "outputs": [],
   "source": [
    "def perm_lets_test3(input_string):\n",
    "    \"\"\"\n",
    "    Input: A string\n",
    "    Return: A string, with all letters shuffled\n",
    "    \"\"\"\n",
    "    L = list(input_string) ## convert into a list\n",
    "    nL = []\n",
    "    \n",
    "    for i in range(len(L)):\n",
    "        nL.append(L.pop(rd.choice(range(len(L))))) ##\n",
    "\n",
    "    output_list = ''.join(nL)    \n",
    "    \n",
    "    ##if( nL[0] == ' ' or nL[len(L)-1] == ' '):\n",
    "        ## toss out result and restart\n",
    "     \n",
    "    if output_list[0] == \" \":\n",
    "        print('ducttape')\n",
    "        output_str = \"\".join(output_list[1:])\n",
    "        output_str = output_str[0]+\" \"+output_str[1:]\n",
    "    \n",
    "    if output_list[-1] == \" \":\n",
    "        print('ducttape')\n",
    "        output_str = \"\".join(output_list[:-1])\n",
    "        output_str = output_str[0]+\" \"+output_str[1:]\n",
    "    else:\n",
    "        output_str = output_list\n",
    "    return output_str"
   ]
  },
  {
   "cell_type": "code",
   "execution_count": 335,
   "metadata": {},
   "outputs": [
    {
     "name": "stdout",
     "output_type": "stream",
     "text": [
      "ducttape\n"
     ]
    },
    {
     "data": {
      "text/plain": [
       "'e owldhlrol'"
      ]
     },
     "execution_count": 335,
     "metadata": {},
     "output_type": "execute_result"
    }
   ],
   "source": [
    "perm_lets_test3(\"hello world\")"
   ]
  },
  {
   "cell_type": "code",
   "execution_count": 302,
   "metadata": {},
   "outputs": [],
   "source": [
    "def perms_lets(input_string):\n",
    "    "
   ]
  },
  {
   "cell_type": "code",
   "execution_count": null,
   "metadata": {},
   "outputs": [],
   "source": []
  },
  {
   "cell_type": "code",
   "execution_count": null,
   "metadata": {},
   "outputs": [],
   "source": []
  }
 ],
 "metadata": {
  "kernelspec": {
   "display_name": "Python 3",
   "language": "python",
   "name": "python3"
  },
  "language_info": {
   "codemirror_mode": {
    "name": "ipython",
    "version": 3
   },
   "file_extension": ".py",
   "mimetype": "text/x-python",
   "name": "python",
   "nbconvert_exporter": "python",
   "pygments_lexer": "ipython3",
   "version": "3.6.7"
  }
 },
 "nbformat": 4,
 "nbformat_minor": 2
}
