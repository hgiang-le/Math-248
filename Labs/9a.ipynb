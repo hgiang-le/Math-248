{
 "cells": [
  {
   "cell_type": "markdown",
   "metadata": {},
   "source": [
    "# 9a. Crime Statistics\n",
    "\n",
    "This lab is for Thursday October 31st."
   ]
  },
  {
   "cell_type": "code",
   "execution_count": 1,
   "metadata": {},
   "outputs": [
    {
     "name": "stdout",
     "output_type": "stream",
     "text": [
      "/home/user/mp248-course\n"
     ]
    }
   ],
   "source": [
    "%cd ../../mp248-course"
   ]
  },
  {
   "cell_type": "code",
   "execution_count": 2,
   "metadata": {},
   "outputs": [
    {
     "name": "stdout",
     "output_type": "stream",
     "text": [
      "Crime database library.\n",
      "\n",
      "Looking for vicpd.geojson in directory ./Data/\n",
      " modify the cdatfile and cdatloc variables in cdat.py appropriately\n",
      " if the file can not be found.\n",
      "\n",
      "Complete records in cDat, incomplete records in bDat.\n",
      "\n"
     ]
    }
   ],
   "source": [
    "#import cdat\n",
    "from cdat import cDat"
   ]
  },
  {
   "cell_type": "markdown",
   "metadata": {},
   "source": [
    "---\n",
    "\n",
    "## Ex.1\n",
    "\n",
    "Construct a dictionary whose keys are the crime types, and whose values are lists (in descending order) of the five dates with the most crimes of that type. Only include crimes where there are **at least** five dates with six or more crimes. Print your dictionary with the **pprint** command.\n",
    "\n",
    "**Hint:** There are only 16 crime types that meet the above criterion."
   ]
  },
  {
   "cell_type": "code",
   "execution_count": 3,
   "metadata": {},
   "outputs": [],
   "source": [
    "import collections as co\n",
    "import pprint as pp\n",
    "import operator as op\n",
    "import calendar as cal"
   ]
  },
  {
   "cell_type": "code",
   "execution_count": 4,
   "metadata": {},
   "outputs": [
    {
     "name": "stdout",
     "output_type": "stream",
     "text": [
      "[{'ID': 760527874,\n",
      "  'address': '1200 Block JOHNSON ST',\n",
      "  'case_number': (16, 22918),\n",
      "  'city': 'victoria',\n",
      "  'coords': (-123.348998693722, 48.4255680718449),\n",
      "  'cre_dt': datetime.datetime(2016, 5, 26, 9, 46, 43),\n",
      "  'inc_dt': datetime.datetime(2016, 5, 25, 1, 29),\n",
      "  'type': ('Disorder', 'CAUSE A DISTURBANCE'),\n",
      "  'upd_dt': datetime.datetime(2016, 6, 23, 19, 40, 33)}]\n"
     ]
    }
   ],
   "source": [
    "pp.pprint([cDat[x] for x in range(1)])"
   ]
  },
  {
   "cell_type": "code",
   "execution_count": 5,
   "metadata": {},
   "outputs": [],
   "source": [
    "types = {c['type'] for c in cDat}\n",
    "# pp.pprint(types)"
   ]
  },
  {
   "cell_type": "code",
   "execution_count": 6,
   "metadata": {},
   "outputs": [],
   "source": [
    "a = [3,'fsd,',20,'lol',90]"
   ]
  },
  {
   "cell_type": "code",
   "execution_count": 7,
   "metadata": {},
   "outputs": [],
   "source": [
    "d = a[::2]"
   ]
  },
  {
   "cell_type": "code",
   "execution_count": 8,
   "metadata": {},
   "outputs": [
    {
     "data": {
      "text/plain": [
       "[3, 20, 90]"
      ]
     },
     "execution_count": 8,
     "metadata": {},
     "output_type": "execute_result"
    }
   ],
   "source": [
    "d"
   ]
  },
  {
   "cell_type": "code",
   "execution_count": 9,
   "metadata": {},
   "outputs": [],
   "source": [
    "di = dict()\n",
    "for typ in types:\n",
    "    ctdict = co.defaultdict(int)\n",
    "    for c in cDat:\n",
    "        if c['type'] == typ:\n",
    "            ctdict[c['inc_dt'].date()] += 1\n",
    "    sorted_ctdict = sorted(list(ctdict.items()), key = op.itemgetter(1))[-1:-6:-1]\n",
    "    if sorted_ctdict[-1][1] > 5:\n",
    "        di[typ] = sorted_ctdict "
   ]
  },
  {
   "cell_type": "code",
   "execution_count": 10,
   "metadata": {},
   "outputs": [
    {
     "name": "stdout",
     "output_type": "stream",
     "text": [
      "{('Assault', 'ASSAULT-COMMON OR TRESPASS'): [(datetime.date(2011, 10, 29), 9),\n",
      "                                             (datetime.date(2012, 2, 26), 9),\n",
      "                                             (datetime.date(2011, 9, 2), 7),\n",
      "                                             (datetime.date(2011, 5, 25), 7),\n",
      "                                             (datetime.date(2011, 3, 26), 7)],\n",
      " ('Disorder', 'CAUSE A DISTURBANCE'): [(datetime.date(2014, 7, 6), 13),\n",
      "                                       (datetime.date(2015, 4, 20), 11),\n",
      "                                       (datetime.date(2015, 4, 18), 10),\n",
      "                                       (datetime.date(2011, 7, 3), 10),\n",
      "                                       (datetime.date(2014, 10, 5), 10)],\n",
      " ('Liquor', 'LIQUOR-INTOX IN PUBLIC PLACE'): [(datetime.date(2011, 7, 1), 44),\n",
      "                                              (datetime.date(2013, 7, 1), 33),\n",
      "                                              (datetime.date(2015, 7, 1), 28),\n",
      "                                              (datetime.date(2012, 7, 1), 23),\n",
      "                                              (datetime.date(2014, 7, 1), 21)],\n",
      " ('Other', 'BYLAW-NOISE'): [(datetime.date(2011, 10, 29), 16),\n",
      "                            (datetime.date(2011, 7, 2), 16),\n",
      "                            (datetime.date(2015, 10, 17), 14),\n",
      "                            (datetime.date(2013, 5, 4), 12),\n",
      "                            (datetime.date(2011, 11, 19), 11)],\n",
      " ('Other', 'SUSPICIOUS PERS/VEH/OCCURRENCE'): [(datetime.date(2015, 6, 2), 19),\n",
      "                                               (datetime.date(2014, 7, 2), 19),\n",
      "                                               (datetime.date(2015, 8, 27), 18),\n",
      "                                               (datetime.date(2015, 7, 23), 18),\n",
      "                                               (datetime.date(2018, 7, 29),\n",
      "                                                18)],\n",
      " ('Property Crime', 'MISCHIEF $5000 OR UNDER'): [(datetime.date(2017, 3, 10),\n",
      "                                                  27),\n",
      "                                                 (datetime.date(2017, 3, 11),\n",
      "                                                  14),\n",
      "                                                 (datetime.date(2011, 5, 8),\n",
      "                                                  14),\n",
      "                                                 (datetime.date(2019, 8, 10),\n",
      "                                                  13),\n",
      "                                                 (datetime.date(2011, 9, 3),\n",
      "                                                  13)],\n",
      " ('Theft', 'THEFT BICYCLE UNDER $5000'): [(datetime.date(2019, 8, 22), 10),\n",
      "                                          (datetime.date(2019, 8, 20), 10),\n",
      "                                          (datetime.date(2017, 10, 16), 9),\n",
      "                                          (datetime.date(2014, 9, 22), 9),\n",
      "                                          (datetime.date(2016, 9, 29), 9)],\n",
      " ('Theft', 'THEFT-OTHER UNDER $5000'): [(datetime.date(2019, 8, 29), 15),\n",
      "                                        (datetime.date(2019, 7, 30), 13),\n",
      "                                        (datetime.date(2019, 6, 28), 12),\n",
      "                                        (datetime.date(2013, 6, 6), 12),\n",
      "                                        (datetime.date(2013, 4, 5), 12)],\n",
      " ('Theft', 'THEFT-SHOPLIFTING UNDER $5000'): [(datetime.date(2018, 6, 14), 12),\n",
      "                                              (datetime.date(2019, 8, 14), 11),\n",
      "                                              (datetime.date(2012, 2, 15), 10),\n",
      "                                              (datetime.date(2018, 12, 5), 9),\n",
      "                                              (datetime.date(2017, 1, 16), 9)],\n",
      " ('Theft from Vehicle', 'THEFT FROM MV UNDER $5000'): [(datetime.date(2019, 10, 16),\n",
      "                                                        17),\n",
      "                                                       (datetime.date(2011, 2, 9),\n",
      "                                                        17),\n",
      "                                                       (datetime.date(2014, 4, 30),\n",
      "                                                        17),\n",
      "                                                       (datetime.date(2017, 2, 21),\n",
      "                                                        16),\n",
      "                                                       (datetime.date(2012, 8, 19),\n",
      "                                                        16)],\n",
      " ('Traffic', 'COLLISION-DAMAGE OVER $1000'): [(datetime.date(2015, 10, 10), 7),\n",
      "                                              (datetime.date(2015, 2, 3), 7),\n",
      "                                              (datetime.date(2018, 3, 8), 7),\n",
      "                                              (datetime.date(2017, 8, 18), 6),\n",
      "                                              (datetime.date(2017, 9, 19), 6)],\n",
      " ('Traffic', 'DRIVING COMPLAINTS'): [(datetime.date(2019, 9, 4), 8),\n",
      "                                     (datetime.date(2017, 7, 4), 8),\n",
      "                                     (datetime.date(2019, 7, 19), 8),\n",
      "                                     (datetime.date(2016, 9, 20), 8),\n",
      "                                     (datetime.date(2018, 5, 15), 8)],\n",
      " ('Traffic', 'IMPAIRED OP MOTOR VEH (ALCOH)'): [(datetime.date(2012, 12, 15),\n",
      "                                                 8),\n",
      "                                                (datetime.date(2016, 12, 3), 7),\n",
      "                                                (datetime.date(2017, 12, 24),\n",
      "                                                 7),\n",
      "                                                (datetime.date(2011, 11, 19),\n",
      "                                                 6),\n",
      "                                                (datetime.date(2012, 11, 30),\n",
      "                                                 6)],\n",
      " ('Traffic', 'TRAFFIC-INSURANCE VIOLATION'): [(datetime.date(2015, 12, 8), 8),\n",
      "                                              (datetime.date(2015, 2, 9), 8),\n",
      "                                              (datetime.date(2014, 9, 18), 8),\n",
      "                                              (datetime.date(2014, 12, 7), 8),\n",
      "                                              (datetime.date(2014, 11, 6), 7)],\n",
      " ('Traffic', 'TRAFFIC-OTHER MOVING PROV'): [(datetime.date(2015, 3, 24), 8),\n",
      "                                            (datetime.date(2019, 5, 21), 7),\n",
      "                                            (datetime.date(2016, 11, 9), 7),\n",
      "                                            (datetime.date(2011, 10, 14), 7),\n",
      "                                            (datetime.date(2016, 9, 6), 7)],\n",
      " ('Vehicle Stop', 'VEHICLE'): [(datetime.date(2015, 3, 4), 12),\n",
      "                               (datetime.date(2011, 11, 3), 10),\n",
      "                               (datetime.date(2012, 10, 4), 10),\n",
      "                               (datetime.date(2011, 7, 16), 9),\n",
      "                               (datetime.date(2014, 2, 19), 9)]}\n",
      "length = 16\n"
     ]
    }
   ],
   "source": [
    "pp.pprint(di)\n",
    "print(\"length =\",len(di))"
   ]
  },
  {
   "cell_type": "markdown",
   "metadata": {},
   "source": [
    "---\n",
    "\n",
    "## Ex. 2\n",
    "\n",
    "Write a function that uses [spherical polar coordinates](https://en.wikipedia.org/wiki/Spherical_coordinate_system) to convert the (latitude,longitude) coordinate pairs into 3-dimensional Euclidean coordinates.  Compute the average location (in 3-dimensional space) of all the crime types in the **cdat.cDat** variable.  Invert your spherical polar coordinates, creating a dictionary indexed by crime types, returning the (latitude, longitude) pair of the average location. Print your final dictionary using **pp.pprint**. \n",
    "\n",
    "**Note:** if you do not recall how latitude and longitude relate to spherical polar coordinates, read the above Wikipedia article carefully. "
   ]
  },
  {
   "cell_type": "code",
   "execution_count": 29,
   "metadata": {},
   "outputs": [],
   "source": [
    "import numpy as np\n",
    "import math as ma"
   ]
  },
  {
   "cell_type": "code",
   "execution_count": null,
   "metadata": {},
   "outputs": [],
   "source": [
    "def polar_to_cartesian(long, lat):\n",
    "    '''\n",
    "    Convert spherical polar coordinates to 3D Euclidean coordinates\n",
    "    In this case, r = 1\n",
    "    '''\n",
    "    # lab x = rcos(lat)cos(long) vs wiki x = rsin(θ)cos(φ)\n",
    "    # lab y = rcos(lat)sin(long) vs wiki y = rsin(θ)sin(φ)\n",
    "    # lab z = rsin(lat) vs wiki z = rcos(θ)\n",
    "    # θ = lat, φ = long\n",
    "    # First: Convert degree to radians for numpy\n",
    "    x = np.sin(ma.radians(lat))*np.cos(ma.radians(long))\n",
    "    y = np.sin(ma.radians(lat))*np.sin(ma.radians(long))\n",
    "    z = np.cos(ma.radians(lat))\n",
    "    return(x, y, z)\n",
    "\n",
    "def cartesian_to_polar(x_coords, y_coords, z_coords):\n",
    "    '''\n",
    "    Convert cartesian coordinates to spherical polar coordinates\n",
    "    '''\n",
    "    # θ = lat, φ = long\n",
    "    r = 1\n",
    "    lat = ma.degrees(np.arccos(z_coords/r))\n",
    "    long = ma.degrees(np.arctan(y_coords/x_coords))\n",
    "    if long > 0:\n",
    "        long = -180 + long\n",
    "    return(long, lat)"
   ]
  },
  {
   "cell_type": "code",
   "execution_count": 105,
   "metadata": {},
   "outputs": [
    {
     "name": "stdout",
     "output_type": "stream",
     "text": [
      "(125, 55) -> (-0.3289899283371657, -0.46984631039295427, -0.5735764363510462)\n",
      "-> (125.00000000000001, 55.0)\n"
     ]
    }
   ],
   "source": [
    "print(\"(125, 55) ->\",polar_to_cartesian(125, 55))\n",
    "print(\"->\",cartesian_to_polar(-0.3289899283371657, -0.46984631039295427, -0.5735764363510462))"
   ]
  },
  {
   "cell_type": "code",
   "execution_count": 106,
   "metadata": {},
   "outputs": [],
   "source": [
    "# x = rcos(lat)cos(long)\n",
    "# y = rcos(lat)sin(long)\n",
    "# z = rsin(lat)\n",
    "dict2 = dict()\n",
    "## For each type of crimes, take (lat, long), convert to Cartesian\n",
    "## Then take the avg of each x,y,z coords by sum/(#num of crimes)\n",
    "## Convert back to polar. Return a dictionary of avg polar.\n",
    "for typ in types:\n",
    "    sum_x = 0\n",
    "    sum_y = 0\n",
    "    sum_z = 0\n",
    "    total_crime_count = 0\n",
    "    ctdict = co.defaultdict(int)\n",
    "    for c in cDat:\n",
    "        if c['type'] == typ:\n",
    "            ctdict[c['coords']] += 1\n",
    "    for i in ctdict.items():\n",
    "        lat1 = i[0][0]\n",
    "        long1 = i[0][1]\n",
    "        crime_count = i[1]\n",
    "        x, y, z = polar_to_cartesian(lat1, long1)\n",
    "        #print(i[0])\n",
    "        #print(x,y,z)\n",
    "        total_crime_count += crime_count\n",
    "        sum_x += x\n",
    "        sum_y += y\n",
    "        sum_z += z \n",
    "    avg_coords = (sum_x/ total_crime_count, sum_y/total_crime_count, sum_z/total_crime_count)\n",
    "    dict2[typ] = cartesian_to_polar(avg_coords[0], avg_coords[1],avg_coords[2])\n"
   ]
  },
  {
   "cell_type": "code",
   "execution_count": 107,
   "metadata": {},
   "outputs": [
    {
     "name": "stdout",
     "output_type": "stream",
     "text": [
      "{('Alarm', 'FALSE ALARMS'): (111.5250305076526, 48.43305635617424),\n",
      " ('Arson', 'ARSON-DISREGARD FOR HUMAN LIFE'): (118.76484619565723,\n",
      "                                               48.43261481297608),\n",
      " ('Arson', 'ARSON-PROPERTY'): (120.99156148280316, 48.43207584459001),\n",
      " ('Assault', 'ASSAULT AGAINST POLICE OFFICER'): (117.01268830766087,\n",
      "                                                 48.430129202907885),\n",
      " ('Assault', 'ASSAULT-COMMON OR TRESPASS'): (103.92445944397949,\n",
      "                                             48.431310491960396),\n",
      " ('Assault', 'ASSAULTS-OTHER'): (115.87552046447298, 48.429763093631365),\n",
      " ('Assault with Deadly Weapon', 'ASSAULT OT P/O-W/WPN OR CBH'): (118.53028968919647,\n",
      "                                                                 48.43281681031936),\n",
      " ('Assault with Deadly Weapon', 'ASSAULT POLICE-W/WEAPON OR CBH'): (121.50009038902797,\n",
      "                                                                    48.43052768682063),\n",
      " ('Assault with Deadly Weapon', 'ASSAULT-AGGRAVATED'): (122.30644955530269,\n",
      "                                                        48.42972713809606),\n",
      " ('Assault with Deadly Weapon', 'ASSAULT-OTHER PEACE OFFICER'): (118.59780491170109,\n",
      "                                                                 48.42974306078902),\n",
      " ('Assault with Deadly Weapon', 'ASSAULT-W/WEAPON OR CBH'): (108.88640702158821,\n",
      "                                                             48.43073831370131),\n",
      " ('Breaking & Entering', 'BREAK & ENTER-BUSINESS'): (108.68422368205972,\n",
      "                                                     48.43049005035955),\n",
      " ('Breaking & Entering', 'BREAK & ENTER-OTHER'): (111.42506962474783,\n",
      "                                                  48.42956239166753),\n",
      " ('Breaking & Entering', 'BREAK & ENTER-RESIDENCE'): (114.47623897536813,\n",
      "                                                      48.430517466821556),\n",
      " ('Community Policing', 'BUSINESS'): (119.2658913000619, 48.430397386297635),\n",
      " ('Community Policing', 'CITIZEN ASSIST'): (123.34985909277, 48.42706861846659),\n",
      " ('Disorder', 'CAUSE A DISTURBANCE'): (105.36640017434708, 48.430223884468695),\n",
      " ('Drugs', 'POSSESS-OTH SCHED I DRUGS/SUBS'): (116.1707764298563,\n",
      "                                               48.43000033788063),\n",
      " ('Drugs', 'POSSESS-OTH SCHED III DRUG/SUB'): (121.23621705553342,\n",
      "                                               48.430786792940694),\n",
      " ('Drugs', 'POSSESSION-CANNABIS 30G & UNDR'): (109.32760971944843,\n",
      "                                               48.430350083295),\n",
      " ('Drugs', 'POSSESSION-CANNABIS OVER 30G'): (123.36531800597679,\n",
      "                                             48.43235743287787),\n",
      " ('Drugs', 'POSSESSION-COCAINE'): (106.21448279931525, 48.42990346095893),\n",
      " ('Drugs', 'POSSESSION-HEROIN'): (113.54408074004509, 48.43036049369275),\n",
      " ('Drugs', 'POSSESSION-MDMA (ECSTASY)'): (120.70807046126163, 48.4294206063598),\n",
      " ('Drugs', 'POSSESSION-METHAMPHETAMINE'): (114.5647469159203,\n",
      "                                           48.43059440406649),\n",
      " ('Drugs', 'TRAFFICK-CANNABIS 3000G & UNDR'): (106.61909694133136,\n",
      "                                               48.42959793083514),\n",
      " ('Drugs', 'TRAFFICK-CANNABIS OVER 3000G'): (123.36924802700686,\n",
      "                                             48.42886036874664),\n",
      " ('Drugs', 'TRAFFICKING-AMPHETAMINE'): (120.27711097428893, 48.43224109995533),\n",
      " ('Drugs', 'TRAFFICKING-COCAINE'): (107.45710199332139, 48.43247134629693),\n",
      " ('Drugs', 'TRAFFICKING-HEROIN'): (113.45366811930076, 48.431990609540485),\n",
      " ('Drugs', 'TRAFFICKING-METHAMPHETAMINE'): (117.92146145843617,\n",
      "                                            48.432208826145875),\n",
      " ('Drugs', 'TRAFFICKING-MORPHINE'): (123.35604796172758, 48.4348869884861),\n",
      " ('Drugs', 'TRAFFICKING-OTH SCHED IV CDSA'): (123.37963295434584,\n",
      "                                              48.426943547208886),\n",
      " ('Drugs', 'TRAFFICKING-OTHER CDSA'): (117.4401963053526, 48.43073474354079),\n",
      " ('Liquor', 'LIQUOR (LCLA) ACT-OTHER'): (110.9907608074872, 48.42980227488921),\n",
      " ('Liquor', 'LIQUOR-CONSUME IN PUBLIC PLACE'): (110.4961742712806,\n",
      "                                                48.42800752059936),\n",
      " ('Liquor', 'LIQUOR-INTOX IN PUBLIC PLACE'): (100.86164276550932,\n",
      "                                              48.43031911771455),\n",
      " ('Liquor', 'LIQUOR-SEIZURE'): (115.49768943708914, 48.428705995144966),\n",
      " ('Other', 'ANIMAL CALLS'): (118.24441393772408, 48.43172570127382),\n",
      " ('Other', 'BYLAW-NOISE'): (105.19824396999674, 48.43074903983369),\n",
      " ('Other', 'OBSTRUCT PEACE/PUBLIC OFFICER'): (118.5789784545575,\n",
      "                                              48.43002345501286),\n",
      " ('Other', 'SUSPICIOUS PERS/VEH/OCCURRENCE'): (102.57175171712043,\n",
      "                                               48.431030982253915),\n",
      " ('Property Crime', 'FRAUD-CHEQUE'): (108.9390621882813, 48.42856959370835),\n",
      " ('Property Crime', 'FRAUD-CREDIT/DEBIT CARD'): (112.45713491599038,\n",
      "                                                 48.43037998136715),\n",
      " ('Property Crime', 'MISCHIEF $5000 OR UNDER'): (105.78216569930116,\n",
      "                                                 48.43073258859062),\n",
      " ('Property Crime', 'MISCHIEF OVER $5000'): (122.59890164935608,\n",
      "                                             48.43086629797032),\n",
      " ('Property Crime', 'POSSESS STLN PROPERTY O/$5000'): (123.427386, 48.444726),\n",
      " ('Property Crime', 'POSSESS STLN PROPERTY U/$5000'): (120.27686817878987,\n",
      "                                                       48.434156900775065),\n",
      " ('Robbery', 'ROBBERY W/OTHER OFFENSIVE WPN'): (119.47910216260642,\n",
      "                                                48.43110224004389),\n",
      " ('Robbery', 'ROBBERY-OTHER'): (115.18513387759913, 48.429959601340386),\n",
      " ('Theft', 'THEFT BICYCLE OVER $5000'): (121.80539359766689, 48.42861821146794),\n",
      " ('Theft', 'THEFT BICYCLE UNDER $5000'): (108.62308101730227,\n",
      "                                          48.42898700956451),\n",
      " ('Theft', 'THEFT-ELEC/GAS/TEL UNDER $5000'): (123.36832838630171,\n",
      "                                               48.429741326167466),\n",
      " ('Theft', 'THEFT-OTHER OVER $5000'): (121.83156915451094, 48.429776200519186),\n",
      " ('Theft', 'THEFT-OTHER UNDER $5000'): (101.8519103696694, 48.4303513460147),\n",
      " ('Theft', 'THEFT-SHOPLIFTING OVER $5000'): (121.40630253019107,\n",
      "                                             48.43005925729409),\n",
      " ('Theft', 'THEFT-SHOPLIFTING UNDER $5000'): (92.84114418689413,\n",
      "                                              48.43054444090473),\n",
      " ('Theft from Vehicle', 'THEFT FROM MV OVER $5000'): (121.75684215823175,\n",
      "                                                      48.42970667537461),\n",
      " ('Theft from Vehicle', 'THEFT FROM MV UNDER $5000'): (105.63365402605706,\n",
      "                                                       48.43006141068324),\n",
      " ('Theft of Vehicle', 'TAKE AUTO W/O CONSENT U/$5000'): (122.53880077271228,\n",
      "                                                         48.433284116302794),\n",
      " ('Theft of Vehicle', 'THEFT MOTORCYCLE UNDER $5000'): (121.40000896602032,\n",
      "                                                        48.430903966838365),\n",
      " ('Theft of Vehicle', 'THEFT OF AUTO OVER $5000'): (120.45277663486375,\n",
      "                                                    48.429595233399176),\n",
      " ('Theft of Vehicle', 'THEFT OF AUTO UNDER $5000'): (120.28053172526668,\n",
      "                                                     48.429804432547925),\n",
      " ('Theft of Vehicle', 'THEFT OF TRUCK OVER $5000'): (120.92670728816441,\n",
      "                                                     48.43144100759707),\n",
      " ('Theft of Vehicle', 'THEFT OF TRUCK UNDER $5000'): (121.34065956215574,\n",
      "                                                      48.431834207229905),\n",
      " ('Theft of Vehicle', 'THEFT OTHER VEHICLE U/$5000'): (122.33058826491026,\n",
      "                                                       48.43236828343669),\n",
      " ('Traffic', '215 ALCOH-24HR'): (118.5327305146034, 48.43210249367537),\n",
      " ('Traffic', '215 DRUG'): (118.6683895758705, 48.43316353917034),\n",
      " ('Traffic', '215ALCOH IRP WARN-30DAY'): (123.37301085818213,\n",
      "                                          48.43202518956737),\n",
      " ('Traffic', '215ALCOH IRP WARN-3DAY'): (116.00571895057739,\n",
      "                                         48.431653212157435),\n",
      " ('Traffic', '215ALCOH IRP WARN-7DAY'): (123.37115907886559,\n",
      "                                         48.432961493468746),\n",
      " ('Traffic', 'COLLISION-DAMAGE OVER $1000'): (109.32766290879046,\n",
      "                                              48.43224411824605),\n",
      " ('Traffic', 'COLLISION-DAMAGE UNDER $1000'): (112.24149966637785,\n",
      "                                               48.43173779674553),\n",
      " ('Traffic', 'COLLISION-NON-FATAL INJURY'): (112.3830267340373,\n",
      "                                             48.4317899680377),\n",
      " ('Traffic', 'DRIVING COMPLAINTS'): (105.19930588287619, 48.431576050215995),\n",
      " ('Traffic', 'EXCESSIVE SPEED-OVER 40KM'): (121.4043829711493,\n",
      "                                            48.44236343220801),\n",
      " ('Traffic', 'IMPAIRED OP MOTOR VEH (ALCOH)'): (112.88112196736553,\n",
      "                                                48.432616987519005),\n",
      " ('Traffic', 'TRAFFIC-INSURANCE VIOLATION'): (111.61953494433861,\n",
      "                                              48.43166345122443),\n",
      " ('Traffic', 'TRAFFIC-OTHER FEDERAL'): (122.51470889734793, 48.433497543389336),\n",
      " ('Traffic', 'TRAFFIC-OTHER MOVING PROV'): (109.0236166928485,\n",
      "                                            48.4336641337668),\n",
      " ('Traffic', 'TRAFFIC-OTHER MUNICIPAL'): (118.86390491587979,\n",
      "                                          48.43459668095382),\n",
      " ('Traffic', 'TRAFFIC-OTHER NON-MOVE PROV'): (117.31286469186136,\n",
      "                                              48.43119113307752),\n",
      " ('Traffic', 'TRAFFIC-WRITTEN WARNING'): (120.51069484054736, 48.4301357057449),\n",
      " ('Vehicle Stop', 'CYCLIST'): (113.86868901983664, 48.43335078526197),\n",
      " ('Vehicle Stop', 'VEHICLE'): (105.90661146141497, 48.43453030661257),\n",
      " ('Vehicle Stop', 'VI-VEHICLE IMPOUNDMENT'): (121.63337623436256,\n",
      "                                              48.43489101079178),\n",
      " ('Weapons Offense', 'FIREARM-POINTING'): (123.36848393328015,\n",
      "                                           48.432352245029314),\n",
      " ('Weapons Offense', 'WEAPONS POSS-CONTRARY TO ORDER'): (122.07706273108599,\n",
      "                                                         48.4331776564739),\n",
      " ('Weapons Offense', 'WEAPONS-POSSESSION'): (110.69698203933366,\n",
      "                                             48.431262906024806)}\n"
     ]
    }
   ],
   "source": [
    "pp.pprint(dict2)"
   ]
  },
  {
   "cell_type": "code",
   "execution_count": null,
   "metadata": {},
   "outputs": [],
   "source": []
  },
  {
   "cell_type": "markdown",
   "metadata": {},
   "source": [
    "---\n",
    "\n",
    "## Ex.3. Central Saanich vs. Victoria\n",
    "\n",
    "What differences do you notice between the crimes reported from Central Saanich, and the ones reported from Victoria? i.e. are the crime types reported in Central Saanich occuring at different frequencies than in Victoria?  Do they occur for a different range of dates?  What appears special about the Central Saanich records?"
   ]
  },
  {
   "cell_type": "code",
   "execution_count": null,
   "metadata": {},
   "outputs": [],
   "source": []
  },
  {
   "cell_type": "code",
   "execution_count": null,
   "metadata": {},
   "outputs": [],
   "source": []
  },
  {
   "cell_type": "code",
   "execution_count": null,
   "metadata": {},
   "outputs": [],
   "source": []
  },
  {
   "cell_type": "code",
   "execution_count": null,
   "metadata": {},
   "outputs": [],
   "source": []
  }
 ],
 "metadata": {
  "kernelspec": {
   "display_name": "Python 3",
   "language": "python",
   "name": "python3"
  },
  "language_info": {
   "codemirror_mode": {
    "name": "ipython",
    "version": 3
   },
   "file_extension": ".py",
   "mimetype": "text/x-python",
   "name": "python",
   "nbconvert_exporter": "python",
   "pygments_lexer": "ipython3",
   "version": "3.6.7"
  }
 },
 "nbformat": 4,
 "nbformat_minor": 4
}
