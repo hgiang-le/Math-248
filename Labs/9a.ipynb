{
 "cells": [
  {
   "cell_type": "markdown",
   "metadata": {},
   "source": [
    "# 9a. Crime Statistics\n",
    "\n",
    "This lab is for Thursday October 31st."
   ]
  },
  {
   "cell_type": "code",
   "execution_count": 4,
   "metadata": {},
   "outputs": [
    {
     "name": "stdout",
     "output_type": "stream",
     "text": [
      "/home/user/mp248-course\n"
     ]
    }
   ],
   "source": [
    "%cd ../../mp248-course"
   ]
  },
  {
   "cell_type": "code",
   "execution_count": 5,
   "metadata": {},
   "outputs": [
    {
     "name": "stdout",
     "output_type": "stream",
     "text": [
      "Crime database library.\n",
      "\n",
      "Looking for vicpd.geojson in directory ./Data/\n",
      " modify the cdatfile and cdatloc variables in cdat.py appropriately\n",
      " if the file can not be found.\n",
      "\n",
      "Complete records in cDat, incomplete records in bDat.\n",
      "\n"
     ]
    }
   ],
   "source": [
    "#import cdat\n",
    "from cdat import cDat"
   ]
  },
  {
   "cell_type": "markdown",
   "metadata": {},
   "source": [
    "---\n",
    "\n",
    "## Ex.1\n",
    "\n",
    "Construct a dictionary whose keys are the crime types, and whose values are lists (in descending order) of the five dates with the most crimes of that type. Only include crimes where there are **at least** five dates with six or more crimes. Print your dictionary with the **pprint** command.\n",
    "\n",
    "**Hint:** There are only 16 crime types that meet the above criterion."
   ]
  },
  {
   "cell_type": "code",
   "execution_count": 6,
   "metadata": {},
   "outputs": [],
   "source": [
    "import collections as co\n",
    "import pprint as pp\n",
    "import operator as op\n",
    "import calendar as cal"
   ]
  },
  {
   "cell_type": "code",
   "execution_count": 7,
   "metadata": {},
   "outputs": [
    {
     "name": "stdout",
     "output_type": "stream",
     "text": [
      "[{'ID': 760527874,\n",
      "  'address': '1200 Block JOHNSON ST',\n",
      "  'case_number': (16, 22918),\n",
      "  'city': 'victoria',\n",
      "  'coords': (-123.348998693722, 48.4255680718449),\n",
      "  'cre_dt': datetime.datetime(2016, 5, 26, 9, 46, 43),\n",
      "  'inc_dt': datetime.datetime(2016, 5, 25, 1, 29),\n",
      "  'type': ('Disorder', 'CAUSE A DISTURBANCE'),\n",
      "  'upd_dt': datetime.datetime(2016, 6, 23, 19, 40, 33)}]\n"
     ]
    }
   ],
   "source": [
    "pp.pprint([cDat[x] for x in range(1)])"
   ]
  },
  {
   "cell_type": "code",
   "execution_count": 10,
   "metadata": {},
   "outputs": [],
   "source": [
    "types = {c['type'] for c in cDat}\n",
    "# pp.pprint(types)"
   ]
  },
  {
   "cell_type": "code",
   "execution_count": 56,
   "metadata": {},
   "outputs": [],
   "source": [
    "a = [3,'fsd,',20,'lol',90]"
   ]
  },
  {
   "cell_type": "code",
   "execution_count": 74,
   "metadata": {},
   "outputs": [],
   "source": [
    "d = a[::2]"
   ]
  },
  {
   "cell_type": "code",
   "execution_count": 75,
   "metadata": {},
   "outputs": [
    {
     "data": {
      "text/plain": [
       "[3, 20, 90]"
      ]
     },
     "execution_count": 75,
     "metadata": {},
     "output_type": "execute_result"
    }
   ],
   "source": [
    "d"
   ]
  },
  {
   "cell_type": "code",
   "execution_count": 43,
   "metadata": {},
   "outputs": [],
   "source": [
    "di = dict()\n",
    "for typ in types:\n",
    "    ctdict = co.defaultdict(int)\n",
    "    for c in cDat:\n",
    "        if c['type'] == typ:\n",
    "            ctdict[c['inc_dt'].date()] += 1\n",
    "    sorted_ctdict = sorted(list(ctdict.items()), key = op.itemgetter(1))[-1:-6:-1]\n",
    "    if sorted_ctdict[-1][1] > 5:\n",
    "        di[typ] = sorted_ctdict "
   ]
  },
  {
   "cell_type": "code",
   "execution_count": 77,
   "metadata": {},
   "outputs": [
    {
     "name": "stdout",
     "output_type": "stream",
     "text": [
      "{('Assault', 'ASSAULT-COMMON OR TRESPASS'): [(datetime.date(2011, 10, 29), 9),\n",
      "                                             (datetime.date(2012, 2, 26), 9),\n",
      "                                             (datetime.date(2011, 9, 2), 7),\n",
      "                                             (datetime.date(2011, 5, 25), 7),\n",
      "                                             (datetime.date(2011, 3, 26), 7)],\n",
      " ('Disorder', 'CAUSE A DISTURBANCE'): [(datetime.date(2014, 7, 6), 13),\n",
      "                                       (datetime.date(2015, 4, 20), 11),\n",
      "                                       (datetime.date(2015, 4, 18), 10),\n",
      "                                       (datetime.date(2011, 7, 3), 10),\n",
      "                                       (datetime.date(2014, 10, 5), 10)],\n",
      " ('Liquor', 'LIQUOR-INTOX IN PUBLIC PLACE'): [(datetime.date(2011, 7, 1), 44),\n",
      "                                              (datetime.date(2013, 7, 1), 33),\n",
      "                                              (datetime.date(2015, 7, 1), 28),\n",
      "                                              (datetime.date(2012, 7, 1), 23),\n",
      "                                              (datetime.date(2014, 7, 1), 21)],\n",
      " ('Other', 'BYLAW-NOISE'): [(datetime.date(2011, 10, 29), 16),\n",
      "                            (datetime.date(2011, 7, 2), 16),\n",
      "                            (datetime.date(2015, 10, 17), 14),\n",
      "                            (datetime.date(2013, 5, 4), 12),\n",
      "                            (datetime.date(2011, 11, 19), 11)],\n",
      " ('Other', 'SUSPICIOUS PERS/VEH/OCCURRENCE'): [(datetime.date(2015, 6, 2), 19),\n",
      "                                               (datetime.date(2014, 7, 2), 19),\n",
      "                                               (datetime.date(2015, 8, 27), 18),\n",
      "                                               (datetime.date(2015, 7, 23), 18),\n",
      "                                               (datetime.date(2018, 7, 29),\n",
      "                                                18)],\n",
      " ('Property Crime', 'MISCHIEF $5000 OR UNDER'): [(datetime.date(2017, 3, 10),\n",
      "                                                  27),\n",
      "                                                 (datetime.date(2017, 3, 11),\n",
      "                                                  14),\n",
      "                                                 (datetime.date(2011, 5, 8),\n",
      "                                                  14),\n",
      "                                                 (datetime.date(2019, 8, 10),\n",
      "                                                  13),\n",
      "                                                 (datetime.date(2011, 9, 3),\n",
      "                                                  13)],\n",
      " ('Theft', 'THEFT BICYCLE UNDER $5000'): [(datetime.date(2019, 8, 22), 10),\n",
      "                                          (datetime.date(2019, 8, 20), 10),\n",
      "                                          (datetime.date(2017, 10, 16), 9),\n",
      "                                          (datetime.date(2014, 9, 22), 9),\n",
      "                                          (datetime.date(2016, 9, 29), 9)],\n",
      " ('Theft', 'THEFT-OTHER UNDER $5000'): [(datetime.date(2019, 8, 29), 15),\n",
      "                                        (datetime.date(2019, 7, 30), 13),\n",
      "                                        (datetime.date(2019, 6, 28), 12),\n",
      "                                        (datetime.date(2013, 6, 6), 12),\n",
      "                                        (datetime.date(2013, 4, 5), 12)],\n",
      " ('Theft', 'THEFT-SHOPLIFTING UNDER $5000'): [(datetime.date(2018, 6, 14), 12),\n",
      "                                              (datetime.date(2019, 8, 14), 11),\n",
      "                                              (datetime.date(2012, 2, 15), 10),\n",
      "                                              (datetime.date(2018, 12, 5), 9),\n",
      "                                              (datetime.date(2017, 1, 16), 9)],\n",
      " ('Theft from Vehicle', 'THEFT FROM MV UNDER $5000'): [(datetime.date(2019, 10, 16),\n",
      "                                                        17),\n",
      "                                                       (datetime.date(2011, 2, 9),\n",
      "                                                        17),\n",
      "                                                       (datetime.date(2014, 4, 30),\n",
      "                                                        17),\n",
      "                                                       (datetime.date(2017, 2, 21),\n",
      "                                                        16),\n",
      "                                                       (datetime.date(2012, 8, 19),\n",
      "                                                        16)],\n",
      " ('Traffic', 'COLLISION-DAMAGE OVER $1000'): [(datetime.date(2015, 10, 10), 7),\n",
      "                                              (datetime.date(2015, 2, 3), 7),\n",
      "                                              (datetime.date(2018, 3, 8), 7),\n",
      "                                              (datetime.date(2017, 8, 18), 6),\n",
      "                                              (datetime.date(2017, 9, 19), 6)],\n",
      " ('Traffic', 'DRIVING COMPLAINTS'): [(datetime.date(2019, 9, 4), 8),\n",
      "                                     (datetime.date(2017, 7, 4), 8),\n",
      "                                     (datetime.date(2019, 7, 19), 8),\n",
      "                                     (datetime.date(2016, 9, 20), 8),\n",
      "                                     (datetime.date(2018, 5, 15), 8)],\n",
      " ('Traffic', 'IMPAIRED OP MOTOR VEH (ALCOH)'): [(datetime.date(2012, 12, 15),\n",
      "                                                 8),\n",
      "                                                (datetime.date(2016, 12, 3), 7),\n",
      "                                                (datetime.date(2017, 12, 24),\n",
      "                                                 7),\n",
      "                                                (datetime.date(2011, 11, 19),\n",
      "                                                 6),\n",
      "                                                (datetime.date(2012, 11, 30),\n",
      "                                                 6)],\n",
      " ('Traffic', 'TRAFFIC-INSURANCE VIOLATION'): [(datetime.date(2015, 12, 8), 8),\n",
      "                                              (datetime.date(2015, 2, 9), 8),\n",
      "                                              (datetime.date(2014, 9, 18), 8),\n",
      "                                              (datetime.date(2014, 12, 7), 8),\n",
      "                                              (datetime.date(2014, 11, 6), 7)],\n",
      " ('Traffic', 'TRAFFIC-OTHER MOVING PROV'): [(datetime.date(2015, 3, 24), 8),\n",
      "                                            (datetime.date(2019, 5, 21), 7),\n",
      "                                            (datetime.date(2016, 11, 9), 7),\n",
      "                                            (datetime.date(2011, 10, 14), 7),\n",
      "                                            (datetime.date(2016, 9, 6), 7)],\n",
      " ('Vehicle Stop', 'VEHICLE'): [(datetime.date(2015, 3, 4), 12),\n",
      "                               (datetime.date(2011, 11, 3), 10),\n",
      "                               (datetime.date(2012, 10, 4), 10),\n",
      "                               (datetime.date(2011, 7, 16), 9),\n",
      "                               (datetime.date(2014, 2, 19), 9)]}\n",
      "length = 16\n"
     ]
    }
   ],
   "source": [
    "pp.pprint(di)\n",
    "print(\"length =\",len(di))"
   ]
  },
  {
   "cell_type": "markdown",
   "metadata": {},
   "source": [
    "---\n",
    "\n",
    "## Ex. 2\n",
    "\n",
    "Write a function that uses [spherical polar coordinates](https://en.wikipedia.org/wiki/Spherical_coordinate_system) to convert the (latitude,longitude) coordinate pairs into 3-dimensional Euclidean coordinates.  Compute the average location (in 3-dimensional space) of all the crime types in the **cdat.cDat** variable.  Invert your spherical polar coordinates, creating a dictionary indexed by crime types, returning the (latitude, longitude) pair of the average location. Print your final dictionary using **pp.pprint**. \n",
    "\n",
    "**Note:** if you do not recall how latitude and longitude relate to spherical polar coordinates, read the above Wikipedia article carefully. "
   ]
  },
  {
   "cell_type": "code",
   "execution_count": 113,
   "metadata": {},
   "outputs": [],
   "source": [
    "import numpy as np"
   ]
  },
  {
   "cell_type": "code",
   "execution_count": null,
   "metadata": {},
   "outputs": [],
   "source": [
    "def polar_to_cartesian(lat,long):\n",
    "    '''\n",
    "    Convert spherical polar coordinates to 3D Euclidean coordinates\n",
    "    In this case, r = 1\n",
    "    '''\n",
    "    # x = rcos(lat)cos(long)\n",
    "    # y = rcos(lat)sin(long)\n",
    "    # z = rsin(lat)\n",
    "    # lat == theta, phi == long\n",
    "    x = np.cos(lat)*np.sin(long)\n",
    "    y = np.cos(lat)*np.sin(long)\n",
    "    z = np.sin(lat)\n",
    "    return(x, y, z)"
   ]
  },
  {
   "cell_type": "code",
   "execution_count": null,
   "metadata": {},
   "outputs": [],
   "source": [
    "def cartesian_to_polar(x, y, z):\n",
    "    '''\n",
    "    Convert cartesian coordinates to spherical polar coordinates\n",
    "    '''\n",
    "    lat = \n",
    "    "
   ]
  },
  {
   "cell_type": "code",
   "execution_count": 111,
   "metadata": {},
   "outputs": [],
   "source": [
    "# x = rcos(lat)cos(long)\n",
    "# y = rcos(lat)sin(long)\n",
    "# z = rsin(lat)\n",
    "dict2 = dict()\n",
    "for typ in types:\n",
    "    x_coords = 0\n",
    "    y_coords = 0\n",
    "    crime_count = 0\n",
    "    ctdict = co.defaultdict(int)\n",
    "    for c in cDat:\n",
    "        if c['type'] == typ:\n",
    "            ctdict[c['coords']] += 1\n",
    "    for x in ctdict.items():\n",
    "        lat = x[0][0]\n",
    "        long = x[0][1]\n",
    "        crime_count += x[1]\n",
    "        x_coords += np.cos(lat)*np.sin(long)\n",
    "        y_coords += np.cos(lat)*np.sin(long)\n",
    "        z_coords += np.sin(lat)\n",
    "    avg_coords = (x_coords/ crime_count, y_coords/crime_count, z_coords/crime_count)\n",
    "    \n",
    "    dict2[typ] = avg_coords\n"
   ]
  },
  {
   "cell_type": "code",
   "execution_count": 112,
   "metadata": {},
   "outputs": [
    {
     "name": "stdout",
     "output_type": "stream",
     "text": [
      "{('Alarm', 'FALSE ALARMS'): (-82.2992191559948, 32.31019818501893),\n",
      " ('Arson', 'ARSON-DISREGARD FOR HUMAN LIFE'): (-107.94380016135909,\n",
      "                                               42.37853787589113),\n",
      " ('Arson', 'ARSON-PROPERTY'): (-115.49377407492632, 45.34066603962065),\n",
      " ('Assault', 'ASSAULT AGAINST POLICE OFFICER'): (-101.87563275906828,\n",
      "                                                 39.993205838757454),\n",
      " ('Assault', 'ASSAULT-COMMON OR TRESPASS'): (-53.97426436240317,\n",
      "                                             21.188697536821696),\n",
      " ('Assault', 'ASSAULTS-OTHER'): (-97.88744094367543, 38.426887100204),\n",
      " ('Assault with Deadly Weapon', 'ASSAULT OT P/O-W/WPN OR CBH'): (-107.13394313032673,\n",
      "                                                                 42.060077502346275),\n",
      " ('Assault with Deadly Weapon', 'ASSAULT POLICE-W/WEAPON OR CBH'): (-117.19865780701225,\n",
      "                                                                    46.00900121436154),\n",
      " ('Assault with Deadly Weapon', 'ASSAULT-AGGRAVATED'): (-119.87642435885256,\n",
      "                                                        47.05907395361188),\n",
      " ('Assault with Deadly Weapon', 'ASSAULT-OTHER PEACE OFFICER'): (-107.35976843054931,\n",
      "                                                                 42.14496634627825),\n",
      " ('Assault with Deadly Weapon', 'ASSAULT-W/WEAPON OR CBH'): (-72.60391177176865,\n",
      "                                                             28.50216322036867),\n",
      " ('Breaking & Entering', 'BREAK & ENTER-BUSINESS'): (-71.8567866022642,\n",
      "                                                     28.209101467743658),\n",
      " ('Breaking & Entering', 'BREAK & ENTER-OTHER'): (-81.9372039124268,\n",
      "                                                  32.16612725045253),\n",
      " ('Breaking & Entering', 'BREAK & ENTER-RESIDENCE'): (-92.9367198500591,\n",
      "                                                      36.485133661799914),\n",
      " ('Community Policing', 'BUSINESS'): (-109.6578065906811, 43.049241726444635),\n",
      " ('Community Policing', 'CITIZEN ASSIST'): (-123.34985909277, 48.4270686184666),\n",
      " ('Disorder', 'CAUSE A DISTURBANCE'): (-59.43771168792954, 23.33336210672597),\n",
      " ('Drugs', 'POSSESS-OTH SCHED I DRUGS/SUBS'): (-98.93233967449623,\n",
      "                                               38.83834403697163),\n",
      " ('Drugs', 'POSSESS-OTH SCHED III DRUG/SUB'): (-116.31720750988711,\n",
      "                                               45.66331211014546),\n",
      " ('Drugs', 'POSSESSION-CANNABIS 30G & UNDR'): (-74.23578880049615,\n",
      "                                               29.142527968359527),\n",
      " ('Drugs', 'POSSESSION-CANNABIS OVER 30G'): (-123.365319850799,\n",
      "                                             48.43235661690094),\n",
      " ('Drugs', 'POSSESSION-COCAINE'): (-62.63608953919496, 24.58940947682105),\n",
      " ('Drugs', 'POSSESSION-HEROIN'): (-89.60209356076432, 35.17573508797857),\n",
      " ('Drugs', 'POSSESSION-MDMA (ECSTASY)'): (-114.55163602113203,\n",
      "                                          44.97017683499573),\n",
      " ('Drugs', 'POSSESSION-METHAMPHETAMINE'): (-93.25197036603856,\n",
      "                                           36.60895277285386),\n",
      " ('Drugs', 'TRAFFICK-CANNABIS 3000G & UNDR'): (-64.15137979242623,\n",
      "                                               25.18339085233116),\n",
      " ('Drugs', 'TRAFFICK-CANNABIS OVER 3000G'): (-123.36925058839745,\n",
      "                                             48.42886300292305),\n",
      " ('Drugs', 'TRAFFICKING-AMPHETAMINE'): (-113.08752673456105, 44.39621987548255),\n",
      " ('Drugs', 'TRAFFICKING-COCAINE'): (-67.29052617804054, 26.417710673431074),\n",
      " ('Drugs', 'TRAFFICKING-HEROIN'): (-89.26830177263102, 35.04428459469364),\n",
      " ('Drugs', 'TRAFFICKING-METHAMPHETAMINE'): (-105.02987997905534,\n",
      "                                            41.232825281177035),\n",
      " ('Drugs', 'TRAFFICKING-MORPHINE'): (-123.35604880000001, 48.434888),\n",
      " ('Drugs', 'TRAFFICKING-OTH SCHED IV CDSA'): (-123.37963453309452,\n",
      "                                              48.426939773438285),\n",
      " ('Drugs', 'TRAFFICKING-OTHER CDSA'): (-103.36235629535318, 40.57710079728861),\n",
      " ('Liquor', 'LIQUOR (LCLA) ACT-OTHER'): (-80.34571912280033,\n",
      "                                         31.540415999639986),\n",
      " ('Liquor', 'LIQUOR-CONSUME IN PUBLIC PLACE'): (-78.53686850149835,\n",
      "                                                30.829500686504172),\n",
      " ('Liquor', 'LIQUOR-INTOX IN PUBLIC PLACE'): (-42.26726734897208,\n",
      "                                              16.592893138920903),\n",
      " ('Liquor', 'LIQUOR-SEIZURE'): (-96.55083645877767, 37.90072590264714),\n",
      " ('Other', 'ANIMAL CALLS'): (-106.14294627380399, 41.668967470293616),\n",
      " ('Other', 'BYLAW-NOISE'): (-58.804189772089934, 23.085169988091383),\n",
      " ('Other', 'OBSTRUCT PEACE/PUBLIC OFFICER'): (-107.29877460791067,\n",
      "                                              42.121910211190546),\n",
      " ('Other', 'SUSPICIOUS PERS/VEH/OCCURRENCE'): (-48.82275803431042,\n",
      "                                               19.1667444413858),\n",
      " ('Property Crime', 'FRAUD-CHEQUE'): (-72.80485447540984, 28.580795245901648),\n",
      " ('Property Crime', 'FRAUD-CREDIT/DEBIT CARD'): (-85.67481019444443,\n",
      "                                                 33.63220806944443),\n",
      " ('Property Crime', 'MISCHIEF $5000 OR UNDER'): (-61.007969304034276,\n",
      "                                                 23.950459564156347),\n",
      " ('Property Crime', 'MISCHIEF OVER $5000'): (-120.84788875436013,\n",
      "                                             47.44248036742287),\n",
      " ('Property Crime', 'POSSESS STLN PROPERTY O/$5000'): (-123.427386, 48.444726),\n",
      " ('Property Crime', 'POSSESS STLN PROPERTY U/$5000'): (-113.08727599999999,\n",
      "                                                       44.39797741666666),\n",
      " ('Robbery', 'ROBBERY W/OTHER OFFENSIVE WPN'): (-110.38106907959997,\n",
      "                                                43.33309114546068),\n",
      " ('Robbery', 'ROBBERY-OTHER'): (-95.45380840626709, 37.472576555993605),\n",
      " ('Theft', 'THEFT BICYCLE OVER $5000'): (-118.22346114403278,\n",
      "                                         46.41075902843334),\n",
      " ('Theft', 'THEFT BICYCLE UNDER $5000'): (-71.634987679578, 28.122019592245753),\n",
      " ('Theft', 'THEFT-ELEC/GAS/TEL UNDER $5000'): (-123.36833187240858,\n",
      "                                               48.42973970847299),\n",
      " ('Theft', 'THEFT-OTHER OVER $5000'): (-118.2989716395426, 46.439510558186214),\n",
      " ('Theft', 'THEFT-OTHER UNDER $5000'): (-46.06862906010211, 18.08530949759861),\n",
      " ('Theft', 'THEFT-SHOPLIFTING OVER $5000'): (-116.87750408526553,\n",
      "                                             45.881108257832636),\n",
      " ('Theft', 'THEFT-SHOPLIFTING UNDER $5000'): (-11.118653824052434,\n",
      "                                              4.364984647472482),\n",
      " ('Theft from Vehicle', 'THEFT FROM MV OVER $5000'): (-118.0589432542796,\n",
      "                                                      46.34670806475827),\n",
      " ('Theft from Vehicle', 'THEFT FROM MV UNDER $5000'): (-60.448562933667986,\n",
      "                                                       23.73057056068059),\n",
      " ('Theft of Vehicle', 'TAKE AUTO W/O CONSENT U/$5000'): (-120.63189860747922,\n",
      "                                                         47.3569869830705),\n",
      " ('Theft of Vehicle', 'THEFT MOTORCYCLE UNDER $5000'): (-116.87107369372286,\n",
      "                                                        45.8819080407918),\n",
      " ('Theft of Vehicle', 'THEFT OF AUTO OVER $5000'): (-113.68878924176494,\n",
      "                                                    44.63119506018859),\n",
      " ('Theft of Vehicle', 'THEFT OF AUTO UNDER $5000'): (-113.10396990234743,\n",
      "                                                     44.401284738716384),\n",
      " ('Theft of Vehicle', 'THEFT OF TRUCK OVER $5000'): (-115.27783715092802,\n",
      "                                                     45.25560781027262),\n",
      " ('Theft of Vehicle', 'THEFT OF TRUCK UNDER $5000'): (-116.66342846262937,\n",
      "                                                      45.79966794010759),\n",
      " ('Theft of Vehicle', 'THEFT OTHER VEHICLE U/$5000'): (-119.94573129862263,\n",
      "                                                       47.08702362004552),\n",
      " ('Traffic', '215 ALCOH-24HR'): (-107.13651174907191, 42.0594565583223),\n",
      " ('Traffic', '215 DRUG'): (-107.60367205502322, 42.2439342942859),\n",
      " ('Traffic', '215ALCOH IRP WARN-30DAY'): (-123.37301316473837,\n",
      "                                          48.4320223524094),\n",
      " ('Traffic', '215ALCOH IRP WARN-3DAY'): (-98.34637025901924,\n",
      "                                         38.608654241427885),\n",
      " ('Traffic', '215ALCOH IRP WARN-7DAY'): (-123.37116039201238,\n",
      "                                         48.43296138647277),\n",
      " ('Traffic', 'COLLISION-DAMAGE OVER $1000'): (-74.24082295952847,\n",
      "                                              29.146479841430143),\n",
      " ('Traffic', 'COLLISION-DAMAGE UNDER $1000'): (-84.90471786746416,\n",
      "                                               33.33267066011019),\n",
      " ('Traffic', 'COLLISION-NON-FATAL INJURY'): (-85.41733536912369,\n",
      "                                             33.533960349586245),\n",
      " ('Traffic', 'DRIVING COMPLAINTS'): (-58.80810570313904, 23.087084973330665),\n",
      " ('Traffic', 'EXCESSIVE SPEED-OVER 40KM'): (-116.8755428284798,\n",
      "                                            45.8927631367851),\n",
      " ('Traffic', 'IMPAIRED OP MOTOR VEH (ALCOH)'): (-87.21235623720028,\n",
      "                                                34.238412133883074),\n",
      " ('Traffic', 'TRAFFIC-INSURANCE VIOLATION'): (-82.6438061615406,\n",
      "                                              32.4446419599008),\n",
      " ('Traffic', 'TRAFFIC-OTHER FEDERAL'): (-120.56432458280887, 47.33273425877048),\n",
      " ('Traffic', 'TRAFFIC-OTHER MOVING PROV'): (-73.11267982824083,\n",
      "                                            28.703753032295513),\n",
      " ('Traffic', 'TRAFFIC-OTHER MUNICIPAL'): (-108.27355527582779,\n",
      "                                          42.50799625789902),\n",
      " ('Traffic', 'TRAFFIC-OTHER NON-MOVE PROV'): (-102.92243608069226,\n",
      "                                              40.40525252978597),\n",
      " ('Traffic', 'TRAFFIC-WRITTEN WARNING'): (-113.87771675481896,\n",
      "                                          44.70474000765735),\n",
      " ('Vehicle Stop', 'CYCLIST'): (-90.75650435644812, 35.629540225806416),\n",
      " ('Vehicle Stop', 'VEHICLE'): (-61.468989722292676, 24.132012054379604),\n",
      " ('Vehicle Stop', 'VI-VEHICLE IMPOUNDMENT'): (-117.63336168523803,\n",
      "                                              46.1821034607716),\n",
      " ('Weapons Offense', 'FIREARM-POINTING'): (-123.36848566887248,\n",
      "                                           48.43235265887768),\n",
      " ('Weapons Offense', 'WEAPONS POSS-CONTRARY TO ORDER'): (-119.11468881480121,\n",
      "                                                         46.76306735483621),\n",
      " ('Weapons Offense', 'WEAPONS-POSSESSION'): (-79.27410229380655,\n",
      "                                             31.12122917768596)}\n"
     ]
    }
   ],
   "source": [
    "pp.pprint(dict2)"
   ]
  },
  {
   "cell_type": "code",
   "execution_count": null,
   "metadata": {},
   "outputs": [],
   "source": []
  },
  {
   "cell_type": "markdown",
   "metadata": {},
   "source": [
    "---\n",
    "\n",
    "## Ex.3. Central Saanich vs. Victoria\n",
    "\n",
    "What differences do you notice between the crimes reported from Central Saanich, and the ones reported from Victoria? i.e. are the crime types reported in Central Saanich occuring at different frequencies than in Victoria?  Do they occur for a different range of dates?  What appears special about the Central Saanich records?"
   ]
  },
  {
   "cell_type": "code",
   "execution_count": null,
   "metadata": {},
   "outputs": [],
   "source": []
  },
  {
   "cell_type": "code",
   "execution_count": null,
   "metadata": {},
   "outputs": [],
   "source": []
  },
  {
   "cell_type": "code",
   "execution_count": null,
   "metadata": {},
   "outputs": [],
   "source": []
  },
  {
   "cell_type": "code",
   "execution_count": null,
   "metadata": {},
   "outputs": [],
   "source": []
  }
 ],
 "metadata": {
  "kernelspec": {
   "display_name": "Python 3",
   "language": "python",
   "name": "python3"
  },
  "language_info": {
   "codemirror_mode": {
    "name": "ipython",
    "version": 3
   },
   "file_extension": ".py",
   "mimetype": "text/x-python",
   "name": "python",
   "nbconvert_exporter": "python",
   "pygments_lexer": "ipython3",
   "version": "3.6.7"
  }
 },
 "nbformat": 4,
 "nbformat_minor": 4
}
