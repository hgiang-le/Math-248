{
 "cells": [
  {
   "cell_type": "markdown",
   "metadata": {},
   "source": [
    "# 9a. Crime Statistics\n",
    "\n",
    "This lab is for Thursday October 31st."
   ]
  },
  {
   "cell_type": "code",
   "execution_count": 4,
   "metadata": {},
   "outputs": [
    {
     "name": "stdout",
     "output_type": "stream",
     "text": [
      "/home/user/mp248-course\n"
     ]
    }
   ],
   "source": [
    "%cd ../../mp248-course"
   ]
  },
  {
   "cell_type": "code",
   "execution_count": 5,
   "metadata": {},
   "outputs": [
    {
     "name": "stdout",
     "output_type": "stream",
     "text": [
      "Crime database library.\n",
      "\n",
      "Looking for vicpd.geojson in directory ./Data/\n",
      " modify the cdatfile and cdatloc variables in cdat.py appropriately\n",
      " if the file can not be found.\n",
      "\n",
      "Complete records in cDat, incomplete records in bDat.\n",
      "\n"
     ]
    }
   ],
   "source": [
    "#import cdat\n",
    "from cdat import cDat"
   ]
  },
  {
   "cell_type": "markdown",
   "metadata": {},
   "source": [
    "---\n",
    "\n",
    "## Ex.1\n",
    "\n",
    "Construct a dictionary whose keys are the crime types, and whose values are lists (in descending order) of the five dates with the most crimes of that type. Only include crimes where there are **at least** five dates with six or more crimes. Print your dictionary with the **pprint** command.\n",
    "\n",
    "**Hint:** There are only 16 crime types that meet the above criterion."
   ]
  },
  {
   "cell_type": "code",
   "execution_count": 6,
   "metadata": {},
   "outputs": [],
   "source": [
    "import collections as co\n",
    "import pprint as pp\n",
    "import operator as op\n",
    "import calendar as cal"
   ]
  },
  {
   "cell_type": "code",
   "execution_count": 7,
   "metadata": {},
   "outputs": [
    {
     "name": "stdout",
     "output_type": "stream",
     "text": [
      "[{'ID': 760527874,\n",
      "  'address': '1200 Block JOHNSON ST',\n",
      "  'case_number': (16, 22918),\n",
      "  'city': 'victoria',\n",
      "  'coords': (-123.348998693722, 48.4255680718449),\n",
      "  'cre_dt': datetime.datetime(2016, 5, 26, 9, 46, 43),\n",
      "  'inc_dt': datetime.datetime(2016, 5, 25, 1, 29),\n",
      "  'type': ('Disorder', 'CAUSE A DISTURBANCE'),\n",
      "  'upd_dt': datetime.datetime(2016, 6, 23, 19, 40, 33)}]\n"
     ]
    }
   ],
   "source": [
    "pp.pprint([cDat[x] for x in range(1)])"
   ]
  },
  {
   "cell_type": "code",
   "execution_count": 10,
   "metadata": {},
   "outputs": [],
   "source": [
    "types = {c['type'] for c in cDat}\n",
    "# pp.pprint(types)"
   ]
  },
  {
   "cell_type": "code",
   "execution_count": 56,
   "metadata": {},
   "outputs": [],
   "source": [
    "a = [3,'fsd,',20,'lol',90]"
   ]
  },
  {
   "cell_type": "code",
   "execution_count": 74,
   "metadata": {},
   "outputs": [],
   "source": [
    "d = a[::2]"
   ]
  },
  {
   "cell_type": "code",
   "execution_count": 75,
   "metadata": {},
   "outputs": [
    {
     "data": {
      "text/plain": [
       "[3, 20, 90]"
      ]
     },
     "execution_count": 75,
     "metadata": {},
     "output_type": "execute_result"
    }
   ],
   "source": [
    "d"
   ]
  },
  {
   "cell_type": "code",
   "execution_count": null,
   "metadata": {},
   "outputs": [],
   "source": []
  },
  {
   "cell_type": "code",
   "execution_count": 43,
   "metadata": {},
   "outputs": [],
   "source": [
    "di = dict()\n",
    "for typ in types:\n",
    "    ctdict = co.defaultdict(int)\n",
    "    for c in cDat:\n",
    "        if c['type'] == typ:\n",
    "            ctdict[c['inc_dt'].date()] += 1\n",
    "    sorted_ctdict = sorted(list(ctdict.items()), key = op.itemgetter(1))[-1:-6:-1]\n",
    "    #pp.pprint(sorted_ctdict)\n",
    "    #if sorted_ctdict \n",
    "    if sorted_ctdict[-1][1] > 5:\n",
    "        di[typ] = sorted_ctdict "
   ]
  },
  {
   "cell_type": "code",
   "execution_count": 77,
   "metadata": {},
   "outputs": [
    {
     "name": "stdout",
     "output_type": "stream",
     "text": [
      "{('Assault', 'ASSAULT-COMMON OR TRESPASS'): [(datetime.date(2011, 10, 29), 9),\n",
      "                                             (datetime.date(2012, 2, 26), 9),\n",
      "                                             (datetime.date(2011, 9, 2), 7),\n",
      "                                             (datetime.date(2011, 5, 25), 7),\n",
      "                                             (datetime.date(2011, 3, 26), 7)],\n",
      " ('Disorder', 'CAUSE A DISTURBANCE'): [(datetime.date(2014, 7, 6), 13),\n",
      "                                       (datetime.date(2015, 4, 20), 11),\n",
      "                                       (datetime.date(2015, 4, 18), 10),\n",
      "                                       (datetime.date(2011, 7, 3), 10),\n",
      "                                       (datetime.date(2014, 10, 5), 10)],\n",
      " ('Liquor', 'LIQUOR-INTOX IN PUBLIC PLACE'): [(datetime.date(2011, 7, 1), 44),\n",
      "                                              (datetime.date(2013, 7, 1), 33),\n",
      "                                              (datetime.date(2015, 7, 1), 28),\n",
      "                                              (datetime.date(2012, 7, 1), 23),\n",
      "                                              (datetime.date(2014, 7, 1), 21)],\n",
      " ('Other', 'BYLAW-NOISE'): [(datetime.date(2011, 10, 29), 16),\n",
      "                            (datetime.date(2011, 7, 2), 16),\n",
      "                            (datetime.date(2015, 10, 17), 14),\n",
      "                            (datetime.date(2013, 5, 4), 12),\n",
      "                            (datetime.date(2011, 11, 19), 11)],\n",
      " ('Other', 'SUSPICIOUS PERS/VEH/OCCURRENCE'): [(datetime.date(2015, 6, 2), 19),\n",
      "                                               (datetime.date(2014, 7, 2), 19),\n",
      "                                               (datetime.date(2015, 8, 27), 18),\n",
      "                                               (datetime.date(2015, 7, 23), 18),\n",
      "                                               (datetime.date(2018, 7, 29),\n",
      "                                                18)],\n",
      " ('Property Crime', 'MISCHIEF $5000 OR UNDER'): [(datetime.date(2017, 3, 10),\n",
      "                                                  27),\n",
      "                                                 (datetime.date(2017, 3, 11),\n",
      "                                                  14),\n",
      "                                                 (datetime.date(2011, 5, 8),\n",
      "                                                  14),\n",
      "                                                 (datetime.date(2019, 8, 10),\n",
      "                                                  13),\n",
      "                                                 (datetime.date(2011, 9, 3),\n",
      "                                                  13)],\n",
      " ('Theft', 'THEFT BICYCLE UNDER $5000'): [(datetime.date(2019, 8, 22), 10),\n",
      "                                          (datetime.date(2019, 8, 20), 10),\n",
      "                                          (datetime.date(2017, 10, 16), 9),\n",
      "                                          (datetime.date(2014, 9, 22), 9),\n",
      "                                          (datetime.date(2016, 9, 29), 9)],\n",
      " ('Theft', 'THEFT-OTHER UNDER $5000'): [(datetime.date(2019, 8, 29), 15),\n",
      "                                        (datetime.date(2019, 7, 30), 13),\n",
      "                                        (datetime.date(2019, 6, 28), 12),\n",
      "                                        (datetime.date(2013, 6, 6), 12),\n",
      "                                        (datetime.date(2013, 4, 5), 12)],\n",
      " ('Theft', 'THEFT-SHOPLIFTING UNDER $5000'): [(datetime.date(2018, 6, 14), 12),\n",
      "                                              (datetime.date(2019, 8, 14), 11),\n",
      "                                              (datetime.date(2012, 2, 15), 10),\n",
      "                                              (datetime.date(2018, 12, 5), 9),\n",
      "                                              (datetime.date(2017, 1, 16), 9)],\n",
      " ('Theft from Vehicle', 'THEFT FROM MV UNDER $5000'): [(datetime.date(2019, 10, 16),\n",
      "                                                        17),\n",
      "                                                       (datetime.date(2011, 2, 9),\n",
      "                                                        17),\n",
      "                                                       (datetime.date(2014, 4, 30),\n",
      "                                                        17),\n",
      "                                                       (datetime.date(2017, 2, 21),\n",
      "                                                        16),\n",
      "                                                       (datetime.date(2012, 8, 19),\n",
      "                                                        16)],\n",
      " ('Traffic', 'COLLISION-DAMAGE OVER $1000'): [(datetime.date(2015, 10, 10), 7),\n",
      "                                              (datetime.date(2015, 2, 3), 7),\n",
      "                                              (datetime.date(2018, 3, 8), 7),\n",
      "                                              (datetime.date(2017, 8, 18), 6),\n",
      "                                              (datetime.date(2017, 9, 19), 6)],\n",
      " ('Traffic', 'DRIVING COMPLAINTS'): [(datetime.date(2019, 9, 4), 8),\n",
      "                                     (datetime.date(2017, 7, 4), 8),\n",
      "                                     (datetime.date(2019, 7, 19), 8),\n",
      "                                     (datetime.date(2016, 9, 20), 8),\n",
      "                                     (datetime.date(2018, 5, 15), 8)],\n",
      " ('Traffic', 'IMPAIRED OP MOTOR VEH (ALCOH)'): [(datetime.date(2012, 12, 15),\n",
      "                                                 8),\n",
      "                                                (datetime.date(2016, 12, 3), 7),\n",
      "                                                (datetime.date(2017, 12, 24),\n",
      "                                                 7),\n",
      "                                                (datetime.date(2011, 11, 19),\n",
      "                                                 6),\n",
      "                                                (datetime.date(2012, 11, 30),\n",
      "                                                 6)],\n",
      " ('Traffic', 'TRAFFIC-INSURANCE VIOLATION'): [(datetime.date(2015, 12, 8), 8),\n",
      "                                              (datetime.date(2015, 2, 9), 8),\n",
      "                                              (datetime.date(2014, 9, 18), 8),\n",
      "                                              (datetime.date(2014, 12, 7), 8),\n",
      "                                              (datetime.date(2014, 11, 6), 7)],\n",
      " ('Traffic', 'TRAFFIC-OTHER MOVING PROV'): [(datetime.date(2015, 3, 24), 8),\n",
      "                                            (datetime.date(2019, 5, 21), 7),\n",
      "                                            (datetime.date(2016, 11, 9), 7),\n",
      "                                            (datetime.date(2011, 10, 14), 7),\n",
      "                                            (datetime.date(2016, 9, 6), 7)],\n",
      " ('Vehicle Stop', 'VEHICLE'): [(datetime.date(2015, 3, 4), 12),\n",
      "                               (datetime.date(2011, 11, 3), 10),\n",
      "                               (datetime.date(2012, 10, 4), 10),\n",
      "                               (datetime.date(2011, 7, 16), 9),\n",
      "                               (datetime.date(2014, 2, 19), 9)]}\n",
      "length = 16\n"
     ]
    }
   ],
   "source": [
    "pp.pprint(di)\n",
    "print(\"length =\",len(di))"
   ]
  },
  {
   "cell_type": "code",
   "execution_count": null,
   "metadata": {},
   "outputs": [],
   "source": []
  },
  {
   "cell_type": "markdown",
   "metadata": {},
   "source": [
    "---\n",
    "\n",
    "## Ex. 2\n",
    "\n",
    "Write a function that uses [spherical polar coordinates](https://en.wikipedia.org/wiki/Spherical_coordinate_system) to convert the (latitude,longitude) coordinate pairs into 3-dimensional Euclidean coordinates.  Compute the average location (in 3-dimensional space) of all the crime types in the **cdat.cDat** variable.  Invert your spherical polar coordinates, creating a dictionary indexed by crime types, returning the (latitude, longitude) pair of the average location. Print your final dictionary using **pp.pprint**. \n",
    "\n",
    "**Note:** if you do not recall how latitude and longitude relate to spherical polar coordinates, read the above Wikipedia article carefully. "
   ]
  },
  {
   "cell_type": "code",
   "execution_count": null,
   "metadata": {},
   "outputs": [],
   "source": [
    "# x = rcos(lat)cos(long)\n",
    "# y = rcos(lat)sin(long)\n",
    "# z = rsin(lat)\n"
   ]
  },
  {
   "cell_type": "code",
   "execution_count": null,
   "metadata": {},
   "outputs": [],
   "source": []
  },
  {
   "cell_type": "code",
   "execution_count": null,
   "metadata": {},
   "outputs": [],
   "source": []
  },
  {
   "cell_type": "markdown",
   "metadata": {},
   "source": [
    "---\n",
    "\n",
    "## Ex.3. Central Saanich vs. Victoria\n",
    "\n",
    "What differences do you notice between the crimes reported from Central Saanich, and the ones reported from Victoria? i.e. are the crime types reported in Central Saanich occuring at different frequencies than in Victoria?  Do they occur for a different range of dates?  What appears special about the Central Saanich records?"
   ]
  },
  {
   "cell_type": "code",
   "execution_count": null,
   "metadata": {},
   "outputs": [],
   "source": []
  },
  {
   "cell_type": "code",
   "execution_count": null,
   "metadata": {},
   "outputs": [],
   "source": []
  },
  {
   "cell_type": "code",
   "execution_count": null,
   "metadata": {},
   "outputs": [],
   "source": []
  },
  {
   "cell_type": "code",
   "execution_count": null,
   "metadata": {},
   "outputs": [],
   "source": []
  }
 ],
 "metadata": {
  "kernelspec": {
   "display_name": "Python 3",
   "language": "python",
   "name": "python3"
  },
  "language_info": {
   "codemirror_mode": {
    "name": "ipython",
    "version": 3
   },
   "file_extension": ".py",
   "mimetype": "text/x-python",
   "name": "python",
   "nbconvert_exporter": "python",
   "pygments_lexer": "ipython3",
   "version": "3.6.7"
  }
 },
 "nbformat": 4,
 "nbformat_minor": 4
}
