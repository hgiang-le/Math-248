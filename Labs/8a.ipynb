{
 "cells": [
  {
   "cell_type": "markdown",
   "metadata": {},
   "source": [
    "# 8a. ODE solutions and simulations\n",
    "\n",
    "This lab is associated to Lectures 7b and 8a.  You are given a few differential equations to \n",
    "solve in Sympy, or simulate and plot. \n",
    "\n",
    "## Ex. 1\n",
    "\n",
    "Set-up the ODE \n",
    "$$ \\frac{df}{dx} = k f^2(x)$$\n",
    "in Sympy.  \n",
    "\n",
    "(a) Use Sympy to find the general solution.\n",
    "\n",
    "(b) Find the solution to the ODE with $k=1$, satisfying the initial condition\n",
    "$f(0)=1$.\n",
    "\n",
    "(c) Find the solution to the ODE with $k=1$, satisfying the initial condition $f(0)=1/10$. \n",
    "\n",
    "(d) Plot your solutions to from (b) and (c) together in one plot."
   ]
  },
  {
   "cell_type": "code",
   "execution_count": 8,
   "metadata": {},
   "outputs": [],
   "source": [
    "import sympy as sp"
   ]
  },
  {
   "cell_type": "code",
   "execution_count": 9,
   "metadata": {},
   "outputs": [],
   "source": [
    "f = sp.Function('f')\n",
    "x = sp.Symbol('x')\n",
    "k = sp.Symbol('k')"
   ]
  },
  {
   "cell_type": "code",
   "execution_count": 10,
   "metadata": {},
   "outputs": [
    {
     "name": "stdout",
     "output_type": "stream",
     "text": [
      "d             2   \n",
      "──(f(x)) = k⋅f (x)\n",
      "dx                \n"
     ]
    }
   ],
   "source": [
    "# Assign the differential equation\n",
    "DE = sp.Eq( sp.Derivative(f(x), x), k*f(x)**2)\n",
    "sp.pprint(DE)"
   ]
  },
  {
   "cell_type": "code",
   "execution_count": 11,
   "metadata": {},
   "outputs": [
    {
     "name": "stdout",
     "output_type": "stream",
     "text": [
      "         -1    \n",
      "f(x) = ────────\n",
      "       C₁ + k⋅x\n"
     ]
    }
   ],
   "source": [
    "## (a) Solve the DE for GS. ##\n",
    "DE_sol = sp.dsolve(DE)\n",
    "sp.pprint(DE_sol)"
   ]
  },
  {
   "cell_type": "markdown",
   "metadata": {},
   "source": [
    "f(0) = $\\frac{-1}{C_1}$  \n",
    "-> $c_0$ = $\\frac{-1}{f(0)} $ so $C_1$ = $\\frac{-1}{f(0)}$"
   ]
  },
  {
   "cell_type": "code",
   "execution_count": 67,
   "metadata": {},
   "outputs": [
    {
     "name": "stdout",
     "output_type": "stream",
     "text": [
      "        -1   \n",
      "f(x) = ──────\n",
      "       C₁ + x\n"
     ]
    }
   ],
   "source": [
    "## subs k = 1 \n",
    "DE_sol = DE_sol.subs(k,1)\n",
    "sp.pprint(DE_sol)"
   ]
  },
  {
   "cell_type": "code",
   "execution_count": 68,
   "metadata": {},
   "outputs": [
    {
     "name": "stdout",
     "output_type": "stream",
     "text": [
      "1.0\n"
     ]
    }
   ],
   "source": [
    "f0 = 1\n",
    "DE = DE_sol.subs([(sp.Symbol('C1'), -1/f0)]) \n",
    "F1 = sp.lambdify(x, DE.args[1])\n",
    "sp.pprint(F1(0))"
   ]
  },
  {
   "cell_type": "code",
   "execution_count": 69,
   "metadata": {},
   "outputs": [
    {
     "name": "stdout",
     "output_type": "stream",
     "text": [
      "0.1\n"
     ]
    }
   ],
   "source": [
    "f0 = 1/10\n",
    "DE2 = DE_sol.subs([(sp.Symbol('C1'), -1/f0)]) \n",
    "F2 = sp.lambdify(x, DE2.args[1])\n",
    "sp.pprint(F2(0))"
   ]
  },
  {
   "cell_type": "code",
   "execution_count": 75,
   "metadata": {},
   "outputs": [
    {
     "data": {
      "text/plain": [
       "Text(0, 0.5, 'F(x)')"
      ]
     },
     "execution_count": 75,
     "metadata": {},
     "output_type": "execute_result"
    },
    {
     "data": {
      "image/png": "[encoded data removed]",
      "text/plain": [
       "<Figure size 432x288 with 1 Axes>"
      ]
     },
     "metadata": {
      "needs_background": "light"
     },
     "output_type": "display_data"
    }
   ],
   "source": [
    "import numpy as np\n",
    "import matplotlib.pyplot as plt\n",
    "from scipy import integrate as itg\n",
    "import math\n",
    "\n",
    "Ys = np.linspace(0,5,100)\n",
    "Xs = [F1(s) for s in Ys]\n",
    "Xs2 = [F2(s) for s in Ys]\n",
    "plt.plot(Xs, Ys)\n",
    "plt.plot(Xs2, Ys)\n",
    "plt.xlabel('x')\n",
    "plt.ylabel('F(x)')"
   ]
  },
  {
   "cell_type": "markdown",
   "metadata": {},
   "source": [
    "## Ex. 2\n",
    "\n",
    "Recall the single-arm pendulum ODE\n",
    "\n",
    "$$y'' + \\sin(y) = 0$$\n",
    "\n",
    "This is turned into a first-order ODE via bookkeeping. Rather than thinking of $y(t)$ as the thing we are solving for, we solve for the\n",
    "pair $(y(t), y'(t))$. \n",
    "\n",
    "$$\\pmatrix{y \\cr y'}' = \\pmatrix{y' \\cr -\\sin(y)}$$\n",
    "\n",
    "Now that it is a first-order ODE, use **scipy.integrate** as in class to simulate solutions to this differential equation. \n",
    "In your plots, include a quiver plot of the underlying vector field, along with several different solutions.  This differential\n",
    "equation has solutions where both $y$ remains bounded, and solutions with $y$ unbounded.  Include solutions of both sorts."
   ]
  },
  {
   "cell_type": "code",
   "execution_count": null,
   "metadata": {},
   "outputs": [],
   "source": []
  },
  {
   "cell_type": "code",
   "execution_count": null,
   "metadata": {},
   "outputs": [],
   "source": []
  },
  {
   "cell_type": "code",
   "execution_count": null,
   "metadata": {},
   "outputs": [],
   "source": []
  }
 ],
 "metadata": {
  "kernelspec": {
   "display_name": "Python 3",
   "language": "python",
   "name": "python3"
  },
  "language_info": {
   "codemirror_mode": {
    "name": "ipython",
    "version": 3
   },
   "file_extension": ".py",
   "mimetype": "text/x-python",
   "name": "python",
   "nbconvert_exporter": "python",
   "pygments_lexer": "ipython3",
   "version": "3.6.7"
  }
 },
 "nbformat": 4,
 "nbformat_minor": 2
}
